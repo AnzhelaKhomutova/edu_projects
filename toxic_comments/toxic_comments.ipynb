{
 "cells": [
  {
   "cell_type": "markdown",
   "metadata": {
    "toc": true
   },
   "source": [
    "<h1>Содержание<span class=\"tocSkip\"></span></h1>\n",
    "<div class=\"toc\"><ul class=\"toc-item\"><li><span><a href=\"#Подготовка\" data-toc-modified-id=\"Подготовка-1\"><span class=\"toc-item-num\">1&nbsp;&nbsp;</span>Подготовка</a></span><ul class=\"toc-item\"><li><span><a href=\"#Загрузка-данных,-описание\" data-toc-modified-id=\"Загрузка-данных,-описание-1.1\"><span class=\"toc-item-num\">1.1&nbsp;&nbsp;</span>Загрузка данных, описание</a></span></li><li><span><a href=\"#Конвертация,-лемматизация,-замена,-подготовка-текстовых-данных\" data-toc-modified-id=\"Конвертация,-лемматизация,-замена,-подготовка-текстовых-данных-1.2\"><span class=\"toc-item-num\">1.2&nbsp;&nbsp;</span>Конвертация, лемматизация, замена, подготовка текстовых данных</a></span></li><li><span><a href=\"#Выделяем-признаки,-делим-на-train-и-test\" data-toc-modified-id=\"Выделяем-признаки,-делим-на-train-и-test-1.3\"><span class=\"toc-item-num\">1.3&nbsp;&nbsp;</span>Выделяем признаки, делим на train и test</a></span></li><li><span><a href=\"#Pipeline\" data-toc-modified-id=\"Pipeline-1.4\"><span class=\"toc-item-num\">1.4&nbsp;&nbsp;</span>Pipeline</a></span></li><li><span><a href=\"#Creation-of-different-Pipelines\" data-toc-modified-id=\"Creation-of-different-Pipelines-1.5\"><span class=\"toc-item-num\">1.5&nbsp;&nbsp;</span>Creation of different Pipelines</a></span></li></ul></li><li><span><a href=\"#Выводы\" data-toc-modified-id=\"Выводы-2\"><span class=\"toc-item-num\">2&nbsp;&nbsp;</span>Выводы</a></span></li></ul></div>"
   ]
  },
  {
   "cell_type": "markdown",
   "metadata": {},
   "source": [
    "## Подготовка"
   ]
  },
  {
   "cell_type": "markdown",
   "metadata": {},
   "source": [
    "### Загрузка данных, описание"
   ]
  },
  {
   "cell_type": "code",
   "execution_count": 1,
   "metadata": {},
   "outputs": [
    {
     "name": "stderr",
     "output_type": "stream",
     "text": [
      "[nltk_data] Downloading package wordnet to\n",
      "[nltk_data]     C:\\Users\\Анжела\\AppData\\Roaming\\nltk_data...\n",
      "[nltk_data]   Package wordnet is already up-to-date!\n",
      "[nltk_data] Downloading package punkt to\n",
      "[nltk_data]     C:\\Users\\Анжела\\AppData\\Roaming\\nltk_data...\n",
      "[nltk_data]   Package punkt is already up-to-date!\n",
      "[nltk_data] Downloading package stopwords to\n",
      "[nltk_data]     C:\\Users\\Анжела\\AppData\\Roaming\\nltk_data...\n",
      "[nltk_data]   Package stopwords is already up-to-date!\n"
     ]
    }
   ],
   "source": [
    "import pandas as pd\n",
    "import numpy as np\n",
    "\n",
    "import nltk\n",
    "from nltk.corpus import stopwords as nltk_stopwords\n",
    "from nltk.stem import WordNetLemmatizer\n",
    "\n",
    "from sklearn.feature_extraction.text import TfidfVectorizer \n",
    "from sklearn.feature_extraction.text import CountVectorizer\n",
    "from sklearn.feature_extraction.text import TfidfTransformer\n",
    "from sklearn.utils import shuffle\n",
    "\n",
    "from sklearn.linear_model import LogisticRegression\n",
    "from sklearn.ensemble import RandomForestClassifier\n",
    "import catboost as cb\n",
    "import lightgbm as lgb\n",
    "from sklearn.svm import LinearSVC\n",
    "from sklearn.svm import SVC\n",
    "\n",
    "from sklearn.model_selection import train_test_split\n",
    "from sklearn.metrics import f1_score\n",
    "\n",
    "import re\n",
    "\n",
    "from sklearn.model_selection import GridSearchCV\n",
    "from sklearn.model_selection import cross_val_score\n",
    "\n",
    "\n",
    "import pymorphy2\n",
    "\n",
    "from sklearn.pipeline import Pipeline\n",
    "\n",
    "nltk.download('wordnet')\n",
    "nltk.download('punkt')\n",
    "nltk.download('stopwords')\n",
    "\n",
    "stopwords = set(nltk_stopwords.words('english'))\n",
    "\n",
    "import warnings\n",
    "warnings.filterwarnings('ignore')"
   ]
  },
  {
   "cell_type": "code",
   "execution_count": 2,
   "metadata": {},
   "outputs": [],
   "source": [
    "df = pd.read_csv(r'D:\\MyDesktop\\toxic_comments.csv')"
   ]
  },
  {
   "cell_type": "code",
   "execution_count": 3,
   "metadata": {},
   "outputs": [
    {
     "name": "stdout",
     "output_type": "stream",
     "text": [
      "<class 'pandas.core.frame.DataFrame'>\n",
      "RangeIndex: 159571 entries, 0 to 159570\n",
      "Data columns (total 2 columns):\n",
      " #   Column  Non-Null Count   Dtype \n",
      "---  ------  --------------   ----- \n",
      " 0   text    159571 non-null  object\n",
      " 1   toxic   159571 non-null  int64 \n",
      "dtypes: int64(1), object(1)\n",
      "memory usage: 2.4+ MB\n"
     ]
    }
   ],
   "source": [
    "df.info()"
   ]
  },
  {
   "cell_type": "code",
   "execution_count": 4,
   "metadata": {},
   "outputs": [
    {
     "name": "stdout",
     "output_type": "stream",
     "text": [
      "0\n"
     ]
    }
   ],
   "source": [
    "print(df.duplicated().sum())"
   ]
  },
  {
   "cell_type": "code",
   "execution_count": 5,
   "metadata": {},
   "outputs": [
    {
     "data": {
      "text/html": [
       "<div>\n",
       "<style scoped>\n",
       "    .dataframe tbody tr th:only-of-type {\n",
       "        vertical-align: middle;\n",
       "    }\n",
       "\n",
       "    .dataframe tbody tr th {\n",
       "        vertical-align: top;\n",
       "    }\n",
       "\n",
       "    .dataframe thead th {\n",
       "        text-align: right;\n",
       "    }\n",
       "</style>\n",
       "<table border=\"1\" class=\"dataframe\">\n",
       "  <thead>\n",
       "    <tr style=\"text-align: right;\">\n",
       "      <th></th>\n",
       "      <th>text</th>\n",
       "      <th>toxic</th>\n",
       "    </tr>\n",
       "  </thead>\n",
       "  <tbody>\n",
       "    <tr>\n",
       "      <th>69749</th>\n",
       "      <td>References specifically for the current defini...</td>\n",
       "      <td>0</td>\n",
       "    </tr>\n",
       "    <tr>\n",
       "      <th>83651</th>\n",
       "      <td>Apparently I wasn't clear enough the first tim...</td>\n",
       "      <td>1</td>\n",
       "    </tr>\n",
       "    <tr>\n",
       "      <th>126199</th>\n",
       "      <td>\"\\nHi there, I noticed your comments on Tim's ...</td>\n",
       "      <td>0</td>\n",
       "    </tr>\n",
       "  </tbody>\n",
       "</table>\n",
       "</div>"
      ],
      "text/plain": [
       "                                                     text  toxic\n",
       "69749   References specifically for the current defini...      0\n",
       "83651   Apparently I wasn't clear enough the first tim...      1\n",
       "126199  \"\\nHi there, I noticed your comments on Tim's ...      0"
      ]
     },
     "execution_count": 5,
     "metadata": {},
     "output_type": "execute_result"
    }
   ],
   "source": [
    "df.sample(3)"
   ]
  },
  {
   "cell_type": "markdown",
   "metadata": {},
   "source": [
    "нам даны данные с комментариями пользователей. Пропусков и дубликатов в данных не обнаружено."
   ]
  },
  {
   "cell_type": "markdown",
   "metadata": {},
   "source": [
    "### Конвертация, лемматизация, замена, подготовка текстовых данных"
   ]
  },
  {
   "cell_type": "code",
   "execution_count": 6,
   "metadata": {},
   "outputs": [],
   "source": [
    "df_clear_text = df.copy()"
   ]
  },
  {
   "cell_type": "code",
   "execution_count": 7,
   "metadata": {},
   "outputs": [],
   "source": [
    "def clean_text(text):\n",
    "    text = text.lower().strip()\n",
    "    text = re.sub(r\"[^a-z]\", ' ', text) \n",
    "    text = ' '.join(word for word in text.split() if len(word)>1)    \n",
    "    return text"
   ]
  },
  {
   "cell_type": "markdown",
   "metadata": {},
   "source": [
    "<ul>\n",
    "  <li>я привожу данные к нижнему регистру</li>\n",
    "  <li>я оставляю только символьные данные</li>\n",
    "  <li>я оставляю только слова, которые больше 1 символа</li>\n",
    "</ul>"
   ]
  },
  {
   "cell_type": "code",
   "execution_count": 8,
   "metadata": {},
   "outputs": [],
   "source": [
    "df_clear_text['text'] = df_clear_text.apply(lambda x: clean_text(x['text']),axis=1)"
   ]
  },
  {
   "cell_type": "code",
   "execution_count": 9,
   "metadata": {},
   "outputs": [],
   "source": [
    "lemmatizer = WordNetLemmatizer()\n",
    "df_clear_text['text'] = df_clear_text.apply(lambda x: ' '.join([lemmatizer.lemmatize(w) for w in nltk.word_tokenize(x['text'])]),axis=1)"
   ]
  },
  {
   "cell_type": "code",
   "execution_count": 10,
   "metadata": {},
   "outputs": [
    {
     "data": {
      "text/plain": [
       "text     \"\\nMore\\nI can't make any real suggestions on ...\n",
       "toxic                                                    0\n",
       "Name: 3, dtype: object"
      ]
     },
     "execution_count": 10,
     "metadata": {},
     "output_type": "execute_result"
    }
   ],
   "source": [
    "df.loc[3]"
   ]
  },
  {
   "cell_type": "code",
   "execution_count": 11,
   "metadata": {},
   "outputs": [
    {
     "data": {
      "text/plain": [
       "text     more can make any real suggestion on improveme...\n",
       "toxic                                                    0\n",
       "Name: 3, dtype: object"
      ]
     },
     "execution_count": 11,
     "metadata": {},
     "output_type": "execute_result"
    }
   ],
   "source": [
    "df_clear_text.loc[3]"
   ]
  },
  {
   "cell_type": "markdown",
   "metadata": {},
   "source": [
    "мы видим, что нет лишних символов, данные лемматизированы: suggestions -> suggestion"
   ]
  },
  {
   "cell_type": "markdown",
   "metadata": {},
   "source": [
    "### Выделяем признаки, делим на train и test"
   ]
  },
  {
   "cell_type": "code",
   "execution_count": 12,
   "metadata": {},
   "outputs": [],
   "source": [
    "features = df_clear_text['text']\n",
    "target = df_clear_text['toxic']"
   ]
  },
  {
   "cell_type": "code",
   "execution_count": 13,
   "metadata": {},
   "outputs": [],
   "source": [
    "x_train,x_test,y_train,y_test = train_test_split(features,target, test_size=0.2, random_state=12345,stratify=target)"
   ]
  },
  {
   "cell_type": "markdown",
   "metadata": {},
   "source": [
    "проведем дополнительно стратификацию, чтобы в train и test классы 0 и 1 в target были равномерно распределены "
   ]
  },
  {
   "cell_type": "markdown",
   "metadata": {},
   "source": [
    "### Pipeline"
   ]
  },
  {
   "cell_type": "code",
   "execution_count": 14,
   "metadata": {},
   "outputs": [],
   "source": [
    "my_pipeline = Pipeline([\n",
    "    ('vectorizer', TfidfVectorizer(stop_words=stopwords)),\n",
    "    ('clf', 'passthrough')\n",
    "])"
   ]
  },
  {
   "cell_type": "code",
   "execution_count": 15,
   "metadata": {},
   "outputs": [],
   "source": [
    "parameters = [\n",
    "    {\n",
    "        'clf':[LogisticRegression(random_state = 12345,class_weight='balanced',n_jobs=-1)],\n",
    "        'clf__max_iter':[100,200]\n",
    "    },\n",
    "    {\n",
    "        'clf':[lgb.LGBMClassifier(random_state=1234)],\n",
    "        'clf__learning_rate':[0.1,0.15],\n",
    "        'clf__n_estimators':[100,200,500],\n",
    "        'clf__num_leaves':[31,41]\n",
    "    },    \n",
    "    {\n",
    "        'clf':[RandomForestClassifier(random_state=1234)],\n",
    "        'clf__n_estimators':range(1,100,30),\n",
    "        'clf__max_depth':range(2,100,30)\n",
    "    }, \n",
    "    {\n",
    "        'clf':[cb.CatBoostClassifier(loss_function='Logloss', random_state=12345, custom_metric='F1', verbose=False)   ],\n",
    "        'clf__iterations':[150, 300]\n",
    "    },\n",
    "\n",
    "]"
   ]
  },
  {
   "cell_type": "code",
   "execution_count": 16,
   "metadata": {},
   "outputs": [
    {
     "name": "stdout",
     "output_type": "stream",
     "text": [
      "Fitting 3 folds for each of 32 candidates, totalling 96 fits\n"
     ]
    },
    {
     "data": {
      "text/plain": [
       "GridSearchCV(cv=3,\n",
       "             estimator=Pipeline(steps=[('vectorizer',\n",
       "                                        TfidfVectorizer(stop_words={'a',\n",
       "                                                                    'about',\n",
       "                                                                    'above',\n",
       "                                                                    'after',\n",
       "                                                                    'again',\n",
       "                                                                    'against',\n",
       "                                                                    'ain',\n",
       "                                                                    'all', 'am',\n",
       "                                                                    'an', 'and',\n",
       "                                                                    'any',\n",
       "                                                                    'are',\n",
       "                                                                    'aren',\n",
       "                                                                    \"aren't\",\n",
       "                                                                    'as', 'at',\n",
       "                                                                    'be',\n",
       "                                                                    'because',\n",
       "                                                                    'been',\n",
       "                                                                    'before',\n",
       "                                                                    'being',\n",
       "                                                                    'below',\n",
       "                                                                    'between',\n",
       "                                                                    'both',\n",
       "                                                                    'but', 'by',\n",
       "                                                                    'can',\n",
       "                                                                    'couldn',\n",
       "                                                                    \"couldn't\", ...})),\n",
       "                                       ('clf', 'passthrough')]),\n",
       "             n_jobs=-1,\n",
       "             param_grid...\n",
       "                                                 random_state=1234)],\n",
       "                          'clf__learning_rate': [0.1, 0.15],\n",
       "                          'clf__n_estimators': [100, 200, 500],\n",
       "                          'clf__num_leaves': [31, 41]},\n",
       "                         {'clf': [RandomForestClassifier(random_state=1234)],\n",
       "                          'clf__max_depth': range(2, 100, 30),\n",
       "                          'clf__n_estimators': range(1, 100, 30)},\n",
       "                         {'clf': [<catboost.core.CatBoostClassifier object at 0x000002C980ED6D30>],\n",
       "                          'clf__iterations': [150, 300]}],\n",
       "             scoring='f1', verbose=True)"
      ]
     },
     "execution_count": 16,
     "metadata": {},
     "output_type": "execute_result"
    }
   ],
   "source": [
    "grid_search = GridSearchCV(my_pipeline, param_grid=parameters, cv=3, n_jobs=-1, scoring='f1')\n",
    "grid_search.fit(x_train, y_train)"
   ]
  },
  {
   "cell_type": "code",
   "execution_count": 17,
   "metadata": {},
   "outputs": [
    {
     "data": {
      "text/plain": [
       "{'clf': LGBMClassifier(learning_rate=0.15, n_estimators=500, random_state=1234),\n",
       " 'clf__learning_rate': 0.15,\n",
       " 'clf__n_estimators': 500,\n",
       " 'clf__num_leaves': 31}"
      ]
     },
     "execution_count": 17,
     "metadata": {},
     "output_type": "execute_result"
    }
   ],
   "source": [
    "grid_search.best_params_\n",
    "#grid_search.cv_results_"
   ]
  },
  {
   "cell_type": "code",
   "execution_count": 44,
   "metadata": {},
   "outputs": [
    {
     "data": {
      "text/plain": [
       "0.769803534019645"
      ]
     },
     "execution_count": 44,
     "metadata": {},
     "output_type": "execute_result"
    }
   ],
   "source": [
    "print('Best training F1: %.3f' % grid_search.best_score_)"
   ]
  },
  {
   "cell_type": "code",
   "execution_count": 20,
   "metadata": {},
   "outputs": [],
   "source": [
    "predict_test=grid_search.predict(x_test)"
   ]
  },
  {
   "cell_type": "code",
   "execution_count": 21,
   "metadata": {},
   "outputs": [
    {
     "name": "stdout",
     "output_type": "stream",
     "text": [
      "F1 лучшей модели на test-выборке =  0.783\n"
     ]
    }
   ],
   "source": [
    "print(\"F1 лучшей модели на test-выборке = \",np.round(f1_score(y_test,predict_test),3))"
   ]
  },
  {
   "cell_type": "markdown",
   "metadata": {},
   "source": [
    "### Creation of different Pipelines"
   ]
  },
  {
   "cell_type": "code",
   "execution_count": 14,
   "metadata": {},
   "outputs": [],
   "source": [
    "#LogisticRegression\n",
    "pipe_lr = Pipeline([('vect', CountVectorizer()),\n",
    "                   ('tfidf', TfidfTransformer()),\n",
    "            ('clf', LogisticRegression(random_state=42))])\n",
    "#LGBMClassifier\n",
    "pipe_lg = Pipeline([('vect', CountVectorizer()),\n",
    "                 ('tfidf', TfidfTransformer()),\n",
    "            ('clf', lgb.LGBMClassifier(random_state=42))])\n",
    "#Random Forest\n",
    "pipe_rf = Pipeline([('vect', CountVectorizer()),\n",
    "                   ('tfidf', TfidfTransformer()),\n",
    "            ('clf', RandomForestClassifier(random_state=42))])\n",
    "\n",
    "#Support Vector Machine\n",
    "pipe_cb = Pipeline([('vect', CountVectorizer()),\n",
    "                   ('tfidf', TfidfTransformer()),\n",
    "            ('clf', cb.CatBoostClassifier(loss_function='Logloss', random_state=12345, custom_metric='F1', verbose=False))])"
   ]
  },
  {
   "cell_type": "code",
   "execution_count": 15,
   "metadata": {},
   "outputs": [],
   "source": [
    "param_grid_lr = [\n",
    "    {\n",
    "        'clf__max_iter':[100,200]\n",
    "    }]\n",
    "\n",
    "param_grid_lg = [\n",
    "    {\n",
    "        'clf__learning_rate':[0.1,0.15],\n",
    "        'clf__n_estimators':[100,200,500],\n",
    "        'clf__num_leaves':[31,41]\n",
    "    }]\n",
    "\n",
    "param_grid_rf = [\n",
    "    {\n",
    "        'clf__n_estimators':range(1,100,30),\n",
    "        'clf__max_depth':range(2,100,30)\n",
    "    }]\n",
    "\n",
    "param_grid_cb = [\n",
    "    {\n",
    "        'clf__iterations':[150, 300]\n",
    "    }]"
   ]
  },
  {
   "cell_type": "code",
   "execution_count": 16,
   "metadata": {},
   "outputs": [],
   "source": [
    "LR = GridSearchCV(estimator=pipe_lr,\n",
    "            param_grid=param_grid_lr,\n",
    "            scoring='f1',\n",
    "            cv=3) \n",
    "\n",
    "LG = GridSearchCV(estimator=pipe_lg,\n",
    "            param_grid=param_grid_lg,\n",
    "            scoring='f1',\n",
    "            cv=3) \n",
    "\n",
    "RF = GridSearchCV(estimator=pipe_rf,\n",
    "            param_grid=param_grid_rf,\n",
    "            scoring='f1',\n",
    "            cv=3, \n",
    "            n_jobs=-1)\n",
    "\n",
    "\n",
    "CB = GridSearchCV(estimator=pipe_cb,\n",
    "            param_grid=param_grid_cb,\n",
    "            scoring='f1',\n",
    "            cv=3,\n",
    "            n_jobs=-1)"
   ]
  },
  {
   "cell_type": "code",
   "execution_count": 17,
   "metadata": {},
   "outputs": [],
   "source": [
    "grids = [LR,LG,RF,CB]"
   ]
  },
  {
   "cell_type": "code",
   "execution_count": 18,
   "metadata": {},
   "outputs": [],
   "source": [
    "grid_dict = {0: 'Logistic Regression', \n",
    "        1: 'LGBMClassifier',     \n",
    "        2: 'Random Forest',\n",
    "        3: 'CatBoost'}"
   ]
  },
  {
   "cell_type": "code",
   "execution_count": 19,
   "metadata": {},
   "outputs": [
    {
     "name": "stdout",
     "output_type": "stream",
     "text": [
      "Performing model optimizations...\n",
      "\n",
      "Estimator: Logistic Regression\n",
      "Best params are : {'clf__max_iter': 100}\n",
      "Best training F1: 0.727\n",
      "Test set F1 score for best params: 0.749 \n",
      "\n",
      "Estimator: LGBMClassifier\n",
      "Best params are : {'clf__learning_rate': 0.15, 'clf__n_estimators': 500, 'clf__num_leaves': 31}\n",
      "Best training F1: 0.784\n",
      "Test set F1 score for best params: 0.798 \n",
      "\n",
      "Estimator: Random Forest\n",
      "Best params are : {'clf__max_depth': 92, 'clf__n_estimators': 1}\n",
      "Best training F1: 0.340\n",
      "Test set F1 score for best params: 0.328 \n",
      "\n",
      "Estimator: CatBoost\n",
      "Best params are : {'clf__iterations': 150}\n",
      "Best training F1: 0.758\n",
      "Test set F1 score for best params: 0.773 \n"
     ]
    }
   ],
   "source": [
    "print('Performing model optimizations...')\n",
    "best_f1 = 0.0\n",
    "best_clf = 0\n",
    "best_gs = ''\n",
    "spr = {}\n",
    "\n",
    "for idx, gs in enumerate(grids):\n",
    "    print('\\nEstimator: %s' % grid_dict[idx])\n",
    "    gs.fit(x_train, y_train)\n",
    "    print('Best params are : %s' % gs.best_params_)\n",
    "    print('Best training F1: %.3f' % gs.best_score_)\n",
    "    \n",
    "    y_pred = gs.predict(x_test)\n",
    "\n",
    "    print('Test set F1 score for best params: %.3f ' % f1_score(y_test, y_pred))\n",
    "    \n",
    "    spr[grid_dict[idx]] = [gs.best_score_, f1_score(y_test, y_pred)]\n",
    "    \n",
    "    if f1_score(y_test, y_pred) > best_f1:\n",
    "        best_f1 = f1_score(y_test, y_pred)\n",
    "        best_gs = gs\n",
    "        best_clf = idx"
   ]
  },
  {
   "cell_type": "markdown",
   "metadata": {},
   "source": [
    "## Выводы"
   ]
  },
  {
   "cell_type": "code",
   "execution_count": 21,
   "metadata": {},
   "outputs": [],
   "source": [
    "data_spr = pd.DataFrame(data=spr,index=['F1 на train', 'F1 на test'])"
   ]
  },
  {
   "cell_type": "code",
   "execution_count": 22,
   "metadata": {},
   "outputs": [
    {
     "data": {
      "text/html": [
       "<div>\n",
       "<style scoped>\n",
       "    .dataframe tbody tr th:only-of-type {\n",
       "        vertical-align: middle;\n",
       "    }\n",
       "\n",
       "    .dataframe tbody tr th {\n",
       "        vertical-align: top;\n",
       "    }\n",
       "\n",
       "    .dataframe thead th {\n",
       "        text-align: right;\n",
       "    }\n",
       "</style>\n",
       "<table border=\"1\" class=\"dataframe\">\n",
       "  <thead>\n",
       "    <tr style=\"text-align: right;\">\n",
       "      <th></th>\n",
       "      <th>Logistic Regression</th>\n",
       "      <th>LGBMClassifier</th>\n",
       "      <th>Random Forest</th>\n",
       "      <th>CatBoost</th>\n",
       "    </tr>\n",
       "  </thead>\n",
       "  <tbody>\n",
       "    <tr>\n",
       "      <th>F1 на train</th>\n",
       "      <td>0.726769</td>\n",
       "      <td>0.783616</td>\n",
       "      <td>0.339550</td>\n",
       "      <td>0.757992</td>\n",
       "    </tr>\n",
       "    <tr>\n",
       "      <th>F1 на test</th>\n",
       "      <td>0.748895</td>\n",
       "      <td>0.798011</td>\n",
       "      <td>0.327609</td>\n",
       "      <td>0.773026</td>\n",
       "    </tr>\n",
       "  </tbody>\n",
       "</table>\n",
       "</div>"
      ],
      "text/plain": [
       "             Logistic Regression  LGBMClassifier  Random Forest  CatBoost\n",
       "F1 на train             0.726769        0.783616       0.339550  0.757992\n",
       "F1 на test              0.748895        0.798011       0.327609  0.773026"
      ]
     },
     "execution_count": 22,
     "metadata": {},
     "output_type": "execute_result"
    }
   ],
   "source": [
    "data_spr"
   ]
  },
  {
   "cell_type": "code",
   "execution_count": 31,
   "metadata": {},
   "outputs": [
    {
     "name": "stdout",
     "output_type": "stream",
     "text": [
      "Classifier with best test set F1: LGBMClassifier\n",
      "\n",
      "Test set F1 score for best params: 0.798\n"
     ]
    }
   ],
   "source": [
    "print('Classifier with best test set F1: {}'.format(grid_dict[best_clf]))\n",
    "print('\\nTest set F1 score for best params: {}'.format(round(best_f1,3)))"
   ]
  }
 ],
 "metadata": {
  "ExecuteTimeLog": [
   {
    "duration": 874,
    "start_time": "2022-01-18T21:01:55.876Z"
   },
   {
    "duration": 792,
    "start_time": "2022-01-18T21:02:16.700Z"
   },
   {
    "duration": 859,
    "start_time": "2022-01-18T21:02:24.707Z"
   },
   {
    "duration": 24,
    "start_time": "2022-01-18T21:02:32.758Z"
   },
   {
    "duration": 4550,
    "start_time": "2022-01-18T21:03:08.987Z"
   },
   {
    "duration": 880,
    "start_time": "2022-01-18T21:03:31.292Z"
   },
   {
    "duration": 255,
    "start_time": "2022-01-18T21:09:53.043Z"
   },
   {
    "duration": 5,
    "start_time": "2022-01-18T21:10:20.359Z"
   },
   {
    "duration": 44971,
    "start_time": "2022-01-18T21:10:22.552Z"
   },
   {
    "duration": 328,
    "start_time": "2022-01-18T21:11:21.034Z"
   },
   {
    "duration": 15,
    "start_time": "2022-01-18T21:11:50.518Z"
   },
   {
    "duration": 897,
    "start_time": "2022-01-18T21:13:22.369Z"
   },
   {
    "duration": 848,
    "start_time": "2022-01-18T21:13:41.335Z"
   },
   {
    "duration": 3781,
    "start_time": "2022-01-18T21:14:05.714Z"
   },
   {
    "duration": 6,
    "start_time": "2022-01-18T21:15:02.724Z"
   },
   {
    "duration": 871,
    "start_time": "2022-01-18T21:15:05.118Z"
   },
   {
    "duration": 35,
    "start_time": "2022-01-18T21:15:07.515Z"
   },
   {
    "duration": 2926,
    "start_time": "2022-01-18T21:15:15.975Z"
   },
   {
    "duration": 7,
    "start_time": "2022-01-18T21:15:29.704Z"
   },
   {
    "duration": 1559,
    "start_time": "2022-01-18T21:15:44.355Z"
   },
   {
    "duration": 597,
    "start_time": "2022-01-18T21:16:46.720Z"
   },
   {
    "duration": 12,
    "start_time": "2022-01-18T21:16:52.997Z"
   },
   {
    "duration": 612,
    "start_time": "2022-01-18T21:18:31.163Z"
   },
   {
    "duration": 7,
    "start_time": "2022-01-18T21:18:33.406Z"
   },
   {
    "duration": 604,
    "start_time": "2022-01-18T21:18:54.721Z"
   },
   {
    "duration": 5,
    "start_time": "2022-01-18T21:18:57.110Z"
   },
   {
    "duration": 605,
    "start_time": "2022-01-18T21:19:16.806Z"
   },
   {
    "duration": 9,
    "start_time": "2022-01-18T21:19:19.166Z"
   },
   {
    "duration": 18367,
    "start_time": "2022-01-18T21:20:28.338Z"
   },
   {
    "duration": 15666,
    "start_time": "2022-01-18T21:20:53.173Z"
   },
   {
    "duration": 5500,
    "start_time": "2022-01-19T08:22:11.380Z"
   },
   {
    "duration": 12405,
    "start_time": "2022-01-19T08:23:48.281Z"
   },
   {
    "duration": 35,
    "start_time": "2022-01-19T08:24:03.072Z"
   },
   {
    "duration": 2904,
    "start_time": "2022-01-19T08:24:06.716Z"
   },
   {
    "duration": 5,
    "start_time": "2022-01-19T08:24:27.734Z"
   },
   {
    "duration": 4,
    "start_time": "2022-01-19T08:26:12.227Z"
   },
   {
    "duration": 5361,
    "start_time": "2022-01-19T08:28:01.006Z"
   },
   {
    "duration": 610,
    "start_time": "2022-01-19T08:28:26.272Z"
   },
   {
    "duration": 678,
    "start_time": "2022-01-19T08:30:04.340Z"
   },
   {
    "duration": 4,
    "start_time": "2022-01-19T08:30:32.341Z"
   },
   {
    "duration": 912,
    "start_time": "2022-01-19T08:30:34.312Z"
   },
   {
    "duration": 6485,
    "start_time": "2022-01-19T08:35:42.822Z"
   },
   {
    "duration": 4,
    "start_time": "2022-01-19T08:38:34.191Z"
   },
   {
    "duration": 756,
    "start_time": "2022-01-19T08:38:36.076Z"
   },
   {
    "duration": 2753,
    "start_time": "2022-01-19T08:38:42.345Z"
   },
   {
    "duration": 4,
    "start_time": "2022-01-19T08:38:59.800Z"
   },
   {
    "duration": 1139,
    "start_time": "2022-01-19T08:39:08.459Z"
   },
   {
    "duration": 5,
    "start_time": "2022-01-19T08:40:18.970Z"
   },
   {
    "duration": 3,
    "start_time": "2022-01-19T08:47:54.321Z"
   },
   {
    "duration": 6,
    "start_time": "2022-01-19T08:48:03.329Z"
   },
   {
    "duration": 20865,
    "start_time": "2022-01-19T08:50:19.591Z"
   },
   {
    "duration": 14,
    "start_time": "2022-01-19T08:50:52.948Z"
   },
   {
    "duration": 333,
    "start_time": "2022-01-19T08:51:08.406Z"
   },
   {
    "duration": 793,
    "start_time": "2022-01-19T08:51:49.440Z"
   },
   {
    "duration": 9738,
    "start_time": "2022-01-19T08:51:55.141Z"
   },
   {
    "duration": 33,
    "start_time": "2022-01-19T08:52:07.990Z"
   },
   {
    "duration": 11,
    "start_time": "2022-01-19T08:52:17.066Z"
   },
   {
    "duration": 6385,
    "start_time": "2022-01-19T08:52:48.504Z"
   },
   {
    "duration": 10583,
    "start_time": "2022-01-19T08:52:56.662Z"
   },
   {
    "duration": 4,
    "start_time": "2022-01-19T08:53:09.089Z"
   },
   {
    "duration": 9384,
    "start_time": "2022-01-19T08:53:11.152Z"
   },
   {
    "duration": 2805,
    "start_time": "2022-01-19T08:53:30.441Z"
   },
   {
    "duration": 7493,
    "start_time": "2022-01-19T08:53:40.333Z"
   },
   {
    "duration": 233002,
    "start_time": "2022-01-19T08:55:00.106Z"
   },
   {
    "duration": 24,
    "start_time": "2022-01-19T08:59:16.382Z"
   },
   {
    "duration": 162,
    "start_time": "2022-01-19T08:59:23.520Z"
   },
   {
    "duration": 591,
    "start_time": "2022-01-19T08:59:29.680Z"
   },
   {
    "duration": 638,
    "start_time": "2022-01-19T09:00:17.622Z"
   },
   {
    "duration": 411,
    "start_time": "2022-01-19T09:00:56.047Z"
   },
   {
    "duration": 32274,
    "start_time": "2022-01-19T09:01:58.284Z"
   },
   {
    "duration": 363,
    "start_time": "2022-01-19T09:02:38.119Z"
   },
   {
    "duration": 326,
    "start_time": "2022-01-19T09:03:10.147Z"
   },
   {
    "duration": 259724,
    "start_time": "2022-01-19T09:03:46.352Z"
   },
   {
    "duration": 10,
    "start_time": "2022-01-19T09:08:27.889Z"
   },
   {
    "duration": 1320,
    "start_time": "2022-01-19T09:08:31.601Z"
   },
   {
    "duration": 25376,
    "start_time": "2022-01-19T09:08:43.957Z"
   },
   {
    "duration": 242462,
    "start_time": "2022-01-19T09:11:42.835Z"
   },
   {
    "duration": 331,
    "start_time": "2022-01-19T10:57:55.422Z"
   },
   {
    "duration": 341,
    "start_time": "2022-01-19T10:58:31.331Z"
   },
   {
    "duration": 4,
    "start_time": "2022-01-19T10:59:09.971Z"
   },
   {
    "duration": 4,
    "start_time": "2022-01-19T10:59:18.944Z"
   },
   {
    "duration": 5,
    "start_time": "2022-01-19T11:45:43.546Z"
   },
   {
    "duration": 10662,
    "start_time": "2022-01-19T11:45:45.835Z"
   },
   {
    "duration": 4,
    "start_time": "2022-01-19T11:46:00.634Z"
   },
   {
    "duration": 10119,
    "start_time": "2022-01-19T11:46:03.770Z"
   },
   {
    "duration": 359532,
    "start_time": "2022-01-19T11:46:38.785Z"
   },
   {
    "duration": 10,
    "start_time": "2022-01-19T12:04:06.736Z"
   },
   {
    "duration": 110,
    "start_time": "2022-01-19T12:04:10.979Z"
   },
   {
    "duration": 380,
    "start_time": "2022-01-19T12:04:37.746Z"
   },
   {
    "duration": 5803,
    "start_time": "2022-01-19T12:04:46.292Z"
   },
   {
    "duration": 12119,
    "start_time": "2022-01-19T12:04:54.145Z"
   },
   {
    "duration": 4,
    "start_time": "2022-01-19T12:05:23.127Z"
   },
   {
    "duration": 5626,
    "start_time": "2022-01-19T12:05:25.251Z"
   },
   {
    "duration": 20,
    "start_time": "2022-01-19T12:05:35.657Z"
   },
   {
    "duration": 5,
    "start_time": "2022-01-19T12:05:44.567Z"
   },
   {
    "duration": 5746,
    "start_time": "2022-01-19T12:05:46.835Z"
   },
   {
    "duration": 4,
    "start_time": "2022-01-19T12:07:08.912Z"
   },
   {
    "duration": 9300,
    "start_time": "2022-01-19T12:07:10.967Z"
   },
   {
    "duration": 9,
    "start_time": "2022-01-19T12:07:26.202Z"
   },
   {
    "duration": 5,
    "start_time": "2022-01-19T12:08:02.747Z"
   },
   {
    "duration": 8995,
    "start_time": "2022-01-19T12:08:04.647Z"
   },
   {
    "duration": 4,
    "start_time": "2022-01-19T12:12:02.817Z"
   },
   {
    "duration": 3863,
    "start_time": "2022-01-19T12:12:48.789Z"
   },
   {
    "duration": 3113,
    "start_time": "2022-01-19T12:14:05.946Z"
   },
   {
    "duration": 475,
    "start_time": "2022-01-19T12:18:54.115Z"
   },
   {
    "duration": 5,
    "start_time": "2022-01-19T12:19:01.609Z"
   },
   {
    "duration": 5,
    "start_time": "2022-01-19T12:21:20.702Z"
   },
   {
    "duration": 3102,
    "start_time": "2022-01-19T12:21:33.045Z"
   },
   {
    "duration": 323,
    "start_time": "2022-01-19T12:22:14.872Z"
   },
   {
    "duration": 414,
    "start_time": "2022-01-19T12:22:52.319Z"
   },
   {
    "duration": 3109,
    "start_time": "2022-01-19T12:23:03.710Z"
   },
   {
    "duration": 3006,
    "start_time": "2022-01-19T12:32:13.104Z"
   },
   {
    "duration": 358,
    "start_time": "2022-01-19T12:32:59.922Z"
   },
   {
    "duration": 693,
    "start_time": "2022-01-19T12:33:07.054Z"
   },
   {
    "duration": 434,
    "start_time": "2022-01-19T12:34:13.003Z"
   },
   {
    "duration": 954,
    "start_time": "2022-01-19T12:36:05.584Z"
   },
   {
    "duration": 503,
    "start_time": "2022-01-19T12:36:34.220Z"
   },
   {
    "duration": 441,
    "start_time": "2022-01-19T12:40:29.209Z"
   },
   {
    "duration": 326,
    "start_time": "2022-01-19T12:41:44.068Z"
   },
   {
    "duration": 361636,
    "start_time": "2022-01-19T12:41:51.511Z"
   },
   {
    "duration": 45,
    "start_time": "2022-01-19T12:52:07.284Z"
   },
   {
    "duration": 10786,
    "start_time": "2022-01-19T12:52:10.954Z"
   },
   {
    "duration": 327,
    "start_time": "2022-01-19T12:57:42.857Z"
   },
   {
    "duration": 499,
    "start_time": "2022-01-19T12:57:51.991Z"
   },
   {
    "duration": 494,
    "start_time": "2022-01-19T12:58:50.094Z"
   },
   {
    "duration": 460,
    "start_time": "2022-01-19T12:59:00.878Z"
   },
   {
    "duration": 435,
    "start_time": "2022-01-19T12:59:12.478Z"
   },
   {
    "duration": 441,
    "start_time": "2022-01-19T12:59:36.391Z"
   },
   {
    "duration": 5,
    "start_time": "2022-01-19T13:14:31.877Z"
   },
   {
    "duration": 6,
    "start_time": "2022-01-19T13:14:36.631Z"
   },
   {
    "duration": 422,
    "start_time": "2022-01-19T13:14:45.228Z"
   },
   {
    "duration": 346,
    "start_time": "2022-01-19T13:16:55.963Z"
   },
   {
    "duration": 429,
    "start_time": "2022-01-19T13:17:03.359Z"
   },
   {
    "duration": 4,
    "start_time": "2022-01-19T13:18:46.669Z"
   },
   {
    "duration": 428,
    "start_time": "2022-01-19T13:18:51.145Z"
   },
   {
    "duration": 452,
    "start_time": "2022-01-19T13:19:20.081Z"
   },
   {
    "duration": 104,
    "start_time": "2022-01-19T13:21:02.584Z"
   },
   {
    "duration": 371,
    "start_time": "2022-01-19T13:21:28.371Z"
   },
   {
    "duration": 448,
    "start_time": "2022-01-19T13:21:45.308Z"
   },
   {
    "duration": 195,
    "start_time": "2022-01-19T13:21:51.561Z"
   },
   {
    "duration": 449,
    "start_time": "2022-01-19T13:23:30.231Z"
   },
   {
    "duration": 616,
    "start_time": "2022-01-19T13:23:59.290Z"
   },
   {
    "duration": 118,
    "start_time": "2022-01-19T13:27:57.558Z"
   },
   {
    "duration": 389,
    "start_time": "2022-01-19T13:28:03.190Z"
   },
   {
    "duration": 5,
    "start_time": "2022-01-19T13:29:27.030Z"
   },
   {
    "duration": 459,
    "start_time": "2022-01-19T13:29:30.394Z"
   },
   {
    "duration": 69,
    "start_time": "2022-01-19T13:30:18.711Z"
   },
   {
    "duration": 333,
    "start_time": "2022-01-19T13:31:39.725Z"
   },
   {
    "duration": 315701,
    "start_time": "2022-01-19T13:31:44.003Z"
   },
   {
    "duration": 465,
    "start_time": "2022-01-19T14:12:12.102Z"
   },
   {
    "duration": 427,
    "start_time": "2022-01-19T14:12:27.601Z"
   },
   {
    "duration": 43149,
    "start_time": "2022-01-19T14:14:06.757Z"
   },
   {
    "duration": 5,
    "start_time": "2022-01-19T14:15:36.420Z"
   },
   {
    "duration": 728,
    "start_time": "2022-01-19T14:15:39.789Z"
   },
   {
    "duration": 4,
    "start_time": "2022-01-19T14:15:42.708Z"
   },
   {
    "duration": 67,
    "start_time": "2022-01-19T14:15:54.598Z"
   },
   {
    "duration": 9431,
    "start_time": "2022-01-19T14:15:56.761Z"
   },
   {
    "duration": 309901,
    "start_time": "2022-01-19T14:16:47.185Z"
   },
   {
    "duration": 9,
    "start_time": "2022-01-19T14:24:51.297Z"
   },
   {
    "duration": 44,
    "start_time": "2022-01-19T14:24:54.172Z"
   },
   {
    "duration": 11701,
    "start_time": "2022-01-19T14:25:00.590Z"
   },
   {
    "duration": 42650,
    "start_time": "2022-01-19T14:25:19.826Z"
   },
   {
    "duration": 403,
    "start_time": "2022-01-19T14:27:40.554Z"
   },
   {
    "duration": 358,
    "start_time": "2022-01-19T14:29:13.490Z"
   },
   {
    "duration": 336,
    "start_time": "2022-01-19T14:29:30.924Z"
   },
   {
    "duration": 363,
    "start_time": "2022-01-19T14:29:42.817Z"
   },
   {
    "duration": 379,
    "start_time": "2022-01-19T14:34:16.134Z"
   },
   {
    "duration": 6828,
    "start_time": "2022-01-19T14:34:18.752Z"
   },
   {
    "duration": 9320,
    "start_time": "2022-01-19T14:34:28.084Z"
   },
   {
    "duration": 4,
    "start_time": "2022-01-19T14:34:47.051Z"
   },
   {
    "duration": 9387,
    "start_time": "2022-01-19T14:34:50.759Z"
   },
   {
    "duration": 300542,
    "start_time": "2022-01-19T14:35:29.223Z"
   },
   {
    "duration": 10,
    "start_time": "2022-01-19T14:40:40.844Z"
   },
   {
    "duration": 45,
    "start_time": "2022-01-19T14:40:43.614Z"
   },
   {
    "duration": 11744,
    "start_time": "2022-01-19T14:40:45.416Z"
   },
   {
    "duration": 53043,
    "start_time": "2022-01-19T14:41:01.173Z"
   },
   {
    "duration": 2178,
    "start_time": "2022-01-19T14:43:17.505Z"
   },
   {
    "duration": 13858,
    "start_time": "2022-01-19T14:44:19.123Z"
   },
   {
    "duration": 13466,
    "start_time": "2022-01-19T14:50:58.487Z"
   },
   {
    "duration": 679,
    "start_time": "2022-01-19T15:14:52.906Z"
   },
   {
    "duration": 348,
    "start_time": "2022-01-19T15:15:03.146Z"
   },
   {
    "duration": 15085,
    "start_time": "2022-01-19T15:22:40.917Z"
   },
   {
    "duration": 5313,
    "start_time": "2022-01-19T21:43:39.342Z"
   },
   {
    "duration": 14822,
    "start_time": "2022-01-19T21:43:53.432Z"
   },
   {
    "duration": 2959,
    "start_time": "2022-01-24T19:11:44.870Z"
   },
   {
    "duration": 3419,
    "start_time": "2022-01-24T19:11:53.131Z"
   },
   {
    "duration": 30,
    "start_time": "2022-01-24T19:11:58.205Z"
   },
   {
    "duration": 618,
    "start_time": "2022-01-24T19:12:23.651Z"
   },
   {
    "duration": 318,
    "start_time": "2022-01-24T19:12:28.141Z"
   },
   {
    "duration": 232,
    "start_time": "2022-01-24T19:12:33.386Z"
   },
   {
    "duration": 8,
    "start_time": "2022-01-24T19:13:02.103Z"
   },
   {
    "duration": 13,
    "start_time": "2022-01-24T19:13:09.068Z"
   },
   {
    "duration": 13,
    "start_time": "2022-01-24T19:13:12.397Z"
   },
   {
    "duration": 5,
    "start_time": "2022-01-24T19:23:25.173Z"
   },
   {
    "duration": 8337,
    "start_time": "2022-01-24T19:25:10.290Z"
   },
   {
    "duration": 15,
    "start_time": "2022-01-24T19:25:41.316Z"
   },
   {
    "duration": 10,
    "start_time": "2022-01-24T19:25:53.863Z"
   },
   {
    "duration": 3261,
    "start_time": "2022-01-24T19:26:17.056Z"
   },
   {
    "duration": 1127,
    "start_time": "2022-01-24T19:26:29.898Z"
   },
   {
    "duration": 4487,
    "start_time": "2022-01-24T19:27:07.044Z"
   },
   {
    "duration": 3929,
    "start_time": "2022-01-24T19:28:27.507Z"
   },
   {
    "duration": 1956,
    "start_time": "2022-01-24T19:28:46.619Z"
   },
   {
    "duration": 722,
    "start_time": "2022-01-24T19:28:50.920Z"
   },
   {
    "duration": 5,
    "start_time": "2022-01-24T19:28:57.551Z"
   },
   {
    "duration": 5849,
    "start_time": "2022-01-24T19:29:00.211Z"
   },
   {
    "duration": 3973,
    "start_time": "2022-01-24T19:29:30.177Z"
   },
   {
    "duration": 12,
    "start_time": "2022-01-24T19:29:50.038Z"
   },
   {
    "duration": 8,
    "start_time": "2022-01-24T19:30:05.736Z"
   },
   {
    "duration": 11441,
    "start_time": "2022-01-24T19:30:49.529Z"
   },
   {
    "duration": 17,
    "start_time": "2022-01-24T19:31:04.300Z"
   },
   {
    "duration": 25,
    "start_time": "2022-01-24T19:32:54.424Z"
   },
   {
    "duration": 59,
    "start_time": "2022-01-24T19:33:12.914Z"
   },
   {
    "duration": 5,
    "start_time": "2022-01-24T19:33:15.235Z"
   },
   {
    "duration": 11287,
    "start_time": "2022-01-24T19:33:23.697Z"
   },
   {
    "duration": 15,
    "start_time": "2022-01-24T19:33:36.472Z"
   },
   {
    "duration": 12,
    "start_time": "2022-01-24T19:36:56.204Z"
   },
   {
    "duration": 34,
    "start_time": "2022-01-24T19:37:11.494Z"
   },
   {
    "duration": 11,
    "start_time": "2022-01-24T19:43:02.654Z"
   },
   {
    "duration": 239,
    "start_time": "2022-01-24T19:43:13.407Z"
   },
   {
    "duration": 6,
    "start_time": "2022-01-24T19:43:38.180Z"
   },
   {
    "duration": 5,
    "start_time": "2022-01-24T19:43:45.583Z"
   },
   {
    "duration": 865,
    "start_time": "2022-01-24T19:44:03.373Z"
   },
   {
    "duration": 4,
    "start_time": "2022-01-24T19:44:17.277Z"
   },
   {
    "duration": 5,
    "start_time": "2022-01-24T19:44:39.211Z"
   },
   {
    "duration": 4,
    "start_time": "2022-01-24T19:44:48.810Z"
   },
   {
    "duration": 9,
    "start_time": "2022-01-24T19:45:34.218Z"
   },
   {
    "duration": 5,
    "start_time": "2022-01-24T19:45:36.218Z"
   },
   {
    "duration": 5,
    "start_time": "2022-01-24T19:45:40.748Z"
   },
   {
    "duration": 752,
    "start_time": "2022-01-24T19:48:37.633Z"
   },
   {
    "duration": 121632,
    "start_time": "2022-01-24T19:49:05.451Z"
   },
   {
    "duration": 10,
    "start_time": "2022-01-24T19:51:12.127Z"
   },
   {
    "duration": 10,
    "start_time": "2022-01-24T19:51:32.471Z"
   },
   {
    "duration": 4,
    "start_time": "2022-01-24T19:52:03.478Z"
   },
   {
    "duration": 7,
    "start_time": "2022-01-24T19:52:07.267Z"
   },
   {
    "duration": 63,
    "start_time": "2022-01-24T19:52:09.966Z"
   },
   {
    "duration": 12547,
    "start_time": "2022-01-24T19:52:13.332Z"
   },
   {
    "duration": 133274,
    "start_time": "2022-01-24T19:52:44.396Z"
   },
   {
    "duration": 241,
    "start_time": "2022-01-24T19:59:59.639Z"
   },
   {
    "duration": 116,
    "start_time": "2022-01-24T20:00:22.427Z"
   },
   {
    "duration": 124,
    "start_time": "2022-01-24T20:00:29.526Z"
   },
   {
    "duration": 246,
    "start_time": "2022-01-24T20:00:35.925Z"
   },
   {
    "duration": 361,
    "start_time": "2022-01-24T20:00:45.946Z"
   },
   {
    "duration": 338,
    "start_time": "2022-01-24T20:00:58.057Z"
   },
   {
    "duration": 6,
    "start_time": "2022-01-24T20:01:18.457Z"
   },
   {
    "duration": 7,
    "start_time": "2022-01-24T20:01:22.323Z"
   },
   {
    "duration": 9,
    "start_time": "2022-01-24T20:01:27.264Z"
   },
   {
    "duration": 8,
    "start_time": "2022-01-24T20:01:35.560Z"
   },
   {
    "duration": 8,
    "start_time": "2022-01-24T20:01:38.713Z"
   },
   {
    "duration": 7,
    "start_time": "2022-01-24T20:02:07.419Z"
   },
   {
    "duration": 32,
    "start_time": "2022-01-24T20:03:29.300Z"
   },
   {
    "duration": 15,
    "start_time": "2022-01-24T20:03:54.345Z"
   },
   {
    "duration": 39,
    "start_time": "2022-01-24T20:03:56.306Z"
   },
   {
    "duration": 10,
    "start_time": "2022-01-24T20:04:06.026Z"
   },
   {
    "duration": 5,
    "start_time": "2022-01-24T20:04:09.014Z"
   },
   {
    "duration": 8,
    "start_time": "2022-01-24T20:04:36.645Z"
   },
   {
    "duration": 18,
    "start_time": "2022-01-24T20:05:15.207Z"
   },
   {
    "duration": 9,
    "start_time": "2022-01-24T20:05:22.479Z"
   },
   {
    "duration": 4,
    "start_time": "2022-01-24T20:05:24.638Z"
   },
   {
    "duration": 15,
    "start_time": "2022-01-24T20:06:06.586Z"
   },
   {
    "duration": 8,
    "start_time": "2022-01-24T20:07:00.081Z"
   },
   {
    "duration": 9,
    "start_time": "2022-01-24T20:08:07.964Z"
   },
   {
    "duration": 4,
    "start_time": "2022-01-24T20:08:10.442Z"
   },
   {
    "duration": 5,
    "start_time": "2022-01-24T20:08:14.097Z"
   },
   {
    "duration": 9,
    "start_time": "2022-01-24T20:12:58.381Z"
   },
   {
    "duration": 6,
    "start_time": "2022-01-24T20:13:00.586Z"
   },
   {
    "duration": 5,
    "start_time": "2022-01-24T20:13:18.920Z"
   },
   {
    "duration": 8,
    "start_time": "2022-01-24T20:14:05.234Z"
   },
   {
    "duration": 5,
    "start_time": "2022-01-24T20:14:07.794Z"
   },
   {
    "duration": 43,
    "start_time": "2022-01-24T20:14:32.920Z"
   },
   {
    "duration": 15,
    "start_time": "2022-01-24T20:14:36.215Z"
   },
   {
    "duration": 40,
    "start_time": "2022-01-24T20:14:38.216Z"
   },
   {
    "duration": 5,
    "start_time": "2022-01-24T20:14:40.168Z"
   },
   {
    "duration": 8,
    "start_time": "2022-01-24T20:15:29.530Z"
   },
   {
    "duration": 5,
    "start_time": "2022-01-24T20:15:33.907Z"
   },
   {
    "duration": 7,
    "start_time": "2022-01-24T20:16:06.068Z"
   },
   {
    "duration": 5,
    "start_time": "2022-01-24T20:16:09.148Z"
   },
   {
    "duration": 12,
    "start_time": "2022-01-24T20:16:25.104Z"
   },
   {
    "duration": 5,
    "start_time": "2022-01-24T20:16:31.972Z"
   },
   {
    "duration": 36,
    "start_time": "2022-01-24T20:16:37.612Z"
   },
   {
    "duration": 4,
    "start_time": "2022-01-24T20:16:39.651Z"
   },
   {
    "duration": 8,
    "start_time": "2022-01-24T20:16:49.686Z"
   },
   {
    "duration": 5,
    "start_time": "2022-01-24T20:16:52.828Z"
   },
   {
    "duration": 4,
    "start_time": "2022-01-24T20:17:11.059Z"
   },
   {
    "duration": 5,
    "start_time": "2022-01-24T20:17:20.870Z"
   },
   {
    "duration": 6,
    "start_time": "2022-01-24T20:17:42.404Z"
   },
   {
    "duration": 8,
    "start_time": "2022-01-24T20:21:42.761Z"
   },
   {
    "duration": 5,
    "start_time": "2022-01-24T20:21:46.055Z"
   },
   {
    "duration": 2024,
    "start_time": "2022-01-24T20:22:27.240Z"
   },
   {
    "duration": 751,
    "start_time": "2022-01-24T20:22:29.267Z"
   },
   {
    "duration": 42,
    "start_time": "2022-01-24T20:22:30.024Z"
   },
   {
    "duration": 309,
    "start_time": "2022-01-24T20:22:30.069Z"
   },
   {
    "duration": 19,
    "start_time": "2022-01-24T20:22:30.380Z"
   },
   {
    "duration": 10,
    "start_time": "2022-01-24T20:22:30.402Z"
   },
   {
    "duration": 120,
    "start_time": "2022-01-24T20:22:30.417Z"
   },
   {
    "duration": 6,
    "start_time": "2022-01-24T20:22:30.541Z"
   },
   {
    "duration": 12764,
    "start_time": "2022-01-24T20:22:30.549Z"
   },
   {
    "duration": 133798,
    "start_time": "2022-01-24T20:22:43.316Z"
   },
   {
    "duration": 8,
    "start_time": "2022-01-24T20:24:57.117Z"
   },
   {
    "duration": 159,
    "start_time": "2022-01-24T20:24:57.127Z"
   },
   {
    "duration": 15,
    "start_time": "2022-01-24T20:24:57.288Z"
   },
   {
    "duration": 36,
    "start_time": "2022-01-24T20:24:57.305Z"
   },
   {
    "duration": 22,
    "start_time": "2022-01-24T20:24:57.343Z"
   },
   {
    "duration": 9,
    "start_time": "2022-01-24T20:24:57.367Z"
   },
   {
    "duration": 4,
    "start_time": "2022-01-24T20:24:57.379Z"
   },
   {
    "duration": 5,
    "start_time": "2022-01-24T20:26:49.136Z"
   },
   {
    "duration": 5,
    "start_time": "2022-01-24T20:28:13.725Z"
   },
   {
    "duration": 12,
    "start_time": "2022-01-24T20:28:21.734Z"
   },
   {
    "duration": 65,
    "start_time": "2022-01-24T20:28:23.986Z"
   },
   {
    "duration": 12357,
    "start_time": "2022-01-24T20:28:26.880Z"
   },
   {
    "duration": 138182,
    "start_time": "2022-01-24T20:29:19.558Z"
   },
   {
    "duration": 8,
    "start_time": "2022-01-24T20:31:47.749Z"
   },
   {
    "duration": 7,
    "start_time": "2022-01-24T20:31:50.558Z"
   },
   {
    "duration": 16,
    "start_time": "2022-01-24T20:32:05.357Z"
   },
   {
    "duration": 58,
    "start_time": "2022-01-24T20:32:07.341Z"
   },
   {
    "duration": 4,
    "start_time": "2022-01-24T20:32:09.683Z"
   },
   {
    "duration": 470,
    "start_time": "2022-01-24T20:32:40.169Z"
   },
   {
    "duration": 8,
    "start_time": "2022-01-24T20:33:12.107Z"
   },
   {
    "duration": 5,
    "start_time": "2022-01-24T20:33:14.605Z"
   },
   {
    "duration": 11379,
    "start_time": "2022-01-24T20:33:37.524Z"
   },
   {
    "duration": 87,
    "start_time": "2022-01-24T20:33:51.120Z"
   },
   {
    "duration": 7,
    "start_time": "2022-01-24T20:34:36.735Z"
   },
   {
    "duration": 42,
    "start_time": "2022-01-24T20:34:53.257Z"
   },
   {
    "duration": 5,
    "start_time": "2022-01-24T20:34:56.060Z"
   },
   {
    "duration": 6,
    "start_time": "2022-01-24T20:35:07.484Z"
   },
   {
    "duration": 336,
    "start_time": "2022-01-24T20:35:29.944Z"
   },
   {
    "duration": 8,
    "start_time": "2022-01-24T20:35:54.172Z"
   },
   {
    "duration": 66,
    "start_time": "2022-01-24T20:35:57.314Z"
   },
   {
    "duration": 282,
    "start_time": "2022-01-24T20:36:00.721Z"
   },
   {
    "duration": 15,
    "start_time": "2022-01-24T20:36:19.373Z"
   },
   {
    "duration": 46,
    "start_time": "2022-01-24T20:36:22.202Z"
   },
   {
    "duration": 8,
    "start_time": "2022-01-24T20:36:23.816Z"
   },
   {
    "duration": 5,
    "start_time": "2022-01-24T20:36:35.549Z"
   },
   {
    "duration": 5,
    "start_time": "2022-01-24T20:36:45.158Z"
   },
   {
    "duration": 10,
    "start_time": "2022-01-24T20:37:01.617Z"
   },
   {
    "duration": 65,
    "start_time": "2022-01-24T20:37:03.262Z"
   },
   {
    "duration": 5,
    "start_time": "2022-01-24T20:37:04.771Z"
   },
   {
    "duration": 11125,
    "start_time": "2022-01-24T20:37:07.010Z"
   },
   {
    "duration": 137805,
    "start_time": "2022-01-24T20:37:56.745Z"
   },
   {
    "duration": 7,
    "start_time": "2022-01-24T20:40:32.484Z"
   },
   {
    "duration": 7,
    "start_time": "2022-01-24T20:40:34.736Z"
   },
   {
    "duration": 8,
    "start_time": "2022-01-24T20:41:55.014Z"
   },
   {
    "duration": 60,
    "start_time": "2022-01-24T20:41:57.116Z"
   },
   {
    "duration": 13559,
    "start_time": "2022-01-24T20:42:20.506Z"
   },
   {
    "duration": 10445,
    "start_time": "2022-01-24T20:42:37.934Z"
   },
   {
    "duration": 11918,
    "start_time": "2022-01-24T20:42:51.442Z"
   },
   {
    "duration": 5,
    "start_time": "2022-01-24T20:43:31.168Z"
   },
   {
    "duration": 37,
    "start_time": "2022-01-24T20:43:37.532Z"
   },
   {
    "duration": 13,
    "start_time": "2022-01-24T20:43:44.472Z"
   },
   {
    "duration": 11083,
    "start_time": "2022-01-24T20:46:23.253Z"
   },
   {
    "duration": 10404,
    "start_time": "2022-01-24T20:47:22.778Z"
   },
   {
    "duration": 404,
    "start_time": "2022-01-24T20:47:43.630Z"
   },
   {
    "duration": 6,
    "start_time": "2022-01-24T20:47:53.394Z"
   },
   {
    "duration": 5,
    "start_time": "2022-01-24T20:47:59.621Z"
   },
   {
    "duration": 5,
    "start_time": "2022-01-24T20:48:04.598Z"
   },
   {
    "duration": 7,
    "start_time": "2022-01-24T20:48:08.152Z"
   },
   {
    "duration": 5,
    "start_time": "2022-01-24T20:48:18.246Z"
   },
   {
    "duration": 43,
    "start_time": "2022-01-24T20:48:35.395Z"
   },
   {
    "duration": 3,
    "start_time": "2022-01-24T20:50:05.290Z"
   },
   {
    "duration": 4,
    "start_time": "2022-01-24T20:50:07.130Z"
   },
   {
    "duration": 86148,
    "start_time": "2022-01-24T20:51:57.033Z"
   },
   {
    "duration": 4,
    "start_time": "2022-01-24T20:53:24.882Z"
   },
   {
    "duration": 262841,
    "start_time": "2022-01-24T20:53:26.535Z"
   },
   {
    "duration": 14367,
    "start_time": "2022-01-24T20:58:52.779Z"
   },
   {
    "duration": 10,
    "start_time": "2022-01-24T21:20:58.296Z"
   },
   {
    "duration": 14403,
    "start_time": "2022-01-24T21:21:10.042Z"
   },
   {
    "duration": 14439,
    "start_time": "2022-01-24T21:21:28.100Z"
   },
   {
    "duration": 83040,
    "start_time": "2022-01-24T21:23:04.194Z"
   },
   {
    "duration": 346787,
    "start_time": "2022-01-24T21:26:31.996Z"
   },
   {
    "duration": 458007,
    "start_time": "2022-01-24T21:33:05.339Z"
   },
   {
    "duration": 51439,
    "start_time": "2022-01-24T21:43:40.704Z"
   },
   {
    "duration": 4,
    "start_time": "2022-01-24T21:45:34.015Z"
   },
   {
    "duration": 49494,
    "start_time": "2022-01-24T21:47:40.681Z"
   },
   {
    "duration": 3,
    "start_time": "2022-01-24T21:49:12.332Z"
   },
   {
    "duration": 4,
    "start_time": "2022-01-24T21:49:14.588Z"
   },
   {
    "duration": 5,
    "start_time": "2022-01-24T21:49:17.532Z"
   },
   {
    "duration": 8,
    "start_time": "2022-01-24T21:49:24.337Z"
   },
   {
    "duration": 5,
    "start_time": "2022-01-24T21:49:48.619Z"
   },
   {
    "duration": 9,
    "start_time": "2022-01-24T21:49:51.008Z"
   },
   {
    "duration": 4,
    "start_time": "2022-01-24T21:50:16.854Z"
   },
   {
    "duration": 302,
    "start_time": "2022-01-24T21:51:23.942Z"
   },
   {
    "duration": 1361469,
    "start_time": "2022-01-24T21:51:37.657Z"
   },
   {
    "duration": 35452,
    "start_time": "2022-01-24T22:14:21.280Z"
   },
   {
    "duration": 4,
    "start_time": "2022-01-24T22:15:02.044Z"
   },
   {
    "duration": 938729,
    "start_time": "2022-01-24T22:15:03.759Z"
   },
   {
    "duration": 4,
    "start_time": "2022-01-24T22:30:44.530Z"
   },
   {
    "duration": 87346,
    "start_time": "2022-01-24T22:30:46.771Z"
   },
   {
    "duration": 4,
    "start_time": "2022-01-24T22:32:15.265Z"
   },
   {
    "duration": 391494,
    "start_time": "2022-01-24T22:32:16.899Z"
   },
   {
    "duration": 4,
    "start_time": "2022-01-24T22:39:07.498Z"
   },
   {
    "duration": 5,
    "start_time": "2022-01-24T22:39:12.315Z"
   },
   {
    "duration": 9,
    "start_time": "2022-01-24T22:39:14.796Z"
   },
   {
    "duration": 242,
    "start_time": "2022-01-24T22:39:26.957Z"
   },
   {
    "duration": 3698,
    "start_time": "2022-01-24T22:39:35.767Z"
   },
   {
    "duration": 684,
    "start_time": "2022-01-24T22:39:43.920Z"
   },
   {
    "duration": 258,
    "start_time": "2022-01-24T22:41:25.860Z"
   },
   {
    "duration": 13527,
    "start_time": "2022-01-24T22:41:42.253Z"
   },
   {
    "duration": 8450,
    "start_time": "2022-01-25T05:55:18.239Z"
   },
   {
    "duration": 11212,
    "start_time": "2022-01-25T05:55:30.145Z"
   },
   {
    "duration": 8,
    "start_time": "2022-01-25T05:55:48.375Z"
   },
   {
    "duration": 89,
    "start_time": "2022-01-25T05:55:50.720Z"
   },
   {
    "duration": 6,
    "start_time": "2022-01-25T05:56:04.785Z"
   },
   {
    "duration": 12083,
    "start_time": "2022-01-25T05:56:08.648Z"
   },
   {
    "duration": 155200,
    "start_time": "2022-01-25T05:56:26.070Z"
   },
   {
    "duration": 19,
    "start_time": "2022-01-25T05:59:42.518Z"
   },
   {
    "duration": 8,
    "start_time": "2022-01-25T05:59:45.077Z"
   },
   {
    "duration": 6,
    "start_time": "2022-01-25T05:59:57.888Z"
   },
   {
    "duration": 35,
    "start_time": "2022-01-25T06:00:01.221Z"
   },
   {
    "duration": 67,
    "start_time": "2022-01-25T06:00:03.375Z"
   },
   {
    "duration": 11791,
    "start_time": "2022-01-25T06:00:06.215Z"
   },
   {
    "duration": 141859,
    "start_time": "2022-01-25T06:00:29.300Z"
   },
   {
    "duration": 6,
    "start_time": "2022-01-25T06:03:01.117Z"
   },
   {
    "duration": 6,
    "start_time": "2022-01-25T06:03:03.635Z"
   },
   {
    "duration": 4,
    "start_time": "2022-01-25T06:03:13.097Z"
   },
   {
    "duration": 33,
    "start_time": "2022-01-25T06:03:15.380Z"
   },
   {
    "duration": 375,
    "start_time": "2022-01-25T06:21:50.880Z"
   },
   {
    "duration": 6193,
    "start_time": "2022-01-25T06:21:59.984Z"
   },
   {
    "duration": 5814,
    "start_time": "2022-01-25T06:22:17.951Z"
   },
   {
    "duration": 782,
    "start_time": "2022-01-25T06:22:27.513Z"
   },
   {
    "duration": 7,
    "start_time": "2022-01-25T06:22:35.030Z"
   },
   {
    "duration": 64,
    "start_time": "2022-01-25T06:22:37.083Z"
   },
   {
    "duration": 6,
    "start_time": "2022-01-25T06:22:38.855Z"
   },
   {
    "duration": 11274,
    "start_time": "2022-01-25T06:22:41.150Z"
   },
   {
    "duration": 133594,
    "start_time": "2022-01-25T06:22:55.714Z"
   },
   {
    "duration": 8,
    "start_time": "2022-01-25T06:25:35.883Z"
   },
   {
    "duration": 35,
    "start_time": "2022-01-25T06:25:38.062Z"
   },
   {
    "duration": 24457,
    "start_time": "2022-01-25T06:25:43.413Z"
   },
   {
    "duration": 27756,
    "start_time": "2022-01-25T06:26:31.592Z"
   },
   {
    "duration": 5199,
    "start_time": "2022-01-25T06:27:15.873Z"
   },
   {
    "duration": 10,
    "start_time": "2022-01-25T06:27:33.043Z"
   },
   {
    "duration": 5,
    "start_time": "2022-01-25T06:27:48.627Z"
   },
   {
    "duration": 162,
    "start_time": "2022-01-25T06:27:51.486Z"
   },
   {
    "duration": 12,
    "start_time": "2022-01-25T06:27:53.841Z"
   },
   {
    "duration": 492,
    "start_time": "2022-01-25T06:28:38.975Z"
   },
   {
    "duration": 6428,
    "start_time": "2022-01-25T06:28:49.009Z"
   },
   {
    "duration": 767,
    "start_time": "2022-01-25T06:28:58.312Z"
   },
   {
    "duration": 8,
    "start_time": "2022-01-25T06:29:02.592Z"
   },
   {
    "duration": 63,
    "start_time": "2022-01-25T06:29:04.866Z"
   },
   {
    "duration": 6,
    "start_time": "2022-01-25T06:29:06.701Z"
   },
   {
    "duration": 11594,
    "start_time": "2022-01-25T06:29:09.015Z"
   },
   {
    "duration": 138704,
    "start_time": "2022-01-25T06:29:26.033Z"
   },
   {
    "duration": 8,
    "start_time": "2022-01-25T06:31:56.946Z"
   },
   {
    "duration": 34,
    "start_time": "2022-01-25T06:31:59.022Z"
   },
   {
    "duration": 25297,
    "start_time": "2022-01-25T06:32:04.501Z"
   },
   {
    "duration": 5714,
    "start_time": "2022-01-25T06:33:33.978Z"
   },
   {
    "duration": 10,
    "start_time": "2022-01-25T06:34:11.631Z"
   },
   {
    "duration": 5,
    "start_time": "2022-01-25T06:34:14.347Z"
   },
   {
    "duration": 214,
    "start_time": "2022-01-25T06:34:16.915Z"
   },
   {
    "duration": 11,
    "start_time": "2022-01-25T06:34:19.369Z"
   },
   {
    "duration": 6367,
    "start_time": "2022-01-25T06:49:25.974Z"
   },
   {
    "duration": 791,
    "start_time": "2022-01-25T06:49:43.438Z"
   },
   {
    "duration": 8,
    "start_time": "2022-01-25T06:49:47.217Z"
   },
   {
    "duration": 69,
    "start_time": "2022-01-25T06:49:49.402Z"
   },
   {
    "duration": 6,
    "start_time": "2022-01-25T06:49:51.128Z"
   },
   {
    "duration": 12034,
    "start_time": "2022-01-25T06:49:53.789Z"
   },
   {
    "duration": 146022,
    "start_time": "2022-01-25T06:50:22.319Z"
   },
   {
    "duration": 30102,
    "start_time": "2022-01-25T06:53:05.504Z"
   },
   {
    "duration": 1031,
    "start_time": "2022-01-25T06:57:08.151Z"
   },
   {
    "duration": 11,
    "start_time": "2022-01-25T06:57:44.777Z"
   },
   {
    "duration": 5,
    "start_time": "2022-01-25T06:57:46.946Z"
   },
   {
    "duration": 29,
    "start_time": "2022-01-25T06:57:49.385Z"
   },
   {
    "duration": 6,
    "start_time": "2022-01-25T06:57:51.626Z"
   },
   {
    "duration": 1129959,
    "start_time": "2022-01-25T06:57:53.822Z"
   },
   {
    "duration": 4,
    "start_time": "2022-01-25T07:16:56.219Z"
   },
   {
    "duration": 6539,
    "start_time": "2022-01-25T07:22:28.887Z"
   },
   {
    "duration": 827,
    "start_time": "2022-01-25T07:22:39.090Z"
   },
   {
    "duration": 11,
    "start_time": "2022-01-25T07:22:43.454Z"
   },
   {
    "duration": 66,
    "start_time": "2022-01-25T07:22:45.089Z"
   },
   {
    "duration": 5,
    "start_time": "2022-01-25T07:22:46.731Z"
   },
   {
    "duration": 13116,
    "start_time": "2022-01-25T07:22:49.554Z"
   },
   {
    "duration": 150102,
    "start_time": "2022-01-25T07:23:11.573Z"
   },
   {
    "duration": 11,
    "start_time": "2022-01-25T07:25:55.456Z"
   },
   {
    "duration": 41,
    "start_time": "2022-01-25T07:25:57.357Z"
   },
   {
    "duration": 23785,
    "start_time": "2022-01-25T07:26:05.279Z"
   },
   {
    "duration": 893,
    "start_time": "2022-01-25T07:26:43.741Z"
   },
   {
    "duration": 10,
    "start_time": "2022-01-25T07:26:47.203Z"
   },
   {
    "duration": 5,
    "start_time": "2022-01-25T07:26:49.220Z"
   },
   {
    "duration": 40,
    "start_time": "2022-01-25T07:26:51.265Z"
   },
   {
    "duration": 5,
    "start_time": "2022-01-25T07:26:53.914Z"
   },
   {
    "duration": 2209193,
    "start_time": "2022-01-25T07:26:55.779Z"
   },
   {
    "duration": 964,
    "start_time": "2022-01-25T08:03:51.026Z"
   },
   {
    "duration": 5,
    "start_time": "2022-01-25T08:04:39.191Z"
   },
   {
    "duration": 5,
    "start_time": "2022-01-25T08:04:41.487Z"
   },
   {
    "duration": 166,
    "start_time": "2022-01-25T08:04:44.022Z"
   },
   {
    "duration": 99,
    "start_time": "2022-01-25T08:04:47.959Z"
   },
   {
    "duration": 15297,
    "start_time": "2022-01-25T08:08:03.903Z"
   },
   {
    "duration": 6,
    "start_time": "2022-01-25T08:08:59.191Z"
   },
   {
    "duration": 14512,
    "start_time": "2022-01-25T08:09:08.937Z"
   },
   {
    "duration": 8296,
    "start_time": "2022-01-25T08:09:55.163Z"
   },
   {
    "duration": 788,
    "start_time": "2022-01-25T08:10:08.959Z"
   },
   {
    "duration": 10,
    "start_time": "2022-01-25T08:10:15.027Z"
   },
   {
    "duration": 64,
    "start_time": "2022-01-25T08:10:16.820Z"
   },
   {
    "duration": 6,
    "start_time": "2022-01-25T08:10:18.408Z"
   },
   {
    "duration": 12373,
    "start_time": "2022-01-25T08:10:21.355Z"
   },
   {
    "duration": 154981,
    "start_time": "2022-01-25T08:10:35.454Z"
   },
   {
    "duration": 20,
    "start_time": "2022-01-25T08:13:40.279Z"
   },
   {
    "duration": 4,
    "start_time": "2022-01-25T08:13:44.383Z"
   },
   {
    "duration": 34,
    "start_time": "2022-01-25T08:13:46.284Z"
   },
   {
    "duration": 11847,
    "start_time": "2022-01-25T08:13:47.991Z"
   },
   {
    "duration": 3661,
    "start_time": "2022-01-25T08:14:09.530Z"
   },
   {
    "duration": 1868,
    "start_time": "2022-01-25T08:15:06.409Z"
   },
   {
    "duration": 6,
    "start_time": "2022-01-25T08:16:08.502Z"
   },
   {
    "duration": 4,
    "start_time": "2022-01-25T08:19:46.151Z"
   },
   {
    "duration": 377,
    "start_time": "2022-01-25T08:19:48.098Z"
   },
   {
    "duration": 4,
    "start_time": "2022-01-25T08:22:24.589Z"
   },
   {
    "duration": 4,
    "start_time": "2022-01-25T08:22:26.269Z"
   },
   {
    "duration": 194418,
    "start_time": "2022-01-25T08:22:30.288Z"
   },
   {
    "duration": 4,
    "start_time": "2022-01-25T08:25:47.979Z"
   },
   {
    "duration": 2193,
    "start_time": "2022-01-25T08:25:50.167Z"
   },
   {
    "duration": 4,
    "start_time": "2022-01-25T08:26:07.809Z"
   },
   {
    "duration": 6518,
    "start_time": "2022-01-25T08:49:19.481Z"
   },
   {
    "duration": 782,
    "start_time": "2022-01-25T08:49:42.215Z"
   },
   {
    "duration": 8,
    "start_time": "2022-01-25T08:49:45.536Z"
   },
   {
    "duration": 67,
    "start_time": "2022-01-25T08:49:47.191Z"
   },
   {
    "duration": 6,
    "start_time": "2022-01-25T08:49:48.759Z"
   },
   {
    "duration": 11232,
    "start_time": "2022-01-25T08:49:51.923Z"
   },
   {
    "duration": 136823,
    "start_time": "2022-01-25T08:50:16.918Z"
   },
   {
    "duration": 22,
    "start_time": "2022-01-25T08:52:36.420Z"
   },
   {
    "duration": 4,
    "start_time": "2022-01-25T08:52:39.440Z"
   },
   {
    "duration": 33,
    "start_time": "2022-01-25T08:52:41.269Z"
   },
   {
    "duration": 10802,
    "start_time": "2022-01-25T08:52:43.233Z"
   },
   {
    "duration": 7,
    "start_time": "2022-01-25T08:53:02.223Z"
   },
   {
    "duration": 4,
    "start_time": "2022-01-25T08:53:04.016Z"
   },
   {
    "duration": 4,
    "start_time": "2022-01-25T08:53:12.792Z"
   },
   {
    "duration": 109572,
    "start_time": "2022-01-25T08:53:24.467Z"
   },
   {
    "duration": 4,
    "start_time": "2022-01-25T08:56:17.045Z"
   },
   {
    "duration": 3,
    "start_time": "2022-01-25T08:56:19.855Z"
   },
   {
    "duration": 361,
    "start_time": "2022-01-25T08:56:21.339Z"
   },
   {
    "duration": 4,
    "start_time": "2022-01-25T08:56:36.426Z"
   },
   {
    "duration": 362,
    "start_time": "2022-01-25T08:56:39.369Z"
   },
   {
    "duration": 4,
    "start_time": "2022-01-25T08:56:55.916Z"
   },
   {
    "duration": 376,
    "start_time": "2022-01-25T08:56:57.902Z"
   },
   {
    "duration": 4,
    "start_time": "2022-01-25T09:11:04.479Z"
   },
   {
    "duration": 3,
    "start_time": "2022-01-25T09:11:51.433Z"
   },
   {
    "duration": 970,
    "start_time": "2022-01-25T09:11:53.058Z"
   },
   {
    "duration": 4,
    "start_time": "2022-01-25T09:12:33.700Z"
   },
   {
    "duration": 335,
    "start_time": "2022-01-25T09:12:46.874Z"
   },
   {
    "duration": 4,
    "start_time": "2022-01-25T09:13:05.196Z"
   },
   {
    "duration": 6052,
    "start_time": "2022-01-25T09:18:54.649Z"
   },
   {
    "duration": 753,
    "start_time": "2022-01-25T09:19:05.515Z"
   },
   {
    "duration": 7,
    "start_time": "2022-01-25T09:19:09.613Z"
   },
   {
    "duration": 65,
    "start_time": "2022-01-25T09:19:11.750Z"
   },
   {
    "duration": 6,
    "start_time": "2022-01-25T09:19:13.804Z"
   },
   {
    "duration": 11418,
    "start_time": "2022-01-25T09:19:16.469Z"
   },
   {
    "duration": 136762,
    "start_time": "2022-01-25T09:19:31.775Z"
   },
   {
    "duration": 8,
    "start_time": "2022-01-25T09:22:18.577Z"
   },
   {
    "duration": 34,
    "start_time": "2022-01-25T09:22:20.853Z"
   },
   {
    "duration": 10954,
    "start_time": "2022-01-25T09:22:23.070Z"
   },
   {
    "duration": 4,
    "start_time": "2022-01-25T09:23:00.009Z"
   },
   {
    "duration": 9,
    "start_time": "2022-01-25T09:23:15.047Z"
   },
   {
    "duration": 415807,
    "start_time": "2022-01-25T09:23:22.519Z"
   },
   {
    "duration": 4,
    "start_time": "2022-01-25T09:30:43.027Z"
   },
   {
    "duration": 1086716,
    "start_time": "2022-01-25T09:30:50.342Z"
   },
   {
    "duration": 5,
    "start_time": "2022-01-25T09:49:01.872Z"
   },
   {
    "duration": 103013,
    "start_time": "2022-01-25T09:49:04.000Z"
   },
   {
    "duration": 39,
    "start_time": "2022-01-25T09:51:08.948Z"
   },
   {
    "duration": 6,
    "start_time": "2022-01-25T09:51:15.296Z"
   },
   {
    "duration": 184979,
    "start_time": "2022-01-25T09:51:17.483Z"
   },
   {
    "duration": 26,
    "start_time": "2022-01-25T09:54:34.798Z"
   },
   {
    "duration": 6185,
    "start_time": "2022-01-25T09:57:32.937Z"
   },
   {
    "duration": 774,
    "start_time": "2022-01-25T09:57:47.873Z"
   },
   {
    "duration": 8,
    "start_time": "2022-01-25T09:57:52.723Z"
   },
   {
    "duration": 63,
    "start_time": "2022-01-25T09:57:55.099Z"
   },
   {
    "duration": 6,
    "start_time": "2022-01-25T09:57:57.182Z"
   },
   {
    "duration": 13586,
    "start_time": "2022-01-25T09:58:01.020Z"
   },
   {
    "duration": 144995,
    "start_time": "2022-01-25T09:58:25.042Z"
   },
   {
    "duration": 8,
    "start_time": "2022-01-25T10:00:55.588Z"
   },
   {
    "duration": 34,
    "start_time": "2022-01-25T10:00:58.089Z"
   },
   {
    "duration": 11793,
    "start_time": "2022-01-25T10:01:00.035Z"
   },
   {
    "duration": 7,
    "start_time": "2022-01-25T10:01:19.730Z"
   },
   {
    "duration": 4,
    "start_time": "2022-01-25T10:01:28.301Z"
   },
   {
    "duration": 619550,
    "start_time": "2022-01-25T10:01:32.527Z"
   },
   {
    "duration": 33,
    "start_time": "2022-01-25T10:12:53.366Z"
   },
   {
    "duration": 4,
    "start_time": "2022-01-25T10:13:12.546Z"
   },
   {
    "duration": 796193,
    "start_time": "2022-01-25T10:13:14.588Z"
   },
   {
    "duration": 24,
    "start_time": "2022-01-25T10:29:03.004Z"
   },
   {
    "duration": 6891,
    "start_time": "2022-01-25T10:31:38.233Z"
   },
   {
    "duration": 779,
    "start_time": "2022-01-25T10:31:57.497Z"
   },
   {
    "duration": 9,
    "start_time": "2022-01-25T10:32:11.140Z"
   },
   {
    "duration": 65,
    "start_time": "2022-01-25T10:32:12.981Z"
   },
   {
    "duration": 6,
    "start_time": "2022-01-25T10:32:15.437Z"
   },
   {
    "duration": 12345,
    "start_time": "2022-01-25T10:32:17.548Z"
   },
   {
    "duration": 152442,
    "start_time": "2022-01-25T10:32:38.471Z"
   },
   {
    "duration": 13,
    "start_time": "2022-01-25T10:35:22.871Z"
   },
   {
    "duration": 33,
    "start_time": "2022-01-25T10:35:24.812Z"
   },
   {
    "duration": 12353,
    "start_time": "2022-01-25T10:35:26.586Z"
   },
   {
    "duration": 9,
    "start_time": "2022-01-25T10:35:47.383Z"
   },
   {
    "duration": 2585442,
    "start_time": "2022-01-25T10:35:50.457Z"
   },
   {
    "duration": 24,
    "start_time": "2022-01-25T11:28:46.717Z"
   },
   {
    "duration": 1010749,
    "start_time": "2022-01-25T11:28:51.177Z"
   },
   {
    "duration": 9,
    "start_time": "2022-01-25T11:45:53.279Z"
   },
   {
    "duration": 69,
    "start_time": "2022-01-25T11:45:55.055Z"
   },
   {
    "duration": 6,
    "start_time": "2022-01-25T11:45:56.883Z"
   },
   {
    "duration": 12698,
    "start_time": "2022-01-25T11:46:00.450Z"
   },
   {
    "duration": 133136,
    "start_time": "2022-01-25T11:46:16.488Z"
   },
   {
    "duration": 16,
    "start_time": "2022-01-25T11:48:50.028Z"
   },
   {
    "duration": 7,
    "start_time": "2022-01-25T11:49:01.649Z"
   },
   {
    "duration": 56,
    "start_time": "2022-01-25T11:49:03.377Z"
   },
   {
    "duration": 9559,
    "start_time": "2022-01-25T11:49:04.862Z"
   },
   {
    "duration": 4,
    "start_time": "2022-01-25T11:49:25.019Z"
   },
   {
    "duration": 53938,
    "start_time": "2022-01-25T11:49:26.790Z"
   },
   {
    "duration": 8,
    "start_time": "2022-01-25T11:50:57.100Z"
   },
   {
    "duration": 64,
    "start_time": "2022-01-25T11:50:58.939Z"
   },
   {
    "duration": 5,
    "start_time": "2022-01-25T11:51:00.525Z"
   },
   {
    "duration": 11814,
    "start_time": "2022-01-25T11:51:02.782Z"
   },
   {
    "duration": 135089,
    "start_time": "2022-01-25T11:51:21.275Z"
   },
   {
    "duration": 7,
    "start_time": "2022-01-25T11:55:17.418Z"
   },
   {
    "duration": 58,
    "start_time": "2022-01-25T11:55:19.300Z"
   },
   {
    "duration": 11308,
    "start_time": "2022-01-25T11:55:22.403Z"
   },
   {
    "duration": 49429,
    "start_time": "2022-01-25T11:56:06.443Z"
   },
   {
    "duration": 53140,
    "start_time": "2022-01-25T12:09:04.894Z"
   },
   {
    "duration": 5,
    "start_time": "2022-01-25T12:11:40.633Z"
   },
   {
    "duration": 4713099,
    "start_time": "2022-01-25T12:11:50.858Z"
   },
   {
    "duration": 4,
    "start_time": "2022-01-25T13:30:37.434Z"
   },
   {
    "duration": 1908010,
    "start_time": "2022-01-25T13:30:45.133Z"
   },
   {
    "duration": 8,
    "start_time": "2022-01-25T14:03:31.167Z"
   },
   {
    "duration": 67,
    "start_time": "2022-01-25T14:03:33.300Z"
   },
   {
    "duration": 8,
    "start_time": "2022-01-25T14:04:19.506Z"
   },
   {
    "duration": 13354,
    "start_time": "2022-01-25T14:04:21.253Z"
   },
   {
    "duration": 156199,
    "start_time": "2022-01-25T14:04:39.150Z"
   },
   {
    "duration": 9,
    "start_time": "2022-01-25T14:07:54.484Z"
   },
   {
    "duration": 58,
    "start_time": "2022-01-25T14:07:56.200Z"
   },
   {
    "duration": 11952,
    "start_time": "2022-01-25T14:07:58.481Z"
   },
   {
    "duration": 49810,
    "start_time": "2022-01-25T14:08:50.822Z"
   },
   {
    "duration": 6,
    "start_time": "2022-01-25T14:33:35.262Z"
   },
   {
    "duration": 719,
    "start_time": "2022-01-25T14:34:52.281Z"
   },
   {
    "duration": 2072,
    "start_time": "2022-01-25T14:41:23.973Z"
   },
   {
    "duration": 35,
    "start_time": "2022-01-25T14:41:32.249Z"
   },
   {
    "duration": 1876,
    "start_time": "2022-01-25T14:41:44.172Z"
   },
   {
    "duration": 6,
    "start_time": "2022-01-25T14:42:24.121Z"
   },
   {
    "duration": 4364,
    "start_time": "2022-01-25T14:43:15.046Z"
   },
   {
    "duration": 15561,
    "start_time": "2022-01-25T14:43:44.515Z"
   },
   {
    "duration": 6,
    "start_time": "2022-01-25T14:46:58.544Z"
   },
   {
    "duration": 62,
    "start_time": "2022-01-25T14:47:17.797Z"
   },
   {
    "duration": 7,
    "start_time": "2022-01-25T14:47:21.343Z"
   },
   {
    "duration": 13487,
    "start_time": "2022-01-25T14:47:26.474Z"
   },
   {
    "duration": 50061,
    "start_time": "2022-01-25T14:47:43.504Z"
   },
   {
    "duration": 76,
    "start_time": "2022-01-25T14:48:51.378Z"
   },
   {
    "duration": 16818,
    "start_time": "2022-01-25T14:48:55.254Z"
   },
   {
    "duration": 60035,
    "start_time": "2022-01-25T14:49:14.373Z"
   },
   {
    "duration": 57965,
    "start_time": "2022-01-25T14:50:40.825Z"
   },
   {
    "duration": 99,
    "start_time": "2022-01-25T14:51:56.528Z"
   },
   {
    "duration": 21183,
    "start_time": "2022-01-25T14:51:59.346Z"
   },
   {
    "duration": 78651,
    "start_time": "2022-01-25T14:52:26.494Z"
   },
   {
    "duration": 4,
    "start_time": "2022-01-25T14:55:13.583Z"
   },
   {
    "duration": 9645,
    "start_time": "2022-01-25T15:36:01.381Z"
   },
   {
    "duration": 761,
    "start_time": "2022-01-25T15:36:14.324Z"
   },
   {
    "duration": 9,
    "start_time": "2022-01-25T15:36:18.294Z"
   },
   {
    "duration": 64,
    "start_time": "2022-01-25T15:36:21.028Z"
   },
   {
    "duration": 6,
    "start_time": "2022-01-25T15:36:22.739Z"
   },
   {
    "duration": 11616,
    "start_time": "2022-01-25T15:36:25.587Z"
   },
   {
    "duration": 15,
    "start_time": "2022-01-25T15:36:41.627Z"
   },
   {
    "duration": 173432,
    "start_time": "2022-01-25T15:36:50.541Z"
   },
   {
    "duration": 17,
    "start_time": "2022-01-25T15:39:48.518Z"
   },
   {
    "duration": 4,
    "start_time": "2022-01-25T15:41:12.279Z"
   },
   {
    "duration": 37,
    "start_time": "2022-01-25T15:41:18.145Z"
   },
   {
    "duration": 10791,
    "start_time": "2022-01-25T15:41:28.197Z"
   },
   {
    "duration": 53219,
    "start_time": "2022-01-25T15:41:45.024Z"
   },
   {
    "duration": 6,
    "start_time": "2022-01-25T15:43:31.022Z"
   },
   {
    "duration": 9,
    "start_time": "2022-01-25T15:43:41.040Z"
   },
   {
    "duration": 85,
    "start_time": "2022-01-25T15:43:42.864Z"
   },
   {
    "duration": 12051,
    "start_time": "2022-01-25T15:43:45.844Z"
   },
   {
    "duration": 7,
    "start_time": "2022-01-25T15:44:00.682Z"
   },
   {
    "duration": 25,
    "start_time": "2022-01-25T16:18:29.718Z"
   },
   {
    "duration": 71,
    "start_time": "2022-01-25T16:18:31.228Z"
   },
   {
    "duration": 5,
    "start_time": "2022-01-25T16:18:36.907Z"
   },
   {
    "duration": 11858,
    "start_time": "2022-01-25T16:18:43.583Z"
   },
   {
    "duration": 139612,
    "start_time": "2022-01-25T16:19:23.212Z"
   },
   {
    "duration": 8,
    "start_time": "2022-01-25T16:21:45.971Z"
   },
   {
    "duration": 61,
    "start_time": "2022-01-25T16:21:48.328Z"
   },
   {
    "duration": 49198,
    "start_time": "2022-01-25T16:21:53.840Z"
   },
   {
    "duration": 4,
    "start_time": "2022-01-25T16:28:01.043Z"
   },
   {
    "duration": 121,
    "start_time": "2022-01-25T16:28:02.718Z"
   },
   {
    "duration": 12173,
    "start_time": "2022-01-25T16:28:07.314Z"
   },
   {
    "duration": 48960,
    "start_time": "2022-01-25T16:28:27.772Z"
   },
   {
    "duration": 7,
    "start_time": "2022-01-25T19:03:21.397Z"
   },
   {
    "duration": 837,
    "start_time": "2022-01-25T19:05:10.015Z"
   },
   {
    "duration": 96,
    "start_time": "2022-01-25T19:05:58.295Z"
   },
   {
    "duration": 5,
    "start_time": "2022-01-25T19:06:01.493Z"
   },
   {
    "duration": 799,
    "start_time": "2022-01-25T19:06:30.238Z"
   },
   {
    "duration": 7,
    "start_time": "2022-01-25T19:09:10.021Z"
   },
   {
    "duration": 4,
    "start_time": "2022-01-25T19:09:26.470Z"
   },
   {
    "duration": 4,
    "start_time": "2022-01-25T19:10:27.450Z"
   },
   {
    "duration": 1210,
    "start_time": "2022-01-25T19:10:36.814Z"
   },
   {
    "duration": 8,
    "start_time": "2022-01-25T19:12:28.182Z"
   },
   {
    "duration": 4,
    "start_time": "2022-01-25T19:12:42.809Z"
   },
   {
    "duration": 761,
    "start_time": "2022-01-25T19:12:45.430Z"
   },
   {
    "duration": 5,
    "start_time": "2022-01-25T19:13:21.401Z"
   },
   {
    "duration": 31,
    "start_time": "2022-01-25T19:13:27.772Z"
   },
   {
    "duration": 6,
    "start_time": "2022-01-25T19:13:54.285Z"
   },
   {
    "duration": 12,
    "start_time": "2022-01-25T19:14:02.319Z"
   },
   {
    "duration": 6,
    "start_time": "2022-01-25T19:14:06.470Z"
   },
   {
    "duration": 5,
    "start_time": "2022-01-25T19:15:39.208Z"
   },
   {
    "duration": 918,
    "start_time": "2022-01-25T19:15:42.510Z"
   },
   {
    "duration": 7,
    "start_time": "2022-01-25T19:16:41.387Z"
   },
   {
    "duration": 5,
    "start_time": "2022-01-25T19:16:47.195Z"
   },
   {
    "duration": 735,
    "start_time": "2022-01-25T19:16:48.981Z"
   },
   {
    "duration": 5,
    "start_time": "2022-01-25T19:17:04.490Z"
   },
   {
    "duration": 4,
    "start_time": "2022-01-25T19:17:06.406Z"
   },
   {
    "duration": 6,
    "start_time": "2022-01-25T19:17:08.354Z"
   },
   {
    "duration": 7,
    "start_time": "2022-01-25T19:17:12.374Z"
   },
   {
    "duration": 4,
    "start_time": "2022-01-25T19:17:14.244Z"
   },
   {
    "duration": 784,
    "start_time": "2022-01-25T19:17:16.307Z"
   },
   {
    "duration": 5,
    "start_time": "2022-01-25T19:17:44.359Z"
   },
   {
    "duration": 5,
    "start_time": "2022-01-25T19:17:46.444Z"
   },
   {
    "duration": 8,
    "start_time": "2022-01-25T19:17:48.097Z"
   },
   {
    "duration": 6,
    "start_time": "2022-01-25T19:18:25.246Z"
   },
   {
    "duration": 6,
    "start_time": "2022-01-25T19:18:27.097Z"
   },
   {
    "duration": 6,
    "start_time": "2022-01-25T19:18:28.888Z"
   },
   {
    "duration": 5,
    "start_time": "2022-01-25T19:18:41.553Z"
   },
   {
    "duration": 4,
    "start_time": "2022-01-25T19:18:43.321Z"
   },
   {
    "duration": 642,
    "start_time": "2022-01-25T19:18:45.230Z"
   },
   {
    "duration": 6,
    "start_time": "2022-01-25T19:21:12.221Z"
   },
   {
    "duration": 5,
    "start_time": "2022-01-25T19:21:14.378Z"
   },
   {
    "duration": 33,
    "start_time": "2022-01-25T19:21:15.829Z"
   },
   {
    "duration": 7,
    "start_time": "2022-01-25T19:21:26.656Z"
   },
   {
    "duration": 5,
    "start_time": "2022-01-25T19:21:28.537Z"
   },
   {
    "duration": 4,
    "start_time": "2022-01-25T19:21:30.276Z"
   },
   {
    "duration": 9,
    "start_time": "2022-01-25T19:22:13.754Z"
   },
   {
    "duration": 4,
    "start_time": "2022-01-25T19:22:15.676Z"
   },
   {
    "duration": 742,
    "start_time": "2022-01-25T19:22:18.071Z"
   },
   {
    "duration": 13167,
    "start_time": "2022-01-25T19:23:57.052Z"
   },
   {
    "duration": 6,
    "start_time": "2022-01-25T19:24:13.694Z"
   },
   {
    "duration": 4,
    "start_time": "2022-01-25T19:24:15.867Z"
   },
   {
    "duration": 1540,
    "start_time": "2022-01-25T19:24:17.722Z"
   },
   {
    "duration": 4,
    "start_time": "2022-01-25T19:25:22.272Z"
   },
   {
    "duration": 1888,
    "start_time": "2022-01-25T19:25:24.645Z"
   },
   {
    "duration": 5,
    "start_time": "2022-01-25T19:26:31.768Z"
   },
   {
    "duration": 6,
    "start_time": "2022-01-25T19:33:08.936Z"
   },
   {
    "duration": 4,
    "start_time": "2022-01-25T19:33:11.020Z"
   },
   {
    "duration": 629,
    "start_time": "2022-01-25T19:33:13.178Z"
   },
   {
    "duration": 7,
    "start_time": "2022-01-25T19:33:47.496Z"
   },
   {
    "duration": 63,
    "start_time": "2022-01-25T19:33:49.403Z"
   },
   {
    "duration": 5,
    "start_time": "2022-01-25T19:33:55.432Z"
   },
   {
    "duration": 11983,
    "start_time": "2022-01-25T19:33:57.967Z"
   },
   {
    "duration": 139751,
    "start_time": "2022-01-25T19:34:14.312Z"
   },
   {
    "duration": 6,
    "start_time": "2022-01-25T19:36:38.511Z"
   },
   {
    "duration": 125,
    "start_time": "2022-01-25T19:36:43.075Z"
   },
   {
    "duration": 11235,
    "start_time": "2022-01-25T19:36:50.071Z"
   },
   {
    "duration": 5,
    "start_time": "2022-01-25T19:37:05.236Z"
   },
   {
    "duration": 4,
    "start_time": "2022-01-25T19:37:07.784Z"
   },
   {
    "duration": 652,
    "start_time": "2022-01-25T19:37:11.471Z"
   },
   {
    "duration": 382,
    "start_time": "2022-01-25T19:37:42.729Z"
   },
   {
    "duration": 4,
    "start_time": "2022-01-25T19:37:57.006Z"
   },
   {
    "duration": 6,
    "start_time": "2022-01-25T19:39:13.777Z"
   },
   {
    "duration": 5,
    "start_time": "2022-01-25T19:39:15.880Z"
   },
   {
    "duration": 49183,
    "start_time": "2022-01-25T19:39:17.338Z"
   },
   {
    "duration": 7,
    "start_time": "2022-01-25T19:40:26.929Z"
   },
   {
    "duration": 4,
    "start_time": "2022-01-25T19:40:31.678Z"
   },
   {
    "duration": 48724,
    "start_time": "2022-01-25T19:40:33.585Z"
   },
   {
    "duration": 49559,
    "start_time": "2022-01-25T19:41:50.662Z"
   },
   {
    "duration": 4,
    "start_time": "2022-01-25T19:42:52.873Z"
   },
   {
    "duration": 49711,
    "start_time": "2022-01-25T19:42:54.783Z"
   },
   {
    "duration": 5,
    "start_time": "2022-01-25T19:43:54.778Z"
   },
   {
    "duration": 11,
    "start_time": "2022-01-25T19:43:56.505Z"
   },
   {
    "duration": 219,
    "start_time": "2022-01-25T19:44:59.907Z"
   },
   {
    "duration": 5,
    "start_time": "2022-01-25T19:47:27.930Z"
   },
   {
    "duration": 5,
    "start_time": "2022-01-25T19:47:49.149Z"
   },
   {
    "duration": 371327,
    "start_time": "2022-01-25T19:47:50.945Z"
   },
   {
    "duration": 4,
    "start_time": "2022-01-25T19:54:03.947Z"
   },
   {
    "duration": 751999,
    "start_time": "2022-01-25T19:54:05.787Z"
   },
   {
    "duration": 14410,
    "start_time": "2022-01-25T20:06:39.704Z"
   },
   {
    "duration": 89,
    "start_time": "2022-01-25T20:06:55.350Z"
   },
   {
    "duration": 883632,
    "start_time": "2022-01-25T20:07:00.145Z"
   },
   {
    "duration": 5,
    "start_time": "2022-01-25T20:23:10.701Z"
   },
   {
    "duration": 13,
    "start_time": "2022-01-25T20:23:12.326Z"
   },
   {
    "duration": 5,
    "start_time": "2022-01-25T20:23:23.796Z"
   },
   {
    "duration": 4859,
    "start_time": "2022-01-25T20:23:25.987Z"
   },
   {
    "duration": 6,
    "start_time": "2022-01-25T20:30:37.606Z"
   },
   {
    "duration": 4,
    "start_time": "2022-01-25T20:30:40.844Z"
   },
   {
    "duration": 59423,
    "start_time": "2022-01-25T20:30:45.602Z"
   },
   {
    "duration": 7,
    "start_time": "2022-01-25T20:32:15.672Z"
   },
   {
    "duration": 4,
    "start_time": "2022-01-25T20:32:19.053Z"
   },
   {
    "duration": 7,
    "start_time": "2022-01-25T20:32:20.830Z"
   },
   {
    "duration": 3,
    "start_time": "2022-01-25T20:33:19.612Z"
   },
   {
    "duration": 5,
    "start_time": "2022-01-25T20:33:28.178Z"
   },
   {
    "duration": 6,
    "start_time": "2022-01-25T20:42:01.728Z"
   },
   {
    "duration": 5,
    "start_time": "2022-01-25T20:42:06.530Z"
   },
   {
    "duration": 6218,
    "start_time": "2022-01-25T20:53:48.162Z"
   },
   {
    "duration": 1081,
    "start_time": "2022-01-25T20:53:58.312Z"
   },
   {
    "duration": 8,
    "start_time": "2022-01-25T20:54:03.037Z"
   },
   {
    "duration": 65,
    "start_time": "2022-01-25T20:54:04.704Z"
   },
   {
    "duration": 5,
    "start_time": "2022-01-25T20:54:06.218Z"
   },
   {
    "duration": 11513,
    "start_time": "2022-01-25T20:54:10.198Z"
   },
   {
    "duration": 139027,
    "start_time": "2022-01-25T20:54:27.832Z"
   },
   {
    "duration": 9,
    "start_time": "2022-01-25T20:57:04.064Z"
   },
   {
    "duration": 107,
    "start_time": "2022-01-25T20:57:05.752Z"
   },
   {
    "duration": 10970,
    "start_time": "2022-01-25T20:57:07.415Z"
   },
   {
    "duration": 6,
    "start_time": "2022-01-25T20:57:22.008Z"
   },
   {
    "duration": 3,
    "start_time": "2022-01-25T20:57:24.649Z"
   },
   {
    "duration": 4,
    "start_time": "2022-01-25T20:57:27.239Z"
   },
   {
    "duration": 8570,
    "start_time": "2022-01-25T21:35:54.908Z"
   },
   {
    "duration": 767,
    "start_time": "2022-01-25T21:36:06.805Z"
   },
   {
    "duration": 9,
    "start_time": "2022-01-25T21:36:11.696Z"
   },
   {
    "duration": 65,
    "start_time": "2022-01-25T21:36:13.491Z"
   },
   {
    "duration": 5,
    "start_time": "2022-01-25T21:36:14.968Z"
   },
   {
    "duration": 11719,
    "start_time": "2022-01-25T21:37:01.903Z"
   },
   {
    "duration": 135913,
    "start_time": "2022-01-25T21:37:15.893Z"
   },
   {
    "duration": 9,
    "start_time": "2022-01-25T21:39:44.336Z"
   },
   {
    "duration": 102,
    "start_time": "2022-01-25T21:39:45.982Z"
   },
   {
    "duration": 10729,
    "start_time": "2022-01-25T21:39:47.835Z"
   },
   {
    "duration": 7,
    "start_time": "2022-01-25T21:43:02.424Z"
   },
   {
    "duration": 3,
    "start_time": "2022-01-25T21:43:04.860Z"
   },
   {
    "duration": 5,
    "start_time": "2022-01-25T21:43:12.915Z"
   },
   {
    "duration": 5936,
    "start_time": "2022-01-25T21:53:21.825Z"
   },
   {
    "duration": 809,
    "start_time": "2022-01-25T21:53:31.183Z"
   },
   {
    "duration": 9,
    "start_time": "2022-01-25T21:53:35.106Z"
   },
   {
    "duration": 67,
    "start_time": "2022-01-25T21:53:37.362Z"
   },
   {
    "duration": 5,
    "start_time": "2022-01-25T21:53:39.830Z"
   },
   {
    "duration": 12617,
    "start_time": "2022-01-25T21:53:44.022Z"
   },
   {
    "duration": 136235,
    "start_time": "2022-01-25T21:54:15.955Z"
   },
   {
    "duration": 8,
    "start_time": "2022-01-25T21:56:51.802Z"
   },
   {
    "duration": 99,
    "start_time": "2022-01-25T21:56:53.357Z"
   },
   {
    "duration": 11034,
    "start_time": "2022-01-25T21:56:56.225Z"
   },
   {
    "duration": 8,
    "start_time": "2022-01-25T21:57:14.862Z"
   },
   {
    "duration": 5,
    "start_time": "2022-01-25T21:57:17.998Z"
   },
   {
    "duration": 1597434,
    "start_time": "2022-01-25T21:57:21.443Z"
   },
   {
    "duration": 6198,
    "start_time": "2022-01-26T06:15:20.635Z"
   },
   {
    "duration": 11789,
    "start_time": "2022-01-26T06:15:30.362Z"
   },
   {
    "duration": 6,
    "start_time": "2022-01-26T06:15:46.998Z"
   },
   {
    "duration": 49,
    "start_time": "2022-01-26T06:15:50.781Z"
   },
   {
    "duration": 3,
    "start_time": "2022-01-26T06:15:53.003Z"
   },
   {
    "duration": 6534,
    "start_time": "2022-01-26T06:15:57.463Z"
   },
   {
    "duration": 74699,
    "start_time": "2022-01-26T06:16:07.465Z"
   },
   {
    "duration": 12,
    "start_time": "2022-01-26T06:17:26.523Z"
   },
   {
    "duration": 3,
    "start_time": "2022-01-26T06:17:38.471Z"
   },
   {
    "duration": 71,
    "start_time": "2022-01-26T06:17:41.314Z"
   },
   {
    "duration": 6332,
    "start_time": "2022-01-26T06:17:43.531Z"
   },
   {
    "duration": 4,
    "start_time": "2022-01-26T06:19:38.368Z"
   },
   {
    "duration": 2,
    "start_time": "2022-01-26T06:19:40.875Z"
   },
   {
    "duration": 4,
    "start_time": "2022-01-26T06:19:58.512Z"
   },
   {
    "duration": 83417,
    "start_time": "2022-01-26T06:20:00.970Z"
   },
   {
    "duration": 3,
    "start_time": "2022-01-26T06:21:36.102Z"
   },
   {
    "duration": 5239018,
    "start_time": "2022-01-26T06:21:38.518Z"
   },
   {
    "duration": 54,
    "start_time": "2022-01-26T07:48:57.485Z"
   },
   {
    "duration": 6,
    "start_time": "2022-01-26T07:49:01.204Z"
   },
   {
    "duration": 3,
    "start_time": "2022-01-26T07:49:05.656Z"
   },
   {
    "duration": 4,
    "start_time": "2022-01-26T07:49:10.076Z"
   },
   {
    "duration": 3123230,
    "start_time": "2022-01-26T07:49:12.702Z"
   },
   {
    "duration": 3,
    "start_time": "2022-01-26T08:43:38.415Z"
   },
   {
    "duration": 7,
    "start_time": "2022-01-26T08:43:40.069Z"
   },
   {
    "duration": 274,
    "start_time": "2022-01-26T08:44:02.460Z"
   },
   {
    "duration": 282,
    "start_time": "2022-01-26T08:44:10.713Z"
   },
   {
    "duration": 263,
    "start_time": "2022-01-26T08:44:37.009Z"
   },
   {
    "duration": 275,
    "start_time": "2022-01-26T08:44:41.004Z"
   },
   {
    "duration": 249,
    "start_time": "2022-01-26T08:45:16.476Z"
   },
   {
    "duration": 3,
    "start_time": "2022-01-26T08:45:20.679Z"
   },
   {
    "duration": 2091546,
    "start_time": "2022-01-26T08:45:22.889Z"
   },
   {
    "duration": 3,
    "start_time": "2022-01-26T09:24:15.448Z"
   },
   {
    "duration": 9,
    "start_time": "2022-01-26T09:24:17.199Z"
   },
   {
    "duration": 2217,
    "start_time": "2022-01-26T09:24:30.197Z"
   },
   {
    "duration": 3,
    "start_time": "2022-01-26T09:24:34.624Z"
   },
   {
    "duration": 3,
    "start_time": "2022-01-26T09:24:36.531Z"
   },
   {
    "duration": 314,
    "start_time": "2022-01-26T09:24:38.939Z"
   },
   {
    "duration": 262,
    "start_time": "2022-01-26T09:24:58.039Z"
   },
   {
    "duration": 6219,
    "start_time": "2022-01-26T09:47:44.648Z"
   },
   {
    "duration": 9919,
    "start_time": "2022-01-26T09:47:53.633Z"
   },
   {
    "duration": 6,
    "start_time": "2022-01-26T09:48:06.373Z"
   },
   {
    "duration": 51,
    "start_time": "2022-01-26T09:48:08.325Z"
   },
   {
    "duration": 3,
    "start_time": "2022-01-26T09:48:09.815Z"
   },
   {
    "duration": 6510,
    "start_time": "2022-01-26T09:48:11.983Z"
   },
   {
    "duration": 78625,
    "start_time": "2022-01-26T09:48:20.193Z"
   },
   {
    "duration": 5,
    "start_time": "2022-01-26T09:53:22.198Z"
   },
   {
    "duration": 73,
    "start_time": "2022-01-26T09:53:24.225Z"
   },
   {
    "duration": 6244,
    "start_time": "2022-01-26T09:53:26.574Z"
   },
   {
    "duration": 579,
    "start_time": "2022-01-26T09:54:13.153Z"
   },
   {
    "duration": 2313,
    "start_time": "2022-01-26T09:54:18.459Z"
   },
   {
    "duration": 320,
    "start_time": "2022-01-26T09:54:24.972Z"
   }
  ],
  "kernelspec": {
   "display_name": "Python 3",
   "language": "python",
   "name": "python3"
  },
  "language_info": {
   "codemirror_mode": {
    "name": "ipython",
    "version": 3
   },
   "file_extension": ".py",
   "mimetype": "text/x-python",
   "name": "python",
   "nbconvert_exporter": "python",
   "pygments_lexer": "ipython3",
   "version": "3.8.8"
  },
  "toc": {
   "base_numbering": 1,
   "nav_menu": {},
   "number_sections": true,
   "sideBar": true,
   "skip_h1_title": true,
   "title_cell": "Содержание",
   "title_sidebar": "Contents",
   "toc_cell": true,
   "toc_position": {
    "height": "calc(100% - 180px)",
    "left": "10px",
    "top": "150px",
    "width": "165px"
   },
   "toc_section_display": true,
   "toc_window_display": true
  }
 },
 "nbformat": 4,
 "nbformat_minor": 2
}
