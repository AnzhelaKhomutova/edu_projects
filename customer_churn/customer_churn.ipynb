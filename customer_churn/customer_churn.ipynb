{
 "cells": [
  {
   "cell_type": "markdown",
   "metadata": {},
   "source": [
    "## Подготовка данных"
   ]
  },
  {
   "cell_type": "code",
   "execution_count": 1,
   "metadata": {},
   "outputs": [
    {
     "name": "stdout",
     "output_type": "stream",
     "text": [
      "<class 'pandas.core.frame.DataFrame'>\n",
      "RangeIndex: 10000 entries, 0 to 9999\n",
      "Data columns (total 14 columns):\n",
      "RowNumber          10000 non-null int64\n",
      "CustomerId         10000 non-null int64\n",
      "Surname            10000 non-null object\n",
      "CreditScore        10000 non-null int64\n",
      "Geography          10000 non-null object\n",
      "Gender             10000 non-null object\n",
      "Age                10000 non-null int64\n",
      "Tenure             9091 non-null float64\n",
      "Balance            10000 non-null float64\n",
      "NumOfProducts      10000 non-null int64\n",
      "HasCrCard          10000 non-null int64\n",
      "IsActiveMember     10000 non-null int64\n",
      "EstimatedSalary    10000 non-null float64\n",
      "Exited             10000 non-null int64\n",
      "dtypes: float64(3), int64(8), object(3)\n",
      "memory usage: 1.1+ MB\n"
     ]
    }
   ],
   "source": [
    "import pandas as pd\n",
    "import numpy as np\n",
    "import matplotlib.pyplot as plt\n",
    "import seaborn as sns\n",
    "\n",
    "from sklearn.model_selection import train_test_split\n",
    "from sklearn.model_selection import GridSearchCV\n",
    "\n",
    "from sklearn.preprocessing import StandardScaler\n",
    "\n",
    "from sklearn.metrics import f1_score\n",
    "from sklearn.metrics import precision_score, recall_score\n",
    "from sklearn.metrics import roc_curve\n",
    "from sklearn.metrics import roc_auc_score\n",
    "from sklearn.metrics import accuracy_score\n",
    "from sklearn.metrics import classification_report\n",
    "\n",
    "from sklearn.linear_model import LogisticRegression\n",
    "from sklearn.tree import DecisionTreeClassifier\n",
    "from sklearn.ensemble import RandomForestClassifier\n",
    "from sklearn.dummy import DummyClassifier\n",
    "\n",
    "from sklearn.utils import shuffle\n",
    "\n",
    "import warnings \n",
    "warnings.filterwarnings('ignore')\n",
    "\n",
    "data = pd.read_csv('/datasets/Churn.csv')\n",
    "data.info()"
   ]
  },
  {
   "cell_type": "markdown",
   "metadata": {},
   "source": [
    "Всего 10000 строк.\n",
    "Признак \"Tenure\" имеет Null-значения."
   ]
  },
  {
   "cell_type": "code",
   "execution_count": 2,
   "metadata": {},
   "outputs": [
    {
     "name": "stdout",
     "output_type": "stream",
     "text": [
      "count    9091.000000\n",
      "mean        4.997690\n",
      "std         2.894723\n",
      "min         0.000000\n",
      "25%         2.000000\n",
      "50%         5.000000\n",
      "75%         7.000000\n",
      "max        10.000000\n",
      "Name: Tenure, dtype: float64\n",
      "Какой процент выборки составляют NULL-значения в признаке Tenure 9.09%\n"
     ]
    }
   ],
   "source": [
    "print(data['Tenure'].describe())\n",
    "print(\"Какой процент выборки составляют NULL-значения в признаке Tenure {:.2%}\".format(len(data[pd.isna(data['Tenure'])])/len(data)))"
   ]
  },
  {
   "cell_type": "markdown",
   "metadata": {},
   "source": [
    "в принципе, всего 9% составляют NULL-значения в признаке Tenure, можно удалить их, можно заменить медианным значением, я выбираю удалить"
   ]
  },
  {
   "cell_type": "code",
   "execution_count": 12,
   "metadata": {},
   "outputs": [],
   "source": [
    "data = data.dropna()"
   ]
  },
  {
   "cell_type": "code",
   "execution_count": 13,
   "metadata": {},
   "outputs": [
    {
     "name": "stdout",
     "output_type": "stream",
     "text": [
      "<class 'pandas.core.frame.DataFrame'>\n",
      "Int64Index: 9091 entries, 0 to 9998\n",
      "Data columns (total 14 columns):\n",
      "RowNumber          9091 non-null int64\n",
      "CustomerId         9091 non-null int64\n",
      "Surname            9091 non-null object\n",
      "CreditScore        9091 non-null int64\n",
      "Geography          9091 non-null object\n",
      "Gender             9091 non-null object\n",
      "Age                9091 non-null int64\n",
      "Tenure             9091 non-null float64\n",
      "Balance            9091 non-null float64\n",
      "NumOfProducts      9091 non-null int64\n",
      "HasCrCard          9091 non-null int64\n",
      "IsActiveMember     9091 non-null int64\n",
      "EstimatedSalary    9091 non-null float64\n",
      "Exited             9091 non-null int64\n",
      "dtypes: float64(3), int64(8), object(3)\n",
      "memory usage: 1.0+ MB\n",
      "None\n"
     ]
    }
   ],
   "source": [
    "print(data.info())"
   ]
  },
  {
   "cell_type": "markdown",
   "metadata": {},
   "source": [
    "обработали Null-значения в Tenure"
   ]
  },
  {
   "cell_type": "code",
   "execution_count": 14,
   "metadata": {},
   "outputs": [
    {
     "name": "stdout",
     "output_type": "stream",
     "text": [
      "      RowNumber  CustomerId Surname  CreditScore Geography  Gender  Age  \\\n",
      "8864       8865    15599124  Miller          832    France  Female   29   \n",
      "6093       6094    15742126    Chiu          712   Germany    Male   38   \n",
      "5964       5965    15802220  Ikenna          599     Spain    Male   35   \n",
      "7908       7909    15579287   Rossi          581    France    Male   35   \n",
      "6428       6429    15577423  Mosley          627   Germany  Female   39   \n",
      "\n",
      "      Tenure    Balance  NumOfProducts  HasCrCard  IsActiveMember  \\\n",
      "8864     5.0       0.00              2          1               0   \n",
      "6093     7.0  132767.66              2          1               1   \n",
      "5964     6.0  137102.65              1          0               0   \n",
      "7908     4.0       0.00              2          0               1   \n",
      "6428     5.0  124586.93              1          1               0   \n",
      "\n",
      "      EstimatedSalary  Exited  \n",
      "8864        178779.52       0  \n",
      "6093         59115.77       0  \n",
      "5964         76870.81       0  \n",
      "7908         86383.82       0  \n",
      "6428         93132.61       1  \n"
     ]
    }
   ],
   "source": [
    "print(data.sample(5))"
   ]
  },
  {
   "cell_type": "code",
   "execution_count": 15,
   "metadata": {},
   "outputs": [
    {
     "name": "stdout",
     "output_type": "stream",
     "text": [
      "France     4550\n",
      "Germany    2293\n",
      "Spain      2248\n",
      "Name: Geography, dtype: int64\n",
      "count    9091.000000\n",
      "mean       38.949181\n",
      "std        10.555581\n",
      "min        18.000000\n",
      "25%        32.000000\n",
      "50%        37.000000\n",
      "75%        44.000000\n",
      "max        92.000000\n",
      "Name: Age, dtype: float64\n",
      "count    9091.000000\n",
      "mean        1.530195\n",
      "std         0.581003\n",
      "min         1.000000\n",
      "25%         1.000000\n",
      "50%         1.000000\n",
      "75%         2.000000\n",
      "max         4.000000\n",
      "Name: NumOfProducts, dtype: float64\n"
     ]
    }
   ],
   "source": [
    "print(data['Geography'].value_counts())\n",
    "print(data['Age'].describe())\n",
    "print(data['NumOfProducts'].describe())"
   ]
  },
  {
   "cell_type": "markdown",
   "metadata": {},
   "source": [
    "Нам представлены данные о клиентах банка (которые уже ушли из банка и которые еще пользуются банковскими продуктами). Возраст клиентов от 18 до 92 лет.\n",
    "Эти клиенты территориально проживают во Франции, Германии, Испании. Средний возраст клиента 38 лет.\n",
    "Клиенты пользуются (пользовались) от 1 до 4 банковских продуктов, в среднем каждый клиент пользуется (пользовался) 1 банковским продуктом."
   ]
  },
  {
   "cell_type": "markdown",
   "metadata": {},
   "source": [
    "## Исследование задачи"
   ]
  },
  {
   "cell_type": "markdown",
   "metadata": {},
   "source": [
    "Для того, чтобы определить уйдет ли клиент из банка или нет, нам не нужны признаки:\n",
    "<ul>\n",
    " <li>RowNumber — индекс строки в данных </li>\n",
    " <li>CustomerId — уникальный идентификатор клиента </li>\n",
    " <li>Surname — фамилия</li>\n",
    "</ul>\n",
    "Удалим их"
   ]
  },
  {
   "cell_type": "code",
   "execution_count": 16,
   "metadata": {},
   "outputs": [],
   "source": [
    "data = data.drop(['RowNumber','CustomerId','Surname'], axis=1)"
   ]
  },
  {
   "cell_type": "markdown",
   "metadata": {},
   "source": [
    "Так как выборка содержит категориальные признаки - Geography и Gender, то их нужно перекодировать в числовые данные.\n",
    "Будем использовать технику прямого кодирования, укажем drop_first=True (чтобы уменьшить фиктивный столбец)"
   ]
  },
  {
   "cell_type": "code",
   "execution_count": 17,
   "metadata": {},
   "outputs": [
    {
     "name": "stdout",
     "output_type": "stream",
     "text": [
      "      CreditScore  Age  Tenure    Balance  NumOfProducts  HasCrCard  \\\n",
      "8029          671   50     8.0       0.00              1          0   \n",
      "1602          571   42     4.0  108825.34              3          1   \n",
      "1781          793   36     0.0       0.00              1          0   \n",
      "1078          677   41     8.0  146720.98              2          1   \n",
      "8775          807   37    10.0  130110.45              2          0   \n",
      "\n",
      "      IsActiveMember  EstimatedSalary  Exited  Geography_Germany  \\\n",
      "8029               1          2560.11       0                  0   \n",
      "1602               0         55558.51       1                  0   \n",
      "1781               0        148993.47       0                  0   \n",
      "1078               1          4195.84       0                  1   \n",
      "8775               1        172097.95       0                  1   \n",
      "\n",
      "      Geography_Spain  Gender_Male  \n",
      "8029                1            1  \n",
      "1602                0            0  \n",
      "1781                1            0  \n",
      "1078                0            0  \n",
      "8775                0            1  \n"
     ]
    }
   ],
   "source": [
    "data = pd.get_dummies(data, drop_first=True)\n",
    "print(data.sample(5))"
   ]
  },
  {
   "cell_type": "markdown",
   "metadata": {},
   "source": [
    "Выделим признаки и целевой признак.\n",
    "\n",
    "Разделим выборку на обучающую, валидационную, тестовую в отношении 60%,20%,20% соответственно"
   ]
  },
  {
   "cell_type": "code",
   "execution_count": 18,
   "metadata": {},
   "outputs": [
    {
     "name": "stdout",
     "output_type": "stream",
     "text": [
      "Обучающая выборка = 60.0%\n",
      "Валидационная выборка = 20.0%\n",
      "Тестовая выборка = 20.0%\n"
     ]
    }
   ],
   "source": [
    "target = data['Exited']\n",
    "features = data.drop('Exited', axis=1)\n",
    "\n",
    "features_train, features_valid, target_train, target_valid = train_test_split(features, target, test_size=0.4, random_state=12345,stratify=target)\n",
    "features_valid, features_test,target_valid, target_test = train_test_split(features_valid, target_valid, test_size=0.5, random_state=12345,stratify=target_valid)\n",
    "\n",
    "print(\"Обучающая выборка = {:.1%}\".format(len(features_train)/len(data)))\n",
    "print(\"Валидационная выборка = {:.1%}\".format(len(features_valid)/len(data)))\n",
    "print(\"Тестовая выборка = {:.1%}\".format(len(features_test)/len(data)))"
   ]
  },
  {
   "cell_type": "markdown",
   "metadata": {},
   "source": [
    "Проведем маштабирование численных признаков отдельно обучающей, валидационной, тестовой выборки, которые имеют сильный разброс:\n",
    "<ul>\n",
    " <li>CreditScore — кредитный рейтинг </li>\n",
    " <li>Age — возраст</li>\n",
    " <li>Tenure — сколько лет человек является клиентом банка</li>\n",
    " <li>Balance — баланс на счёте</li>   \n",
    " <li>NumOfProducts — количество продуктов банка, используемых клиентом</li>    \n",
    " <li>EstimatedSalary — предполагаемая зарплата</li>    \n",
    "</ul>\n",
    "\n",
    "Признаки:\n",
    "<ul>\n",
    " <li>Gender — пол </li>\n",
    " <li>HasCrCard — наличие кредитной карты</li>\n",
    " <li>IsActiveMember — активность клиента</li>   \n",
    "</ul>\n",
    "\n",
    "маштабировать не будем, потому что их значения составляют только 0 и 1."
   ]
  },
  {
   "cell_type": "code",
   "execution_count": 19,
   "metadata": {},
   "outputs": [],
   "source": [
    "numeric = ['CreditScore','Age','Tenure','Balance','NumOfProducts','EstimatedSalary']"
   ]
  },
  {
   "cell_type": "code",
   "execution_count": 20,
   "metadata": {},
   "outputs": [
    {
     "name": "stdout",
     "output_type": "stream",
     "text": [
      "      CreditScore       Age    Tenure   Balance  NumOfProducts  HasCrCard  \\\n",
      "2247    -0.574195  0.202723 -1.053112  1.000158      -0.910943          0   \n",
      "4361     1.363178  0.874386  1.382122  0.102374      -0.910943          1   \n",
      "831      0.602811  0.202723 -0.009440 -1.222967      -0.910943          0   \n",
      "\n",
      "      IsActiveMember  EstimatedSalary  Geography_Germany  Geography_Spain  \\\n",
      "2247               1         0.219337                  1                0   \n",
      "4361               0         0.435729                  1                0   \n",
      "831                1         0.996795                  0                1   \n",
      "\n",
      "      Gender_Male  \n",
      "2247            0  \n",
      "4361            0  \n",
      "831             0  \n"
     ]
    }
   ],
   "source": [
    "scaler = StandardScaler()\n",
    "\n",
    "scaler.fit(features_train[numeric]) \n",
    "\n",
    "features_train[numeric] = scaler.transform(features_train[numeric])\n",
    "features_valid[numeric] = scaler.transform(features_valid[numeric])\n",
    "features_test[numeric] = scaler.transform(features_test[numeric])\n",
    "\n",
    "print(features_train.sample(3))"
   ]
  },
  {
   "cell_type": "markdown",
   "metadata": {},
   "source": [
    "## Борьба с дисбалансом"
   ]
  },
  {
   "cell_type": "markdown",
   "metadata": {},
   "source": [
    "### Оценка несбалансированной модели"
   ]
  },
  {
   "cell_type": "markdown",
   "metadata": {},
   "source": [
    "Проверим основные параметры на несбалансированной модели\n",
    "\n",
    "Напишем функцию, чтобы проще было работать"
   ]
  },
  {
   "cell_type": "code",
   "execution_count": 21,
   "metadata": {},
   "outputs": [],
   "source": [
    "def metrics(model, features, target):\n",
    "    score1 = model.score(features, target)\n",
    "    predict = model.predict(features) \n",
    "    f_1 = f1_score(target,predict)\n",
    "    precision_score1 = precision_score(target,predict)\n",
    "    recall_score1 = recall_score(target,predict)\n",
    "\n",
    "    probabilities_valid = model.predict_proba(features)\n",
    "    probabilities_one_valid = probabilities_valid[:, 1]\n",
    "    auc = roc_auc_score(target, probabilities_one_valid)\n",
    "    \n",
    "    return score1,f_1,auc,precision_score1,recall_score1"
   ]
  },
  {
   "cell_type": "code",
   "execution_count": 22,
   "metadata": {},
   "outputs": [],
   "source": [
    "def print_metrics(array):\n",
    "    print(\"score = {:.4}\".format(array[0]))\n",
    "    print(\"f1 = {:.4}\".format(array[1]))\n",
    "    print(\"auc = {:.4}\".format(array[2]))\n",
    "    print(\"precision = {:.4}\".format(array[3]))\n",
    "    print(\"recall = {:.4}\".format(array[4]))  "
   ]
  },
  {
   "cell_type": "markdown",
   "metadata": {},
   "source": [
    "#### Логистическая регрессия"
   ]
  },
  {
   "cell_type": "code",
   "execution_count": 23,
   "metadata": {},
   "outputs": [
    {
     "name": "stdout",
     "output_type": "stream",
     "text": [
      "Валидационная выборка\n",
      "score = 0.8152\n",
      "f1 = 0.3307\n",
      "auc = 0.7893\n",
      "precision = 0.6336\n",
      "recall = 0.2237\n",
      "\n",
      "Тестовая выборка\n",
      "score = 0.8158\n",
      "f1 = 0.352\n",
      "auc = 0.7744\n",
      "precision = 0.6233\n",
      "recall = 0.2453\n"
     ]
    }
   ],
   "source": [
    "model_LogisticRegression = LogisticRegression(solver='liblinear')\n",
    "model_LogisticRegression.fit(features_train, target_train)\n",
    "\n",
    "\n",
    "print('Валидационная выборка')\n",
    "print_metrics(metrics(model_LogisticRegression,features_valid, target_valid))\n",
    "\n",
    "print('')\n",
    "\n",
    "print('Тестовая выборка')\n",
    "print_metrics(metrics(model_LogisticRegression,features_test, target_test))"
   ]
  },
  {
   "cell_type": "code",
   "execution_count": 25,
   "metadata": {},
   "outputs": [
    {
     "name": "stdout",
     "output_type": "stream",
     "text": [
      "              precision    recall  f1-score   support\n",
      "\n",
      "           0       0.83      0.97      0.89      1447\n",
      "           1       0.63      0.22      0.33       371\n",
      "\n",
      "    accuracy                           0.82      1818\n",
      "   macro avg       0.73      0.60      0.61      1818\n",
      "weighted avg       0.79      0.82      0.78      1818\n",
      "\n"
     ]
    }
   ],
   "source": [
    "predict = model_LogisticRegression.predict(features_valid)\n",
    "print(classification_report(target_valid, predict))"
   ]
  },
  {
   "cell_type": "markdown",
   "metadata": {},
   "source": [
    "#### Дерево решений"
   ]
  },
  {
   "cell_type": "code",
   "execution_count": 26,
   "metadata": {},
   "outputs": [
    {
     "name": "stdout",
     "output_type": "stream",
     "text": [
      "best_result_f1 =  0.5882352941176471 ,  best_depth =  7\n"
     ]
    }
   ],
   "source": [
    "decision_tree_valid = {}\n",
    "decision_tree_train = {}\n",
    "best_result_decision_tree = 0\n",
    "best_depth_decision_tree = 0\n",
    "\n",
    "for depth in range(1,21):   \n",
    "    model_DecisionTreeClassifier = DecisionTreeClassifier(max_depth=depth, min_samples_split=5, min_samples_leaf=5,random_state=12345)\n",
    "\n",
    "    model_DecisionTreeClassifier.fit(features_train, target_train)\n",
    "\n",
    "    result = metrics(model_DecisionTreeClassifier,features_valid, target_valid)[1]\n",
    "\n",
    "    decision_tree_valid[depth] = result\n",
    "    decision_tree_train[depth] = metrics(model_DecisionTreeClassifier,features_train, target_train)[1]\n",
    "    if result > best_result_decision_tree:\n",
    "        best_result_decision_tree = result\n",
    "        best_depth_decision_tree = depth\n",
    "\n",
    "        \n",
    "print('best_result_f1 = ', best_result_decision_tree, ', ', 'best_depth = ', best_depth_decision_tree) \n"
   ]
  },
  {
   "cell_type": "code",
   "execution_count": 27,
   "metadata": {},
   "outputs": [
    {
     "name": "stdout",
     "output_type": "stream",
     "text": [
      "Валидационная выборка\n",
      "score = 0.8614\n",
      "f1 = 0.5882\n",
      "auc = 0.8416\n",
      "precision = 0.7469\n",
      "recall = 0.4852\n",
      "\n",
      "Тестовая выборка\n",
      "score = 0.8543\n",
      "f1 = 0.5516\n",
      "auc = 0.8262\n",
      "precision = 0.7409\n",
      "recall = 0.4394\n"
     ]
    }
   ],
   "source": [
    "model_DecisionTreeClassifier = DecisionTreeClassifier(max_depth=7, min_samples_split=5, min_samples_leaf=5,random_state=12345)\n",
    "model_DecisionTreeClassifier.fit(features_train, target_train)\n",
    "\n",
    "\n",
    "print('Валидационная выборка')\n",
    "print_metrics(metrics(model_DecisionTreeClassifier,features_valid, target_valid))\n",
    "\n",
    "print('')\n",
    "\n",
    "print('Тестовая выборка')\n",
    "print_metrics(metrics(model_DecisionTreeClassifier,features_test, target_test))"
   ]
  },
  {
   "cell_type": "code",
   "execution_count": 28,
   "metadata": {},
   "outputs": [
    {
     "name": "stdout",
     "output_type": "stream",
     "text": [
      "              precision    recall  f1-score   support\n",
      "\n",
      "           0       0.88      0.96      0.92      1447\n",
      "           1       0.75      0.49      0.59       371\n",
      "\n",
      "    accuracy                           0.86      1818\n",
      "   macro avg       0.81      0.72      0.75      1818\n",
      "weighted avg       0.85      0.86      0.85      1818\n",
      "\n"
     ]
    }
   ],
   "source": [
    "predict = model_DecisionTreeClassifier.predict(features_valid)\n",
    "print(classification_report(target_valid, predict))"
   ]
  },
  {
   "cell_type": "markdown",
   "metadata": {},
   "source": [
    "Видим, что качество 1-го класса - среднее: recall = 0.49, а f1-score= 0.59"
   ]
  },
  {
   "cell_type": "code",
   "execution_count": 29,
   "metadata": {},
   "outputs": [
    {
     "data": {
      "image/png": "[encoded data removed]",
      "text/plain": [
       "<Figure size 432x432 with 1 Axes>"
      ]
     },
     "metadata": {
      "needs_background": "light"
     },
     "output_type": "display_data"
    }
   ],
   "source": [
    "plt.figure(figsize=(6,6))\n",
    "plt.title(\"Оценка F1 на обучающей и валидационной выборке\")\n",
    "plt.xlabel(\"depth\")\n",
    "plt.ylabel(\"F1\")\n",
    "\n",
    "dataframe = pd.DataFrame(index=decision_tree_valid.keys(), data=decision_tree_valid.values(),columns=['f1'])\n",
    "dataframe.reset_index(inplace=True)\n",
    "dataframe.columns=['depth','f1']\n",
    "plt.plot(dataframe['depth'],dataframe['f1'], label=\"valid\") ;\n",
    "\n",
    "dataframe2 = pd.DataFrame(index=decision_tree_train.keys(), data=decision_tree_train.values(),columns=['f1'])\n",
    "dataframe2.reset_index(inplace=True)\n",
    "dataframe2.columns=['depth','f1']\n",
    "plt.plot(dataframe2['depth'],dataframe2['f1'], label=\"train\");\n",
    "plt.legend();"
   ]
  },
  {
   "cell_type": "markdown",
   "metadata": {},
   "source": [
    "Мы видим, что на valid-выборке наибольшая метрика F1 достигается при глубине дерева = 7, далее  F1 начинает падать, на train-выборке F1 растет с увиличением глубины дерева"
   ]
  },
  {
   "cell_type": "markdown",
   "metadata": {},
   "source": [
    "#### Случайный лес"
   ]
  },
  {
   "cell_type": "code",
   "execution_count": 30,
   "metadata": {},
   "outputs": [
    {
     "name": "stdout",
     "output_type": "stream",
     "text": [
      "best_result_f1 =  0.6075533661740558 ,  best_depth =  14 ,  best_est =  17\n"
     ]
    }
   ],
   "source": [
    "decision_tree_valid = []\n",
    "best_result_random_forest = 0\n",
    "best_depth_random_forest = 0\n",
    "best_est_random_forest = 0\n",
    "\n",
    "for depth in range(2,40,2): \n",
    "    for est in range(2,100,5):  \n",
    "        model_RandomForestClassifier = RandomForestClassifier(n_estimators=est, max_depth=depth, min_samples_split=5, min_samples_leaf=5,random_state=12345)\n",
    "\n",
    "        model_RandomForestClassifier.fit(features_train, target_train)\n",
    "\n",
    "        result = metrics(model_RandomForestClassifier,features_valid, target_valid)[1]\n",
    "\n",
    "        decision_tree_valid.append([depth, est, result])\n",
    "       \n",
    "        if result > best_result_random_forest:\n",
    "            best_result_random_forest = result\n",
    "            best_depth_random_forest = depth\n",
    "            best_est_random_forest = est\n",
    "            \n",
    "print('best_result_f1 = ', best_result_random_forest, ', ', 'best_depth = ', best_depth_random_forest, ', ', 'best_est = ', best_est_random_forest)   "
   ]
  },
  {
   "cell_type": "code",
   "execution_count": 31,
   "metadata": {},
   "outputs": [
    {
     "data": {
      "image/png": "[encoded data removed]",
      "text/plain": [
       "<Figure size 432x288 with 2 Axes>"
      ]
     },
     "metadata": {
      "needs_background": "light"
     },
     "output_type": "display_data"
    }
   ],
   "source": [
    "df_decision_tree = pd.DataFrame(data=decision_tree_valid)\n",
    "\n",
    "df_decision_tree.columns=['depth','est','f1']\n",
    "\n",
    "df_decision_tree_pivot = df_decision_tree.pivot('depth','est','f1')\n",
    "\n",
    "sns.heatmap(df_decision_tree_pivot,fmt=\"d\",\n",
    "            linewidths=.1);"
   ]
  },
  {
   "cell_type": "markdown",
   "metadata": {},
   "source": [
    "Мы видим, что на valid-выборке наибольшая метрика F1 достигается при глубине дерева (max_depth) = 14  и количестве деревьев (n_estimators) = 17"
   ]
  },
  {
   "cell_type": "code",
   "execution_count": 34,
   "metadata": {},
   "outputs": [
    {
     "name": "stdout",
     "output_type": "stream",
     "text": [
      "Валидационная выборка\n",
      "score = 0.8685\n",
      "f1 = 0.6076\n",
      "auc = 0.8699\n",
      "precision = 0.7773\n",
      "recall = 0.4987\n",
      "\n",
      "Тестовая выборка\n",
      "score = 0.8549\n",
      "f1 = 0.5629\n",
      "auc = 0.8411\n",
      "precision = 0.7296\n",
      "recall = 0.4582\n"
     ]
    }
   ],
   "source": [
    "model_RandomForestClassifier = RandomForestClassifier(n_estimators=17, max_depth=14, min_samples_split=5, min_samples_leaf=5,random_state=12345)\n",
    "model_RandomForestClassifier.fit(features_train, target_train)\n",
    "\n",
    "print('Валидационная выборка')\n",
    "print_metrics(metrics(model_RandomForestClassifier,features_valid, target_valid))\n",
    "\n",
    "print('')\n",
    "\n",
    "print('Тестовая выборка')\n",
    "print_metrics(metrics(model_RandomForestClassifier,features_test, target_test))"
   ]
  },
  {
   "cell_type": "code",
   "execution_count": 35,
   "metadata": {},
   "outputs": [
    {
     "name": "stdout",
     "output_type": "stream",
     "text": [
      "              precision    recall  f1-score   support\n",
      "\n",
      "           0       0.88      0.96      0.92      1447\n",
      "           1       0.78      0.50      0.61       371\n",
      "\n",
      "    accuracy                           0.87      1818\n",
      "   macro avg       0.83      0.73      0.76      1818\n",
      "weighted avg       0.86      0.87      0.86      1818\n",
      "\n"
     ]
    }
   ],
   "source": [
    "predict = model_RandomForestClassifier.predict(features_valid)\n",
    "print(classification_report(target_valid, predict))"
   ]
  },
  {
   "cell_type": "code",
   "execution_count": 36,
   "metadata": {},
   "outputs": [
    {
     "name": "stdout",
     "output_type": "stream",
     "text": [
      "auc = 0.8699\n"
     ]
    },
    {
     "data": {
      "image/png": "[encoded data removed]",
      "text/plain": [
       "<Figure size 432x432 with 1 Axes>"
      ]
     },
     "metadata": {
      "needs_background": "light"
     },
     "output_type": "display_data"
    }
   ],
   "source": [
    "model_RandomForestClassifier = RandomForestClassifier(n_estimators=17, max_depth=14, min_samples_split=5, min_samples_leaf=5,random_state=12345)\n",
    "\n",
    "model_RandomForestClassifier.fit(features_train, target_train)\n",
    "\n",
    "probabilities_valid = model_RandomForestClassifier.predict_proba(features_valid)\n",
    "probabilities_one_valid = probabilities_valid[:, 1]\n",
    "fpr, tpr, thresholds = roc_curve(target_valid, probabilities_one_valid) \n",
    "\n",
    "plt.figure(figsize=(6,6))\n",
    "plt.title(\"roc_curve\")\n",
    "plt.xlabel(\"fpr\")\n",
    "plt.ylabel(\"tpr\")\n",
    "plt.plot(fpr, tpr, linestyle='--');\n",
    "plt.plot([0,1], [0,1], linestyle='--');\n",
    "auc_roc = roc_auc_score(target_valid, probabilities_one_valid)\n",
    "print(\"auc = {:.4}\".format(auc_roc))"
   ]
  },
  {
   "cell_type": "markdown",
   "metadata": {},
   "source": [
    "Мы видим достаточно большие значения метрики AUC-ROC. "
   ]
  },
  {
   "cell_type": "markdown",
   "metadata": {},
   "source": [
    "Достаточно большие значения метрик при n_estimators=17, max_depth=14:\n",
    "Валидационная выборка:\n",
    "\n",
    "<ul>\n",
    " <li>score = 0.8685 </li>\n",
    " <li>f1 = 0.6076</li>\n",
    " <li>auc = 0.8699</li>\n",
    " <li>precision = 0.7773</li>   \n",
    " <li>recall = 0.4987</li>     \n",
    "</ul>"
   ]
  },
  {
   "cell_type": "markdown",
   "metadata": {},
   "source": [
    "занесем информацию в таблицу:"
   ]
  },
  {
   "cell_type": "code",
   "execution_count": 37,
   "metadata": {},
   "outputs": [
    {
     "data": {
      "text/html": [
       "<style  type=\"text/css\" >\n",
       "    #T_cdd4aaca_7507_11ec_a31e_02420a391fefrow0_col0 {\n",
       "            background-color:  #034e7b;\n",
       "            color:  #f1f1f1;\n",
       "        }    #T_cdd4aaca_7507_11ec_a31e_02420a391fefrow0_col1 {\n",
       "            background-color:  #034e7b;\n",
       "            color:  #f1f1f1;\n",
       "        }    #T_cdd4aaca_7507_11ec_a31e_02420a391fefrow0_col2 {\n",
       "            background-color:  #023b5d;\n",
       "            color:  #f1f1f1;\n",
       "        }    #T_cdd4aaca_7507_11ec_a31e_02420a391fefrow0_col3 {\n",
       "            background-color:  #023e62;\n",
       "            color:  #f1f1f1;\n",
       "        }    #T_cdd4aaca_7507_11ec_a31e_02420a391fefrow0_col4 {\n",
       "            background-color:  #023858;\n",
       "            color:  #f1f1f1;\n",
       "        }    #T_cdd4aaca_7507_11ec_a31e_02420a391fefrow0_col5 {\n",
       "            background-color:  #023d60;\n",
       "            color:  #f1f1f1;\n",
       "        }    #T_cdd4aaca_7507_11ec_a31e_02420a391fefrow1_col0 {\n",
       "            background-color:  #e3e0ee;\n",
       "            color:  #000000;\n",
       "        }    #T_cdd4aaca_7507_11ec_a31e_02420a391fefrow1_col1 {\n",
       "            background-color:  #dcdaeb;\n",
       "            color:  #000000;\n",
       "        }    #T_cdd4aaca_7507_11ec_a31e_02420a391fefrow1_col2 {\n",
       "            background-color:  #549cc7;\n",
       "            color:  #000000;\n",
       "        }    #T_cdd4aaca_7507_11ec_a31e_02420a391fefrow1_col3 {\n",
       "            background-color:  #71a8ce;\n",
       "            color:  #000000;\n",
       "        }    #T_cdd4aaca_7507_11ec_a31e_02420a391fefrow1_col4 {\n",
       "            background-color:  #4496c3;\n",
       "            color:  #000000;\n",
       "        }    #T_cdd4aaca_7507_11ec_a31e_02420a391fefrow1_col5 {\n",
       "            background-color:  #67a4cc;\n",
       "            color:  #000000;\n",
       "        }    #T_cdd4aaca_7507_11ec_a31e_02420a391fefrow2_col0 {\n",
       "            background-color:  #04598c;\n",
       "            color:  #f1f1f1;\n",
       "        }    #T_cdd4aaca_7507_11ec_a31e_02420a391fefrow2_col1 {\n",
       "            background-color:  #045e93;\n",
       "            color:  #f1f1f1;\n",
       "        }    #T_cdd4aaca_7507_11ec_a31e_02420a391fefrow2_col2 {\n",
       "            background-color:  #03446a;\n",
       "            color:  #f1f1f1;\n",
       "        }    #T_cdd4aaca_7507_11ec_a31e_02420a391fefrow2_col3 {\n",
       "            background-color:  #034a74;\n",
       "            color:  #f1f1f1;\n",
       "        }    #T_cdd4aaca_7507_11ec_a31e_02420a391fefrow2_col4 {\n",
       "            background-color:  #023858;\n",
       "            color:  #f1f1f1;\n",
       "        }    #T_cdd4aaca_7507_11ec_a31e_02420a391fefrow2_col5 {\n",
       "            background-color:  #03446a;\n",
       "            color:  #f1f1f1;\n",
       "        }    #T_cdd4aaca_7507_11ec_a31e_02420a391fefrow3_col0 {\n",
       "            background-color:  #328dbf;\n",
       "            color:  #000000;\n",
       "        }    #T_cdd4aaca_7507_11ec_a31e_02420a391fefrow3_col1 {\n",
       "            background-color:  #3991c1;\n",
       "            color:  #000000;\n",
       "        }    #T_cdd4aaca_7507_11ec_a31e_02420a391fefrow3_col2 {\n",
       "            background-color:  #05659f;\n",
       "            color:  #f1f1f1;\n",
       "        }    #T_cdd4aaca_7507_11ec_a31e_02420a391fefrow3_col3 {\n",
       "            background-color:  #0567a2;\n",
       "            color:  #f1f1f1;\n",
       "        }    #T_cdd4aaca_7507_11ec_a31e_02420a391fefrow3_col4 {\n",
       "            background-color:  #045d92;\n",
       "            color:  #f1f1f1;\n",
       "        }    #T_cdd4aaca_7507_11ec_a31e_02420a391fefrow3_col5 {\n",
       "            background-color:  #056aa6;\n",
       "            color:  #f1f1f1;\n",
       "        }    #T_cdd4aaca_7507_11ec_a31e_02420a391fefrow4_col0 {\n",
       "            background-color:  #fff7fb;\n",
       "            color:  #000000;\n",
       "        }    #T_cdd4aaca_7507_11ec_a31e_02420a391fefrow4_col1 {\n",
       "            background-color:  #faf3f9;\n",
       "            color:  #000000;\n",
       "        }    #T_cdd4aaca_7507_11ec_a31e_02420a391fefrow4_col2 {\n",
       "            background-color:  #9ab8d8;\n",
       "            color:  #000000;\n",
       "        }    #T_cdd4aaca_7507_11ec_a31e_02420a391fefrow4_col3 {\n",
       "            background-color:  #b4c4df;\n",
       "            color:  #000000;\n",
       "        }    #T_cdd4aaca_7507_11ec_a31e_02420a391fefrow4_col4 {\n",
       "            background-color:  #93b5d6;\n",
       "            color:  #000000;\n",
       "        }    #T_cdd4aaca_7507_11ec_a31e_02420a391fefrow4_col5 {\n",
       "            background-color:  #abbfdc;\n",
       "            color:  #000000;\n",
       "        }</style><table id=\"T_cdd4aaca_7507_11ec_a31e_02420a391fef\" ><thead>    <tr>        <th class=\"blank level0\" ></th>        <th class=\"col_heading level0 col0\" >L_R_valid</th>        <th class=\"col_heading level0 col1\" >L_R_test</th>        <th class=\"col_heading level0 col2\" >D_T_valid</th>        <th class=\"col_heading level0 col3\" >D_T_test</th>        <th class=\"col_heading level0 col4\" >R_F_valid</th>        <th class=\"col_heading level0 col5\" >R_F_test</th>    </tr></thead><tbody>\n",
       "                <tr>\n",
       "                        <th id=\"T_cdd4aaca_7507_11ec_a31e_02420a391feflevel0_row0\" class=\"row_heading level0 row0\" >score</th>\n",
       "                        <td id=\"T_cdd4aaca_7507_11ec_a31e_02420a391fefrow0_col0\" class=\"data row0 col0\" >0.815182</td>\n",
       "                        <td id=\"T_cdd4aaca_7507_11ec_a31e_02420a391fefrow0_col1\" class=\"data row0 col1\" >0.815833</td>\n",
       "                        <td id=\"T_cdd4aaca_7507_11ec_a31e_02420a391fefrow0_col2\" class=\"data row0 col2\" >0.861386</td>\n",
       "                        <td id=\"T_cdd4aaca_7507_11ec_a31e_02420a391fefrow0_col3\" class=\"data row0 col3\" >0.854316</td>\n",
       "                        <td id=\"T_cdd4aaca_7507_11ec_a31e_02420a391fefrow0_col4\" class=\"data row0 col4\" >0.868537</td>\n",
       "                        <td id=\"T_cdd4aaca_7507_11ec_a31e_02420a391fefrow0_col5\" class=\"data row0 col5\" >0.854865</td>\n",
       "            </tr>\n",
       "            <tr>\n",
       "                        <th id=\"T_cdd4aaca_7507_11ec_a31e_02420a391feflevel0_row1\" class=\"row_heading level0 row1\" >f1</th>\n",
       "                        <td id=\"T_cdd4aaca_7507_11ec_a31e_02420a391fefrow1_col0\" class=\"data row1 col0\" >0.330677</td>\n",
       "                        <td id=\"T_cdd4aaca_7507_11ec_a31e_02420a391fefrow1_col1\" class=\"data row1 col1\" >0.352031</td>\n",
       "                        <td id=\"T_cdd4aaca_7507_11ec_a31e_02420a391fefrow1_col2\" class=\"data row1 col2\" >0.588235</td>\n",
       "                        <td id=\"T_cdd4aaca_7507_11ec_a31e_02420a391fefrow1_col3\" class=\"data row1 col3\" >0.551607</td>\n",
       "                        <td id=\"T_cdd4aaca_7507_11ec_a31e_02420a391fefrow1_col4\" class=\"data row1 col4\" >0.607553</td>\n",
       "                        <td id=\"T_cdd4aaca_7507_11ec_a31e_02420a391fefrow1_col5\" class=\"data row1 col5\" >0.562914</td>\n",
       "            </tr>\n",
       "            <tr>\n",
       "                        <th id=\"T_cdd4aaca_7507_11ec_a31e_02420a391feflevel0_row2\" class=\"row_heading level0 row2\" >auc</th>\n",
       "                        <td id=\"T_cdd4aaca_7507_11ec_a31e_02420a391fefrow2_col0\" class=\"data row2 col0\" >0.789301</td>\n",
       "                        <td id=\"T_cdd4aaca_7507_11ec_a31e_02420a391fefrow2_col1\" class=\"data row2 col1\" >0.774359</td>\n",
       "                        <td id=\"T_cdd4aaca_7507_11ec_a31e_02420a391fefrow2_col2\" class=\"data row2 col2\" >0.841588</td>\n",
       "                        <td id=\"T_cdd4aaca_7507_11ec_a31e_02420a391fefrow2_col3\" class=\"data row2 col3\" >0.826179</td>\n",
       "                        <td id=\"T_cdd4aaca_7507_11ec_a31e_02420a391fefrow2_col4\" class=\"data row2 col4\" >0.869913</td>\n",
       "                        <td id=\"T_cdd4aaca_7507_11ec_a31e_02420a391fefrow2_col5\" class=\"data row2 col5\" >0.841145</td>\n",
       "            </tr>\n",
       "            <tr>\n",
       "                        <th id=\"T_cdd4aaca_7507_11ec_a31e_02420a391feflevel0_row3\" class=\"row_heading level0 row3\" >precision</th>\n",
       "                        <td id=\"T_cdd4aaca_7507_11ec_a31e_02420a391fefrow3_col0\" class=\"data row3 col0\" >0.633588</td>\n",
       "                        <td id=\"T_cdd4aaca_7507_11ec_a31e_02420a391fefrow3_col1\" class=\"data row3 col1\" >0.623288</td>\n",
       "                        <td id=\"T_cdd4aaca_7507_11ec_a31e_02420a391fefrow3_col2\" class=\"data row3 col2\" >0.746888</td>\n",
       "                        <td id=\"T_cdd4aaca_7507_11ec_a31e_02420a391fefrow3_col3\" class=\"data row3 col3\" >0.740909</td>\n",
       "                        <td id=\"T_cdd4aaca_7507_11ec_a31e_02420a391fefrow3_col4\" class=\"data row3 col4\" >0.777311</td>\n",
       "                        <td id=\"T_cdd4aaca_7507_11ec_a31e_02420a391fefrow3_col5\" class=\"data row3 col5\" >0.729614</td>\n",
       "            </tr>\n",
       "            <tr>\n",
       "                        <th id=\"T_cdd4aaca_7507_11ec_a31e_02420a391feflevel0_row4\" class=\"row_heading level0 row4\" >recall</th>\n",
       "                        <td id=\"T_cdd4aaca_7507_11ec_a31e_02420a391fefrow4_col0\" class=\"data row4 col0\" >0.22372</td>\n",
       "                        <td id=\"T_cdd4aaca_7507_11ec_a31e_02420a391fefrow4_col1\" class=\"data row4 col1\" >0.245283</td>\n",
       "                        <td id=\"T_cdd4aaca_7507_11ec_a31e_02420a391fefrow4_col2\" class=\"data row4 col2\" >0.485175</td>\n",
       "                        <td id=\"T_cdd4aaca_7507_11ec_a31e_02420a391fefrow4_col3\" class=\"data row4 col3\" >0.439353</td>\n",
       "                        <td id=\"T_cdd4aaca_7507_11ec_a31e_02420a391fefrow4_col4\" class=\"data row4 col4\" >0.498652</td>\n",
       "                        <td id=\"T_cdd4aaca_7507_11ec_a31e_02420a391fefrow4_col5\" class=\"data row4 col5\" >0.458221</td>\n",
       "            </tr>\n",
       "    </tbody></table>"
      ],
      "text/plain": [
       "<pandas.io.formats.style.Styler at 0x7f52e3daea10>"
      ]
     },
     "execution_count": 37,
     "metadata": {},
     "output_type": "execute_result"
    }
   ],
   "source": [
    "df = pd.DataFrame(data={'L_R_valid':metrics(model_LogisticRegression,features_valid, target_valid),\n",
    "                        'L_R_test':metrics(model_LogisticRegression,features_test, target_test),\n",
    "                        'D_T_valid':metrics(model_DecisionTreeClassifier,features_valid, target_valid),\n",
    "                        'D_T_test':metrics(model_DecisionTreeClassifier,features_test, target_test),\n",
    "                        'R_F_valid':metrics(model_RandomForestClassifier,features_valid, target_valid),\n",
    "                        'R_F_test':metrics(model_RandomForestClassifier,features_test, target_test)},\n",
    "                  index=['score','f1','auc','precision','recall'])\n",
    "\n",
    "\n",
    "df"
   ]
  },
  {
   "cell_type": "markdown",
   "metadata": {},
   "source": [
    "Выбираем Модель случайного леса. Она дает самые высокие значения метрик среди всех моделей как на валидационной, так и на тестовой выборке"
   ]
  },
  {
   "cell_type": "markdown",
   "metadata": {},
   "source": [
    "### Перебалансировка данных / изменение выборки"
   ]
  },
  {
   "cell_type": "code",
   "execution_count": 38,
   "metadata": {},
   "outputs": [
    {
     "name": "stdout",
     "output_type": "stream",
     "text": [
      "0    0.796062\n",
      "1    0.203938\n",
      "Name: Exited, dtype: float64\n"
     ]
    },
    {
     "data": {
      "image/png": "[encoded data removed]",
      "text/plain": [
       "<Figure size 432x288 with 1 Axes>"
      ]
     },
     "metadata": {
      "needs_background": "light"
     },
     "output_type": "display_data"
    }
   ],
   "source": [
    "print(data['Exited'].value_counts(normalize=True))\n",
    "data['Exited'].value_counts().plot(kind='bar');"
   ]
  },
  {
   "cell_type": "markdown",
   "metadata": {},
   "source": [
    "Мы видим, что значения несбалансированны, преобладает нулевой класс, класс 1 составляет всего 20%.\n",
    "Попробуем изменить выборку. Класс 1 мы попробуем увеличить, а класс 0 попробуем уменьшить.\n",
    "Посмотрим, как изменятся метрики"
   ]
  },
  {
   "cell_type": "markdown",
   "metadata": {},
   "source": [
    "#### Увеличение выборки"
   ]
  },
  {
   "cell_type": "code",
   "execution_count": 39,
   "metadata": {},
   "outputs": [],
   "source": [
    "def upsample(features, target, repeat):\n",
    "    features_zeros = features[target == 0]\n",
    "    features_ones = features[target == 1]\n",
    "    target_zeros = target[target == 0]\n",
    "    target_ones = target[target == 1]\n",
    "\n",
    "    features_upsampled = pd.concat([features_zeros] + [features_ones] * repeat)\n",
    "    target_upsampled = pd.concat([target_zeros] + [target_ones] * repeat)\n",
    "    \n",
    "    features_upsampled, target_upsampled = shuffle(\n",
    "        features_upsampled, target_upsampled, random_state=12345)\n",
    "    \n",
    "    return features_upsampled, target_upsampled"
   ]
  },
  {
   "cell_type": "code",
   "execution_count": 40,
   "metadata": {},
   "outputs": [
    {
     "name": "stdout",
     "output_type": "stream",
     "text": [
      "\n",
      "Количество повторений: 2\n",
      "Процент класса 0: 66.13%\n",
      "Процент класса 1: 33.87%\n",
      "score = 0.8504\n",
      "f1 = 0.6201\n",
      "auc = 0.8682\n",
      "precision = 0.6435\n",
      "recall = 0.5984\n",
      "\n",
      "Количество повторений: 3\n",
      "Процент класса 0: 56.55%\n",
      "Процент класса 1: 43.45%\n",
      "score = 0.8465\n",
      "f1 = 0.6362\n",
      "auc = 0.8673\n",
      "precision = 0.6162\n",
      "recall = 0.6577\n",
      "\n",
      "Количество повторений: 5\n",
      "Процент класса 0: 43.85%\n",
      "Процент класса 1: 56.15%\n",
      "score = 0.8311\n",
      "f1 = 0.6401\n",
      "auc = 0.8687\n",
      "precision = 0.5664\n",
      "recall = 0.7358\n"
     ]
    }
   ],
   "source": [
    "#установим минамальную метрику F1, которую хотим достичь\n",
    "f1_best = 0.59\n",
    "repeat_massiv = {}\n",
    "model = RandomForestClassifier(n_estimators=17, max_depth=14, min_samples_split=5, min_samples_leaf=5,random_state=12345)\n",
    "for repeat in range(1,10):\n",
    "    features_upsampled, target_upsampled = upsample(features_train, target_train, repeat)\n",
    "    #обучаем на train\n",
    "    model.fit(features_upsampled,target_upsampled)\n",
    "    #предсказываем на valid\n",
    "    predict = model.predict(features_valid)\n",
    "    #подбираем на валидационных данных\n",
    "    f1_r = metrics(model,features_valid, target_valid)[1]\n",
    "    #заносим значения в массив для графика\n",
    "    repeat_massiv[repeat] = f1_r\n",
    "    \n",
    "    if f1_r>f1_best:\n",
    "        print('')\n",
    "        print(\"Количество повторений: {}\".format(repeat))\n",
    "        f1_best = f1_r\n",
    "        print(\"Процент класса 0: {:.2%}\".format(len(target_upsampled[target_upsampled == 0])/len(target_upsampled)))\n",
    "        print(\"Процент класса 1: {:.2%}\".format(len(target_upsampled[target_upsampled == 1])/len(target_upsampled)))\n",
    "        print_metrics(metrics(model,features_valid, target_valid))"
   ]
  },
  {
   "cell_type": "markdown",
   "metadata": {},
   "source": [
    "получили наилучшую метрику F1=0.6401 при 5 повторениях"
   ]
  },
  {
   "cell_type": "code",
   "execution_count": 41,
   "metadata": {},
   "outputs": [
    {
     "name": "stdout",
     "output_type": "stream",
     "text": [
      "Валидационная выборка\n",
      "score = 0.8311\n",
      "f1 = 0.6401\n",
      "auc = 0.8687\n",
      "precision = 0.5664\n",
      "recall = 0.7358\n",
      "\n",
      "Тестовая выборка\n",
      "score = 0.812\n",
      "f1 = 0.587\n",
      "auc = 0.842\n",
      "precision = 0.5317\n",
      "recall = 0.655\n"
     ]
    }
   ],
   "source": [
    "model_RandomForestClassifier_up = RandomForestClassifier(n_estimators=17, max_depth=14, min_samples_split=5, min_samples_leaf=5,random_state=12345)\n",
    "features_upsampled, target_upsampled = upsample(features_train, target_train, 5)\n",
    "\n",
    "model_RandomForestClassifier_up.fit(features_upsampled,target_upsampled)\n",
    "\n",
    "print('Валидационная выборка')\n",
    "print_metrics(metrics(model_RandomForestClassifier_up,features_valid, target_valid))\n",
    "\n",
    "print('')\n",
    "\n",
    "print('Тестовая выборка')\n",
    "print_metrics(metrics(model_RandomForestClassifier_up,features_test, target_test))"
   ]
  },
  {
   "cell_type": "code",
   "execution_count": 42,
   "metadata": {},
   "outputs": [
    {
     "data": {
      "image/png": "[encoded data removed]",
      "text/plain": [
       "<Figure size 432x288 with 1 Axes>"
      ]
     },
     "metadata": {
      "needs_background": "light"
     },
     "output_type": "display_data"
    }
   ],
   "source": [
    "dataframe = pd.DataFrame(index=repeat_massiv.keys(), data=repeat_massiv.values(),columns=['f1'])\n",
    "dataframe.reset_index(inplace=True)\n",
    "dataframe.columns=['repeat','f1']\n",
    "dataframe.plot(x='repeat',y='f1', title='Поиск наилучшей метрики F1'); "
   ]
  },
  {
   "cell_type": "markdown",
   "metadata": {},
   "source": [
    "Мы видим по графику, что метрика F1 после пяти повторений класса 1 начинает уменьшаться. \n",
    "\n",
    "Пять повторений класса 1 позволяет достичь сбалансированности классов и высоких значений метрик:\n",
    "<ul>\n",
    " <li>Процент класса 0: 43.85% </li>\n",
    " <li>Процент класса 1: 56.15% </li>\n",
    " <li>Валидационная выборка: score = 0.8311,f1 = 0.6401,auc = 0.8687,precision = 0.5664,recall = 0.7358</li>\n",
    " <li>Тестовая выборка: score = 0.812,f1 = 0.587,auc = 0.842,precision = 0.5317,recall = 0.655</li>\n",
    "</ul>\n"
   ]
  },
  {
   "cell_type": "markdown",
   "metadata": {},
   "source": [
    "Попробуем пересчитать гипер параметры в связи с увеличением класса 1\n",
    "Посмотрим, что изменится"
   ]
  },
  {
   "cell_type": "code",
   "execution_count": 43,
   "metadata": {},
   "outputs": [
    {
     "name": "stdout",
     "output_type": "stream",
     "text": [
      "best_result_f1 =  0.6474820143884892 ,  best_depth =  20 ,  best_est =  82\n"
     ]
    }
   ],
   "source": [
    "best_result_random_forest = 0\n",
    "best_depth_random_forest = 0\n",
    "best_est_random_forest = 0\n",
    "\n",
    "features_upsampled, target_upsampled = upsample(features_train, target_train, 5)\n",
    "\n",
    "for depth in range(2,40,2): #глубина\n",
    "    for est in range(2,100,5): #количество деревьв  \n",
    "        model = RandomForestClassifier(n_estimators=est, max_depth=depth, min_samples_split=5, min_samples_leaf=5,random_state=12345)\n",
    "        #обучаем на upsampled данных\n",
    "        model.fit(features_upsampled, target_upsampled)\n",
    "        #предсказываем на valid\n",
    "        predict = model.predict(features_valid)\n",
    "        #подбираем на валидационных данных\n",
    "        result = metrics(model,features_valid, target_valid)[1]\n",
    "   \n",
    "        if result > best_result_random_forest:\n",
    "            best_result_random_forest = result\n",
    "            best_depth_random_forest = depth\n",
    "            best_est_random_forest = est\n",
    "            best_model_random_forest = model\n",
    "            \n",
    "print('best_result_f1 = ', best_result_random_forest, ', ', 'best_depth = ', best_depth_random_forest, ', ', 'best_est = ', best_est_random_forest)   \n"
   ]
  },
  {
   "cell_type": "markdown",
   "metadata": {},
   "source": [
    "параметры изменились best_depth =  20 (вместо 14) ,  best_est =  82 (вместо 17). Но F1 и auc при таких параметрах и upsampled-выборке больше, даже удалость достичь F1 на тестовой выборке >0,59"
   ]
  },
  {
   "cell_type": "code",
   "execution_count": 44,
   "metadata": {},
   "outputs": [
    {
     "name": "stdout",
     "output_type": "stream",
     "text": [
      "Валидационная выборка\n",
      "score = 0.8383\n",
      "f1 = 0.6475\n",
      "auc = 0.874\n",
      "precision = 0.5832\n",
      "recall = 0.7278\n",
      "\n",
      "Тестовая выборка\n",
      "score = 0.8257\n",
      "f1 = 0.6033\n",
      "auc = 0.8482\n",
      "precision = 0.5631\n",
      "recall = 0.6496\n"
     ]
    }
   ],
   "source": [
    "model_RandomForestClassifier_up = RandomForestClassifier(n_estimators=82, max_depth=20, min_samples_split=5, min_samples_leaf=5,random_state=12345)\n",
    "features_upsampled, target_upsampled = upsample(features_train, target_train, 5)\n",
    "model_RandomForestClassifier_up.fit(features_upsampled, target_upsampled)\n",
    "\n",
    "#проверяем на валидационной выборке\n",
    "print('Валидационная выборка')\n",
    "print_metrics(metrics(model_RandomForestClassifier_up,features_valid, target_valid))\n",
    "\n",
    "print('')\n",
    "#проверяем на тестовой выборке\n",
    "print('Тестовая выборка')\n",
    "print_metrics(metrics(model_RandomForestClassifier_up,features_test, target_test))"
   ]
  },
  {
   "cell_type": "markdown",
   "metadata": {},
   "source": [
    "#### Уменьшение выборки"
   ]
  },
  {
   "cell_type": "code",
   "execution_count": 45,
   "metadata": {},
   "outputs": [],
   "source": [
    "def downsample(features, target, fraction):\n",
    "    features_zeros = features[target == 0]\n",
    "    features_ones = features[target == 1]\n",
    "    target_zeros = target[target == 0]\n",
    "    target_ones = target[target == 1]\n",
    "\n",
    "    features_downsampled = pd.concat(\n",
    "        [features_zeros.sample(frac=fraction, random_state=12345)] + [features_ones])\n",
    "    target_downsampled = pd.concat(\n",
    "        [target_zeros.sample(frac=fraction, random_state=12345)] + [target_ones])\n",
    "    \n",
    "    features_downsampled, target_downsampled = shuffle(\n",
    "        features_downsampled, target_downsampled, random_state=12345)\n",
    "    \n",
    "    return features_downsampled, target_downsampled\n"
   ]
  },
  {
   "cell_type": "markdown",
   "metadata": {},
   "source": [
    "установим минимальную метрику F1, которую хотим достичь"
   ]
  },
  {
   "cell_type": "code",
   "execution_count": 46,
   "metadata": {},
   "outputs": [
    {
     "name": "stdout",
     "output_type": "stream",
     "text": [
      "\n",
      "fraction: 0.26\n",
      "Процент класса 0: 50.38%\n",
      "Процент класса 1: 49.62%\n",
      "score = 0.7959\n",
      "f1 = 0.6082\n",
      "auc = 0.8671\n",
      "precision = 0.5\n",
      "recall = 0.7763\n",
      "\n",
      "fraction: 0.28\n",
      "Процент класса 0: 52.23%\n",
      "Процент класса 1: 47.77%\n",
      "score = 0.8014\n",
      "f1 = 0.6106\n",
      "auc = 0.8716\n",
      "precision = 0.509\n",
      "recall = 0.7628\n",
      "\n",
      "fraction: 0.32\n",
      "Процент класса 0: 55.54%\n",
      "Процент класса 1: 44.46%\n",
      "score = 0.8102\n",
      "f1 = 0.6171\n",
      "auc = 0.8729\n",
      "precision = 0.5245\n",
      "recall = 0.7493\n",
      "\n",
      "fraction: 0.34\n",
      "Процент класса 0: 57.03%\n",
      "Процент класса 1: 42.97%\n",
      "score = 0.8218\n",
      "f1 = 0.6241\n",
      "auc = 0.869\n",
      "precision = 0.5479\n",
      "recall = 0.7251\n",
      "\n",
      "fraction: 0.36\n",
      "Процент класса 0: 58.43%\n",
      "Процент класса 1: 41.57%\n",
      "score = 0.8333\n",
      "f1 = 0.638\n",
      "auc = 0.8781\n",
      "precision = 0.573\n",
      "recall = 0.7197\n",
      "\n",
      "fraction: 0.54\n",
      "Процент класса 0: 67.83%\n",
      "Процент класса 1: 32.17%\n",
      "score = 0.8614\n",
      "f1 = 0.639\n",
      "auc = 0.8716\n",
      "precision = 0.682\n",
      "recall = 0.6011\n"
     ]
    }
   ],
   "source": [
    "f1_best = 0.59\n",
    "model = RandomForestClassifier(n_estimators=17, max_depth=14, min_samples_split=5, min_samples_leaf=5,random_state=12345)\n",
    "for fraction in np.arange(0.02,0.6,0.02):\n",
    "    features_downsampled, target_downsampled = downsample(features_train, target_train, fraction)\n",
    "    #обучаем на downsampled данных\n",
    "    model.fit(features_downsampled, target_downsampled)\n",
    "    #предсказываем на valid\n",
    "    predict = model.predict(features_valid)\n",
    "    \n",
    "    #подбираем на валидационных данных\n",
    "    f1_r = metrics(model,features_valid, target_valid)[1]\n",
    "    \n",
    "    if f1_r>f1_best:\n",
    "        print('')\n",
    "        print(\"fraction: {:.2}\".format(fraction))\n",
    "        f1_best = f1_r\n",
    "        print(\"Процент класса 0: {:.2%}\".format(len(target_downsampled[target_downsampled == 0])/len(target_downsampled)))\n",
    "        print(\"Процент класса 1: {:.2%}\".format(len(target_downsampled[target_downsampled == 1])/len(target_downsampled)))\n",
    "        print_metrics(metrics(model,features_valid, target_valid))"
   ]
  },
  {
   "cell_type": "markdown",
   "metadata": {},
   "source": [
    "Уменьшение класса 0 позволяет достичь сбалансированности классов и высоких значений метрик:\n",
    "\n",
    "    Процент класса 0: 67.83%\n",
    "    Процент класса 1: 32.17%\n",
    "    Валидационная выборка: score = 0.8614,f1 = 0.639,auc = 0.8716,precision = 0.682,recall = 0.6011\n",
    "\n",
    "Попробуем пересчитать гипер параметры в связи с уменьшением класса 0, \n",
    "\n",
    "Посмотрим, что изменится\n"
   ]
  },
  {
   "cell_type": "code",
   "execution_count": 47,
   "metadata": {},
   "outputs": [
    {
     "name": "stdout",
     "output_type": "stream",
     "text": [
      "best_result_f1 =  0.6496453900709219 ,  best_depth =  14 ,  best_est =  37\n"
     ]
    }
   ],
   "source": [
    "best_result_random_forest = 0\n",
    "best_depth_random_forest = 0\n",
    "best_est_random_forest = 0\n",
    "\n",
    "features_downsampled, target_downsampled = downsample(features_train, target_train, 0.54)\n",
    "\n",
    "for depth in range(2,40,2): #глубина\n",
    "    for est in range(2,100,5): #количество деревьв  \n",
    "        model = RandomForestClassifier(n_estimators=est, max_depth=depth, min_samples_split=5, min_samples_leaf=5,random_state=12345)\n",
    "        #обучаем на downsampled данных\n",
    "        model.fit(features_downsampled, target_downsampled)\n",
    "        #подбираем на валидационных данных\n",
    "        result = metrics(model,features_valid, target_valid)[1]\n",
    "        \n",
    "        if result > best_result_random_forest:\n",
    "            best_result_random_forest = result\n",
    "            best_depth_random_forest = depth\n",
    "            best_est_random_forest = est\n",
    "            best_model_random_forest = model\n",
    "            \n",
    "print('best_result_f1 = ', best_result_random_forest, ', ', 'best_depth = ', best_depth_random_forest, ', ', 'best_est = ', best_est_random_forest)   \n"
   ]
  },
  {
   "cell_type": "code",
   "execution_count": 48,
   "metadata": {},
   "outputs": [
    {
     "name": "stdout",
     "output_type": "stream",
     "text": [
      "Валидационная выборка\n",
      "score = 0.8641\n",
      "f1 = 0.6496\n",
      "auc = 0.8774\n",
      "precision = 0.6856\n",
      "recall = 0.6173\n",
      "\n",
      "Тестовая выборка\n",
      "score = 0.8516\n",
      "f1 = 0.6053\n",
      "auc = 0.8472\n",
      "precision = 0.6613\n",
      "recall = 0.558\n"
     ]
    }
   ],
   "source": [
    "model_RandomForestClassifier_down = RandomForestClassifier(n_estimators=37, max_depth=14, min_samples_split=5, min_samples_leaf=5,random_state=12345)\n",
    "features_downsampled, target_downsampled = downsample(features_train, target_train, 0.54)\n",
    "model_RandomForestClassifier_down.fit(features_downsampled, target_downsampled)\n",
    "\n",
    "#проверяем на валидационной выборке\n",
    "print('Валидационная выборка')\n",
    "print_metrics(metrics(model_RandomForestClassifier_down,features_valid, target_valid))\n",
    "\n",
    "print('')\n",
    "#проверяем на тестовой выборке\n",
    "print('Тестовая выборка')\n",
    "print_metrics(metrics(model_RandomForestClassifier_down,features_test, target_test))"
   ]
  },
  {
   "cell_type": "markdown",
   "metadata": {},
   "source": [
    "Метрики F1 и auc на downsampled-выборке лучше, чем на upsampled-выборке.\n",
    "\n",
    "Остановимся на перебалансировке методом downsampled с параметрами: n_estimators=37, max_depth=14, frac=0.54"
   ]
  },
  {
   "cell_type": "code",
   "execution_count": 50,
   "metadata": {},
   "outputs": [
    {
     "data": {
      "text/html": [
       "<div>\n",
       "<style scoped>\n",
       "    .dataframe tbody tr th:only-of-type {\n",
       "        vertical-align: middle;\n",
       "    }\n",
       "\n",
       "    .dataframe tbody tr th {\n",
       "        vertical-align: top;\n",
       "    }\n",
       "\n",
       "    .dataframe thead th {\n",
       "        text-align: right;\n",
       "    }\n",
       "</style>\n",
       "<table border=\"1\" class=\"dataframe\">\n",
       "  <thead>\n",
       "    <tr style=\"text-align: right;\">\n",
       "      <th></th>\n",
       "      <th>upsample_valid</th>\n",
       "      <th>upsample_test</th>\n",
       "      <th>downsample_valid</th>\n",
       "      <th>downsample_test</th>\n",
       "    </tr>\n",
       "  </thead>\n",
       "  <tbody>\n",
       "    <tr>\n",
       "      <td>score</td>\n",
       "      <td>0.838284</td>\n",
       "      <td>0.825728</td>\n",
       "      <td>0.864136</td>\n",
       "      <td>0.851567</td>\n",
       "    </tr>\n",
       "    <tr>\n",
       "      <td>f1</td>\n",
       "      <td>0.647482</td>\n",
       "      <td>0.603254</td>\n",
       "      <td>0.649645</td>\n",
       "      <td>0.605263</td>\n",
       "    </tr>\n",
       "    <tr>\n",
       "      <td>auc</td>\n",
       "      <td>0.874044</td>\n",
       "      <td>0.848213</td>\n",
       "      <td>0.877410</td>\n",
       "      <td>0.847217</td>\n",
       "    </tr>\n",
       "    <tr>\n",
       "      <td>precision</td>\n",
       "      <td>0.583153</td>\n",
       "      <td>0.563084</td>\n",
       "      <td>0.685629</td>\n",
       "      <td>0.661342</td>\n",
       "    </tr>\n",
       "    <tr>\n",
       "      <td>recall</td>\n",
       "      <td>0.727763</td>\n",
       "      <td>0.649596</td>\n",
       "      <td>0.617251</td>\n",
       "      <td>0.557951</td>\n",
       "    </tr>\n",
       "  </tbody>\n",
       "</table>\n",
       "</div>"
      ],
      "text/plain": [
       "           upsample_valid  upsample_test  downsample_valid  downsample_test\n",
       "score            0.838284       0.825728          0.864136         0.851567\n",
       "f1               0.647482       0.603254          0.649645         0.605263\n",
       "auc              0.874044       0.848213          0.877410         0.847217\n",
       "precision        0.583153       0.563084          0.685629         0.661342\n",
       "recall           0.727763       0.649596          0.617251         0.557951"
      ]
     },
     "execution_count": 50,
     "metadata": {},
     "output_type": "execute_result"
    }
   ],
   "source": [
    "df = pd.DataFrame(data={'upsample_valid':metrics(model_RandomForestClassifier_up,features_valid, target_valid),\n",
    "                        'upsample_test':metrics(model_RandomForestClassifier_up,features_test, target_test),\n",
    "                        'downsample_valid':metrics(model_RandomForestClassifier_down,features_valid, target_valid),\n",
    "                        'downsample_test':metrics(model_RandomForestClassifier_down,features_test, target_test)},\n",
    "                  index=['score','f1','auc','precision','recall'])\n",
    "\n",
    "df"
   ]
  },
  {
   "cell_type": "markdown",
   "metadata": {},
   "source": [
    "Мы видим, что после проведения downsampled и upsampled score немного уменьшается, а метрики F1 и auc увеличиваются."
   ]
  },
  {
   "cell_type": "markdown",
   "metadata": {},
   "source": [
    "#### Меняем пороги"
   ]
  },
  {
   "cell_type": "code",
   "execution_count": 51,
   "metadata": {},
   "outputs": [
    {
     "name": "stdout",
     "output_type": "stream",
     "text": [
      "\n",
      "Порог = 0.02 | Точность = 0.226, Полнота = 0.992\n",
      "F1: 0.368184092046023\n",
      "\n",
      "Порог = 0.04 | Точность = 0.255, Полнота = 0.987\n",
      "F1: 0.4055401662049861\n",
      "\n",
      "Порог = 0.06 | Точность = 0.283, Полнота = 0.965\n",
      "F1: 0.4371184371184371\n",
      "\n",
      "Порог = 0.08 | Точность = 0.308, Полнота = 0.946\n",
      "F1: 0.4652087475149105\n",
      "\n",
      "Порог = 0.10 | Точность = 0.332, Полнота = 0.922\n",
      "F1: 0.48857142857142855\n",
      "\n",
      "Порог = 0.12 | Точность = 0.355, Полнота = 0.895\n",
      "F1: 0.5088122605363985\n",
      "\n",
      "Порог = 0.14 | Точность = 0.382, Полнота = 0.863\n",
      "F1: 0.5293631100082712\n",
      "\n",
      "Порог = 0.16 | Точность = 0.411, Полнота = 0.841\n",
      "F1: 0.5517241379310345\n",
      "\n",
      "Порог = 0.18 | Точность = 0.439, Полнота = 0.819\n",
      "F1: 0.5719661335841956\n",
      "\n",
      "Порог = 0.20 | Точность = 0.476, Полнота = 0.792\n",
      "F1: 0.5945399393326593\n",
      "\n",
      "Порог = 0.22 | Точность = 0.512, Полнота = 0.774\n",
      "F1: 0.6158798283261803\n",
      "\n",
      "Порог = 0.24 | Точность = 0.536, Полнота = 0.757\n",
      "F1: 0.6279329608938548\n",
      "\n",
      "Порог = 0.26 | Точность = 0.569, Полнота = 0.725\n",
      "F1: 0.6374407582938388\n",
      "\n",
      "Порог = 0.28 | Точность = 0.581, Полнота = 0.687\n",
      "F1: 0.6296296296296297\n",
      "\n",
      "Порог = 0.30 | Точность = 0.599, Полнота = 0.671\n",
      "F1: 0.6327827191867853\n",
      "\n",
      "Порог = 0.32 | Точность = 0.618, Полнота = 0.650\n",
      "F1: 0.6333771353482262\n",
      "\n",
      "Порог = 0.34 | Точность = 0.637, Полнота = 0.647\n",
      "F1: 0.641711229946524\n",
      "\n",
      "Порог = 0.36 | Точность = 0.646, Полнота = 0.620\n",
      "F1: 0.6327372764786796\n",
      "\n",
      "Порог = 0.38 | Точность = 0.672, Полнота = 0.601\n",
      "F1: 0.6344238975817923\n",
      "\n",
      "Порог = 0.40 | Точность = 0.683, Полнота = 0.580\n",
      "F1: 0.6268221574344024\n",
      "\n",
      "Порог = 0.42 | Точность = 0.699, Полнота = 0.563\n",
      "F1: 0.6238805970149254\n",
      "\n",
      "Порог = 0.44 | Точность = 0.726, Полнота = 0.542\n",
      "F1: 0.6203703703703705\n",
      "\n",
      "Порог = 0.46 | Точность = 0.734, Полнота = 0.528\n",
      "F1: 0.6144200626959249\n",
      "\n",
      "Порог = 0.48 | Точность = 0.758, Полнота = 0.507\n",
      "F1: 0.6074313408723747\n",
      "\n",
      "Порог = 0.50 | Точность = 0.777, Полнота = 0.499\n",
      "F1: 0.6075533661740558\n",
      "\n",
      "Порог = 0.52 | Точность = 0.776, Полнота = 0.477\n",
      "F1: 0.5909849749582637\n",
      "\n",
      "Порог = 0.54 | Точность = 0.810, Полнота = 0.458\n",
      "F1: 0.585197934595525\n",
      "\n",
      "Порог = 0.56 | Точность = 0.821, Полнота = 0.445\n",
      "F1: 0.5769230769230769\n",
      "\n",
      "Порог = 0.58 | Точность = 0.829, Полнота = 0.418\n",
      "F1: 0.5555555555555555\n"
     ]
    }
   ],
   "source": [
    "model = RandomForestClassifier(n_estimators=17, max_depth=14, min_samples_split=5, min_samples_leaf=5,random_state=12345)\n",
    "model.fit(features_train, target_train)\n",
    "probabilities_valid = model.predict_proba(features_valid)\n",
    "probabilities_one_valid = probabilities_valid[:, 1]\n",
    "\n",
    "for threshold in np.arange(0.02, 0.6, 0.02):\n",
    "    predicted_valid = probabilities_one_valid > threshold \n",
    "    print('')\n",
    "    precision = precision_score(target_valid,predicted_valid) \n",
    "    recall = recall_score(target_valid,predicted_valid)\n",
    "\n",
    "    print(\"Порог = {:.2f} | Точность = {:.3f}, Полнота = {:.3f}\".format(\n",
    "        threshold, precision, recall))\n",
    "    print(\"F1:\", f1_score(target_valid, predicted_valid))\n",
    "    "
   ]
  },
  {
   "cell_type": "markdown",
   "metadata": {},
   "source": [
    "Мы видим, что при пороге = 0.34 достигается максимальное значение метрики F1=0.641711."
   ]
  },
  {
   "cell_type": "code",
   "execution_count": 52,
   "metadata": {},
   "outputs": [
    {
     "name": "stdout",
     "output_type": "stream",
     "text": [
      "F1: 0.641711229946524\n",
      "auc = 0.8699\n"
     ]
    }
   ],
   "source": [
    "model = RandomForestClassifier(n_estimators=17, max_depth=14, min_samples_split=5, min_samples_leaf=5,random_state=12345)\n",
    "model.fit(features_train, target_train)\n",
    "probabilities_valid = model.predict_proba(features_valid)\n",
    "probabilities_one_valid = probabilities_valid[:, 1]\n",
    "\n",
    "predicted_valid = probabilities_one_valid > 0.34 \n",
    "print(\"F1:\", f1_score(target_valid, predicted_valid))\n",
    "auc_roc = roc_auc_score(target_valid, probabilities_one_valid)\n",
    "print(\"auc = {:.4}\".format(auc_roc))"
   ]
  },
  {
   "cell_type": "code",
   "execution_count": 54,
   "metadata": {},
   "outputs": [
    {
     "data": {
      "text/html": [
       "<div>\n",
       "<style scoped>\n",
       "    .dataframe tbody tr th:only-of-type {\n",
       "        vertical-align: middle;\n",
       "    }\n",
       "\n",
       "    .dataframe tbody tr th {\n",
       "        vertical-align: top;\n",
       "    }\n",
       "\n",
       "    .dataframe thead th {\n",
       "        text-align: right;\n",
       "    }\n",
       "</style>\n",
       "<table border=\"1\" class=\"dataframe\">\n",
       "  <thead>\n",
       "    <tr style=\"text-align: right;\">\n",
       "      <th></th>\n",
       "      <th>upsample_valid</th>\n",
       "      <th>downsample_valid</th>\n",
       "    </tr>\n",
       "  </thead>\n",
       "  <tbody>\n",
       "    <tr>\n",
       "      <td>score</td>\n",
       "      <td>0.838284</td>\n",
       "      <td>0.864136</td>\n",
       "    </tr>\n",
       "    <tr>\n",
       "      <td>f1</td>\n",
       "      <td>0.647482</td>\n",
       "      <td>0.649645</td>\n",
       "    </tr>\n",
       "    <tr>\n",
       "      <td>auc</td>\n",
       "      <td>0.874044</td>\n",
       "      <td>0.877410</td>\n",
       "    </tr>\n",
       "    <tr>\n",
       "      <td>precision</td>\n",
       "      <td>0.583153</td>\n",
       "      <td>0.685629</td>\n",
       "    </tr>\n",
       "    <tr>\n",
       "      <td>recall</td>\n",
       "      <td>0.727763</td>\n",
       "      <td>0.617251</td>\n",
       "    </tr>\n",
       "  </tbody>\n",
       "</table>\n",
       "</div>"
      ],
      "text/plain": [
       "           upsample_valid  downsample_valid\n",
       "score            0.838284          0.864136\n",
       "f1               0.647482          0.649645\n",
       "auc              0.874044          0.877410\n",
       "precision        0.583153          0.685629\n",
       "recall           0.727763          0.617251"
      ]
     },
     "execution_count": 54,
     "metadata": {},
     "output_type": "execute_result"
    }
   ],
   "source": [
    "df = pd.DataFrame(data={'upsample_valid':metrics(model_RandomForestClassifier_up,features_valid, target_valid),\n",
    "                        'downsample_valid':metrics(model_RandomForestClassifier_down,features_valid, target_valid)},\n",
    "                  index=['score','f1','auc','precision','recall'])\n",
    "\n",
    "df"
   ]
  },
  {
   "cell_type": "markdown",
   "metadata": {},
   "source": [
    "## Тестирование модели"
   ]
  },
  {
   "cell_type": "code",
   "execution_count": 55,
   "metadata": {},
   "outputs": [
    {
     "name": "stdout",
     "output_type": "stream",
     "text": [
      "score = 0.8516\n",
      "f1 = 0.6053\n",
      "auc = 0.8472\n",
      "precision = 0.6613\n",
      "recall = 0.558\n"
     ]
    }
   ],
   "source": [
    "model = RandomForestClassifier(n_estimators=37, max_depth=14, min_samples_split=5, min_samples_leaf=5,random_state=12345)\n",
    "features_downsampled, target_downsampled = downsample(features_train, target_train, 0.54)\n",
    "model.fit(features_downsampled, target_downsampled)\n",
    "\n",
    "print_metrics(metrics(model,features_test, target_test))"
   ]
  },
  {
   "cell_type": "markdown",
   "metadata": {},
   "source": [
    "Метрика F1 на тестовой выборке немного ниже, чем на валидационной выборке, но нам удалось достичь на тестовой выборке значение F1 не менее 0.59"
   ]
  },
  {
   "cell_type": "code",
   "execution_count": 56,
   "metadata": {},
   "outputs": [
    {
     "name": "stdout",
     "output_type": "stream",
     "text": [
      "score = 0.486\n",
      "f1 = 0.2746\n",
      "auc = 0.5\n",
      "precision = 0.1928\n",
      "recall = 0.4771\n",
      "моя модель выиграла\n"
     ]
    }
   ],
   "source": [
    "model = RandomForestClassifier(n_estimators=37, max_depth=14, min_samples_split=5, min_samples_leaf=5,random_state=12345)\n",
    "features_downsampled, target_downsampled = downsample(features_train, target_train, 0.54)\n",
    "model.fit(features_downsampled, target_downsampled)\n",
    "\n",
    "dummy_c = DummyClassifier(strategy = 'uniform',random_state=12345)\n",
    "\n",
    "#обучаем на train\n",
    "dummy_c.fit(features_train, target_train)\n",
    "\n",
    "print_metrics(metrics(dummy_c,features_test, target_test))\n",
    "\n",
    "if model.score(features_test,target_test) > dummy_c.score(features_test,target_test):\n",
    "    print('моя модель выиграла')"
   ]
  }
 ],
 "metadata": {
  "ExecuteTimeLog": [
   {
    "duration": 910,
    "start_time": "2021-10-28T13:31:28.319Z"
   },
   {
    "duration": 30,
    "start_time": "2021-10-28T13:33:06.296Z"
   },
   {
    "duration": 22,
    "start_time": "2021-10-28T13:33:38.880Z"
   },
   {
    "duration": 41,
    "start_time": "2021-10-28T13:33:51.076Z"
   },
   {
    "duration": 25,
    "start_time": "2021-10-28T13:34:35.920Z"
   },
   {
    "duration": 22,
    "start_time": "2021-10-28T13:36:03.928Z"
   },
   {
    "duration": 1334,
    "start_time": "2021-10-28T13:36:22.643Z"
   },
   {
    "duration": 7,
    "start_time": "2021-10-28T13:36:40.151Z"
   },
   {
    "duration": 8,
    "start_time": "2021-10-28T13:36:45.541Z"
   },
   {
    "duration": 15,
    "start_time": "2021-10-28T13:39:22.573Z"
   },
   {
    "duration": 955,
    "start_time": "2021-10-28T19:35:44.006Z"
   },
   {
    "duration": 288,
    "start_time": "2021-10-28T19:36:05.624Z"
   },
   {
    "duration": 60,
    "start_time": "2021-10-28T19:36:26.954Z"
   },
   {
    "duration": 430,
    "start_time": "2021-10-28T19:37:58.416Z"
   },
   {
    "duration": 20,
    "start_time": "2021-10-28T19:38:17.422Z"
   },
   {
    "duration": 24,
    "start_time": "2021-10-28T19:39:20.677Z"
   },
   {
    "duration": 19,
    "start_time": "2021-10-28T19:39:32.573Z"
   },
   {
    "duration": 370,
    "start_time": "2021-10-28T19:40:15.482Z"
   },
   {
    "duration": 24,
    "start_time": "2021-10-28T19:40:24.696Z"
   },
   {
    "duration": 19,
    "start_time": "2021-10-28T19:42:13.239Z"
   },
   {
    "duration": 25,
    "start_time": "2021-10-28T19:42:28.299Z"
   },
   {
    "duration": 274,
    "start_time": "2021-10-28T19:50:23.176Z"
   },
   {
    "duration": 12,
    "start_time": "2021-10-28T19:50:34.515Z"
   },
   {
    "duration": 18,
    "start_time": "2021-10-28T19:51:24.441Z"
   },
   {
    "duration": 19,
    "start_time": "2021-10-28T19:51:47.761Z"
   },
   {
    "duration": 13,
    "start_time": "2021-10-28T19:57:45.211Z"
   },
   {
    "duration": 41,
    "start_time": "2021-10-28T19:59:06.230Z"
   },
   {
    "duration": 444,
    "start_time": "2021-10-28T19:59:44.064Z"
   },
   {
    "duration": 43,
    "start_time": "2021-10-28T20:03:11.286Z"
   },
   {
    "duration": 14,
    "start_time": "2021-10-28T20:03:16.332Z"
   },
   {
    "duration": 37,
    "start_time": "2021-10-28T20:03:19.288Z"
   },
   {
    "duration": 316,
    "start_time": "2021-10-28T20:43:11.971Z"
   },
   {
    "duration": 43,
    "start_time": "2021-10-28T20:43:30.688Z"
   },
   {
    "duration": 40,
    "start_time": "2021-10-28T20:43:59.128Z"
   },
   {
    "duration": 12,
    "start_time": "2021-10-28T20:44:03.390Z"
   },
   {
    "duration": 357,
    "start_time": "2021-10-28T20:44:05.523Z"
   },
   {
    "duration": 1849,
    "start_time": "2021-10-28T20:44:55.983Z"
   },
   {
    "duration": 1955,
    "start_time": "2021-10-28T20:45:16.880Z"
   },
   {
    "duration": 50,
    "start_time": "2021-10-28T20:46:08.570Z"
   },
   {
    "duration": 40,
    "start_time": "2021-10-28T20:46:48.818Z"
   },
   {
    "duration": 324,
    "start_time": "2021-10-28T20:46:54.403Z"
   },
   {
    "duration": 268,
    "start_time": "2021-10-28T20:46:57.990Z"
   },
   {
    "duration": 56,
    "start_time": "2021-10-28T20:47:01.116Z"
   },
   {
    "duration": 509,
    "start_time": "2021-10-28T20:51:26.015Z"
   },
   {
    "duration": 611,
    "start_time": "2021-10-28T20:51:42.585Z"
   },
   {
    "duration": 383,
    "start_time": "2021-10-28T20:52:31.650Z"
   },
   {
    "duration": 329,
    "start_time": "2021-10-28T20:53:09.256Z"
   },
   {
    "duration": 365,
    "start_time": "2021-10-28T20:54:17.851Z"
   },
   {
    "duration": 329,
    "start_time": "2021-10-28T20:54:28.180Z"
   },
   {
    "duration": 330,
    "start_time": "2021-10-28T20:54:37.068Z"
   },
   {
    "duration": 330,
    "start_time": "2021-10-28T20:54:47.955Z"
   },
   {
    "duration": 3,
    "start_time": "2021-10-28T20:54:58.371Z"
   },
   {
    "duration": 61,
    "start_time": "2021-10-28T20:55:14.647Z"
   },
   {
    "duration": 51,
    "start_time": "2021-10-28T20:56:17.709Z"
   },
   {
    "duration": 293,
    "start_time": "2021-10-28T20:56:24.879Z"
   },
   {
    "duration": 415,
    "start_time": "2021-10-28T20:56:27.444Z"
   },
   {
    "duration": 3,
    "start_time": "2021-10-28T20:56:30.395Z"
   },
   {
    "duration": 62,
    "start_time": "2021-10-28T20:56:32.586Z"
   },
   {
    "duration": 783,
    "start_time": "2021-10-28T21:22:00.758Z"
   },
   {
    "duration": 387,
    "start_time": "2021-10-28T21:22:18.806Z"
   },
   {
    "duration": 44,
    "start_time": "2021-10-28T21:23:40.155Z"
   },
   {
    "duration": 230,
    "start_time": "2021-10-28T21:23:46.686Z"
   },
   {
    "duration": 279,
    "start_time": "2021-10-28T21:23:49.816Z"
   },
   {
    "duration": 4,
    "start_time": "2021-10-28T21:23:54.828Z"
   },
   {
    "duration": 55,
    "start_time": "2021-10-28T21:23:56.639Z"
   },
   {
    "duration": 57035,
    "start_time": "2021-10-28T21:23:59.797Z"
   },
   {
    "duration": 43792,
    "start_time": "2021-10-28T21:28:04.345Z"
   },
   {
    "duration": 44199,
    "start_time": "2021-10-28T21:28:49.887Z"
   },
   {
    "duration": 83352,
    "start_time": "2021-10-28T21:29:40.619Z"
   },
   {
    "duration": 45600,
    "start_time": "2021-10-28T21:31:08.352Z"
   },
   {
    "duration": 7222,
    "start_time": "2021-10-28T21:33:22.686Z"
   },
   {
    "duration": 3591,
    "start_time": "2021-10-28T21:36:03.420Z"
   },
   {
    "duration": 42,
    "start_time": "2021-10-28T21:36:40.582Z"
   },
   {
    "duration": 226,
    "start_time": "2021-10-28T21:36:45.680Z"
   },
   {
    "duration": 294,
    "start_time": "2021-10-28T21:36:49.217Z"
   },
   {
    "duration": 5,
    "start_time": "2021-10-28T21:36:51.744Z"
   },
   {
    "duration": 68,
    "start_time": "2021-10-28T21:36:54.158Z"
   },
   {
    "duration": 3897,
    "start_time": "2021-10-28T21:37:04.894Z"
   },
   {
    "duration": 3010,
    "start_time": "2021-10-28T21:39:45.450Z"
   },
   {
    "duration": 3172,
    "start_time": "2021-10-28T21:41:17.946Z"
   },
   {
    "duration": 2998,
    "start_time": "2021-10-28T21:41:34.232Z"
   },
   {
    "duration": 3294,
    "start_time": "2021-10-28T21:42:12.070Z"
   },
   {
    "duration": 5,
    "start_time": "2021-10-28T21:42:39.871Z"
   },
   {
    "duration": 5,
    "start_time": "2021-10-28T21:42:46.132Z"
   },
   {
    "duration": 5,
    "start_time": "2021-10-28T21:42:58.585Z"
   },
   {
    "duration": 2929,
    "start_time": "2021-10-28T21:43:36.756Z"
   },
   {
    "duration": 3121,
    "start_time": "2021-10-28T21:43:53.812Z"
   },
   {
    "duration": 6307,
    "start_time": "2021-10-28T21:49:48.020Z"
   },
   {
    "duration": 8628,
    "start_time": "2021-10-28T21:50:26.546Z"
   },
   {
    "duration": 7738,
    "start_time": "2021-10-28T21:51:54.976Z"
   },
   {
    "duration": 33458,
    "start_time": "2021-10-28T21:53:01.893Z"
   },
   {
    "duration": 364,
    "start_time": "2021-10-28T21:54:42.563Z"
   },
   {
    "duration": 12448,
    "start_time": "2021-10-28T21:56:00.949Z"
   },
   {
    "duration": 19923,
    "start_time": "2021-10-28T21:56:25.634Z"
   },
   {
    "duration": 27331,
    "start_time": "2021-10-28T21:57:01.833Z"
   },
   {
    "duration": 16416,
    "start_time": "2021-10-28T21:57:59.364Z"
   },
   {
    "duration": 532,
    "start_time": "2021-10-28T22:01:46.138Z"
   },
   {
    "duration": 527,
    "start_time": "2021-10-28T22:01:53.906Z"
   },
   {
    "duration": 577,
    "start_time": "2021-10-28T22:02:18.187Z"
   },
   {
    "duration": 556,
    "start_time": "2021-10-28T22:02:24.094Z"
   },
   {
    "duration": 644,
    "start_time": "2021-10-28T22:02:27.818Z"
   },
   {
    "duration": 579,
    "start_time": "2021-10-28T22:02:32.460Z"
   },
   {
    "duration": 2434,
    "start_time": "2021-10-28T22:03:40.311Z"
   },
   {
    "duration": 605,
    "start_time": "2021-10-28T22:10:22.404Z"
   },
   {
    "duration": 442,
    "start_time": "2021-10-28T22:10:36.763Z"
   },
   {
    "duration": 1408,
    "start_time": "2021-10-28T22:10:39.729Z"
   },
   {
    "duration": 437,
    "start_time": "2021-10-28T22:10:49.949Z"
   },
   {
    "duration": 1281,
    "start_time": "2021-10-28T22:10:52.335Z"
   },
   {
    "duration": 422,
    "start_time": "2021-10-28T22:11:10.112Z"
   },
   {
    "duration": 1126,
    "start_time": "2021-10-28T22:11:12.239Z"
   },
   {
    "duration": 459,
    "start_time": "2021-10-28T22:11:19.218Z"
   },
   {
    "duration": 1150,
    "start_time": "2021-10-28T22:11:21.143Z"
   },
   {
    "duration": 169,
    "start_time": "2021-10-28T22:12:09.022Z"
   },
   {
    "duration": 1188,
    "start_time": "2021-10-28T22:12:20.828Z"
   },
   {
    "duration": 48,
    "start_time": "2021-10-28T22:12:43.703Z"
   },
   {
    "duration": 252,
    "start_time": "2021-10-28T22:12:51.674Z"
   },
   {
    "duration": 306,
    "start_time": "2021-10-28T22:12:54.270Z"
   },
   {
    "duration": 4,
    "start_time": "2021-10-28T22:12:56.874Z"
   },
   {
    "duration": 58,
    "start_time": "2021-10-28T22:12:58.813Z"
   },
   {
    "duration": 586,
    "start_time": "2021-10-28T22:13:16.784Z"
   },
   {
    "duration": 156,
    "start_time": "2021-10-28T22:13:23.455Z"
   },
   {
    "duration": 1305,
    "start_time": "2021-10-28T22:13:25.470Z"
   },
   {
    "duration": 182,
    "start_time": "2021-10-28T22:13:44.115Z"
   },
   {
    "duration": 1195,
    "start_time": "2021-10-28T22:13:46.120Z"
   },
   {
    "duration": 156,
    "start_time": "2021-10-28T22:13:54.595Z"
   },
   {
    "duration": 148,
    "start_time": "2021-10-28T22:14:05.885Z"
   },
   {
    "duration": 1167,
    "start_time": "2021-10-28T22:14:08.186Z"
   },
   {
    "duration": 317,
    "start_time": "2021-10-28T22:18:10.033Z"
   },
   {
    "duration": 29,
    "start_time": "2021-10-28T22:18:22.956Z"
   },
   {
    "duration": 30,
    "start_time": "2021-10-28T22:18:39.893Z"
   },
   {
    "duration": 281,
    "start_time": "2021-10-28T22:21:15.439Z"
   },
   {
    "duration": 303,
    "start_time": "2021-10-28T22:21:30.236Z"
   },
   {
    "duration": 141,
    "start_time": "2021-10-28T22:24:00.066Z"
   },
   {
    "duration": 134,
    "start_time": "2021-10-28T22:24:13.641Z"
   },
   {
    "duration": 7,
    "start_time": "2021-10-28T22:27:27.917Z"
   },
   {
    "duration": 29,
    "start_time": "2021-10-28T22:28:28.157Z"
   },
   {
    "duration": 1543,
    "start_time": "2021-10-29T07:32:29.257Z"
   },
   {
    "duration": 14,
    "start_time": "2021-10-29T07:42:39.927Z"
   },
   {
    "duration": 486,
    "start_time": "2021-10-29T07:46:18.508Z"
   },
   {
    "duration": 338,
    "start_time": "2021-10-29T07:46:41.208Z"
   },
   {
    "duration": 10,
    "start_time": "2021-10-29T07:47:02.128Z"
   },
   {
    "duration": 21,
    "start_time": "2021-10-29T07:47:19.485Z"
   },
   {
    "duration": 15,
    "start_time": "2021-10-29T07:48:12.264Z"
   },
   {
    "duration": 15,
    "start_time": "2021-10-29T07:48:21.214Z"
   },
   {
    "duration": 18,
    "start_time": "2021-10-29T07:49:05.161Z"
   },
   {
    "duration": 14,
    "start_time": "2021-10-29T07:49:07.803Z"
   },
   {
    "duration": 36,
    "start_time": "2021-10-29T07:49:16.077Z"
   },
   {
    "duration": 19,
    "start_time": "2021-10-29T07:49:26.732Z"
   },
   {
    "duration": 24,
    "start_time": "2021-10-29T07:50:37.862Z"
   },
   {
    "duration": 17,
    "start_time": "2021-10-29T07:50:58.568Z"
   },
   {
    "duration": 325,
    "start_time": "2021-10-29T07:51:02.999Z"
   },
   {
    "duration": 529,
    "start_time": "2021-10-29T07:51:06.308Z"
   },
   {
    "duration": 4,
    "start_time": "2021-10-29T07:51:08.600Z"
   },
   {
    "duration": 54,
    "start_time": "2021-10-29T07:51:11.116Z"
   },
   {
    "duration": 371,
    "start_time": "2021-10-29T07:51:20.069Z"
   },
   {
    "duration": 2013,
    "start_time": "2021-10-29T07:51:42.188Z"
   },
   {
    "duration": 1095,
    "start_time": "2021-10-29T07:51:58.393Z"
   },
   {
    "duration": 548,
    "start_time": "2021-10-29T07:52:41.613Z"
   },
   {
    "duration": 15214,
    "start_time": "2021-10-29T07:52:45.209Z"
   },
   {
    "duration": 19033,
    "start_time": "2021-10-29T07:53:01.291Z"
   },
   {
    "duration": 946,
    "start_time": "2021-10-29T07:53:45.300Z"
   },
   {
    "duration": 643,
    "start_time": "2021-10-29T07:53:51.755Z"
   },
   {
    "duration": 609,
    "start_time": "2021-10-29T07:53:59.100Z"
   },
   {
    "duration": 1010,
    "start_time": "2021-10-29T07:54:11.607Z"
   },
   {
    "duration": 35,
    "start_time": "2021-10-29T07:54:37.042Z"
   },
   {
    "duration": 21,
    "start_time": "2021-10-29T07:54:40.804Z"
   },
   {
    "duration": 34,
    "start_time": "2021-10-29T07:54:59.002Z"
   },
   {
    "duration": 16,
    "start_time": "2021-10-29T07:55:02.282Z"
   },
   {
    "duration": 261,
    "start_time": "2021-10-29T07:55:06.778Z"
   },
   {
    "duration": 286,
    "start_time": "2021-10-29T07:55:10.801Z"
   },
   {
    "duration": 4,
    "start_time": "2021-10-29T07:55:13.205Z"
   },
   {
    "duration": 54,
    "start_time": "2021-10-29T07:55:21.279Z"
   },
   {
    "duration": 714,
    "start_time": "2021-10-29T07:55:29.991Z"
   },
   {
    "duration": 28,
    "start_time": "2021-10-29T07:55:43.160Z"
   },
   {
    "duration": 17,
    "start_time": "2021-10-29T07:55:46.915Z"
   },
   {
    "duration": 34,
    "start_time": "2021-10-29T07:56:06.843Z"
   },
   {
    "duration": 20,
    "start_time": "2021-10-29T07:56:09.203Z"
   },
   {
    "duration": 261,
    "start_time": "2021-10-29T07:56:16.635Z"
   },
   {
    "duration": 326,
    "start_time": "2021-10-29T07:56:20.450Z"
   },
   {
    "duration": 4,
    "start_time": "2021-10-29T07:56:22.719Z"
   },
   {
    "duration": 50,
    "start_time": "2021-10-29T07:56:24.228Z"
   },
   {
    "duration": 980,
    "start_time": "2021-10-29T07:56:31.397Z"
   },
   {
    "duration": 972,
    "start_time": "2021-10-29T07:58:25.127Z"
   },
   {
    "duration": 647,
    "start_time": "2021-10-29T08:00:11.681Z"
   },
   {
    "duration": 631,
    "start_time": "2021-10-29T08:02:48.058Z"
   },
   {
    "duration": 34,
    "start_time": "2021-10-29T08:03:12.350Z"
   },
   {
    "duration": 14,
    "start_time": "2021-10-29T08:03:15.211Z"
   },
   {
    "duration": 307,
    "start_time": "2021-10-29T08:03:18.737Z"
   },
   {
    "duration": 290,
    "start_time": "2021-10-29T08:03:23.847Z"
   },
   {
    "duration": 4,
    "start_time": "2021-10-29T08:03:26.397Z"
   },
   {
    "duration": 55,
    "start_time": "2021-10-29T08:03:27.873Z"
   },
   {
    "duration": 731,
    "start_time": "2021-10-29T08:03:35.034Z"
   },
   {
    "duration": 552,
    "start_time": "2021-10-29T08:03:53.566Z"
   },
   {
    "duration": 537,
    "start_time": "2021-10-29T08:04:09.238Z"
   },
   {
    "duration": 556,
    "start_time": "2021-10-29T08:07:54.901Z"
   },
   {
    "duration": 526,
    "start_time": "2021-10-29T08:11:16.209Z"
   },
   {
    "duration": 497,
    "start_time": "2021-10-29T08:12:50.473Z"
   },
   {
    "duration": 511,
    "start_time": "2021-10-29T08:13:04.420Z"
   },
   {
    "duration": 518,
    "start_time": "2021-10-29T08:13:10.113Z"
   },
   {
    "duration": 605,
    "start_time": "2021-10-29T08:14:50.854Z"
   },
   {
    "duration": 522,
    "start_time": "2021-10-29T08:18:03.464Z"
   },
   {
    "duration": 372,
    "start_time": "2021-10-29T08:18:14.407Z"
   },
   {
    "duration": 405,
    "start_time": "2021-10-29T08:18:22.075Z"
   },
   {
    "duration": 1127,
    "start_time": "2021-10-29T08:18:25.157Z"
   },
   {
    "duration": 813,
    "start_time": "2021-10-29T08:20:47.456Z"
   },
   {
    "duration": 910,
    "start_time": "2021-10-29T08:20:57.380Z"
   },
   {
    "duration": 1041,
    "start_time": "2021-10-29T08:21:21.057Z"
   },
   {
    "duration": 558,
    "start_time": "2021-10-29T08:21:30.478Z"
   },
   {
    "duration": 127,
    "start_time": "2021-10-29T08:43:11.503Z"
   },
   {
    "duration": 882,
    "start_time": "2021-10-29T08:43:28.000Z"
   },
   {
    "duration": 33,
    "start_time": "2021-10-29T08:45:42.426Z"
   },
   {
    "duration": 19,
    "start_time": "2021-10-29T08:45:44.646Z"
   },
   {
    "duration": 300,
    "start_time": "2021-10-29T08:45:50.565Z"
   },
   {
    "duration": 324,
    "start_time": "2021-10-29T08:45:59.305Z"
   },
   {
    "duration": 5,
    "start_time": "2021-10-29T08:46:01.053Z"
   },
   {
    "duration": 51,
    "start_time": "2021-10-29T08:46:04.967Z"
   },
   {
    "duration": 3103,
    "start_time": "2021-10-29T08:46:21.775Z"
   },
   {
    "duration": 967,
    "start_time": "2021-10-29T08:50:25.352Z"
   },
   {
    "duration": 17,
    "start_time": "2021-10-29T08:59:22.073Z"
   },
   {
    "duration": 33,
    "start_time": "2021-10-29T08:59:25.947Z"
   },
   {
    "duration": 13,
    "start_time": "2021-10-29T08:59:29.970Z"
   },
   {
    "duration": 33,
    "start_time": "2021-10-29T09:11:50.709Z"
   },
   {
    "duration": 21,
    "start_time": "2021-10-29T09:11:54.895Z"
   },
   {
    "duration": 233,
    "start_time": "2021-10-29T09:11:59.899Z"
   },
   {
    "duration": 282,
    "start_time": "2021-10-29T09:12:03.940Z"
   },
   {
    "duration": 4,
    "start_time": "2021-10-29T09:12:07.469Z"
   },
   {
    "duration": 727,
    "start_time": "2021-10-29T09:12:18.917Z"
   },
   {
    "duration": 984,
    "start_time": "2021-10-29T09:12:55.422Z"
   },
   {
    "duration": 890,
    "start_time": "2021-10-29T09:13:33.002Z"
   },
   {
    "duration": 932,
    "start_time": "2021-10-29T09:13:43.268Z"
   },
   {
    "duration": 1222,
    "start_time": "2021-10-29T09:14:20.142Z"
   },
   {
    "duration": 864,
    "start_time": "2021-10-29T09:15:23.979Z"
   },
   {
    "duration": 850,
    "start_time": "2021-10-29T09:15:38.593Z"
   },
   {
    "duration": 47,
    "start_time": "2021-10-29T09:16:09.358Z"
   },
   {
    "duration": 27,
    "start_time": "2021-10-29T09:16:13.499Z"
   },
   {
    "duration": 291,
    "start_time": "2021-10-29T09:16:17.531Z"
   },
   {
    "duration": 343,
    "start_time": "2021-10-29T09:16:20.072Z"
   },
   {
    "duration": 4,
    "start_time": "2021-10-29T09:16:22.591Z"
   },
   {
    "duration": 1016,
    "start_time": "2021-10-29T09:16:34.552Z"
   },
   {
    "duration": 639,
    "start_time": "2021-10-29T09:16:45.775Z"
   },
   {
    "duration": 631,
    "start_time": "2021-10-29T09:17:25.599Z"
   },
   {
    "duration": 658,
    "start_time": "2021-10-29T09:17:57.803Z"
   },
   {
    "duration": 1027,
    "start_time": "2021-10-29T09:21:37.554Z"
   },
   {
    "duration": 659,
    "start_time": "2021-10-29T09:21:54.076Z"
   },
   {
    "duration": 626,
    "start_time": "2021-10-29T09:22:56.397Z"
   },
   {
    "duration": 1012,
    "start_time": "2021-10-29T09:23:05.003Z"
   },
   {
    "duration": 642,
    "start_time": "2021-10-29T09:23:23.738Z"
   },
   {
    "duration": 587,
    "start_time": "2021-10-29T09:23:56.071Z"
   },
   {
    "duration": 6,
    "start_time": "2021-10-29T09:24:11.477Z"
   },
   {
    "duration": 39,
    "start_time": "2021-10-29T09:24:59.484Z"
   },
   {
    "duration": 33,
    "start_time": "2021-10-29T09:25:15.311Z"
   },
   {
    "duration": 7,
    "start_time": "2021-10-29T09:25:23.617Z"
   },
   {
    "duration": 19,
    "start_time": "2021-10-29T09:25:42.233Z"
   },
   {
    "duration": 23,
    "start_time": "2021-10-29T09:25:50.462Z"
   },
   {
    "duration": 8,
    "start_time": "2021-10-29T09:26:18.771Z"
   },
   {
    "duration": 33,
    "start_time": "2021-10-29T09:26:21.953Z"
   },
   {
    "duration": 7,
    "start_time": "2021-10-29T09:26:25.149Z"
   },
   {
    "duration": 8,
    "start_time": "2021-10-29T09:26:33.403Z"
   },
   {
    "duration": 35,
    "start_time": "2021-10-29T09:27:22.069Z"
   },
   {
    "duration": 7,
    "start_time": "2021-10-29T09:27:24.527Z"
   },
   {
    "duration": 331,
    "start_time": "2021-10-29T09:27:30.348Z"
   },
   {
    "duration": 467,
    "start_time": "2021-10-29T09:27:35.125Z"
   },
   {
    "duration": 4,
    "start_time": "2021-10-29T09:27:39.082Z"
   },
   {
    "duration": 724,
    "start_time": "2021-10-29T09:27:46.575Z"
   },
   {
    "duration": 690,
    "start_time": "2021-10-29T09:27:52.703Z"
   },
   {
    "duration": 799,
    "start_time": "2021-10-29T09:27:59.409Z"
   },
   {
    "duration": 85,
    "start_time": "2021-10-29T09:29:13.140Z"
   },
   {
    "duration": 727,
    "start_time": "2021-10-29T09:29:21.171Z"
   },
   {
    "duration": 2837,
    "start_time": "2021-10-29T09:29:40.070Z"
   },
   {
    "duration": 521,
    "start_time": "2021-10-29T09:29:55.623Z"
   },
   {
    "duration": 1595,
    "start_time": "2021-10-29T09:29:57.792Z"
   },
   {
    "duration": 715,
    "start_time": "2021-10-29T09:30:22.297Z"
   },
   {
    "duration": 520,
    "start_time": "2021-10-29T09:30:25.852Z"
   },
   {
    "duration": 1603,
    "start_time": "2021-10-29T09:30:28.883Z"
   },
   {
    "duration": 35,
    "start_time": "2021-10-29T09:31:29.057Z"
   },
   {
    "duration": 33,
    "start_time": "2021-10-29T09:31:39.008Z"
   },
   {
    "duration": 25,
    "start_time": "2021-10-29T09:31:42.561Z"
   },
   {
    "duration": 220,
    "start_time": "2021-10-29T09:31:47.992Z"
   },
   {
    "duration": 450,
    "start_time": "2021-10-29T09:31:50.471Z"
   },
   {
    "duration": 5,
    "start_time": "2021-10-29T09:31:53.712Z"
   },
   {
    "duration": 57,
    "start_time": "2021-10-29T09:31:55.468Z"
   },
   {
    "duration": 59,
    "start_time": "2021-10-29T09:32:11.958Z"
   },
   {
    "duration": 524,
    "start_time": "2021-10-29T09:32:27.326Z"
   },
   {
    "duration": 1478,
    "start_time": "2021-10-29T09:32:30.788Z"
   },
   {
    "duration": 41,
    "start_time": "2021-10-29T09:32:46.978Z"
   },
   {
    "duration": 10,
    "start_time": "2021-10-29T09:32:51.196Z"
   },
   {
    "duration": 327,
    "start_time": "2021-10-29T09:32:56.905Z"
   },
   {
    "duration": 344,
    "start_time": "2021-10-29T09:33:08.086Z"
   },
   {
    "duration": 4,
    "start_time": "2021-10-29T09:33:12.702Z"
   },
   {
    "duration": 87,
    "start_time": "2021-10-29T09:33:15.290Z"
   },
   {
    "duration": 676,
    "start_time": "2021-10-29T09:33:25.330Z"
   },
   {
    "duration": 628,
    "start_time": "2021-10-29T09:33:30.035Z"
   },
   {
    "duration": 1438,
    "start_time": "2021-10-29T09:33:32.720Z"
   },
   {
    "duration": 35,
    "start_time": "2021-10-29T09:33:57.314Z"
   },
   {
    "duration": 30,
    "start_time": "2021-10-29T09:33:59.462Z"
   },
   {
    "duration": 292,
    "start_time": "2021-10-29T09:34:07.304Z"
   },
   {
    "duration": 538,
    "start_time": "2021-10-29T09:34:12.709Z"
   },
   {
    "duration": 5,
    "start_time": "2021-10-29T09:34:16.835Z"
   },
   {
    "duration": 61,
    "start_time": "2021-10-29T09:34:19.250Z"
   },
   {
    "duration": 570,
    "start_time": "2021-10-29T09:34:24.590Z"
   },
   {
    "duration": 17453,
    "start_time": "2021-10-29T09:34:27.972Z"
   },
   {
    "duration": 21548,
    "start_time": "2021-10-29T09:34:47.798Z"
   },
   {
    "duration": 677,
    "start_time": "2021-10-29T09:35:15.991Z"
   },
   {
    "duration": 1388,
    "start_time": "2021-10-29T09:35:32.531Z"
   },
   {
    "duration": 170,
    "start_time": "2021-10-29T09:35:42.196Z"
   },
   {
    "duration": 1369,
    "start_time": "2021-10-29T09:35:45.627Z"
   },
   {
    "duration": 363,
    "start_time": "2021-10-29T09:35:59.484Z"
   },
   {
    "duration": 41,
    "start_time": "2021-10-29T09:36:18.814Z"
   },
   {
    "duration": 455,
    "start_time": "2021-10-29T09:36:29.185Z"
   },
   {
    "duration": 259,
    "start_time": "2021-10-29T09:36:37.840Z"
   },
   {
    "duration": 41,
    "start_time": "2021-10-29T09:36:41.541Z"
   },
   {
    "duration": 615,
    "start_time": "2021-10-29T09:37:05.104Z"
   },
   {
    "duration": 1547,
    "start_time": "2021-10-29T09:37:07.446Z"
   },
   {
    "duration": 843,
    "start_time": "2021-10-29T09:37:12.871Z"
   },
   {
    "duration": 2429,
    "start_time": "2021-10-29T09:37:18.282Z"
   },
   {
    "duration": 648,
    "start_time": "2021-10-29T09:37:24.582Z"
   },
   {
    "duration": 1529,
    "start_time": "2021-10-29T09:37:26.915Z"
   },
   {
    "duration": 35,
    "start_time": "2021-10-29T09:37:49.607Z"
   },
   {
    "duration": 16,
    "start_time": "2021-10-29T09:37:52.778Z"
   },
   {
    "duration": 246,
    "start_time": "2021-10-29T09:37:56.876Z"
   },
   {
    "duration": 293,
    "start_time": "2021-10-29T09:38:00.037Z"
   },
   {
    "duration": 3,
    "start_time": "2021-10-29T09:38:02.909Z"
   },
   {
    "duration": 56,
    "start_time": "2021-10-29T09:38:05.661Z"
   },
   {
    "duration": 17098,
    "start_time": "2021-10-29T09:38:29.292Z"
   },
   {
    "duration": 22941,
    "start_time": "2021-10-29T09:38:57.449Z"
   },
   {
    "duration": 351,
    "start_time": "2021-10-29T09:39:37.632Z"
   },
   {
    "duration": 1610,
    "start_time": "2021-10-29T09:39:50.574Z"
   },
   {
    "duration": 415,
    "start_time": "2021-10-29T09:39:55.173Z"
   },
   {
    "duration": 970,
    "start_time": "2021-10-29T09:39:57.089Z"
   },
   {
    "duration": 149,
    "start_time": "2021-10-29T09:40:17.845Z"
   },
   {
    "duration": 883,
    "start_time": "2021-10-29T09:40:21.094Z"
   },
   {
    "duration": 273,
    "start_time": "2021-10-29T09:41:01.759Z"
   },
   {
    "duration": 28,
    "start_time": "2021-10-29T09:41:25.561Z"
   },
   {
    "duration": 368,
    "start_time": "2021-10-29T09:42:25.429Z"
   },
   {
    "duration": 391,
    "start_time": "2021-10-29T09:42:37.425Z"
   },
   {
    "duration": 77,
    "start_time": "2021-10-29T09:42:58.299Z"
   },
   {
    "duration": 91,
    "start_time": "2021-10-29T09:44:35.934Z"
   },
   {
    "duration": 140,
    "start_time": "2021-10-29T09:44:51.201Z"
   },
   {
    "duration": 235,
    "start_time": "2021-10-29T09:45:11.891Z"
   },
   {
    "duration": 281,
    "start_time": "2021-10-29T09:45:52.910Z"
   },
   {
    "duration": 146,
    "start_time": "2021-10-29T11:18:04.675Z"
   },
   {
    "duration": 343,
    "start_time": "2021-10-29T12:07:28.099Z"
   },
   {
    "duration": 9,
    "start_time": "2021-10-29T12:08:10.155Z"
   },
   {
    "duration": 10,
    "start_time": "2021-10-29T12:08:18.315Z"
   },
   {
    "duration": 10,
    "start_time": "2021-10-29T12:08:35.230Z"
   },
   {
    "duration": 15,
    "start_time": "2021-10-29T12:09:00.630Z"
   },
   {
    "duration": 209,
    "start_time": "2021-10-29T12:09:16.972Z"
   },
   {
    "duration": 115,
    "start_time": "2021-10-29T12:09:26.855Z"
   },
   {
    "duration": 206,
    "start_time": "2021-10-29T12:09:33.687Z"
   },
   {
    "duration": 445,
    "start_time": "2021-10-29T12:10:34.316Z"
   },
   {
    "duration": 387,
    "start_time": "2021-10-29T12:10:59.255Z"
   },
   {
    "duration": 293,
    "start_time": "2021-10-29T12:11:26.543Z"
   },
   {
    "duration": 220,
    "start_time": "2021-10-29T12:18:21.758Z"
   },
   {
    "duration": 210,
    "start_time": "2021-10-29T12:22:04.165Z"
   },
   {
    "duration": 16,
    "start_time": "2021-10-29T12:22:15.667Z"
   },
   {
    "duration": 217,
    "start_time": "2021-10-29T12:22:19.833Z"
   },
   {
    "duration": 283,
    "start_time": "2021-10-29T12:22:26.569Z"
   },
   {
    "duration": 4,
    "start_time": "2021-10-29T12:22:30.370Z"
   },
   {
    "duration": 54,
    "start_time": "2021-10-29T12:22:36.558Z"
   },
   {
    "duration": 364,
    "start_time": "2021-10-29T12:22:51.794Z"
   },
   {
    "duration": 439,
    "start_time": "2021-10-29T12:23:01.408Z"
   },
   {
    "duration": 883,
    "start_time": "2021-10-29T12:23:05.580Z"
   },
   {
    "duration": 5587,
    "start_time": "2021-10-29T12:23:57.657Z"
   },
   {
    "duration": 5463,
    "start_time": "2021-10-29T12:24:09.031Z"
   },
   {
    "duration": 881,
    "start_time": "2021-10-29T12:24:42.696Z"
   },
   {
    "duration": 914,
    "start_time": "2021-10-29T12:25:26.287Z"
   },
   {
    "duration": 904,
    "start_time": "2021-10-29T12:25:51.905Z"
   },
   {
    "duration": 883,
    "start_time": "2021-10-29T12:26:03.716Z"
   },
   {
    "duration": 1147,
    "start_time": "2021-10-29T12:26:48.419Z"
   },
   {
    "duration": 911,
    "start_time": "2021-10-29T12:28:34.071Z"
   },
   {
    "duration": 202,
    "start_time": "2021-10-29T12:28:42.477Z"
   },
   {
    "duration": 893,
    "start_time": "2021-10-29T12:28:45.048Z"
   },
   {
    "duration": 87,
    "start_time": "2021-10-29T12:29:07.291Z"
   },
   {
    "duration": 149,
    "start_time": "2021-10-29T12:29:11.479Z"
   },
   {
    "duration": 87,
    "start_time": "2021-10-29T12:29:18.479Z"
   },
   {
    "duration": 396,
    "start_time": "2021-10-29T12:32:42.988Z"
   },
   {
    "duration": 400,
    "start_time": "2021-10-29T12:32:51.844Z"
   },
   {
    "duration": 149,
    "start_time": "2021-10-29T12:33:22.679Z"
   },
   {
    "duration": 87,
    "start_time": "2021-10-29T12:33:54.337Z"
   },
   {
    "duration": 85,
    "start_time": "2021-10-29T12:33:59.963Z"
   },
   {
    "duration": 885,
    "start_time": "2021-10-29T12:34:45.744Z"
   },
   {
    "duration": 286,
    "start_time": "2021-10-29T12:44:04.356Z"
   },
   {
    "duration": 332,
    "start_time": "2021-10-29T12:44:09.732Z"
   },
   {
    "duration": 230,
    "start_time": "2021-10-29T12:44:13.864Z"
   },
   {
    "duration": 418,
    "start_time": "2021-10-29T12:44:18.935Z"
   },
   {
    "duration": 244,
    "start_time": "2021-10-29T12:45:06.699Z"
   },
   {
    "duration": 269,
    "start_time": "2021-10-29T12:45:11.783Z"
   },
   {
    "duration": 547,
    "start_time": "2021-10-29T12:45:17.395Z"
   },
   {
    "duration": 238,
    "start_time": "2021-10-29T12:45:27.944Z"
   },
   {
    "duration": 505,
    "start_time": "2021-10-29T12:45:30.419Z"
   },
   {
    "duration": 230,
    "start_time": "2021-10-29T12:45:35.833Z"
   },
   {
    "duration": 404,
    "start_time": "2021-10-29T12:45:37.900Z"
   },
   {
    "duration": 159,
    "start_time": "2021-10-29T12:46:26.119Z"
   },
   {
    "duration": 148,
    "start_time": "2021-10-29T12:46:32.150Z"
   },
   {
    "duration": 168,
    "start_time": "2021-10-29T12:46:39.826Z"
   },
   {
    "duration": 100,
    "start_time": "2021-10-29T12:46:46.521Z"
   },
   {
    "duration": 195,
    "start_time": "2021-10-29T12:46:50.411Z"
   },
   {
    "duration": 134,
    "start_time": "2021-10-29T12:46:52.658Z"
   },
   {
    "duration": 225,
    "start_time": "2021-10-29T12:46:57.180Z"
   },
   {
    "duration": 158,
    "start_time": "2021-10-29T12:46:59.497Z"
   },
   {
    "duration": 513,
    "start_time": "2021-10-31T11:56:14.659Z"
   },
   {
    "duration": 38,
    "start_time": "2021-10-31T11:56:19.431Z"
   },
   {
    "duration": 8,
    "start_time": "2021-10-31T11:56:33.618Z"
   },
   {
    "duration": 201,
    "start_time": "2021-10-31T11:56:42.028Z"
   },
   {
    "duration": 279,
    "start_time": "2021-10-31T11:56:45.544Z"
   },
   {
    "duration": 3,
    "start_time": "2021-10-31T11:56:50.237Z"
   },
   {
    "duration": 39,
    "start_time": "2021-10-31T11:56:52.411Z"
   },
   {
    "duration": 467,
    "start_time": "2021-10-31T11:57:51.426Z"
   },
   {
    "duration": 2311,
    "start_time": "2021-10-31T11:58:16.086Z"
   },
   {
    "duration": 312086,
    "start_time": "2021-10-31T11:59:55.190Z"
   },
   {
    "duration": 337,
    "start_time": "2021-10-31T12:05:28.203Z"
   },
   {
    "duration": 350,
    "start_time": "2021-10-31T12:05:57.070Z"
   },
   {
    "duration": 440,
    "start_time": "2021-10-31T12:06:04.481Z"
   },
   {
    "duration": 218,
    "start_time": "2021-10-31T12:06:13.389Z"
   },
   {
    "duration": 289,
    "start_time": "2021-10-31T12:06:27.425Z"
   },
   {
    "duration": 264,
    "start_time": "2021-10-31T12:06:31.795Z"
   },
   {
    "duration": 578,
    "start_time": "2021-10-31T12:06:36.154Z"
   },
   {
    "duration": 25614,
    "start_time": "2021-10-31T12:07:13.780Z"
   },
   {
    "duration": 264,
    "start_time": "2021-10-31T12:09:06.909Z"
   },
   {
    "duration": 1159,
    "start_time": "2021-10-31T12:09:11.997Z"
   },
   {
    "duration": 357,
    "start_time": "2021-10-31T12:10:03.310Z"
   },
   {
    "duration": 222,
    "start_time": "2021-10-31T12:10:08.086Z"
   },
   {
    "duration": 238,
    "start_time": "2021-10-31T12:10:15.634Z"
   },
   {
    "duration": 268,
    "start_time": "2021-10-31T12:10:19.353Z"
   },
   {
    "duration": 864,
    "start_time": "2021-10-31T12:10:35.571Z"
   },
   {
    "duration": 26,
    "start_time": "2021-10-31T12:10:52.424Z"
   },
   {
    "duration": 10,
    "start_time": "2021-10-31T12:10:57.343Z"
   },
   {
    "duration": 156,
    "start_time": "2021-10-31T12:11:01.369Z"
   },
   {
    "duration": 227,
    "start_time": "2021-10-31T12:11:03.965Z"
   },
   {
    "duration": 3,
    "start_time": "2021-10-31T12:11:07.333Z"
   },
   {
    "duration": 37,
    "start_time": "2021-10-31T12:11:10.147Z"
   },
   {
    "duration": 2077,
    "start_time": "2021-10-31T12:11:23.066Z"
   },
   {
    "duration": 216,
    "start_time": "2021-10-31T12:11:29.763Z"
   },
   {
    "duration": 592,
    "start_time": "2021-10-31T12:11:32.709Z"
   },
   {
    "duration": 19813,
    "start_time": "2021-10-31T12:11:47.175Z"
   },
   {
    "duration": 462,
    "start_time": "2021-10-31T12:12:15.631Z"
   },
   {
    "duration": 222,
    "start_time": "2021-10-31T12:12:19.748Z"
   },
   {
    "duration": 462,
    "start_time": "2021-10-31T12:12:21.522Z"
   },
   {
    "duration": 461177,
    "start_time": "2021-10-31T12:12:38.583Z"
   },
   {
    "duration": 281212,
    "start_time": "2021-10-31T12:34:32.079Z"
   },
   {
    "duration": 112,
    "start_time": "2021-10-31T12:40:43.683Z"
   },
   {
    "duration": 1182222,
    "start_time": "2021-10-31T12:42:58.044Z"
   },
   {
    "duration": 503,
    "start_time": "2021-10-31T13:02:55.410Z"
   },
   {
    "duration": 58785,
    "start_time": "2021-10-31T13:03:32.105Z"
   },
   {
    "duration": -105,
    "start_time": "2021-10-31T13:04:30.997Z"
   },
   {
    "duration": 117,
    "start_time": "2021-10-31T13:04:37.939Z"
   },
   {
    "duration": 404,
    "start_time": "2021-10-31T13:04:46.490Z"
   },
   {
    "duration": 116,
    "start_time": "2021-10-31T13:05:08.829Z"
   },
   {
    "duration": 57724,
    "start_time": "2021-10-31T13:05:36.039Z"
   },
   {
    "duration": 4,
    "start_time": "2021-10-31T13:06:45.895Z"
   },
   {
    "duration": 97,
    "start_time": "2021-10-31T13:07:47.463Z"
   },
   {
    "duration": 113,
    "start_time": "2021-10-31T13:08:21.213Z"
   },
   {
    "duration": 124,
    "start_time": "2021-10-31T13:08:27.277Z"
   },
   {
    "duration": 273241,
    "start_time": "2021-10-31T13:08:54.128Z"
   },
   {
    "duration": 4,
    "start_time": "2021-10-31T13:13:32.618Z"
   },
   {
    "duration": 119,
    "start_time": "2021-10-31T13:13:48.155Z"
   },
   {
    "duration": 217,
    "start_time": "2021-10-31T13:13:56.038Z"
   },
   {
    "duration": 201,
    "start_time": "2021-10-31T13:14:38.914Z"
   },
   {
    "duration": 197,
    "start_time": "2021-10-31T13:17:15.872Z"
   },
   {
    "duration": 163,
    "start_time": "2021-10-31T13:17:18.484Z"
   },
   {
    "duration": 176,
    "start_time": "2021-10-31T13:17:23.827Z"
   },
   {
    "duration": 145,
    "start_time": "2021-10-31T13:17:26.085Z"
   },
   {
    "duration": 235,
    "start_time": "2021-10-31T13:17:29.967Z"
   },
   {
    "duration": 194,
    "start_time": "2021-10-31T13:17:34.888Z"
   },
   {
    "duration": 313,
    "start_time": "2021-10-31T13:17:39.593Z"
   },
   {
    "duration": 274,
    "start_time": "2021-10-31T13:17:41.995Z"
   },
   {
    "duration": 29,
    "start_time": "2021-10-31T13:20:24.408Z"
   },
   {
    "duration": 8,
    "start_time": "2021-10-31T13:21:04.326Z"
   },
   {
    "duration": 416,
    "start_time": "2021-10-31T13:21:09.590Z"
   },
   {
    "duration": 278,
    "start_time": "2021-10-31T13:21:12.715Z"
   },
   {
    "duration": 3,
    "start_time": "2021-10-31T13:21:16.255Z"
   },
   {
    "duration": 38,
    "start_time": "2021-10-31T13:22:03.362Z"
   },
   {
    "duration": 281006,
    "start_time": "2021-10-31T13:22:18.920Z"
   },
   {
    "duration": 68364,
    "start_time": "2021-10-31T13:50:21.841Z"
   },
   {
    "duration": 473,
    "start_time": "2021-10-31T13:53:06.063Z"
   },
   {
    "duration": 28,
    "start_time": "2021-10-31T13:54:16.450Z"
   },
   {
    "duration": 6,
    "start_time": "2021-10-31T13:54:21.161Z"
   },
   {
    "duration": 198,
    "start_time": "2021-10-31T13:54:25.942Z"
   },
   {
    "duration": 268,
    "start_time": "2021-10-31T13:54:29.175Z"
   },
   {
    "duration": 3,
    "start_time": "2021-10-31T13:54:33.960Z"
   },
   {
    "duration": 40,
    "start_time": "2021-10-31T13:54:37.243Z"
   },
   {
    "duration": 162132,
    "start_time": "2021-10-31T13:54:42.738Z"
   },
   {
    "duration": 372,
    "start_time": "2021-10-31T13:57:59.875Z"
   },
   {
    "duration": 536,
    "start_time": "2021-10-31T14:01:16.710Z"
   },
   {
    "duration": 8907,
    "start_time": "2021-10-31T14:01:29.687Z"
   },
   {
    "duration": 361,
    "start_time": "2021-10-31T14:02:51.995Z"
   },
   {
    "duration": 362,
    "start_time": "2021-10-31T14:03:09.968Z"
   },
   {
    "duration": 367,
    "start_time": "2021-10-31T14:03:17.945Z"
   },
   {
    "duration": 165710,
    "start_time": "2021-10-31T14:05:55.116Z"
   },
   {
    "duration": 437,
    "start_time": "2021-10-31T14:08:46.680Z"
   },
   {
    "duration": 239724,
    "start_time": "2021-10-31T14:10:42.251Z"
   },
   {
    "duration": 720,
    "start_time": "2021-10-31T14:14:46.630Z"
   },
   {
    "duration": 112103,
    "start_time": "2021-10-31T14:21:50.504Z"
   },
   {
    "duration": 5,
    "start_time": "2021-10-31T14:24:06.975Z"
   },
   {
    "duration": 361,
    "start_time": "2021-10-31T14:25:01.302Z"
   },
   {
    "duration": 111675,
    "start_time": "2021-10-31T14:25:14.666Z"
   },
   {
    "duration": 5,
    "start_time": "2021-10-31T14:27:09.865Z"
   },
   {
    "duration": 1078,
    "start_time": "2021-10-31T14:27:41.217Z"
   },
   {
    "duration": 958,
    "start_time": "2021-10-31T14:28:15.450Z"
   },
   {
    "duration": 763,
    "start_time": "2021-10-31T14:29:04.987Z"
   },
   {
    "duration": 932,
    "start_time": "2021-10-31T14:29:15.574Z"
   },
   {
    "duration": 18583,
    "start_time": "2021-10-31T14:30:49.924Z"
   },
   {
    "duration": 879,
    "start_time": "2021-10-31T14:31:14.344Z"
   },
   {
    "duration": 22372,
    "start_time": "2021-10-31T14:33:47.790Z"
   },
   {
    "duration": 27,
    "start_time": "2021-10-31T15:55:57.382Z"
   },
   {
    "duration": 11,
    "start_time": "2021-10-31T15:56:03.259Z"
   },
   {
    "duration": 160,
    "start_time": "2021-10-31T15:56:10.173Z"
   },
   {
    "duration": 236,
    "start_time": "2021-10-31T15:56:28.286Z"
   },
   {
    "duration": 38,
    "start_time": "2021-10-31T15:58:27.047Z"
   },
   {
    "duration": 268,
    "start_time": "2021-10-31T15:58:32.443Z"
   },
   {
    "duration": 7898,
    "start_time": "2021-10-31T15:59:31.229Z"
   },
   {
    "duration": 21932,
    "start_time": "2021-10-31T15:59:49.864Z"
   },
   {
    "duration": 750,
    "start_time": "2021-10-31T16:00:47.879Z"
   },
   {
    "duration": 85,
    "start_time": "2021-10-31T16:02:55.724Z"
   },
   {
    "duration": 84,
    "start_time": "2021-10-31T16:03:09.847Z"
   },
   {
    "duration": 8075,
    "start_time": "2021-10-31T16:03:49.031Z"
   },
   {
    "duration": 255,
    "start_time": "2021-10-31T16:04:09.394Z"
   },
   {
    "duration": 279,
    "start_time": "2021-10-31T16:06:03.773Z"
   },
   {
    "duration": 102,
    "start_time": "2021-10-31T16:06:18.430Z"
   },
   {
    "duration": 27,
    "start_time": "2021-10-31T17:11:59.607Z"
   },
   {
    "duration": 7,
    "start_time": "2021-10-31T17:12:05.956Z"
   },
   {
    "duration": 202,
    "start_time": "2021-10-31T17:12:10.243Z"
   },
   {
    "duration": 293,
    "start_time": "2021-10-31T17:12:12.839Z"
   },
   {
    "duration": 3,
    "start_time": "2021-10-31T17:12:17.359Z"
   },
   {
    "duration": 42,
    "start_time": "2021-10-31T17:12:20.271Z"
   },
   {
    "duration": 336,
    "start_time": "2021-10-31T17:12:29.274Z"
   },
   {
    "duration": 10172,
    "start_time": "2021-10-31T17:12:31.793Z"
   },
   {
    "duration": 352,
    "start_time": "2021-10-31T17:12:48.485Z"
   },
   {
    "duration": 25669,
    "start_time": "2021-10-31T17:13:03.074Z"
   },
   {
    "duration": 99594,
    "start_time": "2021-10-31T17:13:38.713Z"
   },
   {
    "duration": 7929,
    "start_time": "2021-10-31T17:16:12.577Z"
   },
   {
    "duration": 8146,
    "start_time": "2021-10-31T17:16:48.250Z"
   },
   {
    "duration": 7883,
    "start_time": "2021-10-31T17:17:08.354Z"
   },
   {
    "duration": 8549,
    "start_time": "2021-10-31T17:17:45.457Z"
   },
   {
    "duration": 15454,
    "start_time": "2021-10-31T17:18:08.619Z"
   },
   {
    "duration": 328,
    "start_time": "2021-10-31T17:19:18.014Z"
   },
   {
    "duration": 347,
    "start_time": "2021-10-31T17:19:35.839Z"
   },
   {
    "duration": 907,
    "start_time": "2021-10-31T17:19:44.134Z"
   },
   {
    "duration": 350,
    "start_time": "2021-10-31T17:19:50.733Z"
   },
   {
    "duration": 29,
    "start_time": "2021-10-31T17:20:13.191Z"
   },
   {
    "duration": 10,
    "start_time": "2021-10-31T17:20:17.692Z"
   },
   {
    "duration": 158,
    "start_time": "2021-10-31T17:20:28.687Z"
   },
   {
    "duration": 229,
    "start_time": "2021-10-31T17:20:31.243Z"
   },
   {
    "duration": 3,
    "start_time": "2021-10-31T17:20:36.000Z"
   },
   {
    "duration": 30,
    "start_time": "2021-10-31T17:20:38.052Z"
   },
   {
    "duration": 288,
    "start_time": "2021-10-31T17:20:54.279Z"
   },
   {
    "duration": 111,
    "start_time": "2021-10-31T17:21:07.143Z"
   },
   {
    "duration": 6156,
    "start_time": "2021-10-31T17:21:09.925Z"
   },
   {
    "duration": 6114,
    "start_time": "2021-10-31T17:21:17.486Z"
   },
   {
    "duration": 27,
    "start_time": "2021-10-31T19:39:19.983Z"
   },
   {
    "duration": 401,
    "start_time": "2021-10-31T19:39:26.998Z"
   },
   {
    "duration": 13,
    "start_time": "2021-10-31T19:39:38.970Z"
   },
   {
    "duration": 18,
    "start_time": "2021-10-31T19:39:46.332Z"
   },
   {
    "duration": 13,
    "start_time": "2021-10-31T19:40:22.611Z"
   },
   {
    "duration": 3,
    "start_time": "2021-10-31T19:40:58.046Z"
   },
   {
    "duration": 28,
    "start_time": "2021-10-31T19:41:01.959Z"
   },
   {
    "duration": 28,
    "start_time": "2021-10-31T19:48:25.779Z"
   },
   {
    "duration": 13,
    "start_time": "2021-10-31T19:48:32.999Z"
   },
   {
    "duration": 17,
    "start_time": "2021-10-31T19:48:37.945Z"
   },
   {
    "duration": 12,
    "start_time": "2021-10-31T19:49:05.707Z"
   },
   {
    "duration": 2,
    "start_time": "2021-10-31T19:49:09.803Z"
   },
   {
    "duration": 27,
    "start_time": "2021-10-31T19:49:12.209Z"
   },
   {
    "duration": 4,
    "start_time": "2021-10-31T19:57:56.427Z"
   },
   {
    "duration": 349,
    "start_time": "2021-10-31T19:58:25.075Z"
   },
   {
    "duration": 691,
    "start_time": "2021-10-31T19:58:33.377Z"
   },
   {
    "duration": 4,
    "start_time": "2021-10-31T19:59:13.696Z"
   },
   {
    "duration": 59,
    "start_time": "2021-10-31T19:59:16.058Z"
   },
   {
    "duration": 405,
    "start_time": "2021-10-31T19:59:32.802Z"
   },
   {
    "duration": 416,
    "start_time": "2021-10-31T19:59:45.255Z"
   },
   {
    "duration": 1075,
    "start_time": "2021-10-31T20:00:13.853Z"
   },
   {
    "duration": 423,
    "start_time": "2021-10-31T20:00:34.303Z"
   },
   {
    "duration": 54358,
    "start_time": "2021-10-31T20:02:39.848Z"
   },
   {
    "duration": 107,
    "start_time": "2021-10-31T20:09:35.404Z"
   },
   {
    "duration": 51675,
    "start_time": "2021-10-31T20:09:42.719Z"
   },
   {
    "duration": 178,
    "start_time": "2021-10-31T20:11:06.287Z"
   },
   {
    "duration": 195,
    "start_time": "2021-10-31T20:12:55.564Z"
   },
   {
    "duration": 145061,
    "start_time": "2021-10-31T20:13:27.861Z"
   },
   {
    "duration": 88,
    "start_time": "2021-10-31T20:16:11.312Z"
   },
   {
    "duration": 88,
    "start_time": "2021-10-31T20:16:49.426Z"
   },
   {
    "duration": 86,
    "start_time": "2021-10-31T20:17:24.315Z"
   },
   {
    "duration": 420,
    "start_time": "2021-10-31T20:18:03.922Z"
   },
   {
    "duration": 24,
    "start_time": "2021-10-31T20:18:22.770Z"
   },
   {
    "duration": 146013,
    "start_time": "2021-10-31T20:18:48.076Z"
   },
   {
    "duration": 353,
    "start_time": "2021-10-31T20:21:40.048Z"
   },
   {
    "duration": 742,
    "start_time": "2021-10-31T20:22:23.681Z"
   },
   {
    "duration": 851,
    "start_time": "2021-10-31T20:22:52.329Z"
   },
   {
    "duration": 371,
    "start_time": "2021-10-31T20:25:54.110Z"
   },
   {
    "duration": 16,
    "start_time": "2021-10-31T20:28:00.361Z"
   },
   {
    "duration": 419,
    "start_time": "2021-10-31T20:28:31.897Z"
   },
   {
    "duration": 17,
    "start_time": "2021-10-31T20:28:42.015Z"
   },
   {
    "duration": 464,
    "start_time": "2021-10-31T20:28:46.106Z"
   },
   {
    "duration": 18,
    "start_time": "2021-10-31T20:28:53.386Z"
   },
   {
    "duration": 750,
    "start_time": "2021-10-31T20:28:55.590Z"
   },
   {
    "duration": 15,
    "start_time": "2021-10-31T20:30:00.474Z"
   },
   {
    "duration": 12920,
    "start_time": "2021-10-31T20:30:08.222Z"
   },
   {
    "duration": 167590,
    "start_time": "2021-10-31T20:30:41.917Z"
   },
   {
    "duration": 346,
    "start_time": "2021-10-31T20:35:00.787Z"
   },
   {
    "duration": 318,
    "start_time": "2021-10-31T20:35:54.003Z"
   },
   {
    "duration": 423,
    "start_time": "2021-10-31T20:36:50.332Z"
   },
   {
    "duration": 314,
    "start_time": "2021-10-31T20:37:03.715Z"
   },
   {
    "duration": 314,
    "start_time": "2021-10-31T20:37:35.162Z"
   },
   {
    "duration": 280,
    "start_time": "2021-10-31T20:37:56.385Z"
   },
   {
    "duration": 340,
    "start_time": "2021-10-31T20:39:02.357Z"
   },
   {
    "duration": 19,
    "start_time": "2021-10-31T20:39:38.549Z"
   },
   {
    "duration": 563,
    "start_time": "2021-10-31T20:39:45.801Z"
   },
   {
    "duration": 4,
    "start_time": "2021-10-31T20:40:48.895Z"
   },
   {
    "duration": 735,
    "start_time": "2021-10-31T20:49:49.198Z"
   },
   {
    "duration": 4894,
    "start_time": "2021-10-31T20:50:36.153Z"
   },
   {
    "duration": 747,
    "start_time": "2021-10-31T20:50:49.745Z"
   },
   {
    "duration": 5476,
    "start_time": "2021-10-31T20:51:33.683Z"
   },
   {
    "duration": 5151,
    "start_time": "2021-10-31T20:52:10.917Z"
   },
   {
    "duration": 5323,
    "start_time": "2021-10-31T20:52:42.384Z"
   },
   {
    "duration": 130,
    "start_time": "2021-10-31T20:53:47.725Z"
   },
   {
    "duration": 5194,
    "start_time": "2021-10-31T20:53:56.283Z"
   },
   {
    "duration": 5410,
    "start_time": "2021-10-31T20:54:31.379Z"
   },
   {
    "duration": 5547,
    "start_time": "2021-10-31T20:54:52.042Z"
   },
   {
    "duration": 4833,
    "start_time": "2021-10-31T20:56:41.083Z"
   },
   {
    "duration": 4830,
    "start_time": "2021-10-31T20:56:58.109Z"
   },
   {
    "duration": 4937,
    "start_time": "2021-10-31T20:57:28.422Z"
   },
   {
    "duration": 1088,
    "start_time": "2021-10-31T20:58:29.803Z"
   },
   {
    "duration": 4560,
    "start_time": "2021-10-31T20:59:30.873Z"
   },
   {
    "duration": 190,
    "start_time": "2021-10-31T21:01:11.110Z"
   },
   {
    "duration": 1110,
    "start_time": "2021-10-31T21:04:30.084Z"
   },
   {
    "duration": 1184,
    "start_time": "2021-10-31T21:05:29.334Z"
   },
   {
    "duration": 51,
    "start_time": "2021-10-31T21:07:30.435Z"
   },
   {
    "duration": 24,
    "start_time": "2021-10-31T21:07:51.332Z"
   },
   {
    "duration": 182,
    "start_time": "2021-10-31T21:08:08.801Z"
   },
   {
    "duration": 220,
    "start_time": "2021-10-31T21:10:10.709Z"
   },
   {
    "duration": 167,
    "start_time": "2021-10-31T21:12:09.331Z"
   },
   {
    "duration": 37,
    "start_time": "2021-10-31T21:12:36.175Z"
   },
   {
    "duration": 41,
    "start_time": "2021-10-31T21:13:33.743Z"
   },
   {
    "duration": 60,
    "start_time": "2021-10-31T21:13:39.446Z"
   },
   {
    "duration": 28,
    "start_time": "2021-10-31T21:21:09.277Z"
   },
   {
    "duration": 34,
    "start_time": "2021-10-31T21:21:47.450Z"
   },
   {
    "duration": 6,
    "start_time": "2021-10-31T21:22:05.582Z"
   },
   {
    "duration": 200,
    "start_time": "2021-10-31T21:22:19.123Z"
   },
   {
    "duration": 33,
    "start_time": "2021-10-31T21:22:37.159Z"
   },
   {
    "duration": 6,
    "start_time": "2021-10-31T21:22:45.915Z"
   },
   {
    "duration": 5,
    "start_time": "2021-10-31T21:22:51.714Z"
   },
   {
    "duration": 18,
    "start_time": "2021-10-31T21:22:55.831Z"
   },
   {
    "duration": 13,
    "start_time": "2021-10-31T21:22:58.888Z"
   },
   {
    "duration": 2,
    "start_time": "2021-10-31T21:23:02.958Z"
   },
   {
    "duration": 28,
    "start_time": "2021-10-31T21:23:05.721Z"
   },
   {
    "duration": 4,
    "start_time": "2021-10-31T21:23:09.752Z"
   },
   {
    "duration": 94,
    "start_time": "2021-10-31T21:23:13.214Z"
   },
   {
    "duration": 434,
    "start_time": "2021-10-31T21:23:23.204Z"
   },
   {
    "duration": 27,
    "start_time": "2021-10-31T21:23:33.072Z"
   },
   {
    "duration": 147251,
    "start_time": "2021-10-31T21:23:43.005Z"
   },
   {
    "duration": 1233,
    "start_time": "2021-10-31T21:48:19.821Z"
   },
   {
    "duration": 61966,
    "start_time": "2021-10-31T21:49:10.298Z"
   },
   {
    "duration": 357,
    "start_time": "2021-10-31T21:52:56.860Z"
   },
   {
    "duration": 134,
    "start_time": "2021-10-31T21:53:00.803Z"
   },
   {
    "duration": 9,
    "start_time": "2021-10-31T21:53:38.971Z"
   },
   {
    "duration": 33,
    "start_time": "2021-10-31T21:53:49.013Z"
   },
   {
    "duration": 10,
    "start_time": "2021-10-31T21:53:59.685Z"
   },
   {
    "duration": 18,
    "start_time": "2021-10-31T21:54:18.840Z"
   },
   {
    "duration": 326,
    "start_time": "2021-10-31T21:55:17.983Z"
   },
   {
    "duration": 19,
    "start_time": "2021-10-31T21:55:24.374Z"
   },
   {
    "duration": 178,
    "start_time": "2021-10-31T22:00:24.167Z"
   },
   {
    "duration": 6207,
    "start_time": "2021-10-31T22:01:25.903Z"
   },
   {
    "duration": 181,
    "start_time": "2021-10-31T22:02:03.658Z"
   },
   {
    "duration": 340,
    "start_time": "2021-10-31T22:03:30.870Z"
   },
   {
    "duration": 131,
    "start_time": "2021-10-31T22:04:14.637Z"
   },
   {
    "duration": 481,
    "start_time": "2021-10-31T22:04:23.583Z"
   },
   {
    "duration": 1520,
    "start_time": "2021-11-01T07:34:15.933Z"
   },
   {
    "duration": 12,
    "start_time": "2021-11-01T07:36:48.813Z"
   },
   {
    "duration": 13,
    "start_time": "2021-11-01T07:36:57.185Z"
   },
   {
    "duration": 11,
    "start_time": "2021-11-01T07:38:04.605Z"
   },
   {
    "duration": 12,
    "start_time": "2021-11-01T07:38:11.739Z"
   },
   {
    "duration": 12,
    "start_time": "2021-11-01T07:38:22.787Z"
   },
   {
    "duration": 13,
    "start_time": "2021-11-01T07:38:27.392Z"
   },
   {
    "duration": 12,
    "start_time": "2021-11-01T07:38:35.448Z"
   },
   {
    "duration": 10,
    "start_time": "2021-11-01T07:42:38.512Z"
   },
   {
    "duration": 12,
    "start_time": "2021-11-01T07:42:41.340Z"
   },
   {
    "duration": 14,
    "start_time": "2021-11-01T07:45:27.297Z"
   },
   {
    "duration": 372,
    "start_time": "2021-11-01T07:51:39.592Z"
   },
   {
    "duration": 8,
    "start_time": "2021-11-01T07:51:52.021Z"
   },
   {
    "duration": 14,
    "start_time": "2021-11-01T07:52:06.449Z"
   },
   {
    "duration": 13,
    "start_time": "2021-11-01T07:52:14.968Z"
   },
   {
    "duration": 19,
    "start_time": "2021-11-01T07:52:49.630Z"
   },
   {
    "duration": 6,
    "start_time": "2021-11-01T08:01:44.584Z"
   },
   {
    "duration": 26,
    "start_time": "2021-11-01T08:08:27.199Z"
   },
   {
    "duration": 3,
    "start_time": "2021-11-01T08:16:56.424Z"
   },
   {
    "duration": 278,
    "start_time": "2021-11-01T08:16:58.651Z"
   },
   {
    "duration": 30,
    "start_time": "2021-11-01T08:17:06.146Z"
   },
   {
    "duration": 16,
    "start_time": "2021-11-01T08:17:24.252Z"
   },
   {
    "duration": 17,
    "start_time": "2021-11-01T08:19:50.595Z"
   },
   {
    "duration": 44,
    "start_time": "2021-11-01T08:19:58.261Z"
   },
   {
    "duration": 9,
    "start_time": "2021-11-01T08:20:04.458Z"
   },
   {
    "duration": 18,
    "start_time": "2021-11-01T08:20:08.521Z"
   },
   {
    "duration": 6,
    "start_time": "2021-11-01T08:20:13.024Z"
   },
   {
    "duration": 26,
    "start_time": "2021-11-01T08:20:15.446Z"
   },
   {
    "duration": 17,
    "start_time": "2021-11-01T08:20:19.304Z"
   },
   {
    "duration": 3,
    "start_time": "2021-11-01T08:20:30.454Z"
   },
   {
    "duration": 42,
    "start_time": "2021-11-01T08:22:15.223Z"
   },
   {
    "duration": 6,
    "start_time": "2021-11-01T09:07:30.806Z"
   },
   {
    "duration": 97,
    "start_time": "2021-11-01T09:08:00.939Z"
   },
   {
    "duration": 43,
    "start_time": "2021-11-01T09:10:14.030Z"
   },
   {
    "duration": 8,
    "start_time": "2021-11-01T09:10:19.738Z"
   },
   {
    "duration": 5,
    "start_time": "2021-11-01T09:10:26.934Z"
   },
   {
    "duration": 26,
    "start_time": "2021-11-01T09:10:28.877Z"
   },
   {
    "duration": 17,
    "start_time": "2021-11-01T09:10:32.699Z"
   },
   {
    "duration": 3,
    "start_time": "2021-11-01T09:10:38.310Z"
   },
   {
    "duration": 50,
    "start_time": "2021-11-01T09:10:40.073Z"
   },
   {
    "duration": 6,
    "start_time": "2021-11-01T09:10:44.678Z"
   },
   {
    "duration": 86,
    "start_time": "2021-11-01T09:10:47.853Z"
   },
   {
    "duration": 5,
    "start_time": "2021-11-01T09:11:03.027Z"
   },
   {
    "duration": 54,
    "start_time": "2021-11-01T09:11:05.282Z"
   },
   {
    "duration": 691,
    "start_time": "2021-11-01T09:13:12.875Z"
   },
   {
    "duration": 35,
    "start_time": "2021-11-01T09:13:25.232Z"
   },
   {
    "duration": 624,
    "start_time": "2021-11-01T09:15:22.511Z"
   },
   {
    "duration": 600,
    "start_time": "2021-11-01T09:16:05.005Z"
   },
   {
    "duration": 208742,
    "start_time": "2021-11-01T09:20:06.500Z"
   },
   {
    "duration": 108,
    "start_time": "2021-11-01T09:24:15.387Z"
   },
   {
    "duration": 1152,
    "start_time": "2021-11-01T09:29:32.065Z"
   },
   {
    "duration": 87,
    "start_time": "2021-11-01T09:33:37.035Z"
   },
   {
    "duration": 292,
    "start_time": "2021-11-01T09:33:42.712Z"
   },
   {
    "duration": 246,
    "start_time": "2021-11-01T09:34:01.149Z"
   },
   {
    "duration": 631870,
    "start_time": "2021-11-01T09:35:08.109Z"
   },
   {
    "duration": 625323,
    "start_time": "2021-11-01T09:51:36.421Z"
   },
   {
    "duration": 5,
    "start_time": "2021-11-01T10:02:36.604Z"
   },
   {
    "duration": 125,
    "start_time": "2021-11-01T10:03:15.162Z"
   },
   {
    "duration": 211,
    "start_time": "2021-11-01T10:05:57.496Z"
   },
   {
    "duration": 5,
    "start_time": "2021-11-01T10:08:28.372Z"
   },
   {
    "duration": 425,
    "start_time": "2021-11-01T10:09:21.180Z"
   },
   {
    "duration": 412,
    "start_time": "2021-11-01T10:09:45.735Z"
   },
   {
    "duration": 1369,
    "start_time": "2021-11-01T10:10:30.927Z"
   },
   {
    "duration": 1136,
    "start_time": "2021-11-01T10:10:44.525Z"
   },
   {
    "duration": 81,
    "start_time": "2021-11-01T10:37:41.509Z"
   },
   {
    "duration": 101,
    "start_time": "2021-11-01T10:37:56.777Z"
   },
   {
    "duration": 1098,
    "start_time": "2021-11-01T10:38:15.017Z"
   },
   {
    "duration": 1192,
    "start_time": "2021-11-01T10:38:37.430Z"
   },
   {
    "duration": 1132,
    "start_time": "2021-11-01T10:38:57.404Z"
   },
   {
    "duration": 1120,
    "start_time": "2021-11-01T10:39:17.464Z"
   },
   {
    "duration": 302,
    "start_time": "2021-11-01T10:39:48.916Z"
   },
   {
    "duration": 228,
    "start_time": "2021-11-01T10:40:00.775Z"
   },
   {
    "duration": 6,
    "start_time": "2021-11-01T10:40:13.514Z"
   },
   {
    "duration": 3556,
    "start_time": "2021-11-01T10:40:25.399Z"
   },
   {
    "duration": 9265,
    "start_time": "2021-11-01T10:40:46.790Z"
   },
   {
    "duration": 8984,
    "start_time": "2021-11-01T10:41:41.907Z"
   },
   {
    "duration": 5,
    "start_time": "2021-11-01T10:49:43.668Z"
   },
   {
    "duration": 8,
    "start_time": "2021-11-01T10:50:01.079Z"
   },
   {
    "duration": 1793,
    "start_time": "2021-11-01T10:50:56.501Z"
   },
   {
    "duration": 7,
    "start_time": "2021-11-01T10:51:23.981Z"
   },
   {
    "duration": 1794,
    "start_time": "2021-11-01T10:55:20.898Z"
   },
   {
    "duration": 6420,
    "start_time": "2021-11-01T10:57:58.366Z"
   },
   {
    "duration": 30,
    "start_time": "2021-11-01T10:58:25.864Z"
   },
   {
    "duration": 31,
    "start_time": "2021-11-01T10:58:34.545Z"
   },
   {
    "duration": 18,
    "start_time": "2021-11-01T10:58:58.796Z"
   },
   {
    "duration": 17,
    "start_time": "2021-11-01T10:59:02.490Z"
   },
   {
    "duration": 23,
    "start_time": "2021-11-01T10:59:26.289Z"
   },
   {
    "duration": 30,
    "start_time": "2021-11-01T10:59:34.586Z"
   },
   {
    "duration": 23,
    "start_time": "2021-11-01T11:00:01.100Z"
   },
   {
    "duration": 19,
    "start_time": "2021-11-01T11:00:09.249Z"
   },
   {
    "duration": 6281,
    "start_time": "2021-11-01T11:00:31.245Z"
   },
   {
    "duration": 20,
    "start_time": "2021-11-01T11:00:56.919Z"
   },
   {
    "duration": 19,
    "start_time": "2021-11-01T11:01:05.904Z"
   },
   {
    "duration": 20,
    "start_time": "2021-11-01T11:01:12.337Z"
   },
   {
    "duration": 43,
    "start_time": "2021-11-01T11:13:23.257Z"
   },
   {
    "duration": 7,
    "start_time": "2021-11-01T11:13:29.185Z"
   },
   {
    "duration": 12,
    "start_time": "2021-11-01T11:13:33.555Z"
   },
   {
    "duration": 18,
    "start_time": "2021-11-01T11:13:39.332Z"
   },
   {
    "duration": 6,
    "start_time": "2021-11-01T11:13:48.644Z"
   },
   {
    "duration": 25,
    "start_time": "2021-11-01T11:13:50.576Z"
   },
   {
    "duration": 16,
    "start_time": "2021-11-01T11:13:54.957Z"
   },
   {
    "duration": 4,
    "start_time": "2021-11-01T11:13:58.642Z"
   },
   {
    "duration": 41,
    "start_time": "2021-11-01T11:14:00.368Z"
   },
   {
    "duration": 5,
    "start_time": "2021-11-01T11:14:03.917Z"
   },
   {
    "duration": 6,
    "start_time": "2021-11-01T11:14:06.776Z"
   },
   {
    "duration": 60,
    "start_time": "2021-11-01T11:14:09.178Z"
   },
   {
    "duration": 535,
    "start_time": "2021-11-01T11:14:13.963Z"
   },
   {
    "duration": 35,
    "start_time": "2021-11-01T11:14:23.051Z"
   },
   {
    "duration": 196578,
    "start_time": "2021-11-01T11:14:31.314Z"
   },
   {
    "duration": 486,
    "start_time": "2021-11-01T11:18:43.278Z"
   },
   {
    "duration": 1196,
    "start_time": "2021-11-01T11:19:27.243Z"
   },
   {
    "duration": 244,
    "start_time": "2021-11-01T11:21:26.774Z"
   },
   {
    "duration": 1123,
    "start_time": "2021-11-01T11:21:34.907Z"
   },
   {
    "duration": 1179,
    "start_time": "2021-11-01T11:21:46.270Z"
   },
   {
    "duration": 1111,
    "start_time": "2021-11-01T11:22:08.275Z"
   },
   {
    "duration": 1155,
    "start_time": "2021-11-01T11:22:20.805Z"
   },
   {
    "duration": 121,
    "start_time": "2021-11-01T11:22:35.690Z"
   },
   {
    "duration": 490,
    "start_time": "2021-11-01T11:22:42.304Z"
   },
   {
    "duration": 309,
    "start_time": "2021-11-01T11:25:38.185Z"
   },
   {
    "duration": 6,
    "start_time": "2021-11-01T11:25:46.723Z"
   },
   {
    "duration": 1058,
    "start_time": "2021-11-01T11:26:08.623Z"
   },
   {
    "duration": 288,
    "start_time": "2021-11-01T11:26:25.753Z"
   },
   {
    "duration": 364633,
    "start_time": "2021-11-01T11:26:47.837Z"
   },
   {
    "duration": 6980,
    "start_time": "2021-11-01T11:41:54.215Z"
   },
   {
    "duration": 294,
    "start_time": "2021-11-01T11:42:15.210Z"
   },
   {
    "duration": 6,
    "start_time": "2021-11-01T11:42:28.190Z"
   },
   {
    "duration": 1846,
    "start_time": "2021-11-01T11:42:51.125Z"
   },
   {
    "duration": 718,
    "start_time": "2021-11-01T11:43:46.635Z"
   },
   {
    "duration": 693,
    "start_time": "2021-11-01T11:46:46.213Z"
   },
   {
    "duration": 699,
    "start_time": "2021-11-01T11:51:07.487Z"
   },
   {
    "duration": 696,
    "start_time": "2021-11-01T11:52:24.854Z"
   },
   {
    "duration": 6956,
    "start_time": "2021-11-01T11:57:33.102Z"
   },
   {
    "duration": 1473,
    "start_time": "2021-11-01T12:00:47.423Z"
   },
   {
    "duration": 7973,
    "start_time": "2021-11-01T12:01:37.287Z"
   },
   {
    "duration": 8082,
    "start_time": "2021-11-01T12:02:06.833Z"
   },
   {
    "duration": 7785,
    "start_time": "2021-11-01T12:03:20.720Z"
   },
   {
    "duration": 7835,
    "start_time": "2021-11-01T12:05:13.434Z"
   },
   {
    "duration": 674,
    "start_time": "2021-11-01T12:07:51.694Z"
   },
   {
    "duration": 618,
    "start_time": "2021-11-01T12:09:11.230Z"
   },
   {
    "duration": 7839,
    "start_time": "2021-11-01T12:09:43.703Z"
   },
   {
    "duration": 310,
    "start_time": "2021-11-01T12:10:39.279Z"
   },
   {
    "duration": 6,
    "start_time": "2021-11-01T12:11:20.137Z"
   },
   {
    "duration": 7253,
    "start_time": "2021-11-01T12:14:43.842Z"
   },
   {
    "duration": 7827,
    "start_time": "2021-11-01T12:15:06.022Z"
   },
   {
    "duration": 7457,
    "start_time": "2021-11-01T12:16:36.426Z"
   },
   {
    "duration": 7528,
    "start_time": "2021-11-01T12:16:58.825Z"
   },
   {
    "duration": 330,
    "start_time": "2021-11-01T12:17:32.737Z"
   },
   {
    "duration": 353834,
    "start_time": "2021-11-01T12:26:52.485Z"
   },
   {
    "duration": 6,
    "start_time": "2021-11-01T12:36:07.258Z"
   },
   {
    "duration": 1723,
    "start_time": "2021-11-01T12:36:11.485Z"
   },
   {
    "duration": 14,
    "start_time": "2021-11-01T13:17:05.277Z"
   },
   {
    "duration": 689,
    "start_time": "2021-11-01T13:25:32.866Z"
   },
   {
    "duration": 687,
    "start_time": "2021-11-01T13:26:15.042Z"
   },
   {
    "duration": 554,
    "start_time": "2021-11-01T13:28:27.544Z"
   },
   {
    "duration": 35,
    "start_time": "2021-11-01T13:29:24.190Z"
   },
   {
    "duration": 35,
    "start_time": "2021-11-01T13:29:46.238Z"
   },
   {
    "duration": 290,
    "start_time": "2021-11-01T13:29:50.353Z"
   },
   {
    "duration": 231,
    "start_time": "2021-11-01T13:41:24.036Z"
   },
   {
    "duration": 879,
    "start_time": "2021-11-01T13:42:19.711Z"
   },
   {
    "duration": 463,
    "start_time": "2021-11-01T13:42:36.431Z"
   },
   {
    "duration": 969,
    "start_time": "2021-11-01T13:44:38.666Z"
   },
   {
    "duration": 337,
    "start_time": "2021-11-01T13:44:58.658Z"
   },
   {
    "duration": 465,
    "start_time": "2021-11-01T13:47:15.250Z"
   },
   {
    "duration": 459,
    "start_time": "2021-11-01T13:47:56.168Z"
   },
   {
    "duration": 463,
    "start_time": "2021-11-01T13:48:02.892Z"
   },
   {
    "duration": 464,
    "start_time": "2021-11-01T13:48:31.835Z"
   },
   {
    "duration": 463,
    "start_time": "2021-11-01T13:49:16.296Z"
   },
   {
    "duration": 34,
    "start_time": "2021-11-01T13:50:55.383Z"
   },
   {
    "duration": 35,
    "start_time": "2021-11-01T13:51:01.739Z"
   },
   {
    "duration": 294,
    "start_time": "2021-11-01T20:00:08.138Z"
   },
   {
    "duration": 46,
    "start_time": "2021-11-01T20:00:43.522Z"
   },
   {
    "duration": 11,
    "start_time": "2021-11-01T20:00:52.045Z"
   },
   {
    "duration": 6,
    "start_time": "2021-11-01T20:01:57.479Z"
   },
   {
    "duration": 12,
    "start_time": "2021-11-01T20:02:00.259Z"
   },
   {
    "duration": 12,
    "start_time": "2021-11-01T20:02:05.303Z"
   },
   {
    "duration": 18,
    "start_time": "2021-11-01T20:02:14.006Z"
   },
   {
    "duration": 6,
    "start_time": "2021-11-01T20:03:25.490Z"
   },
   {
    "duration": 27,
    "start_time": "2021-11-01T20:03:36.768Z"
   },
   {
    "duration": 17,
    "start_time": "2021-11-01T20:03:52.087Z"
   },
   {
    "duration": 17,
    "start_time": "2021-11-01T20:04:37.294Z"
   },
   {
    "duration": 16,
    "start_time": "2021-11-01T20:04:42.213Z"
   },
   {
    "duration": 19,
    "start_time": "2021-11-01T20:04:47.548Z"
   },
   {
    "duration": 17,
    "start_time": "2021-11-01T20:05:35.470Z"
   },
   {
    "duration": 4,
    "start_time": "2021-11-01T20:08:02.117Z"
   },
   {
    "duration": 39,
    "start_time": "2021-11-01T20:08:05.275Z"
   },
   {
    "duration": 320,
    "start_time": "2021-11-01T20:08:55.986Z"
   },
   {
    "duration": 411,
    "start_time": "2021-11-01T20:09:25.762Z"
   },
   {
    "duration": 44,
    "start_time": "2021-11-01T20:09:45.255Z"
   },
   {
    "duration": 13,
    "start_time": "2021-11-01T20:09:52.646Z"
   },
   {
    "duration": 7,
    "start_time": "2021-11-01T20:09:57.464Z"
   },
   {
    "duration": 6,
    "start_time": "2021-11-01T20:10:09.395Z"
   },
   {
    "duration": 26,
    "start_time": "2021-11-01T20:10:11.549Z"
   },
   {
    "duration": 17,
    "start_time": "2021-11-01T20:10:14.759Z"
   },
   {
    "duration": 4,
    "start_time": "2021-11-01T20:10:19.225Z"
   },
   {
    "duration": 330,
    "start_time": "2021-11-01T20:10:20.882Z"
   },
   {
    "duration": 43,
    "start_time": "2021-11-01T20:16:16.004Z"
   },
   {
    "duration": 6,
    "start_time": "2021-11-01T20:16:22.569Z"
   },
   {
    "duration": 6,
    "start_time": "2021-11-01T20:16:28.760Z"
   },
   {
    "duration": 28,
    "start_time": "2021-11-01T20:16:31.228Z"
   },
   {
    "duration": 17,
    "start_time": "2021-11-01T20:16:35.041Z"
   },
   {
    "duration": 4,
    "start_time": "2021-11-01T20:16:38.451Z"
   },
   {
    "duration": 11,
    "start_time": "2021-11-01T20:16:43.175Z"
   },
   {
    "duration": 321,
    "start_time": "2021-11-01T20:16:49.592Z"
   },
   {
    "duration": 4,
    "start_time": "2021-11-01T20:17:56.857Z"
   },
   {
    "duration": 324,
    "start_time": "2021-11-01T20:18:03.939Z"
   },
   {
    "duration": 36,
    "start_time": "2021-11-01T20:18:10.919Z"
   },
   {
    "duration": 6,
    "start_time": "2021-11-01T20:18:19.641Z"
   },
   {
    "duration": 105,
    "start_time": "2021-11-01T20:18:24.931Z"
   },
   {
    "duration": 146,
    "start_time": "2021-11-01T20:20:41.084Z"
   },
   {
    "duration": 421,
    "start_time": "2021-11-01T20:26:23.359Z"
   },
   {
    "duration": 23,
    "start_time": "2021-11-01T20:26:56.832Z"
   },
   {
    "duration": 29,
    "start_time": "2021-11-01T20:27:22.408Z"
   },
   {
    "duration": 14,
    "start_time": "2021-11-01T20:27:24.942Z"
   },
   {
    "duration": 13,
    "start_time": "2021-11-01T20:27:46.204Z"
   },
   {
    "duration": 695,
    "start_time": "2021-11-01T20:28:39.436Z"
   },
   {
    "duration": 163464,
    "start_time": "2021-11-01T20:29:12.320Z"
   },
   {
    "duration": 151,
    "start_time": "2021-11-01T20:32:28.036Z"
   },
   {
    "duration": 515524,
    "start_time": "2021-11-01T20:35:10.927Z"
   },
   {
    "duration": 6,
    "start_time": "2021-11-01T20:44:10.586Z"
   },
   {
    "duration": 192,
    "start_time": "2021-11-01T20:44:39.233Z"
   },
   {
    "duration": 196,
    "start_time": "2021-11-01T20:46:16.295Z"
   },
   {
    "duration": 147,
    "start_time": "2021-11-01T20:46:47.855Z"
   },
   {
    "duration": 24,
    "start_time": "2021-11-01T20:46:54.774Z"
   },
   {
    "duration": 210,
    "start_time": "2021-11-01T20:48:04.698Z"
   },
   {
    "duration": 5,
    "start_time": "2021-11-01T20:48:25.112Z"
   },
   {
    "duration": 6022,
    "start_time": "2021-11-01T20:48:36.031Z"
   },
   {
    "duration": 2058,
    "start_time": "2021-11-01T20:48:53.659Z"
   },
   {
    "duration": 314,
    "start_time": "2021-11-01T20:49:28.434Z"
   },
   {
    "duration": 286491,
    "start_time": "2021-11-01T20:52:37.676Z"
   },
   {
    "duration": 197465,
    "start_time": "2021-11-01T21:00:27.535Z"
   },
   {
    "duration": 135,
    "start_time": "2021-11-01T21:08:10.623Z"
   },
   {
    "duration": 6,
    "start_time": "2021-11-01T21:08:45.061Z"
   },
   {
    "duration": 1537,
    "start_time": "2021-11-01T21:08:59.345Z"
   },
   {
    "duration": 279,
    "start_time": "2021-11-01T21:09:50.978Z"
   },
   {
    "duration": 69,
    "start_time": "2021-11-01T21:14:01.536Z"
   },
   {
    "duration": 82284,
    "start_time": "2021-11-01T21:17:20.386Z"
   },
   {
    "duration": 131,
    "start_time": "2021-11-01T21:20:34.707Z"
   },
   {
    "duration": 112,
    "start_time": "2021-11-01T21:21:11.227Z"
   },
   {
    "duration": 394,
    "start_time": "2021-11-01T21:21:25.274Z"
   },
   {
    "duration": 367,
    "start_time": "2021-11-01T21:27:37.964Z"
   },
   {
    "duration": 452,
    "start_time": "2021-11-01T21:33:09.385Z"
   },
   {
    "duration": 8,
    "start_time": "2021-11-01T21:35:45.830Z"
   },
   {
    "duration": 417,
    "start_time": "2021-11-01T21:38:01.797Z"
   },
   {
    "duration": 152,
    "start_time": "2021-11-01T21:39:49.020Z"
   },
   {
    "duration": 24,
    "start_time": "2021-11-01T21:39:52.725Z"
   },
   {
    "duration": 344,
    "start_time": "2021-11-01T21:40:24.358Z"
   },
   {
    "duration": 356,
    "start_time": "2021-11-01T21:40:47.650Z"
   },
   {
    "duration": 384,
    "start_time": "2021-11-01T21:46:23.739Z"
   },
   {
    "duration": 8,
    "start_time": "2021-11-01T21:46:28.388Z"
   },
   {
    "duration": 131,
    "start_time": "2021-11-01T21:55:33.733Z"
   },
   {
    "duration": 118,
    "start_time": "2021-11-01T21:56:20.272Z"
   },
   {
    "duration": 128,
    "start_time": "2021-11-01T21:57:40.202Z"
   },
   {
    "duration": 16,
    "start_time": "2021-11-01T21:58:31.109Z"
   },
   {
    "duration": 16,
    "start_time": "2021-11-01T21:59:49.514Z"
   },
   {
    "duration": 27,
    "start_time": "2021-11-01T22:00:13.586Z"
   },
   {
    "duration": 26,
    "start_time": "2021-11-01T22:00:25.138Z"
   },
   {
    "duration": 26,
    "start_time": "2021-11-01T22:02:59.524Z"
   },
   {
    "duration": 27,
    "start_time": "2021-11-01T22:03:22.620Z"
   },
   {
    "duration": 26,
    "start_time": "2021-11-01T22:03:31.017Z"
   },
   {
    "duration": 45,
    "start_time": "2021-11-01T22:05:53.308Z"
   },
   {
    "duration": 12,
    "start_time": "2021-11-01T22:05:56.405Z"
   },
   {
    "duration": 7,
    "start_time": "2021-11-01T22:06:00.061Z"
   },
   {
    "duration": 13,
    "start_time": "2021-11-01T22:06:02.397Z"
   },
   {
    "duration": 13,
    "start_time": "2021-11-01T22:06:07.097Z"
   },
   {
    "duration": 17,
    "start_time": "2021-11-01T22:06:09.736Z"
   },
   {
    "duration": 6,
    "start_time": "2021-11-01T22:06:16.899Z"
   },
   {
    "duration": 29,
    "start_time": "2021-11-01T22:06:19.990Z"
   },
   {
    "duration": 271,
    "start_time": "2021-11-01T22:06:34.169Z"
   },
   {
    "duration": 25,
    "start_time": "2021-11-01T22:06:38.841Z"
   },
   {
    "duration": 16,
    "start_time": "2021-11-01T22:06:45.342Z"
   },
   {
    "duration": 4,
    "start_time": "2021-11-01T22:06:49.996Z"
   },
   {
    "duration": 39,
    "start_time": "2021-11-01T22:06:51.747Z"
   },
   {
    "duration": 5,
    "start_time": "2021-11-01T22:06:57.762Z"
   },
   {
    "duration": 182,
    "start_time": "2021-11-01T22:07:00.347Z"
   },
   {
    "duration": 58,
    "start_time": "2021-11-01T22:07:12.972Z"
   },
   {
    "duration": 45,
    "start_time": "2021-11-01T22:07:35.675Z"
   },
   {
    "duration": 6,
    "start_time": "2021-11-01T22:07:41.341Z"
   },
   {
    "duration": 12,
    "start_time": "2021-11-01T22:07:44.077Z"
   },
   {
    "duration": 18,
    "start_time": "2021-11-01T22:07:47.702Z"
   },
   {
    "duration": 6,
    "start_time": "2021-11-01T22:07:51.452Z"
   },
   {
    "duration": 27,
    "start_time": "2021-11-01T22:07:53.799Z"
   },
   {
    "duration": 16,
    "start_time": "2021-11-01T22:07:57.185Z"
   },
   {
    "duration": 17,
    "start_time": "2021-11-01T22:07:57.316Z"
   },
   {
    "duration": 4,
    "start_time": "2021-11-01T22:08:01.074Z"
   },
   {
    "duration": 41,
    "start_time": "2021-11-01T22:08:05.696Z"
   },
   {
    "duration": 5,
    "start_time": "2021-11-01T22:08:09.682Z"
   },
   {
    "duration": 111,
    "start_time": "2021-11-01T22:08:13.521Z"
   },
   {
    "duration": 37,
    "start_time": "2021-11-01T22:08:20.001Z"
   },
   {
    "duration": 44,
    "start_time": "2021-11-01T22:09:01.451Z"
   },
   {
    "duration": 34,
    "start_time": "2021-11-01T22:09:01.594Z"
   },
   {
    "duration": 7,
    "start_time": "2021-11-01T22:09:06.239Z"
   },
   {
    "duration": 6,
    "start_time": "2021-11-01T22:09:12.270Z"
   },
   {
    "duration": 27,
    "start_time": "2021-11-01T22:09:15.380Z"
   },
   {
    "duration": 16,
    "start_time": "2021-11-01T22:09:19.095Z"
   },
   {
    "duration": 4,
    "start_time": "2021-11-01T22:09:22.005Z"
   },
   {
    "duration": 41,
    "start_time": "2021-11-01T22:09:24.234Z"
   },
   {
    "duration": 5,
    "start_time": "2021-11-01T22:09:28.163Z"
   },
   {
    "duration": 194,
    "start_time": "2021-11-01T22:09:30.236Z"
   },
   {
    "duration": 19,
    "start_time": "2021-11-01T22:09:38.504Z"
   },
   {
    "duration": 534,
    "start_time": "2021-11-01T22:10:08.561Z"
   },
   {
    "duration": 33,
    "start_time": "2021-11-01T22:10:26.924Z"
   },
   {
    "duration": 16,
    "start_time": "2021-11-01T22:10:34.703Z"
   },
   {
    "duration": 76,
    "start_time": "2021-11-01T22:11:39.259Z"
   },
   {
    "duration": 585,
    "start_time": "2021-11-01T22:11:52.598Z"
   },
   {
    "duration": 194967,
    "start_time": "2021-11-01T22:12:09.679Z"
   },
   {
    "duration": 486,
    "start_time": "2021-11-01T22:16:50.110Z"
   },
   {
    "duration": 39,
    "start_time": "2021-11-01T22:16:55.660Z"
   },
   {
    "duration": 492,
    "start_time": "2021-11-01T22:17:11.276Z"
   },
   {
    "duration": 598578,
    "start_time": "2021-11-01T22:18:58.714Z"
   },
   {
    "duration": 5,
    "start_time": "2021-11-01T22:29:04.076Z"
   },
   {
    "duration": 521,
    "start_time": "2021-11-01T22:29:25.257Z"
   },
   {
    "duration": 529,
    "start_time": "2021-11-01T22:29:37.550Z"
   },
   {
    "duration": 209,
    "start_time": "2021-11-01T22:30:04.035Z"
   },
   {
    "duration": 5,
    "start_time": "2021-11-01T22:30:08.559Z"
   },
   {
    "duration": 2742,
    "start_time": "2021-11-01T22:30:13.223Z"
   },
   {
    "duration": 321,
    "start_time": "2021-11-01T22:30:23.665Z"
   },
   {
    "duration": 165988,
    "start_time": "2021-11-01T22:31:48.665Z"
   },
   {
    "duration": 451,
    "start_time": "2021-11-01T22:35:08.552Z"
   },
   {
    "duration": 6,
    "start_time": "2021-11-01T22:35:31.897Z"
   },
   {
    "duration": 1811,
    "start_time": "2021-11-01T22:35:35.455Z"
   },
   {
    "duration": 9316,
    "start_time": "2021-11-01T22:36:08.540Z"
   },
   {
    "duration": 9138,
    "start_time": "2021-11-01T22:38:58.837Z"
   },
   {
    "duration": 19455,
    "start_time": "2021-11-01T22:39:20.767Z"
   },
   {
    "duration": 101534,
    "start_time": "2021-11-01T22:41:09.755Z"
   },
   {
    "duration": 200,
    "start_time": "2021-11-01T22:43:08.182Z"
   },
   {
    "duration": 685,
    "start_time": "2021-11-01T22:44:05.030Z"
   },
   {
    "duration": 7051,
    "start_time": "2021-11-01T22:46:43.282Z"
   },
   {
    "duration": 7115,
    "start_time": "2021-11-01T22:48:05.316Z"
   },
   {
    "duration": 289,
    "start_time": "2021-11-01T22:48:20.260Z"
   },
   {
    "duration": 435,
    "start_time": "2021-11-01T22:49:28.085Z"
   },
   {
    "duration": 8981,
    "start_time": "2021-11-01T22:50:09.883Z"
   },
   {
    "duration": 97289,
    "start_time": "2021-11-01T22:51:44.055Z"
   },
   {
    "duration": 287,
    "start_time": "2021-11-01T22:53:35.052Z"
   },
   {
    "duration": 703,
    "start_time": "2021-11-01T22:54:04.026Z"
   },
   {
    "duration": 525,
    "start_time": "2021-11-01T22:55:43.593Z"
   },
   {
    "duration": 7,
    "start_time": "2021-11-01T22:55:49.407Z"
   },
   {
    "duration": 276,
    "start_time": "2021-11-01T22:57:11.258Z"
   },
   {
    "duration": 51,
    "start_time": "2021-11-01T22:57:49.682Z"
   },
   {
    "duration": 182680,
    "start_time": "2021-11-01T23:00:14.154Z"
   },
   {
    "duration": 937,
    "start_time": "2021-11-01T23:04:48.018Z"
   },
   {
    "duration": 2089,
    "start_time": "2021-11-02T19:38:53.013Z"
   },
   {
    "duration": 18,
    "start_time": "2021-11-02T19:38:58.598Z"
   },
   {
    "duration": 8,
    "start_time": "2021-11-02T19:39:02.300Z"
   },
   {
    "duration": 14,
    "start_time": "2021-11-02T19:39:06.238Z"
   },
   {
    "duration": 13,
    "start_time": "2021-11-02T19:39:10.363Z"
   },
   {
    "duration": 21,
    "start_time": "2021-11-02T19:39:22.011Z"
   },
   {
    "duration": 8,
    "start_time": "2021-11-02T19:39:30.798Z"
   },
   {
    "duration": 43,
    "start_time": "2021-11-02T19:39:34.097Z"
   },
   {
    "duration": 606,
    "start_time": "2021-11-02T19:39:41.090Z"
   },
   {
    "duration": 24,
    "start_time": "2021-11-02T19:40:04.841Z"
   },
   {
    "duration": 3,
    "start_time": "2021-11-02T19:41:40.246Z"
   },
   {
    "duration": 35,
    "start_time": "2021-11-02T19:45:14.668Z"
   },
   {
    "duration": 5,
    "start_time": "2021-11-02T19:52:27.138Z"
   },
   {
    "duration": 144,
    "start_time": "2021-11-02T19:53:11.529Z"
   },
   {
    "duration": 146,
    "start_time": "2021-11-02T19:53:32.923Z"
   },
   {
    "duration": 6,
    "start_time": "2021-11-02T19:54:02.329Z"
   },
   {
    "duration": 129,
    "start_time": "2021-11-02T19:54:05.440Z"
   },
   {
    "duration": 132,
    "start_time": "2021-11-02T19:54:21.942Z"
   },
   {
    "duration": 29,
    "start_time": "2021-11-02T19:55:28.843Z"
   },
   {
    "duration": 8,
    "start_time": "2021-11-02T19:59:55.229Z"
   },
   {
    "duration": 187,
    "start_time": "2021-11-02T20:00:02.990Z"
   },
   {
    "duration": 9,
    "start_time": "2021-11-02T20:00:18.738Z"
   },
   {
    "duration": 282,
    "start_time": "2021-11-02T20:00:21.389Z"
   },
   {
    "duration": 139,
    "start_time": "2021-11-02T20:08:54.729Z"
   },
   {
    "duration": 6,
    "start_time": "2021-11-02T20:11:13.912Z"
   },
   {
    "duration": 618,
    "start_time": "2021-11-02T20:11:18.239Z"
   },
   {
    "duration": 6,
    "start_time": "2021-11-02T20:11:31.659Z"
   },
   {
    "duration": 196,
    "start_time": "2021-11-02T20:11:34.772Z"
   },
   {
    "duration": 1014,
    "start_time": "2021-11-02T20:13:11.454Z"
   },
   {
    "duration": 785,
    "start_time": "2021-11-02T20:13:17.792Z"
   },
   {
    "duration": 75,
    "start_time": "2021-11-02T20:14:20.394Z"
   },
   {
    "duration": 18,
    "start_time": "2021-11-02T20:15:57.724Z"
   },
   {
    "duration": 1099,
    "start_time": "2021-11-02T20:23:39.788Z"
   },
   {
    "duration": 41,
    "start_time": "2021-11-02T20:25:35.920Z"
   },
   {
    "duration": 116,
    "start_time": "2021-11-02T20:25:54.641Z"
   },
   {
    "duration": 6,
    "start_time": "2021-11-02T20:26:20.444Z"
   },
   {
    "duration": 960,
    "start_time": "2021-11-02T20:26:28.412Z"
   },
   {
    "duration": 1086,
    "start_time": "2021-11-02T20:26:34.616Z"
   },
   {
    "duration": 94,
    "start_time": "2021-11-02T20:26:43.730Z"
   },
   {
    "duration": 897,
    "start_time": "2021-11-02T20:28:03.446Z"
   },
   {
    "duration": 632,
    "start_time": "2021-11-02T20:28:18.337Z"
   },
   {
    "duration": 545,
    "start_time": "2021-11-02T20:31:12.837Z"
   },
   {
    "duration": 538,
    "start_time": "2021-11-02T20:31:31.165Z"
   },
   {
    "duration": 612,
    "start_time": "2021-11-02T20:32:03.184Z"
   },
   {
    "duration": 335,
    "start_time": "2021-11-02T20:32:14.633Z"
   },
   {
    "duration": 287,
    "start_time": "2021-11-02T20:32:30.823Z"
   },
   {
    "duration": 290,
    "start_time": "2021-11-02T20:33:46.219Z"
   },
   {
    "duration": 339,
    "start_time": "2021-11-02T20:34:51.500Z"
   },
   {
    "duration": 339,
    "start_time": "2021-11-02T20:35:08.380Z"
   },
   {
    "duration": 364,
    "start_time": "2021-11-02T20:38:25.527Z"
   },
   {
    "duration": 350,
    "start_time": "2021-11-02T20:38:40.459Z"
   },
   {
    "duration": 341,
    "start_time": "2021-11-02T20:39:27.188Z"
   },
   {
    "duration": 361,
    "start_time": "2021-11-02T20:39:44.961Z"
   },
   {
    "duration": 378,
    "start_time": "2021-11-02T20:40:29.560Z"
   },
   {
    "duration": 341,
    "start_time": "2021-11-02T20:42:22.515Z"
   },
   {
    "duration": 460,
    "start_time": "2021-11-02T20:42:39.865Z"
   },
   {
    "duration": 380,
    "start_time": "2021-11-02T20:42:49.033Z"
   },
   {
    "duration": 357,
    "start_time": "2021-11-02T20:42:54.643Z"
   },
   {
    "duration": 16,
    "start_time": "2021-11-02T20:43:19.480Z"
   },
   {
    "duration": 287676,
    "start_time": "2021-11-02T20:46:19.323Z"
   },
   {
    "duration": 781,
    "start_time": "2021-11-02T20:51:54.236Z"
   },
   {
    "duration": 336,
    "start_time": "2021-11-02T20:52:20.947Z"
   },
   {
    "duration": 443,
    "start_time": "2021-11-02T20:54:56.167Z"
   },
   {
    "duration": 226,
    "start_time": "2021-11-02T20:56:31.479Z"
   },
   {
    "duration": 5,
    "start_time": "2021-11-02T20:56:40.006Z"
   },
   {
    "duration": 6,
    "start_time": "2021-11-02T20:57:23.253Z"
   },
   {
    "duration": 2891,
    "start_time": "2021-11-02T21:01:58.692Z"
   },
   {
    "duration": 398,
    "start_time": "2021-11-02T21:03:15.966Z"
   },
   {
    "duration": 604,
    "start_time": "2021-11-02T21:06:21.335Z"
   },
   {
    "duration": 601,
    "start_time": "2021-11-02T21:06:31.377Z"
   },
   {
    "duration": 307,
    "start_time": "2021-11-02T21:07:49.081Z"
   },
   {
    "duration": 7,
    "start_time": "2021-11-02T21:08:28.441Z"
   },
   {
    "duration": 4531,
    "start_time": "2021-11-02T21:09:57.213Z"
   },
   {
    "duration": 441,
    "start_time": "2021-11-02T21:11:15.130Z"
   },
   {
    "duration": 396,
    "start_time": "2021-11-02T21:11:49.483Z"
   },
   {
    "duration": 138,
    "start_time": "2021-11-02T21:11:59.312Z"
   },
   {
    "duration": 45,
    "start_time": "2021-11-02T21:12:25.731Z"
   },
   {
    "duration": 9,
    "start_time": "2021-11-02T21:12:29.689Z"
   },
   {
    "duration": 6,
    "start_time": "2021-11-02T21:12:37.095Z"
   },
   {
    "duration": 31,
    "start_time": "2021-11-02T21:12:40.006Z"
   },
   {
    "duration": 26,
    "start_time": "2021-11-02T21:13:18.091Z"
   },
   {
    "duration": 3,
    "start_time": "2021-11-02T21:13:23.777Z"
   },
   {
    "duration": 34,
    "start_time": "2021-11-02T21:13:47.768Z"
   },
   {
    "duration": 5,
    "start_time": "2021-11-02T21:13:54.544Z"
   },
   {
    "duration": 770,
    "start_time": "2021-11-02T21:13:58.398Z"
   },
   {
    "duration": 1273,
    "start_time": "2021-11-02T21:14:17.622Z"
   },
   {
    "duration": 92,
    "start_time": "2021-11-02T21:14:23.711Z"
   },
   {
    "duration": 38,
    "start_time": "2021-11-02T21:14:45.404Z"
   },
   {
    "duration": 930,
    "start_time": "2021-11-02T21:14:51.743Z"
   },
   {
    "duration": 44,
    "start_time": "2021-11-02T21:15:03.635Z"
   },
   {
    "duration": 8,
    "start_time": "2021-11-02T21:15:09.908Z"
   },
   {
    "duration": 6,
    "start_time": "2021-11-02T21:15:16.353Z"
   },
   {
    "duration": 29,
    "start_time": "2021-11-02T21:15:18.769Z"
   },
   {
    "duration": 18,
    "start_time": "2021-11-02T21:15:22.330Z"
   },
   {
    "duration": 4,
    "start_time": "2021-11-02T21:15:26.188Z"
   },
   {
    "duration": 41,
    "start_time": "2021-11-02T21:15:29.773Z"
   },
   {
    "duration": 8,
    "start_time": "2021-11-02T21:15:33.630Z"
   },
   {
    "duration": 748,
    "start_time": "2021-11-02T21:15:37.426Z"
   },
   {
    "duration": 1168,
    "start_time": "2021-11-02T21:15:46.500Z"
   },
   {
    "duration": 97,
    "start_time": "2021-11-02T21:15:51.143Z"
   },
   {
    "duration": 44,
    "start_time": "2021-11-02T21:40:50.950Z"
   },
   {
    "duration": 7,
    "start_time": "2021-11-02T21:40:56.061Z"
   },
   {
    "duration": 21,
    "start_time": "2021-11-02T21:41:00.194Z"
   },
   {
    "duration": 7,
    "start_time": "2021-11-02T21:41:03.660Z"
   },
   {
    "duration": 34,
    "start_time": "2021-11-02T21:41:06.987Z"
   },
   {
    "duration": 30,
    "start_time": "2021-11-02T21:41:30.271Z"
   },
   {
    "duration": 4,
    "start_time": "2021-11-02T21:41:36.125Z"
   },
   {
    "duration": 39,
    "start_time": "2021-11-02T21:41:51.789Z"
   },
   {
    "duration": 6,
    "start_time": "2021-11-02T21:42:50.232Z"
   },
   {
    "duration": 1897,
    "start_time": "2021-11-02T21:43:54.971Z"
   },
   {
    "duration": 1956,
    "start_time": "2021-11-02T21:44:06.511Z"
   },
   {
    "duration": 1981,
    "start_time": "2021-11-02T21:44:36.789Z"
   },
   {
    "duration": 181,
    "start_time": "2021-11-02T21:46:34.787Z"
   },
   {
    "duration": 1716,
    "start_time": "2021-11-02T21:47:29.640Z"
   },
   {
    "duration": 151,
    "start_time": "2021-11-02T21:47:43.419Z"
   },
   {
    "duration": 255,
    "start_time": "2021-11-02T21:48:00.233Z"
   },
   {
    "duration": 16,
    "start_time": "2021-11-02T21:48:26.295Z"
   },
   {
    "duration": 556,
    "start_time": "2021-11-02T21:49:08.754Z"
   },
   {
    "duration": 289684,
    "start_time": "2021-11-02T21:50:19.217Z"
   },
   {
    "duration": 513,
    "start_time": "2021-11-02T21:56:24.932Z"
   },
   {
    "duration": 21,
    "start_time": "2021-11-02T21:56:41.065Z"
   },
   {
    "duration": 452,
    "start_time": "2021-11-02T21:57:14.215Z"
   },
   {
    "duration": 5,
    "start_time": "2021-11-02T22:03:54.464Z"
   },
   {
    "duration": 290,
    "start_time": "2021-11-02T22:04:23.230Z"
   },
   {
    "duration": 757,
    "start_time": "2021-11-02T22:04:40.775Z"
   },
   {
    "duration": 5,
    "start_time": "2021-11-02T22:05:37.663Z"
   },
   {
    "duration": 351,
    "start_time": "2021-11-02T22:05:45.839Z"
   },
   {
    "duration": 286,
    "start_time": "2021-11-02T22:06:02.039Z"
   },
   {
    "duration": 306,
    "start_time": "2021-11-02T22:07:09.036Z"
   },
   {
    "duration": 282,
    "start_time": "2021-11-02T22:08:28.899Z"
   },
   {
    "duration": 290,
    "start_time": "2021-11-02T22:10:32.846Z"
   },
   {
    "duration": 293,
    "start_time": "2021-11-02T22:10:41.238Z"
   },
   {
    "duration": 316,
    "start_time": "2021-11-02T22:10:57.970Z"
   },
   {
    "duration": 285,
    "start_time": "2021-11-02T22:11:43.280Z"
   },
   {
    "duration": 308,
    "start_time": "2021-11-02T22:13:35.662Z"
   },
   {
    "duration": 406,
    "start_time": "2021-11-02T22:14:38.219Z"
   },
   {
    "duration": 306,
    "start_time": "2021-11-02T22:17:16.869Z"
   },
   {
    "duration": 8,
    "start_time": "2021-11-02T22:17:38.080Z"
   },
   {
    "duration": 7,
    "start_time": "2021-11-02T22:17:50.535Z"
   },
   {
    "duration": 9,
    "start_time": "2021-11-02T22:18:31.697Z"
   },
   {
    "duration": 214,
    "start_time": "2021-11-02T22:19:00.774Z"
   },
   {
    "duration": 6,
    "start_time": "2021-11-02T22:19:05.021Z"
   },
   {
    "duration": 2890,
    "start_time": "2021-11-02T22:19:14.004Z"
   },
   {
    "duration": 5,
    "start_time": "2021-11-02T22:21:04.018Z"
   },
   {
    "duration": 2832,
    "start_time": "2021-11-02T22:21:06.759Z"
   },
   {
    "duration": 617,
    "start_time": "2021-11-02T22:21:13.197Z"
   },
   {
    "duration": 314,
    "start_time": "2021-11-02T22:21:19.172Z"
   },
   {
    "duration": 9281,
    "start_time": "2021-11-02T22:21:26.729Z"
   },
   {
    "duration": 247275,
    "start_time": "2021-11-02T22:22:35.335Z"
   },
   {
    "duration": 389316,
    "start_time": "2021-11-02T22:26:44.607Z"
   },
   {
    "duration": 1208,
    "start_time": "2021-11-02T22:34:33.691Z"
   },
   {
    "duration": 2456,
    "start_time": "2021-11-02T22:36:21.727Z"
   },
   {
    "duration": 641,
    "start_time": "2021-11-02T22:37:08.427Z"
   },
   {
    "duration": 2492,
    "start_time": "2021-11-02T22:37:22.774Z"
   },
   {
    "duration": 6,
    "start_time": "2021-11-02T22:37:52.770Z"
   },
   {
    "duration": 4111,
    "start_time": "2021-11-02T22:37:55.461Z"
   },
   {
    "duration": 235079,
    "start_time": "2021-11-02T22:39:25.749Z"
   },
   {
    "duration": 946,
    "start_time": "2021-11-02T22:44:00.165Z"
   },
   {
    "duration": 375,
    "start_time": "2021-11-02T22:44:25.877Z"
   },
   {
    "duration": 515,
    "start_time": "2021-11-02T22:45:25.039Z"
   },
   {
    "duration": 863,
    "start_time": "2021-11-02T22:46:14.980Z"
   },
   {
    "duration": 521,
    "start_time": "2021-11-02T22:46:31.394Z"
   },
   {
    "duration": 8,
    "start_time": "2021-11-02T22:46:40.482Z"
   },
   {
    "duration": 1250,
    "start_time": "2021-11-03T07:29:11.045Z"
   },
   {
    "duration": 6,
    "start_time": "2021-11-03T07:29:18.595Z"
   },
   {
    "duration": 10,
    "start_time": "2021-11-03T07:29:22.387Z"
   },
   {
    "duration": 9,
    "start_time": "2021-11-03T07:29:26.011Z"
   },
   {
    "duration": 13,
    "start_time": "2021-11-03T07:29:28.931Z"
   },
   {
    "duration": 5,
    "start_time": "2021-11-03T07:29:36.057Z"
   },
   {
    "duration": 20,
    "start_time": "2021-11-03T07:29:40.120Z"
   },
   {
    "duration": 19,
    "start_time": "2021-11-03T07:29:51.556Z"
   },
   {
    "duration": 3,
    "start_time": "2021-11-03T07:29:58.691Z"
   },
   {
    "duration": 28,
    "start_time": "2021-11-03T07:30:12.694Z"
   },
   {
    "duration": 4,
    "start_time": "2021-11-03T07:30:35.574Z"
   },
   {
    "duration": 3,
    "start_time": "2021-11-03T07:32:54.023Z"
   },
   {
    "duration": 591,
    "start_time": "2021-11-03T07:35:37.356Z"
   },
   {
    "duration": 1805,
    "start_time": "2021-11-03T07:35:51.702Z"
   },
   {
    "duration": 1028,
    "start_time": "2021-11-03T07:36:02.623Z"
   },
   {
    "duration": 306,
    "start_time": "2021-11-03T07:36:29.114Z"
   },
   {
    "duration": 5,
    "start_time": "2021-11-03T07:36:59.874Z"
   },
   {
    "duration": 3,
    "start_time": "2021-11-03T07:37:03.461Z"
   },
   {
    "duration": 1167,
    "start_time": "2021-11-03T07:37:07.470Z"
   },
   {
    "duration": 4,
    "start_time": "2021-11-03T07:37:35.826Z"
   },
   {
    "duration": 3,
    "start_time": "2021-11-03T07:37:41.600Z"
   },
   {
    "duration": 536,
    "start_time": "2021-11-03T07:38:04.575Z"
   },
   {
    "duration": 867,
    "start_time": "2021-11-03T07:38:22.401Z"
   },
   {
    "duration": 387,
    "start_time": "2021-11-03T07:38:53.472Z"
   },
   {
    "duration": 41,
    "start_time": "2021-11-03T07:43:17.979Z"
   },
   {
    "duration": 5,
    "start_time": "2021-11-03T07:43:22.883Z"
   },
   {
    "duration": 9,
    "start_time": "2021-11-03T07:43:25.146Z"
   },
   {
    "duration": 5,
    "start_time": "2021-11-03T07:43:32.950Z"
   },
   {
    "duration": 20,
    "start_time": "2021-11-03T07:43:35.038Z"
   },
   {
    "duration": 17,
    "start_time": "2021-11-03T07:43:38.429Z"
   },
   {
    "duration": 3,
    "start_time": "2021-11-03T07:43:43.619Z"
   },
   {
    "duration": 29,
    "start_time": "2021-11-03T07:43:45.956Z"
   },
   {
    "duration": 5,
    "start_time": "2021-11-03T07:44:31.369Z"
   },
   {
    "duration": 3,
    "start_time": "2021-11-03T07:44:50.839Z"
   },
   {
    "duration": 795,
    "start_time": "2021-11-03T07:45:05.017Z"
   },
   {
    "duration": 906,
    "start_time": "2021-11-03T07:45:11.503Z"
   },
   {
    "duration": 456,
    "start_time": "2021-11-03T07:45:32.251Z"
   },
   {
    "duration": 35,
    "start_time": "2021-11-03T07:45:59.784Z"
   },
   {
    "duration": 794,
    "start_time": "2021-11-03T07:46:54.574Z"
   },
   {
    "duration": 41,
    "start_time": "2021-11-03T07:47:27.399Z"
   },
   {
    "duration": 11,
    "start_time": "2021-11-03T07:47:48.333Z"
   },
   {
    "duration": 227,
    "start_time": "2021-11-03T07:48:19.436Z"
   },
   {
    "duration": 205084,
    "start_time": "2021-11-03T07:51:59.539Z"
   },
   {
    "duration": 150,
    "start_time": "2021-11-03T07:56:46.841Z"
   },
   {
    "duration": 16,
    "start_time": "2021-11-03T07:57:03.098Z"
   },
   {
    "duration": 218,
    "start_time": "2021-11-03T08:00:37.112Z"
   },
   {
    "duration": 277,
    "start_time": "2021-11-03T08:00:52.510Z"
   },
   {
    "duration": 209,
    "start_time": "2021-11-03T08:01:20.305Z"
   },
   {
    "duration": 10425,
    "start_time": "2021-11-03T08:02:23.457Z"
   },
   {
    "duration": 226,
    "start_time": "2021-11-03T08:02:46.593Z"
   },
   {
    "duration": 9224,
    "start_time": "2021-11-03T08:03:13.835Z"
   },
   {
    "duration": 216,
    "start_time": "2021-11-03T08:04:56.109Z"
   },
   {
    "duration": 209,
    "start_time": "2021-11-03T08:05:38.484Z"
   },
   {
    "duration": 223,
    "start_time": "2021-11-03T08:05:58.169Z"
   },
   {
    "duration": 224,
    "start_time": "2021-11-03T08:06:10.369Z"
   },
   {
    "duration": 223,
    "start_time": "2021-11-03T08:06:35.159Z"
   },
   {
    "duration": 216,
    "start_time": "2021-11-03T08:06:49.673Z"
   },
   {
    "duration": 360,
    "start_time": "2021-11-03T08:11:54.994Z"
   },
   {
    "duration": 280,
    "start_time": "2021-11-03T08:12:16.390Z"
   },
   {
    "duration": 286,
    "start_time": "2021-11-03T08:12:28.858Z"
   },
   {
    "duration": 336,
    "start_time": "2021-11-03T08:33:23.603Z"
   },
   {
    "duration": 367,
    "start_time": "2021-11-03T08:34:38.304Z"
   },
   {
    "duration": 658,
    "start_time": "2021-11-03T08:35:02.107Z"
   },
   {
    "duration": 370,
    "start_time": "2021-11-03T08:35:17.311Z"
   },
   {
    "duration": 10,
    "start_time": "2021-11-03T08:35:33.650Z"
   },
   {
    "duration": 332,
    "start_time": "2021-11-03T08:36:33.203Z"
   },
   {
    "duration": 8,
    "start_time": "2021-11-03T08:53:51.808Z"
   },
   {
    "duration": 6,
    "start_time": "2021-11-03T08:54:51.470Z"
   },
   {
    "duration": 9,
    "start_time": "2021-11-03T08:55:04.679Z"
   },
   {
    "duration": 9,
    "start_time": "2021-11-03T08:55:57.562Z"
   },
   {
    "duration": 8,
    "start_time": "2021-11-03T08:57:26.981Z"
   },
   {
    "duration": 8,
    "start_time": "2021-11-03T08:57:51.993Z"
   },
   {
    "duration": 8,
    "start_time": "2021-11-03T08:58:03.653Z"
   },
   {
    "duration": 8,
    "start_time": "2021-11-03T08:58:47.631Z"
   },
   {
    "duration": 9,
    "start_time": "2021-11-03T09:00:52.291Z"
   },
   {
    "duration": 9,
    "start_time": "2021-11-03T09:01:44.013Z"
   },
   {
    "duration": 591,
    "start_time": "2021-11-03T09:07:28.018Z"
   },
   {
    "duration": 1922,
    "start_time": "2021-11-03T09:10:00.056Z"
   },
   {
    "duration": 381,
    "start_time": "2021-11-03T09:10:03.595Z"
   },
   {
    "duration": 362,
    "start_time": "2021-11-03T09:11:34.809Z"
   },
   {
    "duration": 464,
    "start_time": "2021-11-03T09:13:17.330Z"
   },
   {
    "duration": 353,
    "start_time": "2021-11-03T09:13:48.779Z"
   },
   {
    "duration": 393,
    "start_time": "2021-11-03T09:14:04.739Z"
   },
   {
    "duration": 13,
    "start_time": "2021-11-03T09:14:26.907Z"
   },
   {
    "duration": 12,
    "start_time": "2021-11-03T09:14:38.130Z"
   },
   {
    "duration": 59,
    "start_time": "2021-11-03T09:15:22.767Z"
   },
   {
    "duration": 228,
    "start_time": "2021-11-03T09:17:31.334Z"
   },
   {
    "duration": 6,
    "start_time": "2021-11-03T09:17:40.339Z"
   },
   {
    "duration": 1672,
    "start_time": "2021-11-03T09:18:36.239Z"
   },
   {
    "duration": 1736,
    "start_time": "2021-11-03T09:18:54.691Z"
   },
   {
    "duration": 219,
    "start_time": "2021-11-03T09:21:42.219Z"
   },
   {
    "duration": 192,
    "start_time": "2021-11-03T09:22:01.718Z"
   },
   {
    "duration": 1834,
    "start_time": "2021-11-03T09:27:12.423Z"
   },
   {
    "duration": 181840,
    "start_time": "2021-11-03T09:27:37.501Z"
   },
   {
    "duration": 941,
    "start_time": "2021-11-03T09:31:21.124Z"
   },
   {
    "duration": 7,
    "start_time": "2021-11-03T09:33:38.910Z"
   },
   {
    "duration": 732,
    "start_time": "2021-11-03T09:35:17.066Z"
   },
   {
    "duration": 970,
    "start_time": "2021-11-03T09:36:31.211Z"
   },
   {
    "duration": 3153,
    "start_time": "2021-11-03T09:37:20.956Z"
   },
   {
    "duration": 789,
    "start_time": "2021-11-03T09:37:55.678Z"
   },
   {
    "duration": 876,
    "start_time": "2021-11-03T09:38:27.856Z"
   },
   {
    "duration": 681,
    "start_time": "2021-11-03T09:38:32.607Z"
   },
   {
    "duration": 3616,
    "start_time": "2021-11-03T09:40:35.460Z"
   },
   {
    "duration": 2702,
    "start_time": "2021-11-03T09:41:07.212Z"
   },
   {
    "duration": 4281,
    "start_time": "2021-11-03T09:41:20.471Z"
   },
   {
    "duration": 4253,
    "start_time": "2021-11-03T09:41:33.448Z"
   },
   {
    "duration": 85919,
    "start_time": "2021-11-03T09:44:15.313Z"
   },
   {
    "duration": 239,
    "start_time": "2021-11-03T09:45:50.800Z"
   },
   {
    "duration": 20,
    "start_time": "2021-11-03T09:49:07.719Z"
   },
   {
    "duration": 1026,
    "start_time": "2021-11-03T09:53:28.719Z"
   },
   {
    "duration": 1030,
    "start_time": "2021-11-03T09:53:41.364Z"
   },
   {
    "duration": 333,
    "start_time": "2021-11-03T09:55:14.175Z"
   },
   {
    "duration": 255,
    "start_time": "2021-11-03T09:55:44.633Z"
   },
   {
    "duration": 196,
    "start_time": "2021-11-03T09:59:11.672Z"
   },
   {
    "duration": 210,
    "start_time": "2021-11-03T09:59:27.329Z"
   },
   {
    "duration": 47,
    "start_time": "2021-11-03T10:02:01.780Z"
   },
   {
    "duration": 183,
    "start_time": "2021-11-03T10:03:07.512Z"
   },
   {
    "duration": 189,
    "start_time": "2021-11-03T10:29:01.697Z"
   },
   {
    "duration": 504,
    "start_time": "2021-11-03T10:31:06.301Z"
   },
   {
    "duration": 184,
    "start_time": "2021-11-03T10:31:17.027Z"
   },
   {
    "duration": 192,
    "start_time": "2021-11-03T10:33:06.899Z"
   },
   {
    "duration": 193,
    "start_time": "2021-11-03T10:33:33.691Z"
   },
   {
    "duration": 196,
    "start_time": "2021-11-03T10:33:38.984Z"
   },
   {
    "duration": 585,
    "start_time": "2021-11-03T10:33:44.389Z"
   },
   {
    "duration": 194,
    "start_time": "2021-11-03T10:34:35.904Z"
   },
   {
    "duration": 227,
    "start_time": "2021-11-03T10:35:01.280Z"
   },
   {
    "duration": 223,
    "start_time": "2021-11-03T10:36:16.618Z"
   },
   {
    "duration": 218,
    "start_time": "2021-11-03T10:36:22.271Z"
   },
   {
    "duration": 191,
    "start_time": "2021-11-03T10:38:00.330Z"
   },
   {
    "duration": 183,
    "start_time": "2021-11-03T10:38:10.099Z"
   },
   {
    "duration": 198,
    "start_time": "2021-11-03T10:38:39.436Z"
   },
   {
    "duration": 25,
    "start_time": "2021-11-03T11:03:34.597Z"
   },
   {
    "duration": 22,
    "start_time": "2021-11-03T11:03:45.259Z"
   },
   {
    "duration": 19,
    "start_time": "2021-11-03T11:03:54.534Z"
   },
   {
    "duration": 19,
    "start_time": "2021-11-03T11:04:00.990Z"
   },
   {
    "duration": 21,
    "start_time": "2021-11-03T11:04:34.062Z"
   },
   {
    "duration": 6,
    "start_time": "2021-11-03T11:08:10.250Z"
   },
   {
    "duration": 9,
    "start_time": "2021-11-03T11:08:47.010Z"
   },
   {
    "duration": 18,
    "start_time": "2021-11-03T11:09:08.915Z"
   },
   {
    "duration": 11,
    "start_time": "2021-11-03T11:09:27.629Z"
   },
   {
    "duration": 50,
    "start_time": "2021-11-03T11:13:22.687Z"
   },
   {
    "duration": 17,
    "start_time": "2021-11-03T11:13:26.116Z"
   },
   {
    "duration": 11,
    "start_time": "2021-11-03T11:13:28.720Z"
   },
   {
    "duration": 10,
    "start_time": "2021-11-03T11:13:32.397Z"
   },
   {
    "duration": 16,
    "start_time": "2021-11-03T11:13:36.193Z"
   },
   {
    "duration": 9,
    "start_time": "2021-11-03T11:13:40.015Z"
   },
   {
    "duration": 19,
    "start_time": "2021-11-03T11:13:41.811Z"
   },
   {
    "duration": 19,
    "start_time": "2021-11-03T11:13:44.642Z"
   },
   {
    "duration": 4,
    "start_time": "2021-11-03T11:13:49.818Z"
   },
   {
    "duration": 29,
    "start_time": "2021-11-03T11:13:51.352Z"
   },
   {
    "duration": 4,
    "start_time": "2021-11-03T11:13:58.803Z"
   },
   {
    "duration": 4,
    "start_time": "2021-11-03T11:14:01.434Z"
   },
   {
    "duration": 311,
    "start_time": "2021-11-03T11:14:06.902Z"
   },
   {
    "duration": 61,
    "start_time": "2021-11-03T11:14:18.847Z"
   },
   {
    "duration": 897,
    "start_time": "2021-11-03T11:14:24.486Z"
   },
   {
    "duration": 42,
    "start_time": "2021-11-03T11:14:32.156Z"
   },
   {
    "duration": 12,
    "start_time": "2021-11-03T11:14:41.048Z"
   },
   {
    "duration": 260,
    "start_time": "2021-11-03T11:14:44.202Z"
   },
   {
    "duration": 209518,
    "start_time": "2021-11-03T11:14:55.017Z"
   },
   {
    "duration": 160,
    "start_time": "2021-11-03T11:18:41.173Z"
   },
   {
    "duration": 15,
    "start_time": "2021-11-03T11:18:50.258Z"
   },
   {
    "duration": 227,
    "start_time": "2021-11-03T11:18:52.829Z"
   },
   {
    "duration": 229,
    "start_time": "2021-11-03T11:18:59.801Z"
   },
   {
    "duration": 332,
    "start_time": "2021-11-03T11:19:27.927Z"
   },
   {
    "duration": 20,
    "start_time": "2021-11-03T11:20:01.863Z"
   },
   {
    "duration": 161,
    "start_time": "2021-11-03T11:20:20.884Z"
   },
   {
    "duration": 5,
    "start_time": "2021-11-03T11:20:24.768Z"
   },
   {
    "duration": 2039,
    "start_time": "2021-11-03T11:20:29.994Z"
   },
   {
    "duration": 242,
    "start_time": "2021-11-03T11:20:40.710Z"
   },
   {
    "duration": 244,
    "start_time": "2021-11-03T11:20:45.821Z"
   },
   {
    "duration": 212571,
    "start_time": "2021-11-03T11:20:52.594Z"
   },
   {
    "duration": 1112,
    "start_time": "2021-11-03T11:25:17.316Z"
   },
   {
    "duration": 6,
    "start_time": "2021-11-03T11:25:26.297Z"
   },
   {
    "duration": 3270,
    "start_time": "2021-11-03T11:25:29.929Z"
   },
   {
    "duration": 97128,
    "start_time": "2021-11-03T11:26:21.827Z"
   },
   {
    "duration": 288,
    "start_time": "2021-11-03T11:28:08.378Z"
   },
   {
    "duration": 24,
    "start_time": "2021-11-03T11:28:12.371Z"
   },
   {
    "duration": 302,
    "start_time": "2021-11-03T11:28:35.655Z"
   },
   {
    "duration": 8,
    "start_time": "2021-11-03T11:29:14.346Z"
   },
   {
    "duration": 237,
    "start_time": "2021-11-03T11:29:19.195Z"
   },
   {
    "duration": 204,
    "start_time": "2021-11-03T11:29:22.786Z"
   },
   {
    "duration": 16,
    "start_time": "2021-11-03T21:03:49.371Z"
   },
   {
    "duration": 1239,
    "start_time": "2021-11-04T12:06:13.487Z"
   },
   {
    "duration": 9,
    "start_time": "2021-11-04T12:07:48.080Z"
   },
   {
    "duration": 5,
    "start_time": "2021-11-04T12:07:51.580Z"
   },
   {
    "duration": 9,
    "start_time": "2021-11-04T12:08:01.122Z"
   },
   {
    "duration": 9,
    "start_time": "2021-11-04T12:08:04.122Z"
   },
   {
    "duration": 12,
    "start_time": "2021-11-04T12:08:07.548Z"
   },
   {
    "duration": 5,
    "start_time": "2021-11-04T12:08:15.538Z"
   },
   {
    "duration": 18,
    "start_time": "2021-11-04T12:08:18.201Z"
   },
   {
    "duration": 16,
    "start_time": "2021-11-04T12:08:21.256Z"
   },
   {
    "duration": 3,
    "start_time": "2021-11-04T12:08:27.239Z"
   },
   {
    "duration": 28,
    "start_time": "2021-11-04T12:08:39.633Z"
   },
   {
    "duration": 5,
    "start_time": "2021-11-04T12:11:06.145Z"
   },
   {
    "duration": 4,
    "start_time": "2021-11-04T12:11:11.129Z"
   },
   {
    "duration": 226,
    "start_time": "2021-11-04T12:11:16.843Z"
   },
   {
    "duration": 13,
    "start_time": "2021-11-04T12:11:40.864Z"
   },
   {
    "duration": 785,
    "start_time": "2021-11-04T12:11:58.518Z"
   },
   {
    "duration": 38,
    "start_time": "2021-11-04T12:12:19.638Z"
   },
   {
    "duration": 9,
    "start_time": "2021-11-04T12:13:07.548Z"
   },
   {
    "duration": 218,
    "start_time": "2021-11-04T12:13:26.530Z"
   },
   {
    "duration": 105629,
    "start_time": "2021-11-04T12:17:00.981Z"
   },
   {
    "duration": 511,
    "start_time": "2021-11-04T12:20:37.708Z"
   },
   {
    "duration": 16,
    "start_time": "2021-11-04T12:22:34.840Z"
   },
   {
    "duration": 1285,
    "start_time": "2021-11-04T12:22:55.880Z"
   },
   {
    "duration": 418,
    "start_time": "2021-11-04T12:24:10.704Z"
   },
   {
    "duration": 247,
    "start_time": "2021-11-04T12:26:53.167Z"
   },
   {
    "duration": 3,
    "start_time": "2021-11-04T12:27:03.596Z"
   },
   {
    "duration": 4,
    "start_time": "2021-11-04T12:27:08.557Z"
   },
   {
    "duration": 89,
    "start_time": "2021-11-04T12:27:59.612Z"
   },
   {
    "duration": 7,
    "start_time": "2021-11-04T12:28:11.084Z"
   },
   {
    "duration": 14,
    "start_time": "2021-11-04T12:28:17.897Z"
   },
   {
    "duration": 9,
    "start_time": "2021-11-04T12:28:38.007Z"
   },
   {
    "duration": 543,
    "start_time": "2021-11-04T12:28:43.265Z"
   },
   {
    "duration": 1221,
    "start_time": "2021-11-04T12:29:36.830Z"
   },
   {
    "duration": 318,
    "start_time": "2021-11-04T12:30:04.582Z"
   },
   {
    "duration": 274,
    "start_time": "2021-11-04T12:30:25.998Z"
   },
   {
    "duration": 7,
    "start_time": "2021-11-04T12:30:47.983Z"
   },
   {
    "duration": 6,
    "start_time": "2021-11-04T12:31:12.122Z"
   },
   {
    "duration": 6,
    "start_time": "2021-11-04T12:31:38.299Z"
   },
   {
    "duration": 7,
    "start_time": "2021-11-04T12:32:28.797Z"
   },
   {
    "duration": 7,
    "start_time": "2021-11-04T12:32:34.274Z"
   },
   {
    "duration": 256,
    "start_time": "2021-11-04T12:33:03.157Z"
   },
   {
    "duration": 5,
    "start_time": "2021-11-04T12:33:09.691Z"
   },
   {
    "duration": 7,
    "start_time": "2021-11-04T12:33:13.959Z"
   },
   {
    "duration": 992,
    "start_time": "2021-11-04T12:33:23.885Z"
   },
   {
    "duration": 105148,
    "start_time": "2021-11-04T12:34:42.974Z"
   },
   {
    "duration": 260,
    "start_time": "2021-11-04T12:38:06.893Z"
   },
   {
    "duration": 272,
    "start_time": "2021-11-04T12:38:43.098Z"
   },
   {
    "duration": 255,
    "start_time": "2021-11-04T12:39:30.881Z"
   },
   {
    "duration": 9,
    "start_time": "2021-11-04T12:40:00.279Z"
   },
   {
    "duration": 14,
    "start_time": "2021-11-04T12:40:08.093Z"
   },
   {
    "duration": 311,
    "start_time": "2021-11-04T12:40:21.554Z"
   },
   {
    "duration": 13,
    "start_time": "2021-11-04T12:40:42.689Z"
   },
   {
    "duration": 266,
    "start_time": "2021-11-04T12:40:53.867Z"
   },
   {
    "duration": 10,
    "start_time": "2021-11-04T12:41:22.254Z"
   },
   {
    "duration": 13,
    "start_time": "2021-11-04T12:41:37.035Z"
   },
   {
    "duration": 279,
    "start_time": "2021-11-04T12:41:46.543Z"
   },
   {
    "duration": 4701,
    "start_time": "2021-11-04T12:41:58.679Z"
   },
   {
    "duration": 1354,
    "start_time": "2021-11-04T12:42:10.695Z"
   },
   {
    "duration": 12,
    "start_time": "2021-11-04T12:43:06.724Z"
   },
   {
    "duration": 12,
    "start_time": "2021-11-04T12:43:31.477Z"
   },
   {
    "duration": 3067,
    "start_time": "2021-11-04T12:43:46.207Z"
   },
   {
    "duration": 576,
    "start_time": "2021-11-04T12:47:20.524Z"
   },
   {
    "duration": 4,
    "start_time": "2021-11-04T12:47:53.173Z"
   },
   {
    "duration": 3229,
    "start_time": "2021-11-04T12:50:10.152Z"
   },
   {
    "duration": 270,
    "start_time": "2021-11-04T12:54:10.995Z"
   },
   {
    "duration": 4,
    "start_time": "2021-11-04T12:54:19.395Z"
   },
   {
    "duration": 256,
    "start_time": "2021-11-04T12:59:39.327Z"
   },
   {
    "duration": 8,
    "start_time": "2021-11-04T12:59:46.650Z"
   },
   {
    "duration": 7,
    "start_time": "2021-11-04T13:01:24.940Z"
   },
   {
    "duration": 4,
    "start_time": "2021-11-04T13:03:17.082Z"
   },
   {
    "duration": 4,
    "start_time": "2021-11-04T13:03:21.980Z"
   },
   {
    "duration": 282,
    "start_time": "2021-11-04T13:07:12.863Z"
   },
   {
    "duration": 103607,
    "start_time": "2021-11-04T13:07:28.139Z"
   },
   {
    "duration": 264,
    "start_time": "2021-11-04T13:09:32.506Z"
   },
   {
    "duration": 5,
    "start_time": "2021-11-04T13:09:39.540Z"
   },
   {
    "duration": 7,
    "start_time": "2021-11-04T13:09:46.104Z"
   },
   {
    "duration": 263,
    "start_time": "2021-11-04T13:10:12.825Z"
   },
   {
    "duration": 3066,
    "start_time": "2021-11-04T13:10:46.976Z"
   },
   {
    "duration": 8,
    "start_time": "2021-11-04T13:11:09.950Z"
   },
   {
    "duration": 264,
    "start_time": "2021-11-04T13:11:30.115Z"
   },
   {
    "duration": 265,
    "start_time": "2021-11-04T13:11:50.004Z"
   },
   {
    "duration": 5,
    "start_time": "2021-11-04T13:11:56.641Z"
   },
   {
    "duration": 8,
    "start_time": "2021-11-04T13:13:06.766Z"
   },
   {
    "duration": 1436,
    "start_time": "2021-11-04T13:14:45.286Z"
   },
   {
    "duration": 264,
    "start_time": "2021-11-04T13:15:00.245Z"
   },
   {
    "duration": 265,
    "start_time": "2021-11-04T13:17:19.230Z"
   },
   {
    "duration": 104393,
    "start_time": "2021-11-04T13:17:28.208Z"
   },
   {
    "duration": 13,
    "start_time": "2021-11-04T13:19:22.156Z"
   },
   {
    "duration": 275,
    "start_time": "2021-11-04T13:25:33.358Z"
   },
   {
    "duration": 263,
    "start_time": "2021-11-04T13:27:56.263Z"
   },
   {
    "duration": 274,
    "start_time": "2021-11-04T13:28:17.572Z"
   },
   {
    "duration": 302,
    "start_time": "2021-11-04T13:28:29.615Z"
   },
   {
    "duration": 140,
    "start_time": "2021-11-04T13:30:25.866Z"
   },
   {
    "duration": 98,
    "start_time": "2021-11-04T13:30:30.720Z"
   },
   {
    "duration": 90,
    "start_time": "2021-11-04T13:30:40.009Z"
   },
   {
    "duration": 106796,
    "start_time": "2021-11-04T13:31:28.805Z"
   },
   {
    "duration": 12,
    "start_time": "2021-11-04T13:34:10.111Z"
   },
   {
    "duration": 7,
    "start_time": "2021-11-04T13:34:41.798Z"
   },
   {
    "duration": 5,
    "start_time": "2021-11-04T13:35:14.489Z"
   },
   {
    "duration": 5,
    "start_time": "2021-11-04T13:35:25.235Z"
   },
   {
    "duration": 5,
    "start_time": "2021-11-04T13:35:31.538Z"
   },
   {
    "duration": 7,
    "start_time": "2021-11-04T13:38:18.569Z"
   },
   {
    "duration": 255,
    "start_time": "2021-11-04T13:39:06.337Z"
   },
   {
    "duration": 257,
    "start_time": "2021-11-04T13:39:34.085Z"
   },
   {
    "duration": 261,
    "start_time": "2021-11-04T13:39:40.613Z"
   },
   {
    "duration": 7,
    "start_time": "2021-11-04T13:41:13.509Z"
   },
   {
    "duration": 261,
    "start_time": "2021-11-04T13:42:08.897Z"
   },
   {
    "duration": 280,
    "start_time": "2021-11-04T13:43:00.283Z"
   },
   {
    "duration": 4,
    "start_time": "2021-11-04T13:43:07.785Z"
   },
   {
    "duration": 275,
    "start_time": "2021-11-04T13:43:18.166Z"
   },
   {
    "duration": 9,
    "start_time": "2021-11-04T13:45:23.122Z"
   },
   {
    "duration": 10,
    "start_time": "2021-11-04T13:45:54.782Z"
   },
   {
    "duration": 10,
    "start_time": "2021-11-04T13:46:03.320Z"
   },
   {
    "duration": 258,
    "start_time": "2021-11-04T13:46:34.977Z"
   },
   {
    "duration": 276,
    "start_time": "2021-11-04T13:46:43.658Z"
   },
   {
    "duration": 266,
    "start_time": "2021-11-04T13:46:47.276Z"
   },
   {
    "duration": 9,
    "start_time": "2021-11-04T13:46:52.356Z"
   },
   {
    "duration": 262,
    "start_time": "2021-11-04T13:48:03.774Z"
   },
   {
    "duration": 262,
    "start_time": "2021-11-04T13:48:43.792Z"
   },
   {
    "duration": 417,
    "start_time": "2021-11-04T13:48:54.466Z"
   },
   {
    "duration": 366,
    "start_time": "2021-11-04T13:49:08.198Z"
   },
   {
    "duration": 373,
    "start_time": "2021-11-04T13:49:49.420Z"
   },
   {
    "duration": 8,
    "start_time": "2021-11-04T13:51:54.803Z"
   },
   {
    "duration": 3832,
    "start_time": "2021-11-04T13:52:30.614Z"
   },
   {
    "duration": 3056,
    "start_time": "2021-11-04T13:53:08.134Z"
   },
   {
    "duration": 3003,
    "start_time": "2021-11-04T13:53:22.250Z"
   },
   {
    "duration": 709,
    "start_time": "2021-11-04T13:54:27.865Z"
   },
   {
    "duration": 246,
    "start_time": "2021-11-04T13:54:54.163Z"
   },
   {
    "duration": 1310,
    "start_time": "2021-11-04T13:55:05.812Z"
   },
   {
    "duration": 88,
    "start_time": "2021-11-04T13:55:18.036Z"
   },
   {
    "duration": 37,
    "start_time": "2021-11-04T13:55:57.438Z"
   },
   {
    "duration": 42,
    "start_time": "2021-11-04T13:56:04.591Z"
   },
   {
    "duration": 35,
    "start_time": "2021-11-04T13:56:08.285Z"
   },
   {
    "duration": 320,
    "start_time": "2021-11-04T13:56:24.848Z"
   },
   {
    "duration": 257,
    "start_time": "2021-11-04T13:56:34.325Z"
   },
   {
    "duration": 80,
    "start_time": "2021-11-04T13:57:56.373Z"
   },
   {
    "duration": 615,
    "start_time": "2021-11-04T13:58:11.581Z"
   },
   {
    "duration": 255,
    "start_time": "2021-11-04T13:58:17.198Z"
   },
   {
    "duration": 92,
    "start_time": "2021-11-04T14:05:50.795Z"
   },
   {
    "duration": 82,
    "start_time": "2021-11-04T14:06:07.596Z"
   },
   {
    "duration": 246,
    "start_time": "2021-11-04T14:06:15.975Z"
   },
   {
    "duration": 158,
    "start_time": "2021-11-04T14:06:24.355Z"
   },
   {
    "duration": 5,
    "start_time": "2021-11-04T14:07:57.416Z"
   },
   {
    "duration": 12,
    "start_time": "2021-11-04T14:08:26.533Z"
   },
   {
    "duration": 4,
    "start_time": "2021-11-04T14:09:10.859Z"
   },
   {
    "duration": 4749,
    "start_time": "2021-11-04T14:09:12.871Z"
   },
   {
    "duration": 255,
    "start_time": "2021-11-04T14:09:22.502Z"
   },
   {
    "duration": 5191,
    "start_time": "2021-11-04T14:09:36.480Z"
   },
   {
    "duration": 11,
    "start_time": "2021-11-04T14:09:59.429Z"
   },
   {
    "duration": 11,
    "start_time": "2021-11-04T14:10:15.648Z"
   },
   {
    "duration": 8,
    "start_time": "2021-11-04T14:10:54.927Z"
   },
   {
    "duration": 31,
    "start_time": "2021-11-04T14:10:59.647Z"
   },
   {
    "duration": 3670,
    "start_time": "2021-11-04T14:11:05.523Z"
   },
   {
    "duration": 1387,
    "start_time": "2021-11-04T14:11:16.750Z"
   },
   {
    "duration": 393,
    "start_time": "2021-11-04T14:11:35.781Z"
   },
   {
    "duration": 26,
    "start_time": "2021-11-04T14:12:22.838Z"
   },
   {
    "duration": 425,
    "start_time": "2021-11-04T14:12:46.459Z"
   },
   {
    "duration": 428,
    "start_time": "2021-11-04T14:15:02.964Z"
   },
   {
    "duration": 469,
    "start_time": "2021-11-04T14:15:31.040Z"
   },
   {
    "duration": 437,
    "start_time": "2021-11-04T14:16:13.937Z"
   },
   {
    "duration": 431,
    "start_time": "2021-11-04T14:16:53.506Z"
   },
   {
    "duration": 425,
    "start_time": "2021-11-04T14:17:01.306Z"
   },
   {
    "duration": 104128,
    "start_time": "2021-11-04T14:17:11.480Z"
   },
   {
    "duration": 390,
    "start_time": "2021-11-04T14:19:09.276Z"
   },
   {
    "duration": 146,
    "start_time": "2021-11-04T14:19:50.442Z"
   },
   {
    "duration": 16,
    "start_time": "2021-11-04T14:19:54.353Z"
   },
   {
    "duration": 265,
    "start_time": "2021-11-04T14:19:59.808Z"
   },
   {
    "duration": 130,
    "start_time": "2021-11-04T14:21:25.803Z"
   },
   {
    "duration": 499,
    "start_time": "2021-11-04T14:21:55.437Z"
   },
   {
    "duration": 601,
    "start_time": "2021-11-04T14:22:30.175Z"
   },
   {
    "duration": 102,
    "start_time": "2021-11-04T14:25:41.170Z"
   },
   {
    "duration": 102,
    "start_time": "2021-11-04T14:27:15.919Z"
   },
   {
    "duration": 101,
    "start_time": "2021-11-04T14:27:32.422Z"
   },
   {
    "duration": 109,
    "start_time": "2021-11-04T17:01:22.985Z"
   },
   {
    "duration": 1639,
    "start_time": "2021-11-05T11:59:23.547Z"
   },
   {
    "duration": 12,
    "start_time": "2021-11-05T11:59:28.759Z"
   },
   {
    "duration": 6,
    "start_time": "2021-11-05T11:59:31.653Z"
   },
   {
    "duration": 11,
    "start_time": "2021-11-05T11:59:33.883Z"
   },
   {
    "duration": 13,
    "start_time": "2021-11-05T11:59:37.044Z"
   },
   {
    "duration": 18,
    "start_time": "2021-11-05T11:59:39.982Z"
   },
   {
    "duration": 6,
    "start_time": "2021-11-05T11:59:43.841Z"
   },
   {
    "duration": 30,
    "start_time": "2021-11-05T11:59:46.640Z"
   },
   {
    "duration": 25,
    "start_time": "2021-11-05T11:59:49.468Z"
   },
   {
    "duration": 4,
    "start_time": "2021-11-05T11:59:54.187Z"
   },
   {
    "duration": 42,
    "start_time": "2021-11-05T11:59:56.045Z"
   },
   {
    "duration": 5,
    "start_time": "2021-11-05T12:00:03.274Z"
   },
   {
    "duration": 4,
    "start_time": "2021-11-05T12:00:06.097Z"
   },
   {
    "duration": 509,
    "start_time": "2021-11-05T12:00:48.731Z"
   },
   {
    "duration": 297,
    "start_time": "2021-11-05T12:00:58.212Z"
   },
   {
    "duration": 48,
    "start_time": "2021-11-05T12:01:08.156Z"
   },
   {
    "duration": 445,
    "start_time": "2021-11-05T12:01:41.769Z"
   },
   {
    "duration": 1116,
    "start_time": "2021-11-05T12:02:47.202Z"
   },
   {
    "duration": 365,
    "start_time": "2021-11-05T12:03:24.912Z"
   },
   {
    "duration": 57,
    "start_time": "2021-11-05T12:03:30.488Z"
   },
   {
    "duration": 13,
    "start_time": "2021-11-05T12:04:49.286Z"
   },
   {
    "duration": 380,
    "start_time": "2021-11-05T12:04:59.946Z"
   },
   {
    "duration": 168461,
    "start_time": "2021-11-05T12:06:40.750Z"
   },
   {
    "duration": 761,
    "start_time": "2021-11-05T12:11:52.481Z"
   },
   {
    "duration": 224,
    "start_time": "2021-11-05T12:12:22.265Z"
   },
   {
    "duration": 24,
    "start_time": "2021-11-05T12:12:26.877Z"
   },
   {
    "duration": 436,
    "start_time": "2021-11-05T12:12:59.129Z"
   },
   {
    "duration": 559,
    "start_time": "2021-11-05T12:13:36.612Z"
   },
   {
    "duration": 1025,
    "start_time": "2021-11-05T12:13:51.519Z"
   },
   {
    "duration": 292,
    "start_time": "2021-11-05T12:14:24.243Z"
   },
   {
    "duration": 404,
    "start_time": "2021-11-05T12:15:28.209Z"
   },
   {
    "duration": 135,
    "start_time": "2021-11-05T12:17:08.583Z"
   },
   {
    "duration": 131,
    "start_time": "2021-11-05T12:17:34.995Z"
   },
   {
    "duration": 591,
    "start_time": "2021-11-05T12:18:00.638Z"
   },
   {
    "duration": 228,
    "start_time": "2021-11-05T12:19:16.420Z"
   },
   {
    "duration": 5,
    "start_time": "2021-11-05T12:19:19.396Z"
   },
   {
    "duration": 2636,
    "start_time": "2021-11-05T12:19:35.083Z"
   },
   {
    "duration": 318,
    "start_time": "2021-11-05T12:20:39.369Z"
   },
   {
    "duration": 335,
    "start_time": "2021-11-05T12:20:49.205Z"
   },
   {
    "duration": 261306,
    "start_time": "2021-11-05T12:21:07.410Z"
   },
   {
    "duration": 1390,
    "start_time": "2021-11-05T12:26:22.961Z"
   },
   {
    "duration": 6,
    "start_time": "2021-11-05T12:26:34.304Z"
   },
   {
    "duration": 3979,
    "start_time": "2021-11-05T12:28:53.390Z"
   },
   {
    "duration": 121502,
    "start_time": "2021-11-05T12:29:28.068Z"
   },
   {
    "duration": 350,
    "start_time": "2021-11-05T12:32:49.926Z"
   },
   {
    "duration": 413,
    "start_time": "2021-11-05T12:35:24.651Z"
   },
   {
    "duration": 402,
    "start_time": "2021-11-05T12:35:37.462Z"
   },
   {
    "duration": 170,
    "start_time": "2021-11-05T12:36:01.591Z"
   },
   {
    "duration": 648,
    "start_time": "2021-11-05T12:44:13.592Z"
   },
   {
    "duration": 201,
    "start_time": "2021-11-05T12:44:49.516Z"
   },
   {
    "duration": 235,
    "start_time": "2021-11-05T12:46:04.596Z"
   },
   {
    "duration": 300,
    "start_time": "2021-11-05T12:46:20.476Z"
   },
   {
    "duration": 264,
    "start_time": "2021-11-05T12:46:24.584Z"
   },
   {
    "duration": 1559,
    "start_time": "2021-11-06T13:57:13.947Z"
   },
   {
    "duration": 11,
    "start_time": "2021-11-06T13:57:15.509Z"
   },
   {
    "duration": 15,
    "start_time": "2021-11-06T13:57:15.523Z"
   },
   {
    "duration": 59,
    "start_time": "2021-11-06T13:57:15.541Z"
   },
   {
    "duration": 13,
    "start_time": "2021-11-06T13:57:15.603Z"
   },
   {
    "duration": 23,
    "start_time": "2021-11-06T13:57:15.618Z"
   },
   {
    "duration": 58,
    "start_time": "2021-11-06T13:57:15.643Z"
   },
   {
    "duration": 33,
    "start_time": "2021-11-06T13:57:15.703Z"
   },
   {
    "duration": 77,
    "start_time": "2021-11-06T13:57:15.740Z"
   },
   {
    "duration": 3,
    "start_time": "2021-11-06T13:57:15.820Z"
   },
   {
    "duration": 104,
    "start_time": "2021-11-06T13:57:15.826Z"
   },
   {
    "duration": 5,
    "start_time": "2021-11-06T13:57:15.933Z"
   },
   {
    "duration": 12,
    "start_time": "2021-11-06T13:57:15.941Z"
   },
   {
    "duration": 550,
    "start_time": "2021-11-06T13:57:15.955Z"
   },
   {
    "duration": 99,
    "start_time": "2021-11-06T13:57:16.507Z"
   },
   {
    "duration": 675,
    "start_time": "2021-11-06T13:57:54.236Z"
   },
   {
    "duration": 388,
    "start_time": "2021-11-06T13:58:13.362Z"
   },
   {
    "duration": 11,
    "start_time": "2021-11-06T13:58:24.924Z"
   },
   {
    "duration": 11,
    "start_time": "2021-11-06T13:58:34.145Z"
   },
   {
    "duration": 1170,
    "start_time": "2022-01-14T06:52:36.101Z"
   },
   {
    "duration": 9,
    "start_time": "2022-01-14T06:52:45.878Z"
   },
   {
    "duration": 293,
    "start_time": "2022-01-14T06:53:18.786Z"
   },
   {
    "duration": 197,
    "start_time": "2022-01-14T06:53:26.798Z"
   },
   {
    "duration": 256,
    "start_time": "2022-01-14T06:53:38.845Z"
   },
   {
    "duration": 189,
    "start_time": "2022-01-14T06:53:49.868Z"
   },
   {
    "duration": 212,
    "start_time": "2022-01-14T06:53:54.988Z"
   },
   {
    "duration": 4,
    "start_time": "2022-01-14T06:54:10.115Z"
   },
   {
    "duration": 9,
    "start_time": "2022-01-14T06:54:23.927Z"
   },
   {
    "duration": 5,
    "start_time": "2022-01-14T06:54:38.153Z"
   },
   {
    "duration": 8,
    "start_time": "2022-01-14T06:54:40.793Z"
   },
   {
    "duration": 8,
    "start_time": "2022-01-14T06:54:53.281Z"
   },
   {
    "duration": 9,
    "start_time": "2022-01-14T06:54:55.260Z"
   },
   {
    "duration": 9,
    "start_time": "2022-01-14T06:55:15.607Z"
   },
   {
    "duration": 12,
    "start_time": "2022-01-14T06:55:18.480Z"
   },
   {
    "duration": 5,
    "start_time": "2022-01-14T06:55:33.068Z"
   },
   {
    "duration": 19,
    "start_time": "2022-01-14T06:55:42.992Z"
   },
   {
    "duration": 15,
    "start_time": "2022-01-14T06:55:51.649Z"
   },
   {
    "duration": 3,
    "start_time": "2022-01-14T06:56:12.608Z"
   },
   {
    "duration": 25,
    "start_time": "2022-01-14T06:56:17.272Z"
   },
   {
    "duration": 4,
    "start_time": "2022-01-14T06:57:12.300Z"
   },
   {
    "duration": 4,
    "start_time": "2022-01-14T06:57:21.959Z"
   },
   {
    "duration": 143,
    "start_time": "2022-01-14T06:57:30.604Z"
   },
   {
    "duration": 99,
    "start_time": "2022-01-14T06:57:48.444Z"
   },
   {
    "duration": 13,
    "start_time": "2022-01-14T06:57:53.726Z"
   },
   {
    "duration": 764,
    "start_time": "2022-01-14T06:58:01.799Z"
   },
   {
    "duration": 34,
    "start_time": "2022-01-14T06:58:10.156Z"
   },
   {
    "duration": 9,
    "start_time": "2022-01-14T06:58:13.353Z"
   },
   {
    "duration": 189,
    "start_time": "2022-01-14T06:58:16.916Z"
   },
   {
    "duration": 99153,
    "start_time": "2022-01-14T06:58:25.996Z"
   },
   {
    "duration": 382,
    "start_time": "2022-01-14T07:00:08.353Z"
   },
   {
    "duration": 129,
    "start_time": "2022-01-14T07:00:20.308Z"
   },
   {
    "duration": 14,
    "start_time": "2022-01-14T07:00:23.208Z"
   },
   {
    "duration": 126,
    "start_time": "2022-01-14T07:00:57.782Z"
   },
   {
    "duration": 15,
    "start_time": "2022-01-14T07:01:01.179Z"
   },
   {
    "duration": 245,
    "start_time": "2022-01-14T07:01:07.475Z"
   },
   {
    "duration": 647,
    "start_time": "2022-01-14T07:01:31.372Z"
   },
   {
    "duration": 208,
    "start_time": "2022-01-14T07:02:15.868Z"
   },
   {
    "duration": 6,
    "start_time": "2022-01-14T07:02:22.768Z"
   },
   {
    "duration": 2343,
    "start_time": "2022-01-14T07:02:24.905Z"
   },
   {
    "duration": 272,
    "start_time": "2022-01-14T07:02:30.114Z"
   },
   {
    "duration": 165,
    "start_time": "2022-01-14T07:02:39.101Z"
   },
   {
    "duration": 153808,
    "start_time": "2022-01-14T07:02:48.714Z"
   },
   {
    "duration": 779,
    "start_time": "2022-01-14T07:06:09.265Z"
   },
   {
    "duration": 4,
    "start_time": "2022-01-14T07:06:17.860Z"
   },
   {
    "duration": 2383,
    "start_time": "2022-01-14T07:06:20.331Z"
   },
   {
    "duration": 74753,
    "start_time": "2022-01-14T07:06:34.442Z"
   },
   {
    "duration": 201,
    "start_time": "2022-01-14T07:07:51.874Z"
   },
   {
    "duration": 247,
    "start_time": "2022-01-14T07:10:24.719Z"
   },
   {
    "duration": 286,
    "start_time": "2022-01-14T07:10:31.897Z"
   },
   {
    "duration": 252,
    "start_time": "2022-01-14T07:10:37.105Z"
   },
   {
    "duration": 97,
    "start_time": "2022-01-14T07:10:59.870Z"
   },
   {
    "duration": 121,
    "start_time": "2022-01-14T07:11:11.308Z"
   },
   {
    "duration": 129,
    "start_time": "2022-01-14T07:11:15.685Z"
   },
   {
    "duration": 168,
    "start_time": "2022-01-14T07:11:27.308Z"
   },
   {
    "duration": 147,
    "start_time": "2022-01-14T07:11:44.633Z"
   }
  ],
  "kernelspec": {
   "display_name": "Python 3",
   "language": "python",
   "name": "python3"
  },
  "language_info": {
   "codemirror_mode": {
    "name": "ipython",
    "version": 3
   },
   "file_extension": ".py",
   "mimetype": "text/x-python",
   "name": "python",
   "nbconvert_exporter": "python",
   "pygments_lexer": "ipython3",
   "version": "3.8.8"
  },
  "toc": {
   "base_numbering": 1,
   "nav_menu": {},
   "number_sections": true,
   "sideBar": true,
   "skip_h1_title": true,
   "title_cell": "Содержание",
   "title_sidebar": "Contents",
   "toc_cell": true,
   "toc_position": {
    "height": "calc(100% - 180px)",
    "left": "10px",
    "top": "150px",
    "width": "165px"
   },
   "toc_section_display": true,
   "toc_window_display": true
  }
 },
 "nbformat": 4,
 "nbformat_minor": 2
}
