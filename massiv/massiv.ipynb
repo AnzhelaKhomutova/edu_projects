{
 "cells": [
  {
   "cell_type": "code",
   "execution_count": 1,
   "id": "27150840",
   "metadata": {},
   "outputs": [],
   "source": [
    "class massiv:\n",
    "    def __init__(self):\n",
    "        self.new_temp = []\n",
    "        self.str_temp = []\n",
    "\n",
    "    def display_info(self):\n",
    "        print(self.str_temp)\n",
    "\n",
    "    def addstr(self, str_add):\n",
    "        self.str_temp = self.str_temp + [str_add]\n",
    "\n",
    "\n",
    "    def delstr(self, znstr):\n",
    "        for i, elememt in enumerate(self.str_temp):\n",
    "            if elememt == znstr:\n",
    "                for j in range(i, len(self.str_temp)-1):\n",
    "                    self.str_temp[j] = self.str_temp[j+1]\n",
    "                self.new_temp = self.str_temp[:len(self.str_temp)-1]\n",
    "                self.str_temp = self.new_temp\n",
    "                self.new_temp = []\n",
    "                break    "
   ]
  },
  {
   "cell_type": "code",
   "execution_count": 3,
   "id": "98b9336f",
   "metadata": {},
   "outputs": [
    {
     "name": "stdout",
     "output_type": "stream",
     "text": [
      "['2', '3', '4']\n"
     ]
    }
   ],
   "source": [
    "tom = massiv()\n",
    "tom.addstr('1')\n",
    "tom.addstr('2')\n",
    "tom.addstr('3')\n",
    "tom.addstr('4')\n",
    "\n",
    "tom.delstr('1')\n",
    "\n",
    "tom.display_info()"
   ]
  }
 ],
 "metadata": {
  "kernelspec": {
   "display_name": "Python 3",
   "language": "python",
   "name": "python3"
  },
  "language_info": {
   "codemirror_mode": {
    "name": "ipython",
    "version": 3
   },
   "file_extension": ".py",
   "mimetype": "text/x-python",
   "name": "python",
   "nbconvert_exporter": "python",
   "pygments_lexer": "ipython3",
   "version": "3.8.8"
  },
  "toc": {
   "base_numbering": 1,
   "nav_menu": {},
   "number_sections": true,
   "sideBar": true,
   "skip_h1_title": false,
   "title_cell": "Table of Contents",
   "title_sidebar": "Contents",
   "toc_cell": false,
   "toc_position": {},
   "toc_section_display": true,
   "toc_window_display": false
  }
 },
 "nbformat": 4,
 "nbformat_minor": 5
}
