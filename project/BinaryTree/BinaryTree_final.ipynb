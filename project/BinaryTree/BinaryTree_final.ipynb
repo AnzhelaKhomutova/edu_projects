{
 "cells": [
  {
   "cell_type": "code",
   "execution_count": 1,
   "id": "ffd017b1",
   "metadata": {},
   "outputs": [],
   "source": [
    "class BinaryNode:\n",
    "    def __init__(self, value = None):\n",
    "        self.value = value\n",
    "        self.left = None\n",
    "        self.right = None\n",
    "        \n",
    "    def add (self, val):\n",
    "        if val < self.value:\n",
    "            if self.left is None:\n",
    "                self.left = BinaryNode(val)\n",
    "            else:\n",
    "                self.left.add (val)\n",
    "        else:\n",
    "            if self.right  is None:\n",
    "                self.right = BinaryNode(val)  \n",
    "            else:\n",
    "                self.right.add(val) \n",
    "                \n",
    "    def __str__(self):\n",
    "        return 'Node ['+str(self.value)+']' \n",
    "            \n",
    "class BinaryTree:\n",
    "    def __init__(self,key=None):\n",
    "        self.key = key\n",
    "        \n",
    "    def add(self, value):\n",
    "        if self.key is None:\n",
    "            self.key = BinaryNode(value)\n",
    "        else:\n",
    "            self.key.add (value)  \n",
    "            \n",
    "    def __find(self,node,parent,value):\n",
    "        if node is None:\n",
    "            return None, parent, False\n",
    "\n",
    "        if value == node.value:\n",
    "            return node, parent, True\n",
    "\n",
    "        if value<node.value:\n",
    "            if node.left:\n",
    "                return self.__find(node.left,node,value)\n",
    "\n",
    "        if value>node.value:\n",
    "            if node.right:\n",
    "                return self.__find(node.right,node,value)\n",
    "\n",
    "        return node,parent,False\n",
    "\n",
    "    def __del_leaf(self,s,p):\n",
    "        if p.left==s:\n",
    "            p.left=None\n",
    "        elif p.right==s:\n",
    "            p.right=None\n",
    "\n",
    "    def __del_one_child(self,s,p):\n",
    "        if p.left==s:\n",
    "            if s.left is None:\n",
    "                p.left=s.right\n",
    "            elif s.right is None:\n",
    "                p.left=s.left\n",
    "\n",
    "        if p.right==s:\n",
    "            if s.left is None:\n",
    "                p.right=s.right\n",
    "            elif s.right is None:\n",
    "                p.right=s.left\n",
    "\n",
    "    def __find_min(self,node,parent):\n",
    "        if node.left:\n",
    "            return self.__find_min(node.left,node)\n",
    "\n",
    "        return node,parent\n",
    "\n",
    "    def remove(self,key):\n",
    "        s,p,fl_find = self.__find(self.key,None,key)\n",
    "\n",
    "        if not fl_find:\n",
    "            return None\n",
    "\n",
    "        if s.left is None and s.right is None:\n",
    "            self.__del_leaf(s,p)\n",
    "        elif s.left is None or s.right is None:\n",
    "            self.__del_one_child(s,p)\n",
    "        else:\n",
    "            sr,pr = self.__find_min(s.right,s)\n",
    "            s.value=sr.value\n",
    "            self.__del_one_child(sr,pr)            \n",
    "            \n",
    "    def __contains__ (self, target):\n",
    "        node = self.key\n",
    "        while node:\n",
    "            if target < node.value:\n",
    "                node = node.left\n",
    "            elif target > node.value:\n",
    "                node = node.right\n",
    "            else:\n",
    "                node = node.right\n",
    "                return True   \n",
    "            \n",
    "    def show_wide_tree(self,node):\n",
    "        if node is None:\n",
    "            return\n",
    "\n",
    "        v=[node]\n",
    "        while v:\n",
    "            vn=[]\n",
    "            for x in v:\n",
    "                print(x.value,end=\" \")\n",
    "                if x.left:\n",
    "                    vn+=[x.left]\n",
    "                if x.right:\n",
    "                    vn+=[x.right]\n",
    "            print()\n",
    "            v=vn"
   ]
  },
  {
   "cell_type": "code",
   "execution_count": 18,
   "id": "d997fc7c",
   "metadata": {},
   "outputs": [],
   "source": [
    "tree = BinaryTree()\n",
    "tree.add(8)\n",
    "tree.add(2)\n",
    "tree.add(4)\n",
    "tree.add(1)\n",
    "tree.add(3)\n",
    "tree.add(5)"
   ]
  },
  {
   "cell_type": "code",
   "execution_count": 19,
   "id": "e8af763d",
   "metadata": {},
   "outputs": [
    {
     "name": "stdout",
     "output_type": "stream",
     "text": [
      "8 \n",
      "2 \n",
      "1 4 \n",
      "3 5 \n"
     ]
    }
   ],
   "source": [
    "tree.show_wide_tree(tree.key)"
   ]
  },
  {
   "cell_type": "markdown",
   "id": "f8f396f9",
   "metadata": {},
   "source": [
    "или"
   ]
  },
  {
   "cell_type": "code",
   "execution_count": 20,
   "id": "409e763d",
   "metadata": {},
   "outputs": [
    {
     "name": "stdout",
     "output_type": "stream",
     "text": [
      "Node [8]\n",
      "Node [2]\n",
      "None\n",
      "Node [1]\n",
      "Node [4]\n",
      "None\n",
      "None\n",
      "Node [3]\n",
      "Node [5]\n"
     ]
    }
   ],
   "source": [
    "print(tree.key)\n",
    "print(tree.key.left)\n",
    "print(tree.key.right)\n",
    "print(tree.key.left.left)\n",
    "print(tree.key.left.right)\n",
    "print(tree.key.left.left.left)\n",
    "print(tree.key.left.left.right)\n",
    "print(tree.key.left.right.left)\n",
    "print(tree.key.left.right.right)"
   ]
  },
  {
   "cell_type": "code",
   "execution_count": 21,
   "id": "948bf4ff",
   "metadata": {},
   "outputs": [
    {
     "data": {
      "text/plain": [
       "False"
      ]
     },
     "execution_count": 21,
     "metadata": {},
     "output_type": "execute_result"
    }
   ],
   "source": [
    "18 in tree"
   ]
  },
  {
   "cell_type": "code",
   "execution_count": 22,
   "id": "15bff55e",
   "metadata": {},
   "outputs": [
    {
     "data": {
      "text/plain": [
       "True"
      ]
     },
     "execution_count": 22,
     "metadata": {},
     "output_type": "execute_result"
    }
   ],
   "source": [
    "3 in tree"
   ]
  },
  {
   "cell_type": "code",
   "execution_count": 23,
   "id": "618d8619",
   "metadata": {},
   "outputs": [],
   "source": [
    "tree.remove(5)"
   ]
  },
  {
   "cell_type": "code",
   "execution_count": 24,
   "id": "b9e1de72",
   "metadata": {},
   "outputs": [
    {
     "name": "stdout",
     "output_type": "stream",
     "text": [
      "8 \n",
      "2 \n",
      "1 4 \n",
      "3 \n"
     ]
    }
   ],
   "source": [
    "tree.show_wide_tree(tree.key)"
   ]
  }
 ],
 "metadata": {
  "kernelspec": {
   "display_name": "Python 3",
   "language": "python",
   "name": "python3"
  },
  "language_info": {
   "codemirror_mode": {
    "name": "ipython",
    "version": 3
   },
   "file_extension": ".py",
   "mimetype": "text/x-python",
   "name": "python",
   "nbconvert_exporter": "python",
   "pygments_lexer": "ipython3",
   "version": "3.8.8"
  },
  "toc": {
   "base_numbering": 1,
   "nav_menu": {},
   "number_sections": true,
   "sideBar": true,
   "skip_h1_title": false,
   "title_cell": "Table of Contents",
   "title_sidebar": "Contents",
   "toc_cell": false,
   "toc_position": {},
   "toc_section_display": true,
   "toc_window_display": false
  }
 },
 "nbformat": 4,
 "nbformat_minor": 5
}
