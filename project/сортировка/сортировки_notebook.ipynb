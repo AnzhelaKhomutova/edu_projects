{
 "cells": [
  {
   "cell_type": "code",
   "execution_count": 139,
   "id": "3e5752d3",
   "metadata": {},
   "outputs": [],
   "source": [
    "import random\n",
    "from datetime import datetime"
   ]
  },
  {
   "cell_type": "markdown",
   "id": "4590f20e",
   "metadata": {},
   "source": [
    "BUB1. +1 байт. Реализовать алгоритм BubbleSort."
   ]
  },
  {
   "cell_type": "code",
   "execution_count": 6,
   "id": "c4097150",
   "metadata": {},
   "outputs": [],
   "source": [
    "def BubbleSort(mas):\n",
    "    for i in range(len(mas)-1):\n",
    "        for j in range(len(mas)-1):\n",
    "            if mas[j]>mas[j+1]:\n",
    "                element = mas[j+1]\n",
    "                mas[j+1]=mas[j]\n",
    "                mas[j]=element\n",
    "    return mas"
   ]
  },
  {
   "cell_type": "markdown",
   "id": "46fef1e0",
   "metadata": {},
   "source": [
    "BUB2. +1 байт. Оптимизировать алгоритм BubbleSort."
   ]
  },
  {
   "cell_type": "code",
   "execution_count": 16,
   "id": "63112d6a",
   "metadata": {},
   "outputs": [],
   "source": [
    "def BubbleSortShift(mas):\n",
    "    swap = True\n",
    "    while swap==True:\n",
    "        swap=False\n",
    "        for i in range(len(mas)-1):\n",
    "            if mas[i]>mas[i+1]:\n",
    "                swap = True\n",
    "                element = mas[i+1]\n",
    "                mas[i+1]=mas[i]\n",
    "                mas[i]=element            \n",
    "    return mas            "
   ]
  },
  {
   "cell_type": "markdown",
   "id": "95adecec",
   "metadata": {},
   "source": [
    "INS1. +1 байт. Реализовать алгоритм InsertionSort."
   ]
  },
  {
   "cell_type": "code",
   "execution_count": 38,
   "id": "85a87266",
   "metadata": {},
   "outputs": [],
   "source": [
    "def InsertionSort(mas):\n",
    "    for i in range(1,len(mas)):\n",
    "        element = mas[i]\n",
    "        j = i - 1\n",
    "        while j>=0 and mas[j]>element:\n",
    "            mas[j+1]=mas[j]\n",
    "            j-=1\n",
    "        mas[j + 1]=element\n",
    "    return mas    "
   ]
  },
  {
   "cell_type": "markdown",
   "id": "7c24c4bd",
   "metadata": {},
   "source": [
    "INS3. +1 байт. Оптимизировать алгоритм InsertionSort, сделать бинарный поиск места вставки."
   ]
  },
  {
   "cell_type": "code",
   "execution_count": 55,
   "id": "2494f291",
   "metadata": {},
   "outputs": [],
   "source": [
    "def bin_search(mas,i):\n",
    "    first=0\n",
    "    last=len(mas)-1\n",
    "    mid=(first+last)//2\n",
    "    while first<=last:\n",
    "        if i>mas[mid]:\n",
    "            first=mid+1\n",
    "        if i<mas[mid]:\n",
    "            last=mid-1\n",
    "        if i==mas[mid]:\n",
    "            return mid\n",
    "        mid=(first+last)//2\n",
    "    return first "
   ]
  },
  {
   "cell_type": "code",
   "execution_count": 111,
   "id": "259249b1",
   "metadata": {},
   "outputs": [],
   "source": [
    "def InsertionSortShift(mas):\n",
    "    for i in range(1, len(mas)):\n",
    "        kl = mas[i]\n",
    "        ll = bin_search(mas[:i], kl)\n",
    "        for k in range(i, ll, -1):\n",
    "            mas[k] = mas[k - 1]\n",
    "        mas[ll] = kl\n",
    "    return mas    "
   ]
  },
  {
   "cell_type": "markdown",
   "id": "38a7e746",
   "metadata": {},
   "source": [
    "SHS1. +1 байт. Реализовать алгоритм ShellSort."
   ]
  },
  {
   "cell_type": "code",
   "execution_count": 64,
   "id": "cd2a437e",
   "metadata": {},
   "outputs": [],
   "source": [
    "def ShellSort(mas):\n",
    "    b=len(mas)\n",
    "    k=b//2\n",
    "    while k>0:\n",
    "        for i in range(0,b-k):\n",
    "            j=i\n",
    "            while (j>=0) and (mas[j]>mas[j+k]):\n",
    "                element=mas[j]\n",
    "                mas[j]=mas[j+k]\n",
    "                mas[j+k]=element\n",
    "                j-=1\n",
    "        k=k//2\n",
    "    return mas    "
   ]
  },
  {
   "cell_type": "code",
   "execution_count": 150,
   "id": "3a63b0ad",
   "metadata": {},
   "outputs": [],
   "source": [
    "massive = [92, 60, 80, 64, 43, 61, 57, 76, 62, 13, 80, 49, 0, 83, 17]"
   ]
  },
  {
   "cell_type": "code",
   "execution_count": 143,
   "id": "bacd33f6",
   "metadata": {},
   "outputs": [
    {
     "data": {
      "text/plain": [
       "[0, 13, 17, 43, 49, 57, 60, 61, 62, 64, 76, 80, 80, 83, 92]"
      ]
     },
     "execution_count": 143,
     "metadata": {},
     "output_type": "execute_result"
    }
   ],
   "source": [
    "BubbleSort(massive)"
   ]
  },
  {
   "cell_type": "code",
   "execution_count": 145,
   "id": "b3309847",
   "metadata": {},
   "outputs": [
    {
     "data": {
      "text/plain": [
       "[0, 13, 17, 43, 49, 57, 60, 61, 62, 64, 76, 80, 80, 83, 92]"
      ]
     },
     "execution_count": 145,
     "metadata": {},
     "output_type": "execute_result"
    }
   ],
   "source": [
    "BubbleSortShift(massive)"
   ]
  },
  {
   "cell_type": "code",
   "execution_count": 147,
   "id": "f5cd7b93",
   "metadata": {},
   "outputs": [
    {
     "data": {
      "text/plain": [
       "[0, 13, 17, 43, 49, 57, 60, 61, 62, 64, 76, 80, 80, 83, 92]"
      ]
     },
     "execution_count": 147,
     "metadata": {},
     "output_type": "execute_result"
    }
   ],
   "source": [
    "InsertionSort(massive)"
   ]
  },
  {
   "cell_type": "code",
   "execution_count": 149,
   "id": "8a94d7f6",
   "metadata": {},
   "outputs": [
    {
     "data": {
      "text/plain": [
       "[0, 13, 17, 43, 49, 57, 60, 61, 62, 64, 76, 80, 80, 83, 92]"
      ]
     },
     "execution_count": 149,
     "metadata": {},
     "output_type": "execute_result"
    }
   ],
   "source": [
    "InsertionSortShift(massive)"
   ]
  },
  {
   "cell_type": "code",
   "execution_count": 151,
   "id": "8bf8bf28",
   "metadata": {},
   "outputs": [
    {
     "data": {
      "text/plain": [
       "[0, 13, 17, 43, 49, 57, 60, 61, 62, 64, 76, 80, 80, 83, 92]"
      ]
     },
     "execution_count": 151,
     "metadata": {},
     "output_type": "execute_result"
    }
   ],
   "source": [
    "ShellSort(massive)"
   ]
  },
  {
   "cell_type": "markdown",
   "id": "178fdd78",
   "metadata": {},
   "source": [
    "+2 байта. Занести в сравнительную таблицу время сортировки случайного массива размером 100, 1000 и 10000 для каждого алгоритма."
   ]
  },
  {
   "cell_type": "code",
   "execution_count": 137,
   "id": "ecc1c238",
   "metadata": {},
   "outputs": [],
   "source": [
    "massive = []\n",
    "for i in range(10**4):\n",
    "    massive.append(random.randint(0,10**4))"
   ]
  },
  {
   "cell_type": "code",
   "execution_count": 128,
   "id": "a4454a0a",
   "metadata": {},
   "outputs": [
    {
     "name": "stdout",
     "output_type": "stream",
     "text": [
      "0:00:13.052067\n"
     ]
    }
   ],
   "source": [
    "t1 = datetime.now()\n",
    "BubbleSort(massive)\n",
    "print(datetime.now()-t1)"
   ]
  },
  {
   "cell_type": "code",
   "execution_count": 130,
   "id": "050e17bf",
   "metadata": {},
   "outputs": [
    {
     "name": "stdout",
     "output_type": "stream",
     "text": [
      "0:00:12.892857\n"
     ]
    }
   ],
   "source": [
    "t1 = datetime.now()\n",
    "BubbleSortShift(massive)\n",
    "print(datetime.now()-t1)"
   ]
  },
  {
   "cell_type": "code",
   "execution_count": 132,
   "id": "9561c3a8",
   "metadata": {},
   "outputs": [
    {
     "name": "stdout",
     "output_type": "stream",
     "text": [
      "0:00:02.509072\n"
     ]
    }
   ],
   "source": [
    "t1 = datetime.now()\n",
    "InsertionSort(massive)\n",
    "print(datetime.now()-t1)"
   ]
  },
  {
   "cell_type": "code",
   "execution_count": 138,
   "id": "25418087",
   "metadata": {},
   "outputs": [
    {
     "name": "stdout",
     "output_type": "stream",
     "text": [
      "0:00:02.404526\n"
     ]
    }
   ],
   "source": [
    "t1 = datetime.now()\n",
    "InsertionSortShift(massive)\n",
    "print(datetime.now()-t1)"
   ]
  },
  {
   "cell_type": "code",
   "execution_count": 136,
   "id": "54cf1731",
   "metadata": {},
   "outputs": [
    {
     "name": "stdout",
     "output_type": "stream",
     "text": [
      "0:00:01.080368\n"
     ]
    }
   ],
   "source": [
    "t1 = datetime.now()\n",
    "ShellSort(massive)\n",
    "print(datetime.now()-t1)"
   ]
  }
 ],
 "metadata": {
  "kernelspec": {
   "display_name": "Python 3",
   "language": "python",
   "name": "python3"
  },
  "language_info": {
   "codemirror_mode": {
    "name": "ipython",
    "version": 3
   },
   "file_extension": ".py",
   "mimetype": "text/x-python",
   "name": "python",
   "nbconvert_exporter": "python",
   "pygments_lexer": "ipython3",
   "version": "3.8.8"
  },
  "toc": {
   "base_numbering": 1,
   "nav_menu": {},
   "number_sections": true,
   "sideBar": true,
   "skip_h1_title": false,
   "title_cell": "Table of Contents",
   "title_sidebar": "Contents",
   "toc_cell": false,
   "toc_position": {},
   "toc_section_display": true,
   "toc_window_display": false
  }
 },
 "nbformat": 4,
 "nbformat_minor": 5
}
