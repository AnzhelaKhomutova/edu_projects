{
 "cells": [
  {
   "cell_type": "code",
   "execution_count": 1,
   "id": "b9b03714",
   "metadata": {},
   "outputs": [],
   "source": [
    "a=[[0,1,0,0,0,0,0,0],\n",
    "   [0,0,0,0,1,0,0,0],\n",
    "   [0,0,0,1,0,0,0,0],\n",
    "   [1,1,0,0,1,1,0,0],\n",
    "   [0,0,0,0,0,0,1,0],\n",
    "   [0,0,0,0,0,0,0,1],\n",
    "   [0,0,0,0,0,0,0,1],\n",
    "   [0,0,0,0,0,0,0,0]]"
   ]
  },
  {
   "cell_type": "code",
   "execution_count": 2,
   "id": "b31aa975",
   "metadata": {},
   "outputs": [],
   "source": [
    "b = [0]*len(a)\n",
    "for i in range(len(a)):\n",
    "    for j in range(len(a[i])):\n",
    "        b[j]+=a[i][j]"
   ]
  },
  {
   "cell_type": "code",
   "execution_count": 3,
   "id": "6bee6ccd",
   "metadata": {},
   "outputs": [],
   "source": [
    "c=[0]*len(a)"
   ]
  },
  {
   "cell_type": "code",
   "execution_count": 4,
   "id": "8e96f9d9",
   "metadata": {},
   "outputs": [],
   "source": [
    "dict_final={}"
   ]
  },
  {
   "cell_type": "code",
   "execution_count": 5,
   "id": "69b0d30b",
   "metadata": {},
   "outputs": [
    {
     "name": "stdout",
     "output_type": "stream",
     "text": [
      "level =1\n",
      "2\n",
      "[1, 2, -1, 0, 2, 1, 1, 2]\n",
      "level =2\n",
      "3\n",
      "[0, 1, -1, -1, 1, 0, 1, 2]\n",
      "level =3\n",
      "0\n",
      "[-1, 0, -1, -1, 1, 0, 1, 2]\n",
      "level =3\n",
      "5\n",
      "[-1, 0, -1, -1, 1, -1, 1, 1]\n",
      "level =4\n",
      "1\n",
      "[-1, -1, -1, -1, 0, -1, 1, 1]\n",
      "level =5\n",
      "4\n",
      "[-1, -1, -1, -1, -1, -1, 0, 1]\n",
      "level =6\n",
      "6\n",
      "[-1, -1, -1, -1, -1, -1, -1, 0]\n",
      "level =7\n",
      "7\n",
      "[-1, -1, -1, -1, -1, -1, -1, -1]\n"
     ]
    }
   ],
   "source": [
    "level = 1\n",
    "\n",
    "while 0 in b:\n",
    "    dict_final[level]=[]\n",
    "    for i,element in enumerate(b):       \n",
    "        if element==0:\n",
    "            print(f'level ={level}')  \n",
    "            b[i]=-1\n",
    "            for j in range(len(b)):\n",
    "                c[j]=b[j]-a[i][j]  \n",
    "                \n",
    "            print(i)\n",
    "            print(c)\n",
    "            dict_final[level]+=[i]\n",
    "            b = c.copy()\n",
    "    level+=1"
   ]
  },
  {
   "cell_type": "code",
   "execution_count": 6,
   "id": "2cf68b48",
   "metadata": {},
   "outputs": [
    {
     "data": {
      "text/plain": [
       "{1: [2], 2: [3], 3: [0, 5], 4: [1], 5: [4], 6: [6], 7: [7]}"
      ]
     },
     "execution_count": 6,
     "metadata": {},
     "output_type": "execute_result"
    }
   ],
   "source": [
    "dict_final"
   ]
  }
 ],
 "metadata": {
  "kernelspec": {
   "display_name": "Python 3",
   "language": "python",
   "name": "python3"
  },
  "language_info": {
   "codemirror_mode": {
    "name": "ipython",
    "version": 3
   },
   "file_extension": ".py",
   "mimetype": "text/x-python",
   "name": "python",
   "nbconvert_exporter": "python",
   "pygments_lexer": "ipython3",
   "version": "3.8.8"
  },
  "toc": {
   "base_numbering": 1,
   "nav_menu": {},
   "number_sections": true,
   "sideBar": true,
   "skip_h1_title": false,
   "title_cell": "Table of Contents",
   "title_sidebar": "Contents",
   "toc_cell": false,
   "toc_position": {},
   "toc_section_display": true,
   "toc_window_display": false
  }
 },
 "nbformat": 4,
 "nbformat_minor": 5
}
