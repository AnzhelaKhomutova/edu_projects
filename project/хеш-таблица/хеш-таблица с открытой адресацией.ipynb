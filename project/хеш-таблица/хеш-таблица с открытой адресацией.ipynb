{
 "cells": [
  {
   "cell_type": "markdown",
   "id": "2eee9375",
   "metadata": {},
   "source": [
    "хеш-таблица с открытой адресацией"
   ]
  },
  {
   "cell_type": "code",
   "execution_count": 73,
   "id": "7f2368d6",
   "metadata": {},
   "outputs": [],
   "source": [
    "class Hashtable:\n",
    "    def __init__(self, b=10, hashFunction=None, probeFunction=None):\n",
    "        self.b = b\n",
    "        self.bins = [None] * b\n",
    "        self.deleted = [False] * b\n",
    "        if hashFunction:\n",
    "            self.hashFunction = hashFunction\n",
    "        else:\n",
    "            self.hashFunction = lambda value, size: hash(value) % size\n",
    "        if probeFunction:\n",
    "            self.probeFunction = probeFunction\n",
    "        else:\n",
    "            self.probeFunction = lambda hk, size, i : (hk + 37) % size\n",
    "\n",
    "    def add (self, value):\n",
    "        hk = self.hashFunction (value, self.b)\n",
    "        ctr = 1\n",
    "        while ctr <= self.b:\n",
    "            if self.bins[hk] is None or self.deleted[hk]:\n",
    "                self.bins[hk] = value\n",
    "                self.deleted[hk] = False\n",
    "                return ctr\n",
    "\n",
    "            hk = self.probeFunction (hk, self.b, ctr)\n",
    "            ctr += 1\n",
    "        return -self.b\n",
    "    \n",
    "    def delete (self, value):\n",
    "        hk = self.hashFunction (value, self.b)\n",
    "        ctr = 1\n",
    "        while ctr <= self.b:\n",
    "            if self.bins[hk] is None:\n",
    "                return -ctr\n",
    "            if self.bins[hk] == value and not self.deleted[hk]:\n",
    "                self.deleted[hk] = True\n",
    "                return ctr\n",
    "            hk = self.probeFunction (hk, self.b, ctr)\n",
    "            ctr += 1\n",
    "        return -self.b\n",
    "    \n",
    "    def contains(self, value):\n",
    "        if self.bins[self.hashFunction (value, self.b)  ] and not self.deleted[self.hashFunction (value, self.b)]:\n",
    "            return self.hashFunction (value, self.b)\n",
    "        else:\n",
    "            return -1"
   ]
  },
  {
   "cell_type": "code",
   "execution_count": 74,
   "id": "11dc6a06",
   "metadata": {},
   "outputs": [],
   "source": [
    "Hashtable=Hashtable()"
   ]
  },
  {
   "cell_type": "code",
   "execution_count": 75,
   "id": "33e50c09",
   "metadata": {},
   "outputs": [
    {
     "data": {
      "text/plain": [
       "1"
      ]
     },
     "execution_count": 75,
     "metadata": {},
     "output_type": "execute_result"
    }
   ],
   "source": [
    "Hashtable.add('111111111111')"
   ]
  },
  {
   "cell_type": "code",
   "execution_count": 76,
   "id": "3883ce84",
   "metadata": {},
   "outputs": [
    {
     "data": {
      "text/plain": [
       "1"
      ]
     },
     "execution_count": 76,
     "metadata": {},
     "output_type": "execute_result"
    }
   ],
   "source": [
    "Hashtable.add('uu')"
   ]
  },
  {
   "cell_type": "code",
   "execution_count": 77,
   "id": "9b491dce",
   "metadata": {},
   "outputs": [
    {
     "data": {
      "text/plain": [
       "1"
      ]
     },
     "execution_count": 77,
     "metadata": {},
     "output_type": "execute_result"
    }
   ],
   "source": [
    "Hashtable.add('uurrrrrrrrr')"
   ]
  },
  {
   "cell_type": "code",
   "execution_count": 78,
   "id": "8de4178e",
   "metadata": {},
   "outputs": [
    {
     "data": {
      "text/plain": [
       "2"
      ]
     },
     "execution_count": 78,
     "metadata": {},
     "output_type": "execute_result"
    }
   ],
   "source": [
    "Hashtable.add('uuннннннннн6456456вапвапвапв')"
   ]
  },
  {
   "cell_type": "code",
   "execution_count": 79,
   "id": "8da436c6",
   "metadata": {},
   "outputs": [
    {
     "name": "stdout",
     "output_type": "stream",
     "text": [
      "['111111111111', 'uurrrrrrrrr', None, None, None, None, None, 'uuннннннннн6456456вапвапвапв', None, 'uu']\n"
     ]
    }
   ],
   "source": [
    "print(Hashtable.bins)"
   ]
  },
  {
   "cell_type": "code",
   "execution_count": 80,
   "id": "43badda1",
   "metadata": {},
   "outputs": [
    {
     "data": {
      "text/plain": [
       "-1"
      ]
     },
     "execution_count": 80,
     "metadata": {},
     "output_type": "execute_result"
    }
   ],
   "source": [
    "Hashtable.delete('yyyy')"
   ]
  },
  {
   "cell_type": "code",
   "execution_count": 81,
   "id": "547f86c4",
   "metadata": {},
   "outputs": [
    {
     "data": {
      "text/plain": [
       "1"
      ]
     },
     "execution_count": 81,
     "metadata": {},
     "output_type": "execute_result"
    }
   ],
   "source": [
    "Hashtable.delete('uu')"
   ]
  },
  {
   "cell_type": "code",
   "execution_count": 82,
   "id": "8925144f",
   "metadata": {},
   "outputs": [
    {
     "name": "stdout",
     "output_type": "stream",
     "text": [
      "['111111111111', 'uurrrrrrrrr', None, None, None, None, None, 'uuннннннннн6456456вапвапвапв', None, 'uu']\n"
     ]
    }
   ],
   "source": [
    "print(Hashtable.bins)"
   ]
  },
  {
   "cell_type": "code",
   "execution_count": 83,
   "id": "4a95a6de",
   "metadata": {},
   "outputs": [
    {
     "name": "stdout",
     "output_type": "stream",
     "text": [
      "[False, False, False, False, False, False, False, False, False, True]\n"
     ]
    }
   ],
   "source": [
    "print(Hashtable.deleted)"
   ]
  },
  {
   "cell_type": "code",
   "execution_count": 84,
   "id": "f71e775e",
   "metadata": {},
   "outputs": [
    {
     "data": {
      "text/plain": [
       "1"
      ]
     },
     "execution_count": 84,
     "metadata": {},
     "output_type": "execute_result"
    }
   ],
   "source": [
    "Hashtable.contains('uurrrrrrrrr')"
   ]
  },
  {
   "cell_type": "code",
   "execution_count": 87,
   "id": "4f6ad5a4",
   "metadata": {},
   "outputs": [
    {
     "data": {
      "text/plain": [
       "0"
      ]
     },
     "execution_count": 87,
     "metadata": {},
     "output_type": "execute_result"
    }
   ],
   "source": [
    "Hashtable.contains('111111111111')"
   ]
  },
  {
   "cell_type": "code",
   "execution_count": 85,
   "id": "db620dae",
   "metadata": {},
   "outputs": [
    {
     "data": {
      "text/plain": [
       "-1"
      ]
     },
     "execution_count": 85,
     "metadata": {},
     "output_type": "execute_result"
    }
   ],
   "source": [
    "Hashtable.contains('uu')"
   ]
  },
  {
   "cell_type": "code",
   "execution_count": 86,
   "id": "71b99738",
   "metadata": {},
   "outputs": [
    {
     "data": {
      "text/plain": [
       "-1"
      ]
     },
     "execution_count": 86,
     "metadata": {},
     "output_type": "execute_result"
    }
   ],
   "source": [
    "Hashtable.contains('42342343')"
   ]
  }
 ],
 "metadata": {
  "kernelspec": {
   "display_name": "Python 3",
   "language": "python",
   "name": "python3"
  },
  "language_info": {
   "codemirror_mode": {
    "name": "ipython",
    "version": 3
   },
   "file_extension": ".py",
   "mimetype": "text/x-python",
   "name": "python",
   "nbconvert_exporter": "python",
   "pygments_lexer": "ipython3",
   "version": "3.8.8"
  },
  "toc": {
   "base_numbering": 1,
   "nav_menu": {},
   "number_sections": true,
   "sideBar": true,
   "skip_h1_title": false,
   "title_cell": "Table of Contents",
   "title_sidebar": "Contents",
   "toc_cell": false,
   "toc_position": {},
   "toc_section_display": true,
   "toc_window_display": false
  }
 },
 "nbformat": 4,
 "nbformat_minor": 5
}
