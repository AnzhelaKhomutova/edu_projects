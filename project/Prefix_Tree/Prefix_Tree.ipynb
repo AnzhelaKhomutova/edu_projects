{
 "cells": [
  {
   "cell_type": "code",
   "execution_count": 1,
   "id": "d38b4049",
   "metadata": {},
   "outputs": [],
   "source": [
    "class TrieNode:\n",
    "    def __init__(self):\n",
    "        self.children=dict()\n",
    "        self.is_terminated=False\n",
    "\n",
    "class Trie:\n",
    "    def __init__(self):\n",
    "        self.root= TrieNode()\n",
    "        \n",
    "    def insert(self,word):\n",
    "        p=self.root\n",
    "        for c in word:\n",
    "            if c not in p.children:\n",
    "                p.children[c]=TrieNode()\n",
    "            p=p.children[c]\n",
    "        p.is_terminated=True\n",
    "        \n",
    "    def search(self,word):\n",
    "        p=self.root\n",
    "        for c in word:\n",
    "            if c not in p.children:\n",
    "                return False\n",
    "            p=p.children[c]\n",
    "        return p.is_terminated\n",
    "    \n",
    "    def startsWith(self,prefix):\n",
    "        p=self.root\n",
    "        for c in prefix:\n",
    "            if c not in p.children:\n",
    "                return False\n",
    "            p=p.children[c]\n",
    "        return True"
   ]
  },
  {
   "cell_type": "code",
   "execution_count": 2,
   "id": "5e2f681d",
   "metadata": {},
   "outputs": [],
   "source": [
    "trie = Trie()"
   ]
  },
  {
   "cell_type": "code",
   "execution_count": 3,
   "id": "d48bdbaf",
   "metadata": {},
   "outputs": [],
   "source": [
    "trie.insert(\"apple\")"
   ]
  },
  {
   "cell_type": "code",
   "execution_count": 4,
   "id": "70d57061",
   "metadata": {},
   "outputs": [
    {
     "data": {
      "text/plain": [
       "True"
      ]
     },
     "execution_count": 4,
     "metadata": {},
     "output_type": "execute_result"
    }
   ],
   "source": [
    "trie.search(\"apple\")"
   ]
  },
  {
   "cell_type": "code",
   "execution_count": 5,
   "id": "59de9da6",
   "metadata": {},
   "outputs": [
    {
     "data": {
      "text/plain": [
       "False"
      ]
     },
     "execution_count": 5,
     "metadata": {},
     "output_type": "execute_result"
    }
   ],
   "source": [
    "trie.search(\"app\")"
   ]
  },
  {
   "cell_type": "code",
   "execution_count": 6,
   "id": "6bc896a3",
   "metadata": {},
   "outputs": [
    {
     "data": {
      "text/plain": [
       "True"
      ]
     },
     "execution_count": 6,
     "metadata": {},
     "output_type": "execute_result"
    }
   ],
   "source": [
    "trie.startsWith(\"app\")"
   ]
  },
  {
   "cell_type": "code",
   "execution_count": 7,
   "id": "a1d0a407",
   "metadata": {},
   "outputs": [],
   "source": [
    "trie.insert(\"app\")"
   ]
  },
  {
   "cell_type": "code",
   "execution_count": 8,
   "id": "aa891005",
   "metadata": {},
   "outputs": [
    {
     "data": {
      "text/plain": [
       "True"
      ]
     },
     "execution_count": 8,
     "metadata": {},
     "output_type": "execute_result"
    }
   ],
   "source": [
    "trie.search(\"app\")"
   ]
  }
 ],
 "metadata": {
  "kernelspec": {
   "display_name": "Python 3",
   "language": "python",
   "name": "python3"
  },
  "language_info": {
   "codemirror_mode": {
    "name": "ipython",
    "version": 3
   },
   "file_extension": ".py",
   "mimetype": "text/x-python",
   "name": "python",
   "nbconvert_exporter": "python",
   "pygments_lexer": "ipython3",
   "version": "3.8.8"
  },
  "toc": {
   "base_numbering": 1,
   "nav_menu": {},
   "number_sections": true,
   "sideBar": true,
   "skip_h1_title": false,
   "title_cell": "Table of Contents",
   "title_sidebar": "Contents",
   "toc_cell": false,
   "toc_position": {},
   "toc_section_display": true,
   "toc_window_display": false
  }
 },
 "nbformat": 4,
 "nbformat_minor": 5
}
