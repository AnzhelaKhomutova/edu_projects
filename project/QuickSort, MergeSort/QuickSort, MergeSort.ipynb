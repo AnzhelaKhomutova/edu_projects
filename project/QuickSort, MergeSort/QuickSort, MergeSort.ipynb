{
 "cells": [
  {
   "cell_type": "code",
   "execution_count": 35,
   "id": "c3aefc0d",
   "metadata": {},
   "outputs": [],
   "source": [
    "import random\n",
    "from datetime import datetime"
   ]
  },
  {
   "cell_type": "markdown",
   "id": "5e97c8ea",
   "metadata": {},
   "source": [
    "QS1. +1 байт. Реализовать алгоритм быстрой сортировки QuickSort."
   ]
  },
  {
   "cell_type": "code",
   "execution_count": 31,
   "id": "fe955c59",
   "metadata": {},
   "outputs": [],
   "source": [
    "def quick_sort(mas):\n",
    "    if len(mas)<=1:\n",
    "        return mas\n",
    "    else:\n",
    "        element = mas[0]\n",
    "        min_mas=[]\n",
    "        max_mas=[]\n",
    "        mid_mas=[]\n",
    "        for i in mas:\n",
    "            if i>element:\n",
    "                max_mas.append(i)\n",
    "            elif i<element:   \n",
    "                min_mas.append(i)\n",
    "            else:\n",
    "                mid_mas.append(i)\n",
    "        return  quick_sort(min_mas)+ mid_mas + quick_sort(max_mas)"
   ]
  },
  {
   "cell_type": "code",
   "execution_count": 32,
   "id": "50d2c1cc",
   "metadata": {},
   "outputs": [],
   "source": [
    "mas = [4,0,36,189,12,74,2,1,6,15,99]"
   ]
  },
  {
   "cell_type": "code",
   "execution_count": 33,
   "id": "1fa934b0",
   "metadata": {},
   "outputs": [
    {
     "data": {
      "text/plain": [
       "[0, 1, 2, 4, 6, 12, 15, 36, 74, 99, 189]"
      ]
     },
     "execution_count": 33,
     "metadata": {},
     "output_type": "execute_result"
    }
   ],
   "source": [
    "quick_sort(mas)"
   ]
  },
  {
   "cell_type": "markdown",
   "id": "ac469026",
   "metadata": {},
   "source": [
    "MS2. +1 байт. Реализовать алгоритм сортировки слиянием MergeSort."
   ]
  },
  {
   "cell_type": "code",
   "execution_count": 3,
   "id": "6bcc5aef",
   "metadata": {},
   "outputs": [],
   "source": [
    "def merge_sort(mas): \n",
    "    if len(mas) <= 1: \n",
    "        return mas \n",
    "    else:\n",
    "        mid = len(mas)//2\n",
    "        left = mas[:mid] \n",
    "        right = mas[mid:] \n",
    "    return merge(merge_sort(left), merge_sort(right))\n",
    "\n",
    "def merge(left, right):\n",
    "    new_mas = []\n",
    "    i = 0\n",
    "    j = 0\n",
    "    while i < len(left) and j < len(right):\n",
    "        if left[i] <= right[j]:\n",
    "            new_mas.append(left[i]) \n",
    "            i += 1 \n",
    "        else:\n",
    "            new_mas.append(right[j]) \n",
    "            j += 1\n",
    "             \n",
    "    new_mas += left[i:] + right[j:]\n",
    "    return new_mas"
   ]
  },
  {
   "cell_type": "code",
   "execution_count": 2,
   "id": "ac7f5c44",
   "metadata": {},
   "outputs": [],
   "source": [
    "mas = [4,0,36,189,12,74,2,1,6,15,99]"
   ]
  },
  {
   "cell_type": "code",
   "execution_count": 4,
   "id": "4c01c2e2",
   "metadata": {},
   "outputs": [
    {
     "data": {
      "text/plain": [
       "[0, 1, 2, 4, 6, 12, 15, 36, 74, 99, 189]"
      ]
     },
     "execution_count": 4,
     "metadata": {},
     "output_type": "execute_result"
    }
   ],
   "source": [
    "merge_sort(mas)"
   ]
  },
  {
   "cell_type": "markdown",
   "id": "d04d2ea9",
   "metadata": {},
   "source": [
    "+2 байта. Занести в сравнительную таблицу время сортировки\n",
    "случайного массива размером 10^2, 10^3, 10^4, 10^5, 10^6\n",
    "для каждого реализованного алгоритма, timeout 2 минуты."
   ]
  },
  {
   "cell_type": "code",
   "execution_count": 62,
   "id": "ff2ca829",
   "metadata": {},
   "outputs": [],
   "source": [
    "massive = []\n",
    "for i in range(10**6):\n",
    "    massive.append(random.randint(0,10**6))"
   ]
  },
  {
   "cell_type": "code",
   "execution_count": 61,
   "id": "5b25483a",
   "metadata": {},
   "outputs": [
    {
     "name": "stdout",
     "output_type": "stream",
     "text": [
      "0:00:03.079543\n"
     ]
    }
   ],
   "source": [
    "t1 = datetime.now()\n",
    "quick_sort(massive)\n",
    "print(datetime.now()-t1)"
   ]
  },
  {
   "cell_type": "code",
   "execution_count": 63,
   "id": "1c846282",
   "metadata": {},
   "outputs": [
    {
     "name": "stdout",
     "output_type": "stream",
     "text": [
      "0:00:05.406036\n"
     ]
    }
   ],
   "source": [
    "t1 = datetime.now()\n",
    "merge_sort(massive)\n",
    "print(datetime.now()-t1)"
   ]
  }
 ],
 "metadata": {
  "kernelspec": {
   "display_name": "Python 3",
   "language": "python",
   "name": "python3"
  },
  "language_info": {
   "codemirror_mode": {
    "name": "ipython",
    "version": 3
   },
   "file_extension": ".py",
   "mimetype": "text/x-python",
   "name": "python",
   "nbconvert_exporter": "python",
   "pygments_lexer": "ipython3",
   "version": "3.8.8"
  },
  "toc": {
   "base_numbering": 1,
   "nav_menu": {},
   "number_sections": true,
   "sideBar": true,
   "skip_h1_title": false,
   "title_cell": "Table of Contents",
   "title_sidebar": "Contents",
   "toc_cell": false,
   "toc_position": {},
   "toc_section_display": true,
   "toc_window_display": false
  }
 },
 "nbformat": 4,
 "nbformat_minor": 5
}
