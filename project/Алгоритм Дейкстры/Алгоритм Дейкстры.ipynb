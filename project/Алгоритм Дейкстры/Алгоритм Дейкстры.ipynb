{
 "cells": [
  {
   "cell_type": "code",
   "execution_count": 2,
   "id": "cf24f9ae",
   "metadata": {},
   "outputs": [],
   "source": [
    "from heapq import *"
   ]
  },
  {
   "attachments": {
    "%D0%B8%D0%B7%D0%BE%D0%B1%D1%80%D0%B0%D0%B6%D0%B5%D0%BD%D0%B8%D0%B5.png": {
     "image/png": "[encoded data removed]"
    }
   },
   "cell_type": "markdown",
   "id": "94bb694a",
   "metadata": {},
   "source": [
    "![%D0%B8%D0%B7%D0%BE%D0%B1%D1%80%D0%B0%D0%B6%D0%B5%D0%BD%D0%B8%D0%B5.png](attachment:%D0%B8%D0%B7%D0%BE%D0%B1%D1%80%D0%B0%D0%B6%D0%B5%D0%BD%D0%B8%D0%B5.png)"
   ]
  },
  {
   "cell_type": "markdown",
   "id": "c1b168b9",
   "metadata": {},
   "source": [
    "# Вариант"
   ]
  },
  {
   "cell_type": "code",
   "execution_count": 55,
   "id": "8d06a0ba",
   "metadata": {},
   "outputs": [
    {
     "name": "stdout",
     "output_type": "stream",
     "text": [
      "5 7\n",
      "1 2 10\n",
      "2 3 50\n",
      "3 5 10\n",
      "1 4 30\n",
      "4 5 60\n",
      "4 3 20\n",
      "1 5 100\n"
     ]
    }
   ],
   "source": [
    "vertex_count,edge_count = map (int,input().split())\n",
    "adj_list = [[] for _ in range(vertex_count)]\n",
    "for _ in range(edge_count):\n",
    "    vertex_from,vertex_to, price = map(int,input().split())\n",
    "    vertex_from-=1\n",
    "    vertex_to-=1\n",
    "    adj_list[vertex_from].append((vertex_to,price))"
   ]
  },
  {
   "cell_type": "code",
   "execution_count": 56,
   "id": "d00de5d0",
   "metadata": {},
   "outputs": [
    {
     "data": {
      "text/plain": [
       "[[(1, 10), (3, 30), (4, 100)], [(2, 50)], [(4, 10)], [(4, 60), (2, 20)], []]"
      ]
     },
     "execution_count": 56,
     "metadata": {},
     "output_type": "execute_result"
    }
   ],
   "source": [
    "adj_list"
   ]
  },
  {
   "cell_type": "code",
   "execution_count": 57,
   "id": "13c34ffe",
   "metadata": {},
   "outputs": [],
   "source": [
    "start = 0\n",
    "dist =[None]*vertex_count\n",
    "visited = [False]*vertex_count\n",
    "parent = [None]*vertex_count\n",
    "dist[start]=0\n",
    "while True:\n",
    "    v=None\n",
    "    for i in range(vertex_count):\n",
    "        if (visited[i]==False and dist[i] is not None and (v is None or dist[i]<dist[v])):\n",
    "            v=i\n",
    "    if v is None:\n",
    "        break\n",
    "    visited[v]=True\n",
    "        \n",
    "    for to, price in adj_list[v]:\n",
    "        new_d=dist[v]+price\n",
    "        if (dist[to] is None or new_d<dist[to]):\n",
    "            dist[to]=new_d\n",
    "            parent[to]=v"
   ]
  },
  {
   "cell_type": "code",
   "execution_count": 62,
   "id": "14b8af6d",
   "metadata": {},
   "outputs": [
    {
     "name": "stdout",
     "output_type": "stream",
     "text": [
      "60\n",
      "1 4 3 5\n"
     ]
    }
   ],
   "source": [
    "finish=vertex_count-1\n",
    "if dist[finish] is None:\n",
    "    print(-1)\n",
    "else:\n",
    "    print(dist[finish])\n",
    "    path=[]\n",
    "    v=finish\n",
    "    while v is not None:\n",
    "        path.append(v+1)\n",
    "        v=parent[v]\n",
    "    print(*reversed(path))    "
   ]
  },
  {
   "cell_type": "markdown",
   "id": "a834ced0",
   "metadata": {},
   "source": [
    "# Вариант"
   ]
  },
  {
   "cell_type": "code",
   "execution_count": 67,
   "id": "b48bfd49",
   "metadata": {},
   "outputs": [],
   "source": [
    "start = 0\n",
    "dist =[None]*vertex_count\n",
    "order = []\n",
    "parent = [None]*vertex_count\n",
    "dist[start]=0\n",
    "heappush(order,(0,start))\n",
    "while order:\n",
    "    save_dist,v=heappop(order)\n",
    "    if save_dist!=dist[v]:\n",
    "        continue\n",
    "    for to,price in adj_list[v]:\n",
    "        new_d=dist[v]+price\n",
    "        if (dist[to] is None or new_d<dist[to]):\n",
    "            dist[to]=new_d\n",
    "            parent[to]=v\n",
    "            heappush(order,(dist[to],to))"
   ]
  },
  {
   "cell_type": "code",
   "execution_count": 68,
   "id": "fea4d728",
   "metadata": {},
   "outputs": [
    {
     "name": "stdout",
     "output_type": "stream",
     "text": [
      "60\n",
      "1 4 3 5\n"
     ]
    }
   ],
   "source": [
    "finish=vertex_count-1\n",
    "if dist[finish] is None:\n",
    "    print(-1)\n",
    "else:\n",
    "    print(dist[finish])\n",
    "    path=[]\n",
    "    v=finish\n",
    "    while v is not None:\n",
    "        path.append(v+1)\n",
    "        v=parent[v]\n",
    "    print(*reversed(path))    "
   ]
  }
 ],
 "metadata": {
  "kernelspec": {
   "display_name": "Python 3",
   "language": "python",
   "name": "python3"
  },
  "language_info": {
   "codemirror_mode": {
    "name": "ipython",
    "version": 3
   },
   "file_extension": ".py",
   "mimetype": "text/x-python",
   "name": "python",
   "nbconvert_exporter": "python",
   "pygments_lexer": "ipython3",
   "version": "3.8.8"
  },
  "toc": {
   "base_numbering": 1,
   "nav_menu": {},
   "number_sections": true,
   "sideBar": true,
   "skip_h1_title": false,
   "title_cell": "Table of Contents",
   "title_sidebar": "Contents",
   "toc_cell": false,
   "toc_position": {},
   "toc_section_display": true,
   "toc_window_display": false
  }
 },
 "nbformat": 4,
 "nbformat_minor": 5
}
