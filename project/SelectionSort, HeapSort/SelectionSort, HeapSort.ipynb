{
 "cells": [
  {
   "cell_type": "code",
   "execution_count": 13,
   "id": "e81908d4",
   "metadata": {},
   "outputs": [],
   "source": [
    "import random\n",
    "from datetime import datetime"
   ]
  },
  {
   "cell_type": "markdown",
   "id": "814e1373",
   "metadata": {},
   "source": [
    "SEL1. +1 байт. Реализовать алгоритм SelectionSort."
   ]
  },
  {
   "cell_type": "code",
   "execution_count": 1,
   "id": "1f47b699",
   "metadata": {},
   "outputs": [],
   "source": [
    "def selectMax(ar, left, right):\n",
    "    maxPos = left\n",
    "    i = left\n",
    "    while i <= right:\n",
    "        if ar[i]>ar[maxPos] > 0:\n",
    "            maxPos = i\n",
    "        i+=1    \n",
    "    return maxPos  "
   ]
  },
  {
   "cell_type": "code",
   "execution_count": 5,
   "id": "b0a5a07e",
   "metadata": {},
   "outputs": [],
   "source": [
    "def SelectionSort(ar):\n",
    "    for i in range(len(ar)-1,1,-1):\n",
    "        maxPos = selectMax(ar, 0, i)\n",
    "        if (maxPos != i):\n",
    "            tmp = ar[i]\n",
    "            ar[i] = ar[maxPos]\n",
    "            ar[maxPos] = tmp\n",
    "    return ar "
   ]
  },
  {
   "cell_type": "code",
   "execution_count": 6,
   "id": "ebf6b982",
   "metadata": {},
   "outputs": [],
   "source": [
    "a=[58,96,0,1,100]"
   ]
  },
  {
   "cell_type": "code",
   "execution_count": 7,
   "id": "27bc8b21",
   "metadata": {},
   "outputs": [
    {
     "data": {
      "text/plain": [
       "[0, 1, 58, 96, 100]"
      ]
     },
     "execution_count": 7,
     "metadata": {},
     "output_type": "execute_result"
    }
   ],
   "source": [
    "SelectionSort(a)"
   ]
  },
  {
   "cell_type": "markdown",
   "id": "937a2cf6",
   "metadata": {},
   "source": [
    "HIP1. +1 байт. Реализовать алгоритм HeapSort."
   ]
  },
  {
   "cell_type": "code",
   "execution_count": 8,
   "id": "e3de8d50",
   "metadata": {},
   "outputs": [],
   "source": [
    "def heapify(ar,root,size):\n",
    "    x = root\n",
    "    left = 2 * x + 1\n",
    "    right = 2 * x + 2\n",
    "    if left < size and (ar[left]-ar[x]) > 0:\n",
    "        x = left \n",
    "    if (right < size and (ar[right]-ar[x]) > 0):\n",
    "        x = right\n",
    "    if (x == root):\n",
    "        return       \n",
    "    tmp = ar[root]\n",
    "    ar[root] = ar[x]\n",
    "    ar[x] = tmp;\n",
    "    heapify(ar, x, size)   "
   ]
  },
  {
   "cell_type": "code",
   "execution_count": 9,
   "id": "347201d3",
   "metadata": {},
   "outputs": [],
   "source": [
    "def HeapSort(ar):\n",
    "    for i in  range(len(ar)//2-1, 0, -1):\n",
    "        heapify(ar, i, len(ar))\n",
    "    for j in range(len(ar) - 1, 0, -1):\n",
    "        tmp = ar[0]\n",
    "        ar[0] = ar[j]\n",
    "        ar[j] = tmp\n",
    "        heapify(ar, 0, j) \n",
    "    return ar     "
   ]
  },
  {
   "cell_type": "code",
   "execution_count": 36,
   "id": "10096fc3",
   "metadata": {},
   "outputs": [],
   "source": [
    "a=[1500000,0,2000,155,58,96,0,1,100,0,-1]"
   ]
  },
  {
   "cell_type": "code",
   "execution_count": 37,
   "id": "f91d7caa",
   "metadata": {},
   "outputs": [
    {
     "data": {
      "text/plain": [
       "[-1, 0, 0, 0, 1, 58, 96, 100, 155, 2000, 1500000]"
      ]
     },
     "execution_count": 37,
     "metadata": {},
     "output_type": "execute_result"
    }
   ],
   "source": [
    "HeapSort(a)"
   ]
  },
  {
   "cell_type": "code",
   "execution_count": 34,
   "id": "b0b0bcaa",
   "metadata": {},
   "outputs": [],
   "source": [
    "massive = []\n",
    "for i in range(10**2):\n",
    "    massive.append(random.randint(0,10**2))"
   ]
  },
  {
   "cell_type": "code",
   "execution_count": 33,
   "id": "3a04b286",
   "metadata": {},
   "outputs": [
    {
     "name": "stdout",
     "output_type": "stream",
     "text": [
      "0:00:00.001039\n"
     ]
    }
   ],
   "source": [
    "t1 = datetime.now()\n",
    "SelectionSort(massive)\n",
    "print(datetime.now()-t1)"
   ]
  },
  {
   "cell_type": "code",
   "execution_count": 35,
   "id": "8b6d5180",
   "metadata": {},
   "outputs": [
    {
     "name": "stdout",
     "output_type": "stream",
     "text": [
      "0:00:00.001002\n"
     ]
    }
   ],
   "source": [
    "t1 = datetime.now()\n",
    "HeapSort(massive)\n",
    "print(datetime.now()-t1)"
   ]
  }
 ],
 "metadata": {
  "kernelspec": {
   "display_name": "Python 3",
   "language": "python",
   "name": "python3"
  },
  "language_info": {
   "codemirror_mode": {
    "name": "ipython",
    "version": 3
   },
   "file_extension": ".py",
   "mimetype": "text/x-python",
   "name": "python",
   "nbconvert_exporter": "python",
   "pygments_lexer": "ipython3",
   "version": "3.8.8"
  },
  "toc": {
   "base_numbering": 1,
   "nav_menu": {},
   "number_sections": true,
   "sideBar": true,
   "skip_h1_title": false,
   "title_cell": "Table of Contents",
   "title_sidebar": "Contents",
   "toc_cell": false,
   "toc_position": {},
   "toc_section_display": true,
   "toc_window_display": false
  }
 },
 "nbformat": 4,
 "nbformat_minor": 5
}
