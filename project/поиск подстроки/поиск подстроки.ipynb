{
 "cells": [
  {
   "cell_type": "markdown",
   "id": "d53578e4",
   "metadata": {},
   "source": [
    "# полный перебор"
   ]
  },
  {
   "cell_type": "code",
   "execution_count": 1,
   "id": "9aa6f184",
   "metadata": {},
   "outputs": [],
   "source": [
    "text = 'STRONGSTRING'"
   ]
  },
  {
   "cell_type": "code",
   "execution_count": 48,
   "id": "1a0a2bd4",
   "metadata": {},
   "outputs": [],
   "source": [
    "text = 'ABC@ABCCABCDF'"
   ]
  },
  {
   "cell_type": "code",
   "execution_count": 2,
   "id": "8e2f1a29",
   "metadata": {},
   "outputs": [],
   "source": [
    "mask = 'RING'"
   ]
  },
  {
   "cell_type": "code",
   "execution_count": 49,
   "id": "2f1f3a5b",
   "metadata": {},
   "outputs": [],
   "source": [
    "mask = 'ABCD'"
   ]
  },
  {
   "cell_type": "code",
   "execution_count": 10,
   "id": "eb27bb80",
   "metadata": {},
   "outputs": [],
   "source": [
    "def SearchFullScan(text,mask):\n",
    "    t = 0\n",
    "    while t<=(len(text)-len(mask)):\n",
    "        m = 0\n",
    "        while m<len(mask) and text[t+m]==mask[m]:\n",
    "            m+=1\n",
    "        if m==len(mask):\n",
    "            return t\n",
    "        t+=1\n",
    "    return -1    "
   ]
  },
  {
   "cell_type": "code",
   "execution_count": 11,
   "id": "a9c15b21",
   "metadata": {},
   "outputs": [
    {
     "data": {
      "text/plain": [
       "8"
      ]
     },
     "execution_count": 11,
     "metadata": {},
     "output_type": "execute_result"
    }
   ],
   "source": [
    "SearchFullScan(text,mask)"
   ]
  },
  {
   "cell_type": "markdown",
   "id": "19a7e68a",
   "metadata": {},
   "source": [
    "# бойера мура хорспула"
   ]
  },
  {
   "cell_type": "code",
   "execution_count": 50,
   "id": "d5dd3608",
   "metadata": {},
   "outputs": [],
   "source": [
    "def CreateShift(mask,text):\n",
    "    shift = [len(mask) for i in range(0,len(text),1)]\n",
    "    for m in range(len(mask)):\n",
    "        for j in range(len(text)):\n",
    "            if text[j]==mask[m]:\n",
    "                shift[j]=1\n",
    "    return shift    "
   ]
  },
  {
   "cell_type": "code",
   "execution_count": 52,
   "id": "fed1a0e2",
   "metadata": {},
   "outputs": [
    {
     "data": {
      "text/plain": [
       "[1, 1, 1, 4, 1, 1, 1, 1, 1, 1, 1, 1, 4]"
      ]
     },
     "execution_count": 52,
     "metadata": {},
     "output_type": "execute_result"
    }
   ],
   "source": [
    "CreateShift(mask,text)"
   ]
  },
  {
   "cell_type": "code",
   "execution_count": 46,
   "id": "504d4678",
   "metadata": {},
   "outputs": [],
   "source": [
    "def SearchBMH(text,mask):\n",
    "    t = 0\n",
    "    shift = CreateShift(mask,text)\n",
    "    while t<=(len(text)-len(mask)):\n",
    "        m = 0\n",
    "        while m<len(mask) and text[t+m]==mask[m]:\n",
    "            m+=1\n",
    "        if m==len(mask):\n",
    "            return t\n",
    "        t+=shift[t+len(mask)-1]\n",
    "    return -1  "
   ]
  },
  {
   "cell_type": "code",
   "execution_count": 47,
   "id": "65cdfbc8",
   "metadata": {},
   "outputs": [
    {
     "data": {
      "text/plain": [
       "8"
      ]
     },
     "execution_count": 47,
     "metadata": {},
     "output_type": "execute_result"
    }
   ],
   "source": [
    "SearchBMH(text,mask)"
   ]
  },
  {
   "cell_type": "markdown",
   "id": "ada0733c",
   "metadata": {},
   "source": [
    "# Бойера-Мура"
   ]
  },
  {
   "cell_type": "code",
   "execution_count": 1,
   "id": "bdbb38c7",
   "metadata": {},
   "outputs": [],
   "source": [
    "text = 'abcafdfabcabd'\n",
    "mask = 'abcabd'"
   ]
  },
  {
   "cell_type": "code",
   "execution_count": 85,
   "id": "24e4168a",
   "metadata": {},
   "outputs": [],
   "source": [
    "dic={}\n",
    "for s in text:\n",
    "    dic[s]=len(mask)"
   ]
  },
  {
   "cell_type": "code",
   "execution_count": 86,
   "id": "4890cc45",
   "metadata": {},
   "outputs": [
    {
     "data": {
      "text/plain": [
       "{'a': 6, 'b': 6, 'c': 6, 'f': 6, 'd': 6}"
      ]
     },
     "execution_count": 86,
     "metadata": {},
     "output_type": "execute_result"
    }
   ],
   "source": [
    "dic"
   ]
  },
  {
   "cell_type": "code",
   "execution_count": null,
   "id": "8a6918be",
   "metadata": {},
   "outputs": [],
   "source": [
    "#величена смещения=порядковому номеру символа с конца строки"
   ]
  },
  {
   "cell_type": "code",
   "execution_count": 87,
   "id": "2fefd604",
   "metadata": {},
   "outputs": [],
   "source": [
    "for p in range(1,len(mask)):\n",
    "    ch = mask[len(mask)-p-1]\n",
    "    if ch in dic.keys() and p<dic[ch]:\n",
    "        dic[ch]=p"
   ]
  },
  {
   "cell_type": "code",
   "execution_count": 88,
   "id": "07201d9d",
   "metadata": {},
   "outputs": [
    {
     "data": {
      "text/plain": [
       "{'a': 2, 'b': 1, 'c': 3, 'f': 6, 'd': 6}"
      ]
     },
     "execution_count": 88,
     "metadata": {},
     "output_type": "execute_result"
    }
   ],
   "source": [
    "dic"
   ]
  },
  {
   "cell_type": "code",
   "execution_count": 91,
   "id": "8f0c6903",
   "metadata": {},
   "outputs": [],
   "source": [
    "pos=0\n",
    "result=-1"
   ]
  },
  {
   "cell_type": "code",
   "execution_count": 92,
   "id": "7b79e69d",
   "metadata": {},
   "outputs": [],
   "source": [
    "while pos<=len(text)-len(mask):\n",
    "    for i in range(len(mask)-1,-1,-1):\n",
    "        if mask[i]!=text[pos+i]:\n",
    "            pos+=dic[text[pos+len(mask)-1]]\n",
    "            break\n",
    "    if i==0:\n",
    "        result=pos\n",
    "        break"
   ]
  },
  {
   "cell_type": "code",
   "execution_count": 93,
   "id": "98f87f82",
   "metadata": {},
   "outputs": [
    {
     "data": {
      "text/plain": [
       "7"
      ]
     },
     "execution_count": 93,
     "metadata": {},
     "output_type": "execute_result"
    }
   ],
   "source": [
    "result"
   ]
  }
 ],
 "metadata": {
  "kernelspec": {
   "display_name": "Python 3",
   "language": "python",
   "name": "python3"
  },
  "language_info": {
   "codemirror_mode": {
    "name": "ipython",
    "version": 3
   },
   "file_extension": ".py",
   "mimetype": "text/x-python",
   "name": "python",
   "nbconvert_exporter": "python",
   "pygments_lexer": "ipython3",
   "version": "3.8.8"
  },
  "toc": {
   "base_numbering": 1,
   "nav_menu": {},
   "number_sections": true,
   "sideBar": true,
   "skip_h1_title": false,
   "title_cell": "Table of Contents",
   "title_sidebar": "Contents",
   "toc_cell": false,
   "toc_position": {},
   "toc_section_display": true,
   "toc_window_display": false
  }
 },
 "nbformat": 4,
 "nbformat_minor": 5
}
